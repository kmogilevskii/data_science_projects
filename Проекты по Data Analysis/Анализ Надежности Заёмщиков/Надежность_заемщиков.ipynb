{
 "cells": [
  {
   "cell_type": "markdown",
   "metadata": {},
   "source": [
    "## Исследование надёжности заёмщиков\n",
    "\n",
    "Заказчик — кредитный отдел банка. Нужно разобраться, влияет ли семейное положение и количество детей клиента на факт погашения кредита в срок. Входные данные от банка — статистика о платёжеспособности клиентов.\n",
    "\n",
    "Результаты исследования будут учтены при построении модели **кредитного скоринга** — специальной системы, которая оценивает способность потенциального заёмщика вернуть кредит банку."
   ]
  },
  {
   "cell_type": "markdown",
   "metadata": {},
   "source": [
    "### Шаг 1. Откройте файл с данными и изучите общую информацию. "
   ]
  },
  {
   "cell_type": "code",
   "execution_count": 5,
   "metadata": {},
   "outputs": [
    {
     "name": "stdout",
     "output_type": "stream",
     "text": [
      "<class 'pandas.core.frame.DataFrame'>\n",
      "RangeIndex: 21525 entries, 0 to 21524\n",
      "Data columns (total 12 columns):\n",
      " #   Column            Non-Null Count  Dtype  \n",
      "---  ------            --------------  -----  \n",
      " 0   children          21525 non-null  int64  \n",
      " 1   days_employed     19351 non-null  float64\n",
      " 2   dob_years         21525 non-null  int64  \n",
      " 3   education         21525 non-null  object \n",
      " 4   education_id      21525 non-null  int64  \n",
      " 5   family_status     21525 non-null  object \n",
      " 6   family_status_id  21525 non-null  int64  \n",
      " 7   gender            21525 non-null  object \n",
      " 8   income_type       21525 non-null  object \n",
      " 9   debt              21525 non-null  int64  \n",
      " 10  total_income      19351 non-null  float64\n",
      " 11  purpose           21525 non-null  object \n",
      "dtypes: float64(2), int64(5), object(5)\n",
      "memory usage: 2.0+ MB\n",
      "None\n",
      "\n"
     ]
    },
    {
     "data": {
      "text/html": [
       "<div>\n",
       "<style scoped>\n",
       "    .dataframe tbody tr th:only-of-type {\n",
       "        vertical-align: middle;\n",
       "    }\n",
       "\n",
       "    .dataframe tbody tr th {\n",
       "        vertical-align: top;\n",
       "    }\n",
       "\n",
       "    .dataframe thead th {\n",
       "        text-align: right;\n",
       "    }\n",
       "</style>\n",
       "<table border=\"1\" class=\"dataframe\">\n",
       "  <thead>\n",
       "    <tr style=\"text-align: right;\">\n",
       "      <th></th>\n",
       "      <th>children</th>\n",
       "      <th>days_employed</th>\n",
       "      <th>dob_years</th>\n",
       "      <th>education</th>\n",
       "      <th>education_id</th>\n",
       "      <th>family_status</th>\n",
       "      <th>family_status_id</th>\n",
       "      <th>gender</th>\n",
       "      <th>income_type</th>\n",
       "      <th>debt</th>\n",
       "      <th>total_income</th>\n",
       "      <th>purpose</th>\n",
       "    </tr>\n",
       "  </thead>\n",
       "  <tbody>\n",
       "    <tr>\n",
       "      <th>0</th>\n",
       "      <td>1</td>\n",
       "      <td>-8437.673028</td>\n",
       "      <td>42</td>\n",
       "      <td>высшее</td>\n",
       "      <td>0</td>\n",
       "      <td>женат / замужем</td>\n",
       "      <td>0</td>\n",
       "      <td>F</td>\n",
       "      <td>сотрудник</td>\n",
       "      <td>0</td>\n",
       "      <td>253875.639453</td>\n",
       "      <td>покупка жилья</td>\n",
       "    </tr>\n",
       "    <tr>\n",
       "      <th>1</th>\n",
       "      <td>1</td>\n",
       "      <td>-4024.803754</td>\n",
       "      <td>36</td>\n",
       "      <td>среднее</td>\n",
       "      <td>1</td>\n",
       "      <td>женат / замужем</td>\n",
       "      <td>0</td>\n",
       "      <td>F</td>\n",
       "      <td>сотрудник</td>\n",
       "      <td>0</td>\n",
       "      <td>112080.014102</td>\n",
       "      <td>приобретение автомобиля</td>\n",
       "    </tr>\n",
       "    <tr>\n",
       "      <th>2</th>\n",
       "      <td>0</td>\n",
       "      <td>-5623.422610</td>\n",
       "      <td>33</td>\n",
       "      <td>Среднее</td>\n",
       "      <td>1</td>\n",
       "      <td>женат / замужем</td>\n",
       "      <td>0</td>\n",
       "      <td>M</td>\n",
       "      <td>сотрудник</td>\n",
       "      <td>0</td>\n",
       "      <td>145885.952297</td>\n",
       "      <td>покупка жилья</td>\n",
       "    </tr>\n",
       "    <tr>\n",
       "      <th>3</th>\n",
       "      <td>3</td>\n",
       "      <td>-4124.747207</td>\n",
       "      <td>32</td>\n",
       "      <td>среднее</td>\n",
       "      <td>1</td>\n",
       "      <td>женат / замужем</td>\n",
       "      <td>0</td>\n",
       "      <td>M</td>\n",
       "      <td>сотрудник</td>\n",
       "      <td>0</td>\n",
       "      <td>267628.550329</td>\n",
       "      <td>дополнительное образование</td>\n",
       "    </tr>\n",
       "    <tr>\n",
       "      <th>4</th>\n",
       "      <td>0</td>\n",
       "      <td>340266.072047</td>\n",
       "      <td>53</td>\n",
       "      <td>среднее</td>\n",
       "      <td>1</td>\n",
       "      <td>гражданский брак</td>\n",
       "      <td>1</td>\n",
       "      <td>F</td>\n",
       "      <td>пенсионер</td>\n",
       "      <td>0</td>\n",
       "      <td>158616.077870</td>\n",
       "      <td>сыграть свадьбу</td>\n",
       "    </tr>\n",
       "  </tbody>\n",
       "</table>\n",
       "</div>"
      ],
      "text/plain": [
       "   children  days_employed  dob_years education  education_id  \\\n",
       "0         1   -8437.673028         42    высшее             0   \n",
       "1         1   -4024.803754         36   среднее             1   \n",
       "2         0   -5623.422610         33   Среднее             1   \n",
       "3         3   -4124.747207         32   среднее             1   \n",
       "4         0  340266.072047         53   среднее             1   \n",
       "\n",
       "      family_status  family_status_id gender income_type  debt   total_income  \\\n",
       "0   женат / замужем                 0      F   сотрудник     0  253875.639453   \n",
       "1   женат / замужем                 0      F   сотрудник     0  112080.014102   \n",
       "2   женат / замужем                 0      M   сотрудник     0  145885.952297   \n",
       "3   женат / замужем                 0      M   сотрудник     0  267628.550329   \n",
       "4  гражданский брак                 1      F   пенсионер     0  158616.077870   \n",
       "\n",
       "                      purpose  \n",
       "0               покупка жилья  \n",
       "1     приобретение автомобиля  \n",
       "2               покупка жилья  \n",
       "3  дополнительное образование  \n",
       "4             сыграть свадьбу  "
      ]
     },
     "execution_count": 5,
     "metadata": {},
     "output_type": "execute_result"
    }
   ],
   "source": [
    "import pandas as pd\n",
    "from pymystem3 import Mystem\n",
    "\n",
    "df = pd.read_csv('data.csv')\n",
    "\n",
    "print(df.info())\n",
    "print()\n",
    "df.head()"
   ]
  },
  {
   "cell_type": "markdown",
   "metadata": {},
   "source": [
    "### Вывод"
   ]
  },
  {
   "cell_type": "markdown",
   "metadata": {},
   "source": [
    "Исходя из результата выполнения функции info() можно увидеть, что присутствуют пропуски в столбцах \"days_employed\" и \"total_income\". Также тип переменной, которая хранится в \"days_employed\", является числом с плавающей точкой, что является нелогичным для подсчета количества дней. Здесь же большинство значений отрицательны и встречаются положительные, которые являются явно ошибочными, поскольку слишком велики. При этом отрицательные числа в пересчете на года выглядят вполне себе нормальными, следовательно можно сделать вывод, что при выгрузке данных каким-то образом дни стали отрицательными.\n",
    "В столбце \"children\" есть значения -1, которое, очевидно, ошибочно.\n",
    "В столбце \"education\" встречаются дубликаты, записанные в разном регистре."
   ]
  },
  {
   "cell_type": "markdown",
   "metadata": {},
   "source": [
    "### Шаг 2. Предобработка данных"
   ]
  },
  {
   "cell_type": "markdown",
   "metadata": {},
   "source": [
    "### Обработка пропусков"
   ]
  },
  {
   "cell_type": "code",
   "execution_count": 30,
   "metadata": {},
   "outputs": [
    {
     "name": "stdout",
     "output_type": "stream",
     "text": [
      "\n",
      "Количество пропусков в столбце \"days_employed\" 2174\n",
      "Количество пропусков в столбце \"total_income\" 2174\n",
      "Количество пропусков одновременно в столбце \"days_employed\" и в столбце \"total_income\" 2174\n",
      "\n",
      "<class 'pandas.core.frame.DataFrame'>\n",
      "RangeIndex: 21525 entries, 0 to 21524\n",
      "Data columns (total 12 columns):\n",
      "children            21525 non-null float64\n",
      "days_employed       21525 non-null float64\n",
      "dob_years           21525 non-null int64\n",
      "education           21525 non-null object\n",
      "education_id        21525 non-null int64\n",
      "family_status       21525 non-null object\n",
      "family_status_id    21525 non-null int64\n",
      "gender              21525 non-null object\n",
      "income_type         21525 non-null object\n",
      "debt                21525 non-null int64\n",
      "total_income        21525 non-null float64\n",
      "purpose             21525 non-null object\n",
      "dtypes: float64(3), int64(4), object(5)\n",
      "memory usage: 2.0+ MB\n",
      "None\n"
     ]
    }
   ],
   "source": [
    "#Поиск пропусов\n",
    "mis_val_de        = df[df['days_employed'].isnull()]['children'].count()\n",
    "mis_val_ti        = df[df['total_income'].isnull()]['children'].count()\n",
    "mis_val_de_and_ti = df[(df['days_employed'].isnull()) & (df['total_income'].isnull())]['children'].count()\n",
    "\n",
    "print()\n",
    "print('Количество пропусков в столбце \"days_employed\" ' + str(mis_val_de))\n",
    "print('Количество пропусков в столбце \"total_income\" ' + str(mis_val_ti))\n",
    "print('Количество пропусков одновременно в столбце \"days_employed\" и в столбце \"total_income\" ' + str(mis_val_de_and_ti))\n",
    "print()\n",
    "\n",
    "#Замена пропусков в столбцах total_income и days_employed\n",
    "total_income_median = df['total_income'].median()\n",
    "df['total_income']  = df['total_income'].fillna(value=total_income_median)\n",
    "valid_days          = df[df['days_employed'] < 0]\n",
    "emp_days_mean       = valid_days['days_employed'].mean()\n",
    "df['days_employed'] = df['days_employed'].fillna(value=emp_days_mean)\n",
    "\n",
    "#Заменим также явно некорректные значения в days_employed\n",
    "df.loc[df['days_employed'] > 0,'days_employed'] = emp_days_mean\n",
    "#Уберем отрицательный знак\n",
    "df['days_employed'] = (-1)*df['days_employed']\n",
    "\n",
    "#Выделим только те строки, в которых количество детей неотрицательное\n",
    "valid_children = df[df['children'] >= 0]\n",
    "#Посчитаем медиану\n",
    "children_median = valid_children['children'].median()\n",
    "#Заменим отрицательные числа на медиану\n",
    "df.loc[df['children'] < 0,'children'] = children_median\n",
    "\n",
    "#Проверим, что пропусков больше нет\n",
    "print(df.info())"
   ]
  },
  {
   "cell_type": "markdown",
   "metadata": {},
   "source": [
    "### Вывод"
   ]
  },
  {
   "cell_type": "markdown",
   "metadata": {},
   "source": [
    "В результате выполнения кода в ячейке выше было выявлено, что пропуски в данной выборке находятся в столбцах days_employed и total_income, причем попарно и в количестве 2174. Прямое удаление всех строк с пропусками может привести к ошибочным выводам, потому необходимо их чем-то заполнить. На первый взгляд кажется, что данные столбцы не относятся к предмету анализа и следовательно пустые ячейки можно заполнить нулями. Однако, поскольку тип переменной в данных столбцах является количественным, то для заполнения пропусков можно воспользоваться характерным значением (средним или медианой). В столбце total_income мусора нет, потому напрямую вычисляем медиану и заполняем ею все пропуски (из-за классового неравенства доход сильно различается, следовательно надо использовать медиану). С days_employed таким подходом могут возникнуть проблемы, но при тщательном анализе выборки можно увидеть, что все положительные числа чрезмерно большие, а все отрицательные числа находятся в пределе от 0 до -15000, что в днях выглядит вполне правдоподобно. Значит надо выбрать все строки, где данная величина принимает отрицательные значения и вычислить среднее, которым и будут заполнены все соответствующие пропуски и некорректные значения. Также в этом столбце избавились от отрицательных знаков.\n",
    "В столбце \"children\" все отрицательные значения заменили на медиану, расчитанную тольо по положительным значениям (медиану взяли по той причине, что в выборке есть 76 значений с 20 детьми, из-за этого среднее получилось бы завышеным)."
   ]
  },
  {
   "cell_type": "markdown",
   "metadata": {},
   "source": [
    "### Замена типа данных"
   ]
  },
  {
   "cell_type": "code",
   "execution_count": 32,
   "metadata": {},
   "outputs": [
    {
     "name": "stdout",
     "output_type": "stream",
     "text": [
      "<class 'pandas.core.frame.DataFrame'>\n",
      "RangeIndex: 21525 entries, 0 to 21524\n",
      "Data columns (total 12 columns):\n",
      "children            21525 non-null int64\n",
      "days_employed       21525 non-null int64\n",
      "dob_years           21525 non-null int64\n",
      "education           21525 non-null object\n",
      "education_id        21525 non-null int64\n",
      "family_status       21525 non-null object\n",
      "family_status_id    21525 non-null int64\n",
      "gender              21525 non-null object\n",
      "income_type         21525 non-null object\n",
      "debt                21525 non-null int64\n",
      "total_income        21525 non-null float64\n",
      "purpose             21525 non-null object\n",
      "dtypes: float64(1), int64(6), object(5)\n",
      "memory usage: 2.0+ MB\n",
      "None\n"
     ]
    }
   ],
   "source": [
    "#Используется метод astype, поскольку to_numeric не позволяет преобразовать в целочисленный тип\n",
    "df['days_employed'] = df['days_employed'].astype('int')\n",
    "df['children']      = df['children'].astype('int')\n",
    "print(df.info())"
   ]
  },
  {
   "cell_type": "markdown",
   "metadata": {},
   "source": [
    "### Вывод"
   ]
  },
  {
   "cell_type": "markdown",
   "metadata": {},
   "source": [
    "Производим преобразование типа из float в int для столбца days_employed, поскольку дни целесообразно исчислять целочисленными значениями, а для \"children\" это пришлось сделать из-за того, что тип поменялся при избвлении от отрицательных чисел."
   ]
  },
  {
   "cell_type": "markdown",
   "metadata": {},
   "source": [
    "### Обработка дубликатов"
   ]
  },
  {
   "cell_type": "code",
   "execution_count": 33,
   "metadata": {
    "scrolled": true
   },
   "outputs": [
    {
     "name": "stdout",
     "output_type": "stream",
     "text": [
      "71\n",
      "<class 'pandas.core.frame.DataFrame'>\n",
      "RangeIndex: 21454 entries, 0 to 21453\n",
      "Data columns (total 12 columns):\n",
      "children            21454 non-null int64\n",
      "days_employed       21454 non-null int64\n",
      "dob_years           21454 non-null int64\n",
      "education           21454 non-null object\n",
      "education_id        21454 non-null int64\n",
      "family_status       21454 non-null object\n",
      "family_status_id    21454 non-null int64\n",
      "gender              21454 non-null object\n",
      "income_type         21454 non-null object\n",
      "debt                21454 non-null int64\n",
      "total_income        21454 non-null float64\n",
      "purpose             21454 non-null object\n",
      "dtypes: float64(1), int64(6), object(5)\n",
      "memory usage: 2.0+ MB\n",
      "None\n"
     ]
    }
   ],
   "source": [
    "df['education'] = df['education'].str.lower()\n",
    "print(df.duplicated().sum())\n",
    "df = df.drop_duplicates()\n",
    "df = df.dropna().reset_index(drop=True)\n",
    "print(df.info())"
   ]
  },
  {
   "cell_type": "markdown",
   "metadata": {},
   "source": [
    "### Вывод"
   ]
  },
  {
   "cell_type": "markdown",
   "metadata": {},
   "source": [
    "Поиск дубликатов был произведен не по каким-то отдельным столбцам, а по всем сразу. Найдено всего 71. Если бы производили поиски по отдельным столбцам, то дубликатов было бы больше, поскольку многие столбцы хранят в себе категориальный тип переменных, которые естесственным образом будут повторяться от одной записи к другой. В связи с большим количеством записей дубликаты также некорректно искать по столбцам, хранящие количественный тип переменной. По ним дубликатов тоже будет гораздо больше. \n",
    "Перед самим поиском был применен метод lower() для столбца education. Без его применения количество дубликатов выявило бы меньше.\n",
    "Дубликаты могут появляться из-за человеческого фактора."
   ]
  },
  {
   "cell_type": "markdown",
   "metadata": {},
   "source": [
    "### Лемматизация"
   ]
  },
  {
   "cell_type": "code",
   "execution_count": 9,
   "metadata": {
    "scrolled": true
   },
   "outputs": [
    {
     "name": "stdout",
     "output_type": "stream",
     "text": [
      "38\n"
     ]
    }
   ],
   "source": [
    "m        = Mystem()\n",
    "purposes = df['purpose'].unique()\n",
    "\n",
    "#Сколько уникальных целей\n",
    "num_of_purposes = len(purposes)\n",
    "print(num_of_purposes)\n",
    "\n",
    "#Лемматизируем каждое слово в каждой цели и вручную определяем какие имена категорий захватят все цели\n",
    "purposes_lemms = []\n",
    "for purpose in purposes:\n",
    "        purposes_lemms.append(m.lemmatize(purpose))\n",
    "    \n",
    "categories = ['недвижимость','жилье','автомобиль','образование','свадьба']"
   ]
  },
  {
   "cell_type": "markdown",
   "metadata": {},
   "source": [
    "### Вывод"
   ]
  },
  {
   "cell_type": "markdown",
   "metadata": {},
   "source": [
    "Оказалось достаточно пяти категорий, чтобы распределить все цели. Хотя изначально уникальных целей было 38, каждая из которых состояла из нескольких слов, что значительно усложняло группировку данных по целям."
   ]
  },
  {
   "cell_type": "markdown",
   "metadata": {},
   "source": [
    "### Категоризация данных"
   ]
  },
  {
   "cell_type": "code",
   "execution_count": 36,
   "metadata": {},
   "outputs": [
    {
     "name": "stdout",
     "output_type": "stream",
     "text": [
      "Empty DataFrame\n",
      "Columns: [children, days_employed, dob_years, education, education_id, family_status, family_status_id, gender, income_type, debt, total_income, purpose, category]\n",
      "Index: []\n"
     ]
    }
   ],
   "source": [
    "#Функция, которая лемматизирует, передаваемую в качестве аргумента, цель и определяет то, к какой категории она принадлежит\n",
    "def categ_def(purpose):\n",
    "    purpose_lemmatized = m.lemmatize(purpose)\n",
    "    for category in categories:\n",
    "        if category in purpose_lemmatized:\n",
    "            return category\n",
    "    return 'не найдена'\n",
    "\n",
    "#Тестирование функции\n",
    "# print(categ_def('покупка жилья'))\n",
    "# print(categ_def('приобретение автомобиля'))\n",
    "# print(categ_def('дополнительное образование'))\n",
    "# print(categ_def('на проведение свадьбы'))\n",
    "# print(categ_def('покупка коммерческой недвижимости'))\n",
    "#print(categ_def('полная чушь'))\n",
    "\n",
    "#Добавление нового столбца в датафрейм \n",
    "df['category'] = df['purpose'].apply(categ_def)\n",
    "#Проверка, что категоризация прошла успешно\n",
    "print(df[df['category'] == 'не найдено'])"
   ]
  },
  {
   "cell_type": "markdown",
   "metadata": {},
   "source": [
    "### Вывод"
   ]
  },
  {
   "cell_type": "markdown",
   "metadata": {},
   "source": [
    "Была написана функция, которая определяла к какой категории относится цель, записанная в столбце \"purpose\" и через apply был создан новый столбец \"category\"."
   ]
  },
  {
   "cell_type": "markdown",
   "metadata": {},
   "source": [
    "### Шаг 3. Ответьте на вопросы"
   ]
  },
  {
   "cell_type": "markdown",
   "metadata": {},
   "source": [
    "- Есть ли зависимость между наличием детей и возвратом кредита в срок?"
   ]
  },
  {
   "cell_type": "code",
   "execution_count": 38,
   "metadata": {},
   "outputs": [
    {
     "name": "stdout",
     "output_type": "stream",
     "text": [
      "children\n",
      "0     1064\n",
      "1      444\n",
      "2      194\n",
      "3       27\n",
      "4        4\n",
      "5        0\n",
      "20       8\n",
      "Name: debt, dtype: int64\n",
      "\n",
      "children\n",
      "0     2.306405e+09\n",
      "1     8.110769e+08\n",
      "2     3.472471e+08\n",
      "3     5.910097e+07\n",
      "4     6.814214e+06\n",
      "5     1.508460e+06\n",
      "20    1.260944e+07\n",
      "Name: total_income, dtype: float64\n"
     ]
    }
   ],
   "source": [
    "#Вывод влияния количества детей на наличие долгов\n",
    "print(df.groupby('children')['debt'].sum())\n",
    "print()\n",
    "#Вывод влияния наличия детей на общий доход\n",
    "print(df.groupby('children')['total_income'].sum())"
   ]
  },
  {
   "cell_type": "markdown",
   "metadata": {},
   "source": [
    "### Вывод"
   ]
  },
  {
   "cell_type": "markdown",
   "metadata": {},
   "source": [
    "Очень явная здесь зависимость заключающаяся в том, что люди, у которых есть дети менее склонны к тому, чтобы залазить в долги(вероятной причиной здесь может быть материнский капитал). Даже несмотря на то, что заработок у них меньше и это понятно, ведь дети требуют внимания и потому меньше времени на то, чтобы зарабатывать деньги."
   ]
  },
  {
   "cell_type": "markdown",
   "metadata": {},
   "source": [
    "- Есть ли зависимость между семейным положением и возвратом кредита в срок?"
   ]
  },
  {
   "cell_type": "code",
   "execution_count": 39,
   "metadata": {},
   "outputs": [
    {
     "name": "stdout",
     "output_type": "stream",
     "text": [
      "family_status\n",
      "Не женат / не замужем    274\n",
      "в разводе                 85\n",
      "вдовец / вдова            63\n",
      "гражданский брак         388\n",
      "женат / замужем          931\n",
      "Name: debt, dtype: int64\n",
      "\n",
      "family_status\n",
      "Не женат / не замужем    4.663834e+08\n",
      "в разводе                2.002800e+08\n",
      "вдовец / вдова           1.378901e+08\n",
      "гражданский брак         6.834755e+08\n",
      "женат / замужем          2.056733e+09\n",
      "Name: total_income, dtype: float64\n"
     ]
    }
   ],
   "source": [
    "#Вывод влияния семейного статуса на наличие долгов\n",
    "print(df.groupby('family_status')['debt'].sum())\n",
    "print()\n",
    "#Вывод влияния семейного статуса на общий доход\n",
    "print(df.groupby('family_status')['total_income'].sum())"
   ]
  },
  {
   "cell_type": "markdown",
   "metadata": {},
   "source": [
    "### Вывод"
   ]
  },
  {
   "cell_type": "markdown",
   "metadata": {},
   "source": [
    "Люди, находящиеся в официальном браке явно имеют больше долгов, хотя и общий заработок у них больше. Это объясняется тем, что семейные пары в начале совместной жизни часто берут кредит на жилье. Однако, как показал предыдущий вывод, это можно исправить, если заводить детей:)"
   ]
  },
  {
   "cell_type": "markdown",
   "metadata": {},
   "source": [
    "- Есть ли зависимость между уровнем дохода и возвратом кредита в срок?"
   ]
  },
  {
   "cell_type": "code",
   "execution_count": 42,
   "metadata": {},
   "outputs": [
    {
     "name": "stdout",
     "output_type": "stream",
     "text": [
      "                     debt              avg\n",
      "                      sum  count          \n",
      "income_category                           \n",
      "Более 500тыс           14    222  0.063063\n",
      "До 50тыс               23    372  0.061828\n",
      "От 100тыс до 20тыс   1029  11925  0.086289\n",
      "От 200тыс до 500тыс   344   4844  0.071016\n",
      "От 50тыс до 100тыс    331   4091  0.080909\n"
     ]
    }
   ],
   "source": [
    "def income_level(income):\n",
    "    if income < 50000:\n",
    "        return 'До 50тыс'\n",
    "    elif 50000 < income < 100000:\n",
    "        return 'От 50тыс до 100тыс'\n",
    "    elif 100000 < income < 200000:\n",
    "        return 'От 100тыс до 20тыс'\n",
    "    elif 200000 < income < 500000:\n",
    "        return 'От 200тыс до 500тыс'\n",
    "    return 'Более 500тыс'\n",
    "\n",
    "df['income_category'] = df['total_income'].apply(income_level)\n",
    "result = df.groupby('income_category').agg({'debt':['sum','count']})\n",
    "try:\n",
    "    result['avg'] = result['debt']['sum'] / result['debt']['count']\n",
    "except:\n",
    "    print('Где-то появился 0 в знаменателе')\n",
    "    \n",
    "print(result)"
   ]
  },
  {
   "cell_type": "markdown",
   "metadata": {},
   "source": [
    "### Вывод"
   ]
  },
  {
   "cell_type": "markdown",
   "metadata": {},
   "source": [
    "В среднем долгов больше у людей с с зарплатой \"От 100тыс до 200тыс\" и \"От 50тыс до 100тыс\"."
   ]
  },
  {
   "cell_type": "markdown",
   "metadata": {},
   "source": [
    "- Как разные цели кредита влияют на его возврат в срок?"
   ]
  },
  {
   "cell_type": "code",
   "execution_count": 46,
   "metadata": {},
   "outputs": [
    {
     "name": "stdout",
     "output_type": "stream",
     "text": [
      "             debt             avg\n",
      "              sum count          \n",
      "category                         \n",
      "автомобиль    403  4306  0.093590\n",
      "жилье         308  4460  0.069058\n",
      "недвижимость  474  6351  0.074634\n",
      "образование   370  4013  0.092200\n",
      "свадьба       186  2324  0.080034\n"
     ]
    }
   ],
   "source": [
    "result = df.groupby('category').agg({'debt':['sum','count']})\n",
    "result['avg'] = result['debt']['sum'] / result['debt']['count']\n",
    "print(result)"
   ]
  },
  {
   "cell_type": "markdown",
   "metadata": {},
   "source": [
    "### Вывод"
   ]
  },
  {
   "cell_type": "markdown",
   "metadata": {},
   "source": [
    "Долги по жилью и недвижимости выплачивают исправнее по сравнению с автомобилями, образованием и свадьбами. Вероятно это связано с тем, что жилье и недвижимость это более серьезное вложение и потому люди относятся здесь к долгам ответственнее. В то время как автомобили покупают в кредит люди, которые не могут справляться с внезапными порывами, которые быстро остывают. Кредит на свадьбу это тоже то еще удовольствие, на которое решаются не особо ответственные и умные люди. Высокая задолженность по образованию может быть связана с тем, что оно на коммерческой основе достаточно дорогое, в то время как требует много сил и вложений без долгой окупаемости."
   ]
  },
  {
   "cell_type": "markdown",
   "metadata": {},
   "source": [
    "### Шаг 4. Общий вывод"
   ]
  },
  {
   "cell_type": "markdown",
   "metadata": {},
   "source": [
    "Люди, которые находятся в официальном браке более склонны к тому, чтобы залазить в долги и это объяснимо, ведь семья требует больших вложений(жилье, автомобиль для работы или свадьба), которых вначале может и не быть. Однако, как показали цифры люди с детьми менее склонны к долгам. Вероятно это связано с материнским капиталом и с тем, что люди становятся более ответственными после появления ребенка, даже несмотря на то, что заработок начинает падать.\n",
    "В долги менее склонны залезать люди либо с очень малым заработком, либо с очень большим.\n",
    "Больше всего долгов по кредитам на автомобиль, а меньше всего по жилью."
   ]
  },
  {
   "cell_type": "code",
   "execution_count": null,
   "metadata": {},
   "outputs": [],
   "source": []
  }
 ],
 "metadata": {
  "kernelspec": {
   "display_name": "Python 3",
   "language": "python",
   "name": "python3"
  },
  "language_info": {
   "codemirror_mode": {
    "name": "ipython",
    "version": 3
   },
   "file_extension": ".py",
   "mimetype": "text/x-python",
   "name": "python",
   "nbconvert_exporter": "python",
   "pygments_lexer": "ipython3",
   "version": "3.8.3"
  }
 },
 "nbformat": 4,
 "nbformat_minor": 2
}
