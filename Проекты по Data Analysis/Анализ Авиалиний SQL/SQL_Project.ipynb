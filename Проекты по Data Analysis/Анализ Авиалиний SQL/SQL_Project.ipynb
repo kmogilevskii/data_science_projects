{
 "cells": [
  {
   "cell_type": "markdown",
   "metadata": {},
   "source": [
    "## Структура БД\n",
    "\n",
    "<img src=\"db_structure.jpg\"\n",
    "     alt=\"database\"/>"
   ]
  },
  {
   "cell_type": "markdown",
   "metadata": {},
   "source": [
    "Найдите количество рейсов на каждой модели самолёта с вылетом в сентябре 2018 года. Назовите получившееся поле flights_amount и выведите его. Также напечатайте на экране поле model. Столбцы в таблице должны быть выведены в следующем порядке:\n",
    "- model\n",
    "- flights_amount"
   ]
  },
  {
   "cell_type": "markdown",
   "metadata": {},
   "source": [
    "```python\n",
    "SELECT\n",
    "    a.model AS model,\n",
    "    COUNT(f.flight_id) AS flights_amount\n",
    "FROM\n",
    "    aircrafts AS a\n",
    "    INNER JOIN flights AS f ON f.aircraft_code = a.aircraft_code\n",
    "WHERE\n",
    "    CAST(f.departure_time AS date) BETWEEN '2018-09-01' AND '2018-09-30'\n",
    "GROUP BY\n",
    "    model;\n",
    "\n",
    "```"
   ]
  },
  {
   "cell_type": "markdown",
   "metadata": {},
   "source": [
    "Посчитайте количество рейсов по всем моделям самолётов Boeing, Airbus и другим ('other') в сентябре. Типы моделей поместите в столбец type_aircraft, а количество рейсов — во flights_amount. Выведите их на экран."
   ]
  },
  {
   "cell_type": "markdown",
   "metadata": {},
   "source": [
    "```python\n",
    "\n",
    "SELECT\n",
    "    CASE\n",
    "        WHEN aircrafts.model LIKE '%Boeing%' THEN 'Boeing'\n",
    "        WHEN aircrafts.model LIKE '%Airbus%' THEN 'Airbus'\n",
    "        ELSE 'other'\n",
    "    END AS type_aircraft,\n",
    "    COUNT(flights.flight_id) AS flights_amount\n",
    "FROM flights\n",
    "    INNER JOIN\n",
    "    aircrafts\n",
    "    ON flights.aircraft_code = aircrafts.aircraft_code\n",
    "WHERE\n",
    "    CAST(flights.departure_time AS date) BETWEEN '2018-09-01' AND '2018-09-30'\n",
    "GROUP BY\n",
    "    type_aircraft\n",
    "\n",
    "```"
   ]
  },
  {
   "cell_type": "markdown",
   "metadata": {},
   "source": [
    "Посчитайте среднее количество прибывающих рейсов в день для каждого города за август 2018 года. Назовите получившееся поле average_flights, вместе с ним выведите столбец city."
   ]
  },
  {
   "cell_type": "markdown",
   "metadata": {},
   "source": [
    "```python\n",
    "\n",
    "SELECT\n",
    "    city,\n",
    "    AVG(arrival_cnt) AS average_flights\n",
    "FROM\n",
    "    (SELECT\n",
    "        airports.city AS city,\n",
    "        EXTRACT(DAY FROM flights.arrival_time) AS arrival_day,\n",
    "        COUNT(flights.flight_id) AS arrival_cnt\n",
    "    FROM\n",
    "        flights\n",
    "    INNER JOIN\n",
    "        airports ON flights.arrival_airport = airports.airport_code\n",
    "    WHERE\n",
    "        CAST(flights.departure_time  AS date) BETWEEN '2018-08-01' AND '2018-08-31'\n",
    "   GROUP BY\n",
    "       city,\n",
    "       arrival_day) AS sub\n",
    "GROUP BY\n",
    "    city;\n",
    "\n",
    "```"
   ]
  },
  {
   "cell_type": "markdown",
   "metadata": {},
   "source": [
    "Установите фестивали, которые проходили с 23 июля по 30 сентября 2018 года в Москве, и номер недели, в которую они проходили. Выведите название фестиваля festival_name и номер недели festival_week."
   ]
  },
  {
   "cell_type": "markdown",
   "metadata": {},
   "source": [
    "```python\n",
    "\n",
    "SELECT \n",
    "    festival_name,\n",
    "    EXTRACT(WEEK FROM festival_date) AS festival_week\n",
    "FROM \n",
    "    festivals\n",
    "WHERE\n",
    "    (festival_date :: date BETWEEN '2018-07-23' AND '2018-09-30') AND\n",
    "    (festival_city = 'Москва')\n",
    "GROUP BY\n",
    "    festival_name,\n",
    "    festival_week\n",
    "    \n",
    "```"
   ]
  },
  {
   "cell_type": "markdown",
   "metadata": {},
   "source": [
    "Для каждой недели с 23 июля по 30 сентября 2018 года посчитайте количество билетов, купленных на рейсы в Москву (номер недели week_number и количество билетов ticket_amount). Получите таблицу, в которой будет информация о количестве купленных за неделю билетов; отметка, проходил ли в эту неделю фестиваль; название фестиваля festival_name и номер недели week_number.\n",
    "Выводите столбцы в таком порядке: - week_number - ticket_amount - festival_week - festival_name"
   ]
  },
  {
   "cell_type": "markdown",
   "metadata": {},
   "source": [
    "```python\n",
    "\n",
    "SELECT\n",
    "    T.week_number,\n",
    "    T.ticket_amount,\n",
    "    T.festival_week,\n",
    "    T.festival_name\n",
    "FROM (\n",
    "    (SELECT\n",
    "        EXTRACT(WEEK FROM flights.arrival_time) AS week_number,\n",
    "        COUNT(ticket_flights.ticket_no) AS ticket_amount\n",
    "    FROM \n",
    "        flights\n",
    "        INNER JOIN airports ON flights.arrival_airport = airports.airport_code\n",
    "        INNER JOIN ticket_flights ON ticket_flights.flight_id = flights.flight_id \n",
    "    WHERE\n",
    "        (airports.city = 'Москва') AND\n",
    "        (flights.arrival_time :: date BETWEEN '2018-07-23' AND '2018-09-30')\n",
    "    GROUP BY\n",
    "        week_number) T1 LEFT JOIN\n",
    "        (SELECT \n",
    "            festival_name,\n",
    "            EXTRACT(WEEK FROM festival_date) AS festival_week\n",
    "        FROM \n",
    "            festivals\n",
    "        WHERE\n",
    "            (festival_date :: date BETWEEN '2018-07-23' AND '2018-09-30') AND\n",
    "            (festival_city = 'Москва')\n",
    "        GROUP BY\n",
    "            festival_name,\n",
    "            festival_week\n",
    "        ) T2 ON T1.week_number = T2.festival_week ) AS T\n",
    "    \n",
    "```"
   ]
  },
  {
   "cell_type": "markdown",
   "metadata": {},
   "source": [
    "# Аналитика Авиакомпании\n",
    "\n",
    "## Шаг 4. Аналитика средствами Python\n",
    "\n",
    "Загрузим результаты первого и третьего запроса в тренажере."
   ]
  },
  {
   "cell_type": "code",
   "execution_count": 1,
   "metadata": {},
   "outputs": [
    {
     "name": "stdout",
     "output_type": "stream",
     "text": [
      "<class 'pandas.core.frame.DataFrame'>\n",
      "RangeIndex: 8 entries, 0 to 7\n",
      "Data columns (total 2 columns):\n",
      " #   Column          Non-Null Count  Dtype \n",
      "---  ------          --------------  ----- \n",
      " 0   model           8 non-null      object\n",
      " 1   flights_amount  8 non-null      int64 \n",
      "dtypes: int64(1), object(1)\n",
      "memory usage: 256.0+ bytes\n",
      "None\n",
      "\n",
      "<class 'pandas.core.frame.DataFrame'>\n",
      "RangeIndex: 101 entries, 0 to 100\n",
      "Data columns (total 2 columns):\n",
      " #   Column           Non-Null Count  Dtype  \n",
      "---  ------           --------------  -----  \n",
      " 0   city             101 non-null    object \n",
      " 1   average_flights  101 non-null    float64\n",
      "dtypes: float64(1), object(1)\n",
      "memory usage: 1.7+ KB\n",
      "None\n",
      "\n"
     ]
    },
    {
     "data": {
      "text/html": [
       "<div>\n",
       "<style scoped>\n",
       "    .dataframe tbody tr th:only-of-type {\n",
       "        vertical-align: middle;\n",
       "    }\n",
       "\n",
       "    .dataframe tbody tr th {\n",
       "        vertical-align: top;\n",
       "    }\n",
       "\n",
       "    .dataframe thead th {\n",
       "        text-align: right;\n",
       "    }\n",
       "</style>\n",
       "<table border=\"1\" class=\"dataframe\">\n",
       "  <thead>\n",
       "    <tr style=\"text-align: right;\">\n",
       "      <th></th>\n",
       "      <th>model</th>\n",
       "      <th>flights_amount</th>\n",
       "    </tr>\n",
       "  </thead>\n",
       "  <tbody>\n",
       "    <tr>\n",
       "      <th>0</th>\n",
       "      <td>Airbus A319-100</td>\n",
       "      <td>607</td>\n",
       "    </tr>\n",
       "    <tr>\n",
       "      <th>1</th>\n",
       "      <td>Airbus A321-200</td>\n",
       "      <td>960</td>\n",
       "    </tr>\n",
       "    <tr>\n",
       "      <th>2</th>\n",
       "      <td>Boeing 737-300</td>\n",
       "      <td>630</td>\n",
       "    </tr>\n",
       "    <tr>\n",
       "      <th>3</th>\n",
       "      <td>Boeing 767-300</td>\n",
       "      <td>600</td>\n",
       "    </tr>\n",
       "    <tr>\n",
       "      <th>4</th>\n",
       "      <td>Boeing 777-300</td>\n",
       "      <td>300</td>\n",
       "    </tr>\n",
       "    <tr>\n",
       "      <th>5</th>\n",
       "      <td>Bombardier CRJ-200</td>\n",
       "      <td>4446</td>\n",
       "    </tr>\n",
       "    <tr>\n",
       "      <th>6</th>\n",
       "      <td>Cessna 208 Caravan</td>\n",
       "      <td>4557</td>\n",
       "    </tr>\n",
       "    <tr>\n",
       "      <th>7</th>\n",
       "      <td>Sukhoi SuperJet-100</td>\n",
       "      <td>4185</td>\n",
       "    </tr>\n",
       "  </tbody>\n",
       "</table>\n",
       "</div>"
      ],
      "text/plain": [
       "                 model  flights_amount\n",
       "0      Airbus A319-100             607\n",
       "1      Airbus A321-200             960\n",
       "2       Boeing 737-300             630\n",
       "3       Boeing 767-300             600\n",
       "4       Boeing 777-300             300\n",
       "5   Bombardier CRJ-200            4446\n",
       "6   Cessna 208 Caravan            4557\n",
       "7  Sukhoi SuperJet-100            4185"
      ]
     },
     "execution_count": 1,
     "metadata": {},
     "output_type": "execute_result"
    }
   ],
   "source": [
    "import pandas as pd\n",
    "import matplotlib.pyplot as plt\n",
    "import numpy as np\n",
    "from scipy import stats\n",
    "\n",
    "query_1 = pd.read_csv('query_1.csv')\n",
    "query_3 = pd.read_csv('query_3.csv')\n",
    "\n",
    "print(query_1.info())\n",
    "print()\n",
    "print(query_3.info())\n",
    "print()\n",
    "query_1"
   ]
  },
  {
   "cell_type": "code",
   "execution_count": 2,
   "metadata": {},
   "outputs": [
    {
     "data": {
      "text/html": [
       "<div>\n",
       "<style scoped>\n",
       "    .dataframe tbody tr th:only-of-type {\n",
       "        vertical-align: middle;\n",
       "    }\n",
       "\n",
       "    .dataframe tbody tr th {\n",
       "        vertical-align: top;\n",
       "    }\n",
       "\n",
       "    .dataframe thead th {\n",
       "        text-align: right;\n",
       "    }\n",
       "</style>\n",
       "<table border=\"1\" class=\"dataframe\">\n",
       "  <thead>\n",
       "    <tr style=\"text-align: right;\">\n",
       "      <th></th>\n",
       "      <th>city</th>\n",
       "      <th>average_flights</th>\n",
       "    </tr>\n",
       "  </thead>\n",
       "  <tbody>\n",
       "    <tr>\n",
       "      <th>0</th>\n",
       "      <td>Абакан</td>\n",
       "      <td>3.870968</td>\n",
       "    </tr>\n",
       "    <tr>\n",
       "      <th>1</th>\n",
       "      <td>Анадырь</td>\n",
       "      <td>1.000000</td>\n",
       "    </tr>\n",
       "    <tr>\n",
       "      <th>2</th>\n",
       "      <td>Анапа</td>\n",
       "      <td>2.161290</td>\n",
       "    </tr>\n",
       "    <tr>\n",
       "      <th>3</th>\n",
       "      <td>Архангельск</td>\n",
       "      <td>5.354839</td>\n",
       "    </tr>\n",
       "    <tr>\n",
       "      <th>4</th>\n",
       "      <td>Астрахань</td>\n",
       "      <td>2.451613</td>\n",
       "    </tr>\n",
       "  </tbody>\n",
       "</table>\n",
       "</div>"
      ],
      "text/plain": [
       "          city  average_flights\n",
       "0       Абакан         3.870968\n",
       "1      Анадырь         1.000000\n",
       "2        Анапа         2.161290\n",
       "3  Архангельск         5.354839\n",
       "4    Астрахань         2.451613"
      ]
     },
     "execution_count": 2,
     "metadata": {},
     "output_type": "execute_result"
    }
   ],
   "source": [
    "query_3.head()"
   ]
  },
  {
   "cell_type": "code",
   "execution_count": 3,
   "metadata": {},
   "outputs": [
    {
     "data": {
      "text/html": [
       "<div>\n",
       "<style scoped>\n",
       "    .dataframe tbody tr th:only-of-type {\n",
       "        vertical-align: middle;\n",
       "    }\n",
       "\n",
       "    .dataframe tbody tr th {\n",
       "        vertical-align: top;\n",
       "    }\n",
       "\n",
       "    .dataframe thead th {\n",
       "        text-align: right;\n",
       "    }\n",
       "</style>\n",
       "<table border=\"1\" class=\"dataframe\">\n",
       "  <thead>\n",
       "    <tr style=\"text-align: right;\">\n",
       "      <th></th>\n",
       "      <th>city</th>\n",
       "      <th>average_flights</th>\n",
       "    </tr>\n",
       "  </thead>\n",
       "  <tbody>\n",
       "    <tr>\n",
       "      <th>43</th>\n",
       "      <td>Москва</td>\n",
       "      <td>129.774194</td>\n",
       "    </tr>\n",
       "    <tr>\n",
       "      <th>70</th>\n",
       "      <td>Санкт-Петербург</td>\n",
       "      <td>31.161290</td>\n",
       "    </tr>\n",
       "    <tr>\n",
       "      <th>54</th>\n",
       "      <td>Новосибирск</td>\n",
       "      <td>17.322581</td>\n",
       "    </tr>\n",
       "    <tr>\n",
       "      <th>33</th>\n",
       "      <td>Красноярск</td>\n",
       "      <td>11.580645</td>\n",
       "    </tr>\n",
       "    <tr>\n",
       "      <th>20</th>\n",
       "      <td>Екатеринбург</td>\n",
       "      <td>11.322581</td>\n",
       "    </tr>\n",
       "    <tr>\n",
       "      <th>67</th>\n",
       "      <td>Ростов-на-Дону</td>\n",
       "      <td>10.193548</td>\n",
       "    </tr>\n",
       "    <tr>\n",
       "      <th>63</th>\n",
       "      <td>Пермь</td>\n",
       "      <td>10.129032</td>\n",
       "    </tr>\n",
       "    <tr>\n",
       "      <th>10</th>\n",
       "      <td>Брянск</td>\n",
       "      <td>10.000000</td>\n",
       "    </tr>\n",
       "    <tr>\n",
       "      <th>74</th>\n",
       "      <td>Сочи</td>\n",
       "      <td>9.612903</td>\n",
       "    </tr>\n",
       "    <tr>\n",
       "      <th>84</th>\n",
       "      <td>Ульяновск</td>\n",
       "      <td>9.580645</td>\n",
       "    </tr>\n",
       "  </tbody>\n",
       "</table>\n",
       "</div>"
      ],
      "text/plain": [
       "               city  average_flights\n",
       "43           Москва       129.774194\n",
       "70  Санкт-Петербург        31.161290\n",
       "54      Новосибирск        17.322581\n",
       "33       Красноярск        11.580645\n",
       "20     Екатеринбург        11.322581\n",
       "67   Ростов-на-Дону        10.193548\n",
       "63            Пермь        10.129032\n",
       "10           Брянск        10.000000\n",
       "74             Сочи         9.612903\n",
       "84        Ульяновск         9.580645"
      ]
     },
     "execution_count": 3,
     "metadata": {},
     "output_type": "execute_result"
    }
   ],
   "source": [
    "top_cities = query_3.sort_values(by='average_flights', ascending=False)['city'].head(10).values\n",
    "#Напечатаем их\n",
    "query_3.sort_values(by='average_flights', ascending=False).head(10)"
   ]
  },
  {
   "cell_type": "code",
   "execution_count": 4,
   "metadata": {},
   "outputs": [],
   "source": [
    "#Для графиков отсортируем датасеты\n",
    "query_1.sort_values(by='flights_amount', ascending=False, inplace=True)\n",
    "query_3.sort_values(by='average_flights', ascending=False, inplace=True)"
   ]
  },
  {
   "cell_type": "markdown",
   "metadata": {},
   "source": [
    "Отобразим зависимости между моделями самолетов и количеством рейсов, а также между топ-10 городами и средним количеством рейсов.\n",
    "\n",
    "Все города отображать не будем, так как после топ-10 все они остаются примерно на одной высоте, что не несет в себе полезной информации."
   ]
  },
  {
   "cell_type": "code",
   "execution_count": 5,
   "metadata": {},
   "outputs": [
    {
     "data": {
      "image/png": "[encoded data removed]",
      "text/plain": [
       "<Figure size 1296x1080 with 2 Axes>"
      ]
     },
     "metadata": {
      "needs_background": "light"
     },
     "output_type": "display_data"
    }
   ],
   "source": [
    "fig,ax = plt.subplots(2,1)\n",
    "\n",
    "ax[0].bar(query_1['model'], query_1['flights_amount'])\n",
    "ax[0].set_title('Модели самолетов от количества рейсов.')\n",
    "ax[0].set_xlabel('Модель самолета.')\n",
    "ax[0].set_ylabel('Количество рейсов.')\n",
    "\n",
    "ax[1].bar(query_3['city'].head(10), query_3['average_flights'].head(10))\n",
    "ax[1].set_title('Город от среднего количества рейсов в день.')\n",
    "ax[1].set_xlabel('Город.')\n",
    "ax[1].set_ylabel('Среднее количество рейсов.')\n",
    "\n",
    "fig.set_size_inches(18,15)\n",
    "\n",
    "plt.show()"
   ]
  },
  {
   "cell_type": "markdown",
   "metadata": {},
   "source": [
    "Среди моделей самолетов самыми загруженными бывают Cessna 208 Caravan, Bombardier CRJ-200, Sukhoi Superjet-100. Дальность полета первой модели - 1200 км, второй - около 2000 км, а третьей - около 3000 км. Учитывая, что самым частым городом прибытия является Москва, то Cessna определенно летает только по России. Скорее всего это больше развлекательный или тренировочный самолет, так как мест в нем на 13 человек. Bombardier скорее всего тоже чаще летает по России. Superjet может летать как по России, так и по странам СНГ и по Европе.\n",
    "\n",
    "Вообще логично, что Cessna летает чаще всех, ведь это маленький самолет, который подготовить для полета и найти пассажиров легче, чем для обычных среднемагистральных самолетов на 100+ человек. Ту же логику можно применить и к сравнению второй и третьей модели.\n",
    "\n",
    "## Шаг 5. Проверка гипотезы средствами Python\n",
    "\n",
    "Необходимо проверить гипотезу: Средний спрос на билеты во время фестивалей не отличается от среднего спроса на билеты в обычное время.\n",
    "\n",
    "$H_0$: Средний спрос на билеты во время фестивалей и в обычное время одинаковый.\n",
    "\n",
    "$H_1$: Средний спрос на билеты во время фестивалей и в обычное время разный.\n",
    "\n",
    "Для начала загрузим данные и взглянем на них."
   ]
  },
  {
   "cell_type": "code",
   "execution_count": 6,
   "metadata": {},
   "outputs": [
    {
     "name": "stdout",
     "output_type": "stream",
     "text": [
      "<class 'pandas.core.frame.DataFrame'>\n",
      "RangeIndex: 10 entries, 0 to 9\n",
      "Data columns (total 4 columns):\n",
      " #   Column         Non-Null Count  Dtype  \n",
      "---  ------         --------------  -----  \n",
      " 0   week_number    10 non-null     int64  \n",
      " 1   ticket_amount  10 non-null     int64  \n",
      " 2   festival_week  3 non-null      float64\n",
      " 3   festival_name  3 non-null      object \n",
      "dtypes: float64(1), int64(2), object(1)\n",
      "memory usage: 448.0+ bytes\n",
      "None\n",
      "\n"
     ]
    },
    {
     "data": {
      "text/html": [
       "<div>\n",
       "<style scoped>\n",
       "    .dataframe tbody tr th:only-of-type {\n",
       "        vertical-align: middle;\n",
       "    }\n",
       "\n",
       "    .dataframe tbody tr th {\n",
       "        vertical-align: top;\n",
       "    }\n",
       "\n",
       "    .dataframe thead th {\n",
       "        text-align: right;\n",
       "    }\n",
       "</style>\n",
       "<table border=\"1\" class=\"dataframe\">\n",
       "  <thead>\n",
       "    <tr style=\"text-align: right;\">\n",
       "      <th></th>\n",
       "      <th>week_number</th>\n",
       "      <th>ticket_amount</th>\n",
       "      <th>festival_week</th>\n",
       "      <th>festival_name</th>\n",
       "    </tr>\n",
       "  </thead>\n",
       "  <tbody>\n",
       "    <tr>\n",
       "      <th>0</th>\n",
       "      <td>30</td>\n",
       "      <td>43568</td>\n",
       "      <td>30.0</td>\n",
       "      <td>Park Live</td>\n",
       "    </tr>\n",
       "    <tr>\n",
       "      <th>1</th>\n",
       "      <td>31</td>\n",
       "      <td>51034</td>\n",
       "      <td>31.0</td>\n",
       "      <td>Пикник Афиши</td>\n",
       "    </tr>\n",
       "    <tr>\n",
       "      <th>2</th>\n",
       "      <td>32</td>\n",
       "      <td>51675</td>\n",
       "      <td>NaN</td>\n",
       "      <td>NaN</td>\n",
       "    </tr>\n",
       "    <tr>\n",
       "      <th>3</th>\n",
       "      <td>33</td>\n",
       "      <td>51378</td>\n",
       "      <td>NaN</td>\n",
       "      <td>NaN</td>\n",
       "    </tr>\n",
       "    <tr>\n",
       "      <th>4</th>\n",
       "      <td>34</td>\n",
       "      <td>51492</td>\n",
       "      <td>NaN</td>\n",
       "      <td>NaN</td>\n",
       "    </tr>\n",
       "    <tr>\n",
       "      <th>5</th>\n",
       "      <td>35</td>\n",
       "      <td>51360</td>\n",
       "      <td>NaN</td>\n",
       "      <td>NaN</td>\n",
       "    </tr>\n",
       "    <tr>\n",
       "      <th>6</th>\n",
       "      <td>36</td>\n",
       "      <td>51386</td>\n",
       "      <td>36.0</td>\n",
       "      <td>Видфест</td>\n",
       "    </tr>\n",
       "    <tr>\n",
       "      <th>7</th>\n",
       "      <td>37</td>\n",
       "      <td>51670</td>\n",
       "      <td>NaN</td>\n",
       "      <td>NaN</td>\n",
       "    </tr>\n",
       "    <tr>\n",
       "      <th>8</th>\n",
       "      <td>38</td>\n",
       "      <td>51518</td>\n",
       "      <td>NaN</td>\n",
       "      <td>NaN</td>\n",
       "    </tr>\n",
       "    <tr>\n",
       "      <th>9</th>\n",
       "      <td>39</td>\n",
       "      <td>51623</td>\n",
       "      <td>NaN</td>\n",
       "      <td>NaN</td>\n",
       "    </tr>\n",
       "  </tbody>\n",
       "</table>\n",
       "</div>"
      ],
      "text/plain": [
       "   week_number  ticket_amount  festival_week festival_name\n",
       "0           30          43568           30.0     Park Live\n",
       "1           31          51034           31.0  Пикник Афиши\n",
       "2           32          51675            NaN           NaN\n",
       "3           33          51378            NaN           NaN\n",
       "4           34          51492            NaN           NaN\n",
       "5           35          51360            NaN           NaN\n",
       "6           36          51386           36.0       Видфест\n",
       "7           37          51670            NaN           NaN\n",
       "8           38          51518            NaN           NaN\n",
       "9           39          51623            NaN           NaN"
      ]
     },
     "execution_count": 6,
     "metadata": {},
     "output_type": "execute_result"
    }
   ],
   "source": [
    "last_query = pd.read_csv('query_last.csv')\n",
    "\n",
    "print(last_query.info())\n",
    "print()\n",
    "last_query"
   ]
  },
  {
   "cell_type": "code",
   "execution_count": 7,
   "metadata": {},
   "outputs": [
    {
     "data": {
      "image/png": "[encoded data removed]",
      "text/plain": [
       "<Figure size 432x288 with 1 Axes>"
      ]
     },
     "metadata": {
      "needs_background": "light"
     },
     "output_type": "display_data"
    }
   ],
   "source": [
    "#Показать, что данные далеки от нормального распределения\n",
    "last_query[last_query['festival_week'].isnull()]['ticket_amount'].hist(bins='fd')\n",
    "plt.show()"
   ]
  },
  {
   "cell_type": "markdown",
   "metadata": {},
   "source": [
    "Первый вывод - данных очень мало для надежной оценки. К тому же данные далеки от нормального распределения, поэтму воспользуемся Mann-Whitney U Test."
   ]
  },
  {
   "cell_type": "code",
   "execution_count": 8,
   "metadata": {},
   "outputs": [
    {
     "name": "stdout",
     "output_type": "stream",
     "text": [
      "Среднее количество проданных билетов в обычное время:      51530.86\n",
      "Среднее количество проданных билетов вво время фестивалей: 48662.67\n",
      "p-value = 0.03412374418900064\n",
      "Отвергаем нулевую гипотезу\n"
     ]
    }
   ],
   "source": [
    "non_festival_mean = last_query[last_query['festival_week'].isnull()]['ticket_amount'].mean()\n",
    "festival_mean     = last_query[last_query['festival_week'].notnull()]['ticket_amount'].mean()\n",
    "\n",
    "print('Среднее количество проданных билетов в обычное время:      {:.2f}'.format(non_festival_mean))\n",
    "print('Среднее количество проданных билетов вво время фестивалей: {:.2f}'.format(festival_mean))\n",
    "\n",
    "alpha = .05\n",
    "\n",
    "U,p = stats.mannwhitneyu(last_query[last_query['festival_week'].isnull()]['ticket_amount'].values, \\\n",
    "                                                   last_query[last_query['festival_week'].notnull()]['ticket_amount'].values)\n",
    "print('p-value = ' + str(p))\n",
    "\n",
    "if(p < alpha):\n",
    "    print('Отвергаем нулевую гипотезу')\n",
    "else:\n",
    "    print('Не отвергаем')"
   ]
  },
  {
   "cell_type": "markdown",
   "metadata": {},
   "source": [
    "## Вывод\n",
    "\n",
    "Полученное значение pvalue говорит нам о том, что с вероятностью 3.4% та разница в среднем количестве проданных билетов получена случайно. Данное значение ниже заданного критического уровня значимости, следовательно, мы отверагем нулевую гипотезу.\n",
    "\n",
    "Предполагаем, что среднее количество проданных билетов в недели фестивалей <b>отличается</b> от среднего количества проданных билетов в обычные недели."
   ]
  }
 ],
 "metadata": {
  "kernelspec": {
   "display_name": "Python 3",
   "language": "python",
   "name": "python3"
  },
  "language_info": {
   "codemirror_mode": {
    "name": "ipython",
    "version": 3
   },
   "file_extension": ".py",
   "mimetype": "text/x-python",
   "name": "python",
   "nbconvert_exporter": "python",
   "pygments_lexer": "ipython3",
   "version": "3.8.3"
  }
 },
 "nbformat": 4,
 "nbformat_minor": 4
}
