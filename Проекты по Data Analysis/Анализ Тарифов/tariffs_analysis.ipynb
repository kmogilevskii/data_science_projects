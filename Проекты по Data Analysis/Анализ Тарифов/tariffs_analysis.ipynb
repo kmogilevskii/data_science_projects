{
 "cells": [
  {
   "cell_type": "markdown",
   "metadata": {},
   "source": [
    "## Определение перспективного тарифа для телеком компании\n",
    "\n",
    "Вы аналитик компании «Мегалайн» — федерального оператора сотовой связи. Клиентам предлагают два тарифных плана: «Смарт» и «Ультра». Чтобы скорректировать рекламный бюджет, коммерческий департамент хочет понять, какой тариф приносит больше денег.\n",
    "\n",
    "Вам предстоит сделать предварительный анализ тарифов на небольшой выборке клиентов. В вашем распоряжении данные 500 пользователей «Мегалайна»: кто они, откуда, каким тарифом пользуются, сколько звонков и сообщений каждый отправил за 2018 год. Нужно проанализировать поведение клиентов и сделать вывод — какой тариф лучше."
   ]
  },
  {
   "cell_type": "markdown",
   "metadata": {},
   "source": [
    "## Шаг 1. Откройте файлы с данными и изучите общую информацию"
   ]
  },
  {
   "cell_type": "code",
   "execution_count": 1,
   "metadata": {},
   "outputs": [
    {
     "name": "stdout",
     "output_type": "stream",
     "text": [
      "<class 'pandas.core.frame.DataFrame'>\n",
      "RangeIndex: 202607 entries, 0 to 202606\n",
      "Data columns (total 4 columns):\n",
      " #   Column     Non-Null Count   Dtype  \n",
      "---  ------     --------------   -----  \n",
      " 0   id         202607 non-null  object \n",
      " 1   call_date  202607 non-null  object \n",
      " 2   duration   202607 non-null  float64\n",
      " 3   user_id    202607 non-null  int64  \n",
      "dtypes: float64(1), int64(1), object(2)\n",
      "memory usage: 6.2+ MB\n"
     ]
    },
    {
     "data": {
      "text/html": [
       "<div>\n",
       "<style scoped>\n",
       "    .dataframe tbody tr th:only-of-type {\n",
       "        vertical-align: middle;\n",
       "    }\n",
       "\n",
       "    .dataframe tbody tr th {\n",
       "        vertical-align: top;\n",
       "    }\n",
       "\n",
       "    .dataframe thead th {\n",
       "        text-align: right;\n",
       "    }\n",
       "</style>\n",
       "<table border=\"1\" class=\"dataframe\">\n",
       "  <thead>\n",
       "    <tr style=\"text-align: right;\">\n",
       "      <th></th>\n",
       "      <th>id</th>\n",
       "      <th>call_date</th>\n",
       "      <th>duration</th>\n",
       "      <th>user_id</th>\n",
       "    </tr>\n",
       "  </thead>\n",
       "  <tbody>\n",
       "    <tr>\n",
       "      <th>0</th>\n",
       "      <td>1000_0</td>\n",
       "      <td>2018-07-25</td>\n",
       "      <td>0.00</td>\n",
       "      <td>1000</td>\n",
       "    </tr>\n",
       "    <tr>\n",
       "      <th>1</th>\n",
       "      <td>1000_1</td>\n",
       "      <td>2018-08-17</td>\n",
       "      <td>0.00</td>\n",
       "      <td>1000</td>\n",
       "    </tr>\n",
       "    <tr>\n",
       "      <th>2</th>\n",
       "      <td>1000_2</td>\n",
       "      <td>2018-06-11</td>\n",
       "      <td>2.85</td>\n",
       "      <td>1000</td>\n",
       "    </tr>\n",
       "    <tr>\n",
       "      <th>3</th>\n",
       "      <td>1000_3</td>\n",
       "      <td>2018-09-21</td>\n",
       "      <td>13.80</td>\n",
       "      <td>1000</td>\n",
       "    </tr>\n",
       "    <tr>\n",
       "      <th>4</th>\n",
       "      <td>1000_4</td>\n",
       "      <td>2018-12-15</td>\n",
       "      <td>5.18</td>\n",
       "      <td>1000</td>\n",
       "    </tr>\n",
       "  </tbody>\n",
       "</table>\n",
       "</div>"
      ],
      "text/plain": [
       "       id   call_date  duration  user_id\n",
       "0  1000_0  2018-07-25      0.00     1000\n",
       "1  1000_1  2018-08-17      0.00     1000\n",
       "2  1000_2  2018-06-11      2.85     1000\n",
       "3  1000_3  2018-09-21     13.80     1000\n",
       "4  1000_4  2018-12-15      5.18     1000"
      ]
     },
     "execution_count": 1,
     "metadata": {},
     "output_type": "execute_result"
    }
   ],
   "source": [
    "import pandas as pd\n",
    "import numpy as np\n",
    "from IPython.display import display,Math\n",
    "import matplotlib.pyplot as plt\n",
    "\n",
    "calls_df    = pd.read_csv('calls.csv')\n",
    "internet_df = pd.read_csv('internet.csv')\n",
    "messages_df = pd.read_csv('messages.csv')\n",
    "tariffs_df  = pd.read_csv('tariffs.csv')\n",
    "users_df    = pd.read_csv('users.csv')\n",
    "\n",
    "calls_df.info()\n",
    "calls_df.head()"
   ]
  },
  {
   "cell_type": "code",
   "execution_count": 2,
   "metadata": {},
   "outputs": [
    {
     "name": "stdout",
     "output_type": "stream",
     "text": [
      "<class 'pandas.core.frame.DataFrame'>\n",
      "RangeIndex: 149396 entries, 0 to 149395\n",
      "Data columns (total 5 columns):\n",
      " #   Column        Non-Null Count   Dtype  \n",
      "---  ------        --------------   -----  \n",
      " 0   Unnamed: 0    149396 non-null  int64  \n",
      " 1   id            149396 non-null  object \n",
      " 2   mb_used       149396 non-null  float64\n",
      " 3   session_date  149396 non-null  object \n",
      " 4   user_id       149396 non-null  int64  \n",
      "dtypes: float64(1), int64(2), object(2)\n",
      "memory usage: 5.7+ MB\n"
     ]
    },
    {
     "data": {
      "text/html": [
       "<div>\n",
       "<style scoped>\n",
       "    .dataframe tbody tr th:only-of-type {\n",
       "        vertical-align: middle;\n",
       "    }\n",
       "\n",
       "    .dataframe tbody tr th {\n",
       "        vertical-align: top;\n",
       "    }\n",
       "\n",
       "    .dataframe thead th {\n",
       "        text-align: right;\n",
       "    }\n",
       "</style>\n",
       "<table border=\"1\" class=\"dataframe\">\n",
       "  <thead>\n",
       "    <tr style=\"text-align: right;\">\n",
       "      <th></th>\n",
       "      <th>Unnamed: 0</th>\n",
       "      <th>id</th>\n",
       "      <th>mb_used</th>\n",
       "      <th>session_date</th>\n",
       "      <th>user_id</th>\n",
       "    </tr>\n",
       "  </thead>\n",
       "  <tbody>\n",
       "    <tr>\n",
       "      <th>0</th>\n",
       "      <td>0</td>\n",
       "      <td>1000_0</td>\n",
       "      <td>112.95</td>\n",
       "      <td>2018-11-25</td>\n",
       "      <td>1000</td>\n",
       "    </tr>\n",
       "    <tr>\n",
       "      <th>1</th>\n",
       "      <td>1</td>\n",
       "      <td>1000_1</td>\n",
       "      <td>1052.81</td>\n",
       "      <td>2018-09-07</td>\n",
       "      <td>1000</td>\n",
       "    </tr>\n",
       "    <tr>\n",
       "      <th>2</th>\n",
       "      <td>2</td>\n",
       "      <td>1000_2</td>\n",
       "      <td>1197.26</td>\n",
       "      <td>2018-06-25</td>\n",
       "      <td>1000</td>\n",
       "    </tr>\n",
       "    <tr>\n",
       "      <th>3</th>\n",
       "      <td>3</td>\n",
       "      <td>1000_3</td>\n",
       "      <td>550.27</td>\n",
       "      <td>2018-08-22</td>\n",
       "      <td>1000</td>\n",
       "    </tr>\n",
       "    <tr>\n",
       "      <th>4</th>\n",
       "      <td>4</td>\n",
       "      <td>1000_4</td>\n",
       "      <td>302.56</td>\n",
       "      <td>2018-09-24</td>\n",
       "      <td>1000</td>\n",
       "    </tr>\n",
       "  </tbody>\n",
       "</table>\n",
       "</div>"
      ],
      "text/plain": [
       "   Unnamed: 0      id  mb_used session_date  user_id\n",
       "0           0  1000_0   112.95   2018-11-25     1000\n",
       "1           1  1000_1  1052.81   2018-09-07     1000\n",
       "2           2  1000_2  1197.26   2018-06-25     1000\n",
       "3           3  1000_3   550.27   2018-08-22     1000\n",
       "4           4  1000_4   302.56   2018-09-24     1000"
      ]
     },
     "execution_count": 2,
     "metadata": {},
     "output_type": "execute_result"
    }
   ],
   "source": [
    "internet_df.info()\n",
    "internet_df.head()"
   ]
  },
  {
   "cell_type": "code",
   "execution_count": 3,
   "metadata": {},
   "outputs": [
    {
     "name": "stdout",
     "output_type": "stream",
     "text": [
      "<class 'pandas.core.frame.DataFrame'>\n",
      "RangeIndex: 123036 entries, 0 to 123035\n",
      "Data columns (total 3 columns):\n",
      " #   Column        Non-Null Count   Dtype \n",
      "---  ------        --------------   ----- \n",
      " 0   id            123036 non-null  object\n",
      " 1   message_date  123036 non-null  object\n",
      " 2   user_id       123036 non-null  int64 \n",
      "dtypes: int64(1), object(2)\n",
      "memory usage: 2.8+ MB\n"
     ]
    },
    {
     "data": {
      "text/html": [
       "<div>\n",
       "<style scoped>\n",
       "    .dataframe tbody tr th:only-of-type {\n",
       "        vertical-align: middle;\n",
       "    }\n",
       "\n",
       "    .dataframe tbody tr th {\n",
       "        vertical-align: top;\n",
       "    }\n",
       "\n",
       "    .dataframe thead th {\n",
       "        text-align: right;\n",
       "    }\n",
       "</style>\n",
       "<table border=\"1\" class=\"dataframe\">\n",
       "  <thead>\n",
       "    <tr style=\"text-align: right;\">\n",
       "      <th></th>\n",
       "      <th>id</th>\n",
       "      <th>message_date</th>\n",
       "      <th>user_id</th>\n",
       "    </tr>\n",
       "  </thead>\n",
       "  <tbody>\n",
       "    <tr>\n",
       "      <th>0</th>\n",
       "      <td>1000_0</td>\n",
       "      <td>2018-06-27</td>\n",
       "      <td>1000</td>\n",
       "    </tr>\n",
       "    <tr>\n",
       "      <th>1</th>\n",
       "      <td>1000_1</td>\n",
       "      <td>2018-10-08</td>\n",
       "      <td>1000</td>\n",
       "    </tr>\n",
       "    <tr>\n",
       "      <th>2</th>\n",
       "      <td>1000_2</td>\n",
       "      <td>2018-08-04</td>\n",
       "      <td>1000</td>\n",
       "    </tr>\n",
       "    <tr>\n",
       "      <th>3</th>\n",
       "      <td>1000_3</td>\n",
       "      <td>2018-06-16</td>\n",
       "      <td>1000</td>\n",
       "    </tr>\n",
       "    <tr>\n",
       "      <th>4</th>\n",
       "      <td>1000_4</td>\n",
       "      <td>2018-12-05</td>\n",
       "      <td>1000</td>\n",
       "    </tr>\n",
       "  </tbody>\n",
       "</table>\n",
       "</div>"
      ],
      "text/plain": [
       "       id message_date  user_id\n",
       "0  1000_0   2018-06-27     1000\n",
       "1  1000_1   2018-10-08     1000\n",
       "2  1000_2   2018-08-04     1000\n",
       "3  1000_3   2018-06-16     1000\n",
       "4  1000_4   2018-12-05     1000"
      ]
     },
     "execution_count": 3,
     "metadata": {},
     "output_type": "execute_result"
    }
   ],
   "source": [
    "messages_df.info()\n",
    "messages_df.head()"
   ]
  },
  {
   "cell_type": "code",
   "execution_count": 4,
   "metadata": {},
   "outputs": [
    {
     "name": "stdout",
     "output_type": "stream",
     "text": [
      "<class 'pandas.core.frame.DataFrame'>\n",
      "RangeIndex: 2 entries, 0 to 1\n",
      "Data columns (total 8 columns):\n",
      " #   Column                 Non-Null Count  Dtype \n",
      "---  ------                 --------------  ----- \n",
      " 0   messages_included      2 non-null      int64 \n",
      " 1   mb_per_month_included  2 non-null      int64 \n",
      " 2   minutes_included       2 non-null      int64 \n",
      " 3   rub_monthly_fee        2 non-null      int64 \n",
      " 4   rub_per_gb             2 non-null      int64 \n",
      " 5   rub_per_message        2 non-null      int64 \n",
      " 6   rub_per_minute         2 non-null      int64 \n",
      " 7   tariff_name            2 non-null      object\n",
      "dtypes: int64(7), object(1)\n",
      "memory usage: 256.0+ bytes\n"
     ]
    },
    {
     "data": {
      "text/html": [
       "<div>\n",
       "<style scoped>\n",
       "    .dataframe tbody tr th:only-of-type {\n",
       "        vertical-align: middle;\n",
       "    }\n",
       "\n",
       "    .dataframe tbody tr th {\n",
       "        vertical-align: top;\n",
       "    }\n",
       "\n",
       "    .dataframe thead th {\n",
       "        text-align: right;\n",
       "    }\n",
       "</style>\n",
       "<table border=\"1\" class=\"dataframe\">\n",
       "  <thead>\n",
       "    <tr style=\"text-align: right;\">\n",
       "      <th></th>\n",
       "      <th>messages_included</th>\n",
       "      <th>mb_per_month_included</th>\n",
       "      <th>minutes_included</th>\n",
       "      <th>rub_monthly_fee</th>\n",
       "      <th>rub_per_gb</th>\n",
       "      <th>rub_per_message</th>\n",
       "      <th>rub_per_minute</th>\n",
       "      <th>tariff_name</th>\n",
       "    </tr>\n",
       "  </thead>\n",
       "  <tbody>\n",
       "    <tr>\n",
       "      <th>0</th>\n",
       "      <td>50</td>\n",
       "      <td>15360</td>\n",
       "      <td>500</td>\n",
       "      <td>550</td>\n",
       "      <td>200</td>\n",
       "      <td>3</td>\n",
       "      <td>3</td>\n",
       "      <td>smart</td>\n",
       "    </tr>\n",
       "    <tr>\n",
       "      <th>1</th>\n",
       "      <td>1000</td>\n",
       "      <td>30720</td>\n",
       "      <td>3000</td>\n",
       "      <td>1950</td>\n",
       "      <td>150</td>\n",
       "      <td>1</td>\n",
       "      <td>1</td>\n",
       "      <td>ultra</td>\n",
       "    </tr>\n",
       "  </tbody>\n",
       "</table>\n",
       "</div>"
      ],
      "text/plain": [
       "   messages_included  mb_per_month_included  minutes_included  \\\n",
       "0                 50                  15360               500   \n",
       "1               1000                  30720              3000   \n",
       "\n",
       "   rub_monthly_fee  rub_per_gb  rub_per_message  rub_per_minute tariff_name  \n",
       "0              550         200                3               3       smart  \n",
       "1             1950         150                1               1       ultra  "
      ]
     },
     "execution_count": 4,
     "metadata": {},
     "output_type": "execute_result"
    }
   ],
   "source": [
    "tariffs_df.info()\n",
    "tariffs_df"
   ]
  },
  {
   "cell_type": "code",
   "execution_count": 5,
   "metadata": {},
   "outputs": [
    {
     "name": "stdout",
     "output_type": "stream",
     "text": [
      "<class 'pandas.core.frame.DataFrame'>\n",
      "RangeIndex: 500 entries, 0 to 499\n",
      "Data columns (total 8 columns):\n",
      " #   Column      Non-Null Count  Dtype \n",
      "---  ------      --------------  ----- \n",
      " 0   user_id     500 non-null    int64 \n",
      " 1   age         500 non-null    int64 \n",
      " 2   churn_date  38 non-null     object\n",
      " 3   city        500 non-null    object\n",
      " 4   first_name  500 non-null    object\n",
      " 5   last_name   500 non-null    object\n",
      " 6   reg_date    500 non-null    object\n",
      " 7   tariff      500 non-null    object\n",
      "dtypes: int64(2), object(6)\n",
      "memory usage: 31.4+ KB\n"
     ]
    },
    {
     "data": {
      "text/html": [
       "<div>\n",
       "<style scoped>\n",
       "    .dataframe tbody tr th:only-of-type {\n",
       "        vertical-align: middle;\n",
       "    }\n",
       "\n",
       "    .dataframe tbody tr th {\n",
       "        vertical-align: top;\n",
       "    }\n",
       "\n",
       "    .dataframe thead th {\n",
       "        text-align: right;\n",
       "    }\n",
       "</style>\n",
       "<table border=\"1\" class=\"dataframe\">\n",
       "  <thead>\n",
       "    <tr style=\"text-align: right;\">\n",
       "      <th></th>\n",
       "      <th>user_id</th>\n",
       "      <th>age</th>\n",
       "      <th>churn_date</th>\n",
       "      <th>city</th>\n",
       "      <th>first_name</th>\n",
       "      <th>last_name</th>\n",
       "      <th>reg_date</th>\n",
       "      <th>tariff</th>\n",
       "    </tr>\n",
       "  </thead>\n",
       "  <tbody>\n",
       "    <tr>\n",
       "      <th>0</th>\n",
       "      <td>1000</td>\n",
       "      <td>52</td>\n",
       "      <td>NaN</td>\n",
       "      <td>Краснодар</td>\n",
       "      <td>Рафаил</td>\n",
       "      <td>Верещагин</td>\n",
       "      <td>2018-05-25</td>\n",
       "      <td>ultra</td>\n",
       "    </tr>\n",
       "    <tr>\n",
       "      <th>1</th>\n",
       "      <td>1001</td>\n",
       "      <td>41</td>\n",
       "      <td>NaN</td>\n",
       "      <td>Москва</td>\n",
       "      <td>Иван</td>\n",
       "      <td>Ежов</td>\n",
       "      <td>2018-11-01</td>\n",
       "      <td>smart</td>\n",
       "    </tr>\n",
       "    <tr>\n",
       "      <th>2</th>\n",
       "      <td>1002</td>\n",
       "      <td>59</td>\n",
       "      <td>NaN</td>\n",
       "      <td>Стерлитамак</td>\n",
       "      <td>Евгений</td>\n",
       "      <td>Абрамович</td>\n",
       "      <td>2018-06-17</td>\n",
       "      <td>smart</td>\n",
       "    </tr>\n",
       "    <tr>\n",
       "      <th>3</th>\n",
       "      <td>1003</td>\n",
       "      <td>23</td>\n",
       "      <td>NaN</td>\n",
       "      <td>Москва</td>\n",
       "      <td>Белла</td>\n",
       "      <td>Белякова</td>\n",
       "      <td>2018-08-17</td>\n",
       "      <td>ultra</td>\n",
       "    </tr>\n",
       "    <tr>\n",
       "      <th>4</th>\n",
       "      <td>1004</td>\n",
       "      <td>68</td>\n",
       "      <td>NaN</td>\n",
       "      <td>Новокузнецк</td>\n",
       "      <td>Татьяна</td>\n",
       "      <td>Авдеенко</td>\n",
       "      <td>2018-05-14</td>\n",
       "      <td>ultra</td>\n",
       "    </tr>\n",
       "  </tbody>\n",
       "</table>\n",
       "</div>"
      ],
      "text/plain": [
       "   user_id  age churn_date         city first_name  last_name    reg_date  \\\n",
       "0     1000   52        NaN    Краснодар     Рафаил  Верещагин  2018-05-25   \n",
       "1     1001   41        NaN       Москва       Иван       Ежов  2018-11-01   \n",
       "2     1002   59        NaN  Стерлитамак    Евгений  Абрамович  2018-06-17   \n",
       "3     1003   23        NaN       Москва      Белла   Белякова  2018-08-17   \n",
       "4     1004   68        NaN  Новокузнецк    Татьяна   Авдеенко  2018-05-14   \n",
       "\n",
       "  tariff  \n",
       "0  ultra  \n",
       "1  smart  \n",
       "2  smart  \n",
       "3  ultra  \n",
       "4  ultra  "
      ]
     },
     "execution_count": 5,
     "metadata": {},
     "output_type": "execute_result"
    }
   ],
   "source": [
    "users_df.info()\n",
    "users_df.head()"
   ]
  },
  {
   "cell_type": "markdown",
   "metadata": {},
   "source": [
    "## Шаг 2. Подготовьте данные"
   ]
  },
  {
   "cell_type": "markdown",
   "metadata": {},
   "source": [
    "Во всех таблицах, где присутствуют даты, преобразуем тип в соответствующих столбцах к datetime."
   ]
  },
  {
   "cell_type": "code",
   "execution_count": 6,
   "metadata": {},
   "outputs": [
    {
     "name": "stdout",
     "output_type": "stream",
     "text": [
      "<class 'pandas.core.frame.DataFrame'>\n",
      "RangeIndex: 202607 entries, 0 to 202606\n",
      "Data columns (total 4 columns):\n",
      " #   Column     Non-Null Count   Dtype         \n",
      "---  ------     --------------   -----         \n",
      " 0   id         202607 non-null  object        \n",
      " 1   call_date  202607 non-null  datetime64[ns]\n",
      " 2   duration   202607 non-null  float64       \n",
      " 3   user_id    202607 non-null  int64         \n",
      "dtypes: datetime64[ns](1), float64(1), int64(1), object(1)\n",
      "memory usage: 6.2+ MB\n",
      "\n",
      "<class 'pandas.core.frame.DataFrame'>\n",
      "RangeIndex: 149396 entries, 0 to 149395\n",
      "Data columns (total 5 columns):\n",
      " #   Column        Non-Null Count   Dtype         \n",
      "---  ------        --------------   -----         \n",
      " 0   Unnamed: 0    149396 non-null  int64         \n",
      " 1   id            149396 non-null  object        \n",
      " 2   mb_used       149396 non-null  float64       \n",
      " 3   session_date  149396 non-null  datetime64[ns]\n",
      " 4   user_id       149396 non-null  int64         \n",
      "dtypes: datetime64[ns](1), float64(1), int64(2), object(1)\n",
      "memory usage: 5.7+ MB\n",
      "\n",
      "<class 'pandas.core.frame.DataFrame'>\n",
      "RangeIndex: 123036 entries, 0 to 123035\n",
      "Data columns (total 3 columns):\n",
      " #   Column        Non-Null Count   Dtype         \n",
      "---  ------        --------------   -----         \n",
      " 0   id            123036 non-null  object        \n",
      " 1   message_date  123036 non-null  datetime64[ns]\n",
      " 2   user_id       123036 non-null  int64         \n",
      "dtypes: datetime64[ns](1), int64(1), object(1)\n",
      "memory usage: 2.8+ MB\n",
      "\n",
      "<class 'pandas.core.frame.DataFrame'>\n",
      "RangeIndex: 500 entries, 0 to 499\n",
      "Data columns (total 8 columns):\n",
      " #   Column      Non-Null Count  Dtype         \n",
      "---  ------      --------------  -----         \n",
      " 0   user_id     500 non-null    int64         \n",
      " 1   age         500 non-null    int64         \n",
      " 2   churn_date  38 non-null     object        \n",
      " 3   city        500 non-null    object        \n",
      " 4   first_name  500 non-null    object        \n",
      " 5   last_name   500 non-null    object        \n",
      " 6   reg_date    500 non-null    datetime64[ns]\n",
      " 7   tariff      500 non-null    object        \n",
      "dtypes: datetime64[ns](1), int64(2), object(5)\n",
      "memory usage: 31.4+ KB\n"
     ]
    }
   ],
   "source": [
    "calls_df['call_date'] = pd.to_datetime(calls_df['call_date'], format='%Y-%m-%d')\n",
    "internet_df['session_date'] = pd.to_datetime(internet_df['session_date'], format='%Y-%m-%d')\n",
    "messages_df['message_date'] = pd.to_datetime(messages_df['message_date'], format='%Y-%m-%d')\n",
    "users_df['reg_date'] = pd.to_datetime(users_df['reg_date'], format='%Y-%m-%d')\n",
    "\n",
    "#Проверка\n",
    "calls_df.info()\n",
    "print()\n",
    "internet_df.info()\n",
    "print()\n",
    "messages_df.info()\n",
    "print()\n",
    "users_df.info()"
   ]
  },
  {
   "cell_type": "markdown",
   "metadata": {},
   "source": [
    "Исследуем звонки продолжительностью 0 сек и узнаем потеряется ли какой-нибудь пользователь, если мы удалим данные записи."
   ]
  },
  {
   "cell_type": "code",
   "execution_count": 7,
   "metadata": {},
   "outputs": [
    {
     "name": "stdout",
     "output_type": "stream",
     "text": [
      "492\n"
     ]
    },
    {
     "data": {
      "text/plain": [
       "162994"
      ]
     },
     "execution_count": 7,
     "metadata": {},
     "output_type": "execute_result"
    }
   ],
   "source": [
    "print(len(calls_df.query('duration != 0.0')['user_id'].unique()))\n",
    "#Никакой пользователь не потеряется, а значит избавимся от данных звонков\n",
    "calls_df = calls_df.query('duration != 0.0')\n",
    "calls_df.shape[0]"
   ]
  },
  {
   "cell_type": "markdown",
   "metadata": {},
   "source": [
    "Важной особенностью является тот факт, что не во всех таблицах присутствуют данные о 500 пользователях."
   ]
  },
  {
   "cell_type": "code",
   "execution_count": 8,
   "metadata": {},
   "outputs": [
    {
     "name": "stdout",
     "output_type": "stream",
     "text": [
      "500\n",
      "426\n",
      "497\n",
      "492\n"
     ]
    }
   ],
   "source": [
    "print(len(users_df['user_id'].unique()))\n",
    "print(len(messages_df['user_id'].unique()))\n",
    "print(len(internet_df['user_id'].unique()))\n",
    "print(len(calls_df['user_id'].unique()))"
   ]
  },
  {
   "cell_type": "markdown",
   "metadata": {},
   "source": [
    "Посчитаем количество сделанных звонков и израсходованных минут разговора по месяцам, количество отправленных сообщений по месяцам и объем израсходованного интернет-трафика по месяцам. \n",
    "\n",
    "Далее объединим полученные сводные таблицы в одну и добавим тариф каждого пользователя."
   ]
  },
  {
   "cell_type": "code",
   "execution_count": 9,
   "metadata": {},
   "outputs": [],
   "source": [
    "#Сводная таблица по звонкам\n",
    "calls_df['month']     = calls_df['call_date'].dt.strftime('%B')\n",
    "calls_per_mon         = calls_df.groupby(['user_id','month']).agg({'id':'count','duration':'sum'})\n",
    "calls_per_mon.columns = ['num_of_calls','total_duration']\n",
    "\n",
    "#Сводная таблица по сообщениям\n",
    "messages_df['month'] = messages_df['message_date'].dt.strftime('%B')\n",
    "mes_per_mon          = messages_df.groupby(['user_id','month']).agg({'id':'count'})\n",
    "mes_per_mon.columns  = ['number_of_messages']\n",
    "\n",
    "#Сводная таблица по интернету\n",
    "internet_df['month'] = internet_df['session_date'].dt.strftime('%B')\n",
    "traff_per_month      = internet_df.groupby(['user_id','month']).agg({'mb_used':'sum'})\n",
    "\n",
    "#Объединение всех небходимых данных в одну таблицу\n",
    "first_merge  = pd.merge(traff_per_month,mes_per_mon, right_index=True, left_index=True)\n",
    "second_merge = pd.merge(first_merge,calls_per_mon, right_index=True, left_index=True)\n",
    "users        = users_df[['user_id','tariff','city']]\n",
    "users.set_index('user_id',inplace=True)\n",
    "final_merge  = pd.merge(second_merge,users, right_index=True, left_index=True)"
   ]
  },
  {
   "cell_type": "markdown",
   "metadata": {},
   "source": [
    "Посчитаем помесячную выручку с каждого пользователя (вычтите бесплатный лимит из суммарного количества звонков, сообщений и интернет-трафика; остаток умножьте на значение из тарифного плана; прибавьте абонентскую плату, соответствующую тарифному плану)."
   ]
  },
  {
   "cell_type": "code",
   "execution_count": 10,
   "metadata": {},
   "outputs": [],
   "source": [
    "def payment(row):\n",
    "    if row['tariff'] == 'smart':\n",
    "        total_price = 550\n",
    "        calls_above = row['total_duration'] - 500\n",
    "        total_price += np.ceil(calls_above)*3 if calls_above > 0 else 0\n",
    "        \n",
    "        messages_above = row['number_of_messages'] - 50\n",
    "        total_price += messages_above*3 if messages_above > 0 else 0\n",
    "        \n",
    "        mb_above = row['mb_used'] - 15360\n",
    "        total_price += (mb_above/1000)*200 if mb_above > 0 else 0\n",
    "        return total_price\n",
    "    else:\n",
    "        total_price = 1950\n",
    "        calls_above = row['total_duration'] - 3000\n",
    "        total_price += np.ceil(calls_above) if calls_above > 0 else 0\n",
    "        \n",
    "        messages_above = row['number_of_messages'] - 1000\n",
    "        total_price += messages_above if messages_above > 0 else 0\n",
    "        \n",
    "        mb_above = row['mb_used'] - 30720\n",
    "        total_price += (mb_above/1000)*150 if mb_above > 0 else 0\n",
    "        return total_price"
   ]
  },
  {
   "cell_type": "code",
   "execution_count": 11,
   "metadata": {},
   "outputs": [
    {
     "data": {
      "text/html": [
       "<div>\n",
       "<style scoped>\n",
       "    .dataframe tbody tr th:only-of-type {\n",
       "        vertical-align: middle;\n",
       "    }\n",
       "\n",
       "    .dataframe tbody tr th {\n",
       "        vertical-align: top;\n",
       "    }\n",
       "\n",
       "    .dataframe thead th {\n",
       "        text-align: right;\n",
       "    }\n",
       "</style>\n",
       "<table border=\"1\" class=\"dataframe\">\n",
       "  <thead>\n",
       "    <tr style=\"text-align: right;\">\n",
       "      <th></th>\n",
       "      <th></th>\n",
       "      <th>mb_used</th>\n",
       "      <th>number_of_messages</th>\n",
       "      <th>num_of_calls</th>\n",
       "      <th>total_duration</th>\n",
       "      <th>tariff</th>\n",
       "      <th>city</th>\n",
       "      <th>payment</th>\n",
       "    </tr>\n",
       "    <tr>\n",
       "      <th>user_id</th>\n",
       "      <th>month</th>\n",
       "      <th></th>\n",
       "      <th></th>\n",
       "      <th></th>\n",
       "      <th></th>\n",
       "      <th></th>\n",
       "      <th></th>\n",
       "      <th></th>\n",
       "    </tr>\n",
       "  </thead>\n",
       "  <tbody>\n",
       "    <tr>\n",
       "      <th rowspan=\"5\" valign=\"top\">1000</th>\n",
       "      <th>August</th>\n",
       "      <td>14055.93</td>\n",
       "      <td>81</td>\n",
       "      <td>42</td>\n",
       "      <td>389.87</td>\n",
       "      <td>ultra</td>\n",
       "      <td>Краснодар</td>\n",
       "      <td>1950.000</td>\n",
       "    </tr>\n",
       "    <tr>\n",
       "      <th>December</th>\n",
       "      <td>9817.61</td>\n",
       "      <td>70</td>\n",
       "      <td>38</td>\n",
       "      <td>312.98</td>\n",
       "      <td>ultra</td>\n",
       "      <td>Краснодар</td>\n",
       "      <td>1950.000</td>\n",
       "    </tr>\n",
       "    <tr>\n",
       "      <th>July</th>\n",
       "      <td>14003.64</td>\n",
       "      <td>75</td>\n",
       "      <td>41</td>\n",
       "      <td>318.80</td>\n",
       "      <td>ultra</td>\n",
       "      <td>Краснодар</td>\n",
       "      <td>1950.000</td>\n",
       "    </tr>\n",
       "    <tr>\n",
       "      <th>June</th>\n",
       "      <td>23233.77</td>\n",
       "      <td>60</td>\n",
       "      <td>28</td>\n",
       "      <td>158.90</td>\n",
       "      <td>ultra</td>\n",
       "      <td>Краснодар</td>\n",
       "      <td>1950.000</td>\n",
       "    </tr>\n",
       "    <tr>\n",
       "      <th>May</th>\n",
       "      <td>2253.49</td>\n",
       "      <td>22</td>\n",
       "      <td>17</td>\n",
       "      <td>150.06</td>\n",
       "      <td>ultra</td>\n",
       "      <td>Краснодар</td>\n",
       "      <td>1950.000</td>\n",
       "    </tr>\n",
       "    <tr>\n",
       "      <th>...</th>\n",
       "      <th>...</th>\n",
       "      <td>...</td>\n",
       "      <td>...</td>\n",
       "      <td>...</td>\n",
       "      <td>...</td>\n",
       "      <td>...</td>\n",
       "      <td>...</td>\n",
       "      <td>...</td>\n",
       "    </tr>\n",
       "    <tr>\n",
       "      <th>1498</th>\n",
       "      <th>September</th>\n",
       "      <td>22134.41</td>\n",
       "      <td>44</td>\n",
       "      <td>53</td>\n",
       "      <td>446.68</td>\n",
       "      <td>smart</td>\n",
       "      <td>Владикавказ</td>\n",
       "      <td>1904.882</td>\n",
       "    </tr>\n",
       "    <tr>\n",
       "      <th rowspan=\"4\" valign=\"top\">1499</th>\n",
       "      <th>December</th>\n",
       "      <td>13055.58</td>\n",
       "      <td>66</td>\n",
       "      <td>56</td>\n",
       "      <td>465.16</td>\n",
       "      <td>smart</td>\n",
       "      <td>Пермь</td>\n",
       "      <td>598.000</td>\n",
       "    </tr>\n",
       "    <tr>\n",
       "      <th>November</th>\n",
       "      <td>17963.31</td>\n",
       "      <td>59</td>\n",
       "      <td>62</td>\n",
       "      <td>576.50</td>\n",
       "      <td>smart</td>\n",
       "      <td>Пермь</td>\n",
       "      <td>1328.662</td>\n",
       "    </tr>\n",
       "    <tr>\n",
       "      <th>October</th>\n",
       "      <td>17788.51</td>\n",
       "      <td>48</td>\n",
       "      <td>44</td>\n",
       "      <td>429.91</td>\n",
       "      <td>smart</td>\n",
       "      <td>Пермь</td>\n",
       "      <td>1035.702</td>\n",
       "    </tr>\n",
       "    <tr>\n",
       "      <th>September</th>\n",
       "      <td>1845.75</td>\n",
       "      <td>11</td>\n",
       "      <td>8</td>\n",
       "      <td>64.65</td>\n",
       "      <td>smart</td>\n",
       "      <td>Пермь</td>\n",
       "      <td>550.000</td>\n",
       "    </tr>\n",
       "  </tbody>\n",
       "</table>\n",
       "<p>2662 rows × 7 columns</p>\n",
       "</div>"
      ],
      "text/plain": [
       "                    mb_used  number_of_messages  num_of_calls  total_duration  \\\n",
       "user_id month                                                                   \n",
       "1000    August     14055.93                  81            42          389.87   \n",
       "        December    9817.61                  70            38          312.98   \n",
       "        July       14003.64                  75            41          318.80   \n",
       "        June       23233.77                  60            28          158.90   \n",
       "        May         2253.49                  22            17          150.06   \n",
       "...                     ...                 ...           ...             ...   \n",
       "1498    September  22134.41                  44            53          446.68   \n",
       "1499    December   13055.58                  66            56          465.16   \n",
       "        November   17963.31                  59            62          576.50   \n",
       "        October    17788.51                  48            44          429.91   \n",
       "        September   1845.75                  11             8           64.65   \n",
       "\n",
       "                  tariff         city   payment  \n",
       "user_id month                                    \n",
       "1000    August     ultra    Краснодар  1950.000  \n",
       "        December   ultra    Краснодар  1950.000  \n",
       "        July       ultra    Краснодар  1950.000  \n",
       "        June       ultra    Краснодар  1950.000  \n",
       "        May        ultra    Краснодар  1950.000  \n",
       "...                  ...          ...       ...  \n",
       "1498    September  smart  Владикавказ  1904.882  \n",
       "1499    December   smart        Пермь   598.000  \n",
       "        November   smart        Пермь  1328.662  \n",
       "        October    smart        Пермь  1035.702  \n",
       "        September  smart        Пермь   550.000  \n",
       "\n",
       "[2662 rows x 7 columns]"
      ]
     },
     "execution_count": 11,
     "metadata": {},
     "output_type": "execute_result"
    }
   ],
   "source": [
    "final_merge['payment'] = final_merge.apply(payment,axis=1)\n",
    "final_merge"
   ]
  },
  {
   "cell_type": "markdown",
   "metadata": {},
   "source": [
    "## Шаг 3. Проанализируйте данные"
   ]
  },
  {
   "cell_type": "markdown",
   "metadata": {},
   "source": [
    "Опишите поведение клиентов оператора, исходя из выборки. Сколько минут разговора, сколько сообщений и какой объём интернет-трафика требуется пользователям каждого тарифа в месяц? Посчитайте среднее количество, дисперсию и стандартное отклонение. Постройте гистограммы. Опишите распределения."
   ]
  },
  {
   "cell_type": "code",
   "execution_count": 12,
   "metadata": {},
   "outputs": [
    {
     "data": {
      "text/html": [
       "<div>\n",
       "<style scoped>\n",
       "    .dataframe tbody tr th:only-of-type {\n",
       "        vertical-align: middle;\n",
       "    }\n",
       "\n",
       "    .dataframe tbody tr th {\n",
       "        vertical-align: top;\n",
       "    }\n",
       "\n",
       "    .dataframe thead th {\n",
       "        text-align: right;\n",
       "    }\n",
       "</style>\n",
       "<table border=\"1\" class=\"dataframe\">\n",
       "  <thead>\n",
       "    <tr style=\"text-align: right;\">\n",
       "      <th></th>\n",
       "      <th>mb_used</th>\n",
       "      <th>number_of_messages</th>\n",
       "      <th>total_duration</th>\n",
       "    </tr>\n",
       "  </thead>\n",
       "  <tbody>\n",
       "    <tr>\n",
       "      <th>count</th>\n",
       "      <td>1913.000000</td>\n",
       "      <td>1913.000000</td>\n",
       "      <td>1913.000000</td>\n",
       "    </tr>\n",
       "    <tr>\n",
       "      <th>mean</th>\n",
       "      <td>16246.779875</td>\n",
       "      <td>38.767904</td>\n",
       "      <td>397.780193</td>\n",
       "    </tr>\n",
       "    <tr>\n",
       "      <th>std</th>\n",
       "      <td>5793.011182</td>\n",
       "      <td>26.822570</td>\n",
       "      <td>177.172581</td>\n",
       "    </tr>\n",
       "    <tr>\n",
       "      <th>min</th>\n",
       "      <td>0.000000</td>\n",
       "      <td>1.000000</td>\n",
       "      <td>1.780000</td>\n",
       "    </tr>\n",
       "    <tr>\n",
       "      <th>25%</th>\n",
       "      <td>12625.710000</td>\n",
       "      <td>17.000000</td>\n",
       "      <td>269.850000</td>\n",
       "    </tr>\n",
       "    <tr>\n",
       "      <th>50%</th>\n",
       "      <td>16461.940000</td>\n",
       "      <td>34.000000</td>\n",
       "      <td>403.240000</td>\n",
       "    </tr>\n",
       "    <tr>\n",
       "      <th>75%</th>\n",
       "      <td>20042.930000</td>\n",
       "      <td>55.000000</td>\n",
       "      <td>516.820000</td>\n",
       "    </tr>\n",
       "    <tr>\n",
       "      <th>max</th>\n",
       "      <td>38552.450000</td>\n",
       "      <td>143.000000</td>\n",
       "      <td>1354.220000</td>\n",
       "    </tr>\n",
       "  </tbody>\n",
       "</table>\n",
       "</div>"
      ],
      "text/plain": [
       "            mb_used  number_of_messages  total_duration\n",
       "count   1913.000000         1913.000000     1913.000000\n",
       "mean   16246.779875           38.767904      397.780193\n",
       "std     5793.011182           26.822570      177.172581\n",
       "min        0.000000            1.000000        1.780000\n",
       "25%    12625.710000           17.000000      269.850000\n",
       "50%    16461.940000           34.000000      403.240000\n",
       "75%    20042.930000           55.000000      516.820000\n",
       "max    38552.450000          143.000000     1354.220000"
      ]
     },
     "execution_count": 12,
     "metadata": {},
     "output_type": "execute_result"
    }
   ],
   "source": [
    "#Разделим пользователей по тарифам\n",
    "smart_users = final_merge.query('tariff == \"smart\"')\n",
    "ultra_users = final_merge.query('tariff == \"ultra\"')\n",
    "\n",
    "#Определим среднее, медиану и стандартное отклонение для пользователей тарифа \"смарт\"\n",
    "smart_users[['mb_used','number_of_messages','total_duration']].describe(include='all')"
   ]
  },
  {
   "cell_type": "markdown",
   "metadata": {},
   "source": [
    "В первую очередь стоит заметить, что особой разницы между средним и медианой у каждого параметра нет. Следовательно, выбросов нету.\n",
    "\n",
    "Пользователи тарифа \"smart\" в среднем тратят около 16 Гб. Стандартное отклонение равно 5.8 Гб, а значит большинство значений лежит в диапазоне 16 ${\\pm}$ 5.8 $\\times$ 3. По одному среднему уже можно судить о том, что данные пользователи часто перерасходуют свой тариф и соответствуенно доплачивают.\n",
    "\n",
    "По сообщениям ситуация выглядит получше, однако также нередкость встретить пользователей, которые и тут перерасходуют тариф по сообщениям. При добавлении лишь одного стандартного отклонения получается перерасход.\n",
    "\n",
    "Схожая с сообщениями и ситуация с продолжительностью звонков. В среднем пользователи не превышают тарифный план, однако одной сигмы достаточно, чтобы это исправить.\n",
    "\n",
    "Предварительный вывод: пользователи данного тарифа в среднем превышают свой план из-за дополнительного пользования интернета, а также немалое количество пользователей перерасходуют сообщения и звонки."
   ]
  },
  {
   "cell_type": "code",
   "execution_count": 13,
   "metadata": {},
   "outputs": [
    {
     "data": {
      "text/html": [
       "<div>\n",
       "<style scoped>\n",
       "    .dataframe tbody tr th:only-of-type {\n",
       "        vertical-align: middle;\n",
       "    }\n",
       "\n",
       "    .dataframe tbody tr th {\n",
       "        vertical-align: top;\n",
       "    }\n",
       "\n",
       "    .dataframe thead th {\n",
       "        text-align: right;\n",
       "    }\n",
       "</style>\n",
       "<table border=\"1\" class=\"dataframe\">\n",
       "  <thead>\n",
       "    <tr style=\"text-align: right;\">\n",
       "      <th></th>\n",
       "      <th>mb_used</th>\n",
       "      <th>number_of_messages</th>\n",
       "      <th>total_duration</th>\n",
       "    </tr>\n",
       "  </thead>\n",
       "  <tbody>\n",
       "    <tr>\n",
       "      <th>count</th>\n",
       "      <td>749.000000</td>\n",
       "      <td>749.000000</td>\n",
       "      <td>749.000000</td>\n",
       "    </tr>\n",
       "    <tr>\n",
       "      <th>mean</th>\n",
       "      <td>19583.717744</td>\n",
       "      <td>61.279039</td>\n",
       "      <td>527.762296</td>\n",
       "    </tr>\n",
       "    <tr>\n",
       "      <th>std</th>\n",
       "      <td>9645.720595</td>\n",
       "      <td>44.538133</td>\n",
       "      <td>293.149068</td>\n",
       "    </tr>\n",
       "    <tr>\n",
       "      <th>min</th>\n",
       "      <td>0.000000</td>\n",
       "      <td>1.000000</td>\n",
       "      <td>0.100000</td>\n",
       "    </tr>\n",
       "    <tr>\n",
       "      <th>25%</th>\n",
       "      <td>11873.280000</td>\n",
       "      <td>25.000000</td>\n",
       "      <td>314.910000</td>\n",
       "    </tr>\n",
       "    <tr>\n",
       "      <th>50%</th>\n",
       "      <td>19437.560000</td>\n",
       "      <td>52.000000</td>\n",
       "      <td>507.740000</td>\n",
       "    </tr>\n",
       "    <tr>\n",
       "      <th>75%</th>\n",
       "      <td>26838.450000</td>\n",
       "      <td>88.000000</td>\n",
       "      <td>720.410000</td>\n",
       "    </tr>\n",
       "    <tr>\n",
       "      <th>max</th>\n",
       "      <td>49745.690000</td>\n",
       "      <td>224.000000</td>\n",
       "      <td>1578.060000</td>\n",
       "    </tr>\n",
       "  </tbody>\n",
       "</table>\n",
       "</div>"
      ],
      "text/plain": [
       "            mb_used  number_of_messages  total_duration\n",
       "count    749.000000          749.000000      749.000000\n",
       "mean   19583.717744           61.279039      527.762296\n",
       "std     9645.720595           44.538133      293.149068\n",
       "min        0.000000            1.000000        0.100000\n",
       "25%    11873.280000           25.000000      314.910000\n",
       "50%    19437.560000           52.000000      507.740000\n",
       "75%    26838.450000           88.000000      720.410000\n",
       "max    49745.690000          224.000000     1578.060000"
      ]
     },
     "execution_count": 13,
     "metadata": {},
     "output_type": "execute_result"
    }
   ],
   "source": [
    "#Определим среднее, медиану и стандартное отклонение для пользователей тарифа \"ультра\"\n",
    "ultra_users[['mb_used','number_of_messages','total_duration']].describe(include='all')"
   ]
  },
  {
   "cell_type": "markdown",
   "metadata": {},
   "source": [
    "Здесь также выбросов не обнаружено.\n",
    "\n",
    "Пользователи тарифа \"ultra\" в среднем не превышают данного им интернет трафика и даже одно стандартное отклонение вправо не испортит данной картины. Хотя очевидно, что пользователей, которые и тут выходят за рамки, немало (кто знает, может им стоит полазить в настройках и поотключать различные программы работающие в фоновом режиме, поедающие трафик).\n",
    "\n",
    "С сообщениями тут у компании явно перебор, самый заядлый отправитель сообщений не израсходует даже четверти всего своего потенциала.\n",
    "\n",
    "Примерно тоже самое можно сказать и про продолжительность звонков. Все в пределах допущенного.\n",
    "\n",
    "Предварительный вывод: пользователей, которые превышают свой план тут значительно меньше и если и есть такие, то в основном они идут от интернета. В среднем тут явное недоипользование данных им услуг и соответственно переплата."
   ]
  },
  {
   "cell_type": "code",
   "execution_count": 14,
   "metadata": {},
   "outputs": [
    {
     "name": "stdout",
     "output_type": "stream",
     "text": [
      "Дисперсия для пользователей тарифа \"smart\":\n"
     ]
    },
    {
     "data": {
      "text/latex": [
       "$\\displaystyle \\sigma_{traffic}^2 = 3.3559e+07 \\text{ mb}^2$"
      ],
      "text/plain": [
       "<IPython.core.display.Math object>"
      ]
     },
     "metadata": {},
     "output_type": "display_data"
    },
    {
     "data": {
      "text/latex": [
       "$\\displaystyle \\sigma_{messages}^2 = 719.45$"
      ],
      "text/plain": [
       "<IPython.core.display.Math object>"
      ]
     },
     "metadata": {},
     "output_type": "display_data"
    },
    {
     "data": {
      "text/latex": [
       "$\\displaystyle \\sigma_{calls}^2 = 31390.1 \\text{ min}^2$"
      ],
      "text/plain": [
       "<IPython.core.display.Math object>"
      ]
     },
     "metadata": {},
     "output_type": "display_data"
    },
    {
     "name": "stdout",
     "output_type": "stream",
     "text": [
      "Дисперсия для пользователей тарифа \"ultra\":\n"
     ]
    },
    {
     "data": {
      "text/latex": [
       "$\\displaystyle \\sigma_{traffic}^2 = 9.30399e+07 \\text{ mb}^2$"
      ],
      "text/plain": [
       "<IPython.core.display.Math object>"
      ]
     },
     "metadata": {},
     "output_type": "display_data"
    },
    {
     "data": {
      "text/latex": [
       "$\\displaystyle \\sigma_{messages}^2 = 1983.65$"
      ],
      "text/plain": [
       "<IPython.core.display.Math object>"
      ]
     },
     "metadata": {},
     "output_type": "display_data"
    },
    {
     "data": {
      "text/latex": [
       "$\\displaystyle \\sigma_{calls}^2 = 85936.4 \\text{ min}^2$"
      ],
      "text/plain": [
       "<IPython.core.display.Math object>"
      ]
     },
     "metadata": {},
     "output_type": "display_data"
    }
   ],
   "source": [
    "#Расчитаем дисперсию, поскольку так требует задание. Учтем, что работаем с выборкой.\n",
    "smart_int_var  = np.var(smart_users['mb_used'],ddof=1)\n",
    "smart_mes_var  = np.var(smart_users['number_of_messages'],ddof=1)\n",
    "smart_call_var = np.var(smart_users['total_duration'],ddof=1)\n",
    "\n",
    "print('Дисперсия для пользователей тарифа \"smart\":')\n",
    "display(Math('\\\\sigma_{traffic}^2 = %g \\\\text{ mb}^2' %smart_int_var))\n",
    "display(Math('\\\\sigma_{messages}^2 = %g' %smart_mes_var))\n",
    "display(Math('\\\\sigma_{calls}^2 = %g \\\\text{ min}^2' %smart_call_var))\n",
    "\n",
    "ultra_int_var  = np.var(ultra_users['mb_used'],ddof=1)\n",
    "ultra_mes_var  = np.var(ultra_users['number_of_messages'],ddof=1)\n",
    "ultra_call_var = np.var(ultra_users['total_duration'],ddof=1)\n",
    "\n",
    "print('Дисперсия для пользователей тарифа \"ultra\":')\n",
    "display(Math('\\\\sigma_{traffic}^2 = %g \\\\text{ mb}^2' %ultra_int_var))\n",
    "display(Math('\\\\sigma_{messages}^2 = %g' %ultra_mes_var))\n",
    "display(Math('\\\\sigma_{calls}^2 = %g \\\\text{ min}^2' %ultra_call_var))"
   ]
  },
  {
   "cell_type": "code",
   "execution_count": 15,
   "metadata": {},
   "outputs": [
    {
     "data": {
      "image/png": "[encoded data removed]",
      "text/plain": [
       "<Figure size 1008x288 with 2 Axes>"
      ]
     },
     "metadata": {
      "needs_background": "light"
     },
     "output_type": "display_data"
    }
   ],
   "source": [
    "#Графики по интернету\n",
    "fig,ax = plt.subplots(1,2)\n",
    "\n",
    "ax[0].hist(smart_users['mb_used'],density=True,bins=50)\n",
    "ax[1].hist(ultra_users['mb_used'],density=True,bins=50)\n",
    "\n",
    "ax[0].set_title('Пользователи тарифа \"smart\"')\n",
    "ax[1].set_title('Пользователи тарифа \"ultra\"')\n",
    "ax[0].set_xlabel('Использовано Мб')\n",
    "ax[1].set_xlabel('Использовано Мб')\n",
    "ax[0].set_ylabel('Плотность')\n",
    "ax[1].set_ylabel('Плотность')\n",
    "fig.set_size_inches(14,4)\n",
    "\n",
    "plt.show()"
   ]
  },
  {
   "cell_type": "markdown",
   "metadata": {},
   "source": [
    "Оба графика явна напоминают нормальное распределение. Отличие их в том, что для пользователей тарифа \"smart\" большая часть значений сосредоточена по центру и достаточно быстро плотность падает по бокам, в то время как у пользователей тарифа \"ultra\" видна несимметричность в левую сторону. Конечно, для них тоже характерно, что большая часть сосредоточена в центре, однако есть выразительные пики с обеих сторон, а особенно слева. Это говорит о том, что все таки немалое количество пользователей сильно недоиспользуют данный им трафик."
   ]
  },
  {
   "cell_type": "code",
   "execution_count": 16,
   "metadata": {},
   "outputs": [
    {
     "data": {
      "image/png": "[encoded data removed]",
      "text/plain": [
       "<Figure size 1008x288 with 2 Axes>"
      ]
     },
     "metadata": {
      "needs_background": "light"
     },
     "output_type": "display_data"
    }
   ],
   "source": [
    "#Графики по сообщениям\n",
    "fig,ax = plt.subplots(1,2)\n",
    "\n",
    "ax[0].hist(smart_users['number_of_messages'],density=True,bins=50)\n",
    "ax[1].hist(ultra_users['number_of_messages'],density=True,bins=50)\n",
    "\n",
    "ax[0].set_title('Пользователи тарифа \"smart\"')\n",
    "ax[1].set_title('Пользователи тарифа \"ultra\"')\n",
    "ax[0].set_xlabel('Количество сообщений')\n",
    "ax[1].set_xlabel('Количество сообщений')\n",
    "ax[0].set_ylabel('Плотность')\n",
    "ax[1].set_ylabel('Плотность')\n",
    "fig.set_size_inches(14,4)\n",
    "\n",
    "plt.show()"
   ]
  },
  {
   "cell_type": "markdown",
   "metadata": {},
   "source": [
    "Данные графики больше напоминают распределение Пуассона, особенно для пользователей тарифа \"smart\". Большая часть значений сосредоточена на небольших числах и здесь также заметно, что лишь в  пользователях тарифа \"smart\" присутствуют те, которые перерасходуют сообщения. А пользователи тарифа \"ultra\" наоборот, практически не используют данные им возможности. Вероятно, они используют мессенджеры и отправляют сообщения за счет интернета."
   ]
  },
  {
   "cell_type": "code",
   "execution_count": 17,
   "metadata": {},
   "outputs": [
    {
     "data": {
      "image/png": "[encoded data removed]",
      "text/plain": [
       "<Figure size 1008x288 with 2 Axes>"
      ]
     },
     "metadata": {
      "needs_background": "light"
     },
     "output_type": "display_data"
    }
   ],
   "source": [
    "#Графики по звонкам\n",
    "fig,ax = plt.subplots(1,2)\n",
    "\n",
    "ax[0].hist(smart_users['total_duration'],density=True,bins=50)\n",
    "ax[1].hist(ultra_users['total_duration'],density=True,bins=50)\n",
    "\n",
    "ax[0].set_title('Пользователи тарифа \"smart\"')\n",
    "ax[1].set_title('Пользователи тарифа \"ultra\"')\n",
    "ax[0].set_xlabel('Минуты')\n",
    "ax[1].set_xlabel('Минуты')\n",
    "ax[0].set_ylabel('Плотность')\n",
    "ax[1].set_ylabel('Плотность')\n",
    "fig.set_size_inches(14,4)\n",
    "\n",
    "plt.show()"
   ]
  },
  {
   "cell_type": "markdown",
   "metadata": {},
   "source": [
    "Данные распределения также напоминают нормальное, однако с некоторой скошенностью влево. В обоих случаях виднеется всплеск в районе 0. Вероятно, это связано с тем, что многие пользователи обоих тарифов используют мессенджеры для звонков и соответственно они происходят за счет интернета. Тогда отсюда напрашивается вывод, что пользователи тарифа \"smart\" в какой-то момент расходуют весь данный им трафик и начинают использовать данные им сообщения и минуты, которые они также нередко превышают. В то время, как пользователям тарифа \"ultra\" практически всегда хватает интернета и потому такая разница между данными им звонками и сообщениями и тем, что они тратят. Похоже все крутится вокруг интернета. "
   ]
  },
  {
   "cell_type": "markdown",
   "metadata": {},
   "source": [
    "Заметка.\n",
    "\n",
    "При слиянии трех таблиц мы потеряли данные о некоторых пользователях. Изначально в таблице по звонкам и интернету хранилось данных о большем числе пользователей (примерно на 70). Видимо о некоторых пользователях есть данные по интернету и звонкам, но нет по сообщениям. Тем не менее, после построения распределений исключительно по таблице интернета было выяснено, что распределения для двух тарифов не изменилось. Следовательно их потеря не повлияла на результат анализа.\n",
    "\n",
    "Распределения по всем пользователям в звонках и интернету приведены ниже."
   ]
  },
  {
   "cell_type": "code",
   "execution_count": 18,
   "metadata": {},
   "outputs": [
    {
     "data": {
      "image/png": "[encoded data removed]",
      "text/plain": [
       "<Figure size 1008x288 with 2 Axes>"
      ]
     },
     "metadata": {
      "needs_background": "light"
     },
     "output_type": "display_data"
    },
    {
     "data": {
      "image/png": "[encoded data removed]",
      "text/plain": [
       "<Figure size 1008x288 with 2 Axes>"
      ]
     },
     "metadata": {
      "needs_background": "light"
     },
     "output_type": "display_data"
    }
   ],
   "source": [
    "#Создадим отдельные объединения таблиц и выделим из них пользователей по тарифам\n",
    "calls_test = pd.merge(calls_per_mon,users,right_index=True,left_index=True)\n",
    "calls_test_smart = calls_test.query('tariff == \"smart\"')\n",
    "calls_test_ultra = calls_test.query('tariff == \"ultra\"')\n",
    "\n",
    "traff_test = pd.merge(traff_per_month,users,right_index=True,left_index=True)\n",
    "traff_test_smart = traff_test.query('tariff == \"smart\"')\n",
    "traff_test_ultra = traff_test.query('tariff == \"ultra\"')\n",
    "\n",
    "fig,ax = plt.subplots(1,2)\n",
    "\n",
    "ax[0].hist(calls_test_smart['total_duration'],density=True,bins=50)\n",
    "ax[1].hist(calls_test_ultra['total_duration'],density=True,bins=50)\n",
    "\n",
    "ax[0].set_title('\"smart\" все пользователи')\n",
    "ax[1].set_title('\"ultra\" все пользователи')\n",
    "ax[0].set_xlabel('Минуты')\n",
    "ax[1].set_xlabel('Минуты')\n",
    "ax[0].set_ylabel('Плотность')\n",
    "ax[1].set_ylabel('Плотность')\n",
    "fig.set_size_inches(14,4)\n",
    "\n",
    "plt.show()\n",
    "\n",
    "fig,ax = plt.subplots(1,2)\n",
    "\n",
    "ax[0].hist(traff_test_smart['mb_used'],density=True,bins=50)\n",
    "ax[1].hist(traff_test_ultra['mb_used'],density=True,bins=50)\n",
    "\n",
    "ax[0].set_title('\"smart\" все пользователи')\n",
    "ax[1].set_title('\"ultra\" все пользователи')\n",
    "ax[0].set_xlabel('Использовано Мб')\n",
    "ax[1].set_xlabel('Использовано Мб')\n",
    "ax[0].set_ylabel('Плотность')\n",
    "ax[1].set_ylabel('Плотность')\n",
    "fig.set_size_inches(14,4)\n",
    "\n",
    "plt.show()"
   ]
  },
  {
   "cell_type": "markdown",
   "metadata": {},
   "source": [
    "Как видно, распределения мало отличаются от тех, где мы объединяли все 3 таблицы. Следовательно потеря 70 пользователей не привела к ошибочным выводам."
   ]
  },
  {
   "cell_type": "markdown",
   "metadata": {},
   "source": [
    "## Шаг 4. Проверьте гипотезы"
   ]
  },
  {
   "cell_type": "markdown",
   "metadata": {},
   "source": [
    "Средняя выручка пользователей тарифов «Ультра» и «Смарт» различается.\n",
    "\n",
    "Нулевая гипотеза: средняя выручка равна.\n",
    "\n",
    "Альтернативная гипотеза: средняя выручка __не__ равна.\n",
    "\n",
    "Чтобы проверить гипотезу о равенстве среднего двух генеральных совокупностей по взятым из них выборкам, примените метод scipy.stats.ttest_ind (array1, array2, equal_var)"
   ]
  },
  {
   "cell_type": "code",
   "execution_count": 19,
   "metadata": {},
   "outputs": [
    {
     "name": "stdout",
     "output_type": "stream",
     "text": [
      "p-значение: 7.62608553715299e-151\n",
      "Отвергаем нулевую гипотезу\n"
     ]
    }
   ],
   "source": [
    "from scipy import stats as st\n",
    "\n",
    "smart_income = smart_users['payment']\n",
    "ultra_income = ultra_users['payment']\n",
    "\n",
    "#Задаем уровень значимости\n",
    "alpha = .05\n",
    "\n",
    "results = st.ttest_ind(smart_income,ultra_income)\n",
    "\n",
    "print('p-значение:', results.pvalue)\n",
    "\n",
    "if (results.pvalue < alpha):\n",
    "    print(\"Отвергаем нулевую гипотезу\")\n",
    "else:\n",
    "    print(\"Не получилось отвергнуть нулевую гипотезу\")\n",
    "    "
   ]
  },
  {
   "cell_type": "markdown",
   "metadata": {},
   "source": [
    "Полученное значение говорит о том, что хоть и средняя выручка по различным тарифам отличается, маловероятно получить такую разницу случайно. Следовательно мы отвергаем нулевую гипотезу и предполагаем, что средние выручки отличаются.\n",
    "\n",
    "Теперь проверим следующую гипотезу: средняя выручка пользователей из Москвы отличается от выручки пользователей из других регионов.\n",
    "\n",
    "Нулевая гипотеза: средняя выручка равна.\n",
    "\n",
    "Альтернативная гипотеза: средняя выручка __не__ равна."
   ]
  },
  {
   "cell_type": "code",
   "execution_count": 20,
   "metadata": {},
   "outputs": [
    {
     "name": "stdout",
     "output_type": "stream",
     "text": [
      "p-значение: 0.0600145845376986\n",
      "Не получилось отвергнуть нулевую гипотезу\n"
     ]
    }
   ],
   "source": [
    "#Извлекли данные\n",
    "moscow_users = final_merge.query('city == \"Москва\"')['payment']\n",
    "other_users = final_merge.query('city != \"Москва\"')['payment']\n",
    "\n",
    "#Задаем уровень значимости\n",
    "alpha = .05\n",
    "\n",
    "results = st.ttest_ind(moscow_users,other_users)\n",
    "\n",
    "print('p-значение:', results.pvalue)\n",
    "\n",
    "if (results.pvalue < alpha):\n",
    "    print(\"Отвергаем нулевую гипотезу\")\n",
    "else:\n",
    "    print(\"Не получилось отвергнуть нулевую гипотезу\")"
   ]
  },
  {
   "cell_type": "markdown",
   "metadata": {},
   "source": [
    "Полученное значение говорит о том, что с вероятностью 6% разница в доходе получается слчучайно. Потому мы не отвергаем нулевую гипотезу и предполагаем, что чеки равны. Видимо пользователи других регионов берут количеством."
   ]
  },
  {
   "cell_type": "markdown",
   "metadata": {},
   "source": [
    "## Шаг 5. Напишите общий вывод"
   ]
  },
  {
   "cell_type": "markdown",
   "metadata": {},
   "source": [
    "В результате анализа было выявлено, что пользователи тарифа \"smart\" более склонны к чрезмерному использованию данного им ресурса и потому более склонны к переплате. Эта переплата в первую очередь сконцентрирована на интернет трафике. Было получено, что пользователи в среднем превышают данный им тариф. Хотя есть и пользователи, что умудряются и превышать свой план и по сообщениям и по звонкам. Вероятно, это связано с тем, что интернет в какой-то момент заканчивается и пользователи не могут больше пользоваться мессенджерами и вынуждены тратить выделенные им минуты.\n",
    "\n",
    "Пользователи тарифа \"ultra\" уже менее склонны к перерасхоу их плана. В среднем им хватает выделенного интернет трафика, чтобы даже не задействовать доступные им звонки и сообщения. По последним нет никого, кто бы перешел грань в использовании сообщений или звонков и эта граница еще очень далеко.\n",
    "\n",
    "Также было выявлено, что средний чек пользователей разных тарифов отличаются. По выборке счет больше у пользователей тарифа \"ultra\". Несмотря на то, что они менее склонны к превышению своего плана, сама базовая цена очень велика. Учитывая то, что в конечном итоге все крутится вокруг интернета, то данные пользователи явно переплачивают.\n",
    "\n",
    "И, наконец, выяснили, что средний чек между пользователями разных регионов не отличается. Количество пользователей из Москвы значительно меньше, чем из других регионов, но видимо именно москвичи склонны к тарифу \"ultra\" и большей переплате, а пользователи из регионов более экономны."
   ]
  }
 ],
 "metadata": {
  "kernelspec": {
   "display_name": "Python 3",
   "language": "python",
   "name": "python3"
  },
  "language_info": {
   "codemirror_mode": {
    "name": "ipython",
    "version": 3
   },
   "file_extension": ".py",
   "mimetype": "text/x-python",
   "name": "python",
   "nbconvert_exporter": "python",
   "pygments_lexer": "ipython3",
   "version": "3.8.5"
  }
 },
 "nbformat": 4,
 "nbformat_minor": 4
}
