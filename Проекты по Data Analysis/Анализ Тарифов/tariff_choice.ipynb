{
 "cells": [
  {
   "cell_type": "markdown",
   "metadata": {},
   "source": [
    "# Мегалайн"
   ]
  },
  {
   "cell_type": "markdown",
   "metadata": {},
   "source": [
    "Оператор мобильной связи «Мегалайн» выяснил: многие клиенты пользуются архивными тарифами. Они хотят построить систему, способную проанализировать поведение клиентов и предложить пользователям новый тариф: «Смарт» или «Ультра».\n",
    "\n",
    "В вашем распоряжении данные о поведении клиентов, которые уже перешли на эти тарифы (из проекта курса «Статистический анализ данных»). Нужно построить модель для задачи классификации, которая выберет подходящий тариф. Предобработка данных не понадобится — вы её уже сделали.\n",
    "\n",
    "Постройте модель с максимально большим значением accuracy. Чтобы сдать проект успешно, нужно довести долю правильных ответов по крайней мере до 0.75. Проверьте accuracy на тестовой выборке самостоятельно."
   ]
  },
  {
   "cell_type": "markdown",
   "metadata": {},
   "source": [
    "1. Откройте файл с данными и изучите его."
   ]
  },
  {
   "cell_type": "code",
   "execution_count": 1,
   "metadata": {},
   "outputs": [
    {
     "data": {
      "text/html": [
       "<div>\n",
       "<style scoped>\n",
       "    .dataframe tbody tr th:only-of-type {\n",
       "        vertical-align: middle;\n",
       "    }\n",
       "\n",
       "    .dataframe tbody tr th {\n",
       "        vertical-align: top;\n",
       "    }\n",
       "\n",
       "    .dataframe thead th {\n",
       "        text-align: right;\n",
       "    }\n",
       "</style>\n",
       "<table border=\"1\" class=\"dataframe\">\n",
       "  <thead>\n",
       "    <tr style=\"text-align: right;\">\n",
       "      <th></th>\n",
       "      <th>calls</th>\n",
       "      <th>minutes</th>\n",
       "      <th>messages</th>\n",
       "      <th>mb_used</th>\n",
       "      <th>is_ultra</th>\n",
       "    </tr>\n",
       "  </thead>\n",
       "  <tbody>\n",
       "    <tr>\n",
       "      <th>0</th>\n",
       "      <td>40.0</td>\n",
       "      <td>311.90</td>\n",
       "      <td>83.0</td>\n",
       "      <td>19915.42</td>\n",
       "      <td>0</td>\n",
       "    </tr>\n",
       "    <tr>\n",
       "      <th>1</th>\n",
       "      <td>85.0</td>\n",
       "      <td>516.75</td>\n",
       "      <td>56.0</td>\n",
       "      <td>22696.96</td>\n",
       "      <td>0</td>\n",
       "    </tr>\n",
       "    <tr>\n",
       "      <th>2</th>\n",
       "      <td>77.0</td>\n",
       "      <td>467.66</td>\n",
       "      <td>86.0</td>\n",
       "      <td>21060.45</td>\n",
       "      <td>0</td>\n",
       "    </tr>\n",
       "    <tr>\n",
       "      <th>3</th>\n",
       "      <td>106.0</td>\n",
       "      <td>745.53</td>\n",
       "      <td>81.0</td>\n",
       "      <td>8437.39</td>\n",
       "      <td>1</td>\n",
       "    </tr>\n",
       "    <tr>\n",
       "      <th>4</th>\n",
       "      <td>66.0</td>\n",
       "      <td>418.74</td>\n",
       "      <td>1.0</td>\n",
       "      <td>14502.75</td>\n",
       "      <td>0</td>\n",
       "    </tr>\n",
       "  </tbody>\n",
       "</table>\n",
       "</div>"
      ],
      "text/plain": [
       "   calls  minutes  messages   mb_used  is_ultra\n",
       "0   40.0   311.90      83.0  19915.42         0\n",
       "1   85.0   516.75      56.0  22696.96         0\n",
       "2   77.0   467.66      86.0  21060.45         0\n",
       "3  106.0   745.53      81.0   8437.39         1\n",
       "4   66.0   418.74       1.0  14502.75         0"
      ]
     },
     "execution_count": 1,
     "metadata": {},
     "output_type": "execute_result"
    }
   ],
   "source": [
    "import pandas as pd\n",
    "from sklearn.model_selection import train_test_split\n",
    "from sklearn.metrics import accuracy_score\n",
    "from sklearn.tree import DecisionTreeClassifier\n",
    "from sklearn.ensemble import RandomForestClassifier\n",
    "from sklearn.linear_model import LogisticRegression\n",
    "import random\n",
    "\n",
    "df = pd.read_csv('users_behavior.csv')\n",
    "\n",
    "df.head()"
   ]
  },
  {
   "cell_type": "markdown",
   "metadata": {},
   "source": [
    "Каждый объект в наборе данных — это информация о поведении одного пользователя за месяц. Известно:\n",
    "- сalls — количество звонков,\n",
    "- minutes — суммарная длительность звонков в минутах,\n",
    "- messages — количество sms-сообщений,\n",
    "- mb_used — израсходованный интернет-трафик в Мб,\n",
    "- is_ultra — каким тарифом пользовался в течение месяца («Ультра» — 1, «Смарт» — 0).\n"
   ]
  },
  {
   "cell_type": "markdown",
   "metadata": {},
   "source": [
    "2. Разделите исходные данные на обучающую, валидационную и тестовую выборки.\n",
    "\n",
    "Спрятанной тестовой выборки нет. Значит, данные нужно разбить на три части: обучающую, валидационную и тестовую. Размеры тестового и валидационного наборов обычно равны. Исходные данные разбивают в соотношении 3:1:1."
   ]
  },
  {
   "cell_type": "code",
   "execution_count": 2,
   "metadata": {},
   "outputs": [],
   "source": [
    "#Сначала разбили данные на 2 выборки, первая в которой - обучающая\n",
    "df_train, df_valid_test = train_test_split(df,test_size=.4, random_state=12345)\n",
    "#Теперь разбиваем вторую выборку на валидационную и тестовую пополам\n",
    "df_valid, df_test       = train_test_split(df_valid_test, test_size=.5, random_state=12345)"
   ]
  },
  {
   "cell_type": "markdown",
   "metadata": {},
   "source": [
    "3. Исследуйте качество разных моделей, меняя гиперпараметры. Кратко напишите выводы исследования.\n",
    "\n",
    "Займемся решающим деревом."
   ]
  },
  {
   "cell_type": "code",
   "execution_count": 3,
   "metadata": {},
   "outputs": [
    {
     "name": "stdout",
     "output_type": "stream",
     "text": [
      "Глубина дерева = 2. Accuracy_train = 0.7879. Accuracy_valid = 0.7823\n",
      "\n",
      "Глубина дерева = 4. Accuracy_train = 0.8107. Accuracy_valid = 0.7792\n",
      "\n",
      "Глубина дерева = 6. Accuracy_train = 0.8377. Accuracy_valid = 0.7838\n",
      "\n",
      "Глубина дерева = 8. Accuracy_train = 0.8626. Accuracy_valid = 0.7792\n",
      "\n",
      "Глубина дерева = 10. Accuracy_train = 0.889. Accuracy_valid = 0.7745\n",
      "\n",
      "Глубина дерева = 12. Accuracy_train = 0.9253. Accuracy_valid = 0.7621\n",
      "\n",
      "Глубина дерева = 14. Accuracy_train = 0.9554. Accuracy_valid = 0.7589\n",
      "\n",
      "Глубина дерева = 16. Accuracy_train = 0.9787. Accuracy_valid = 0.7341\n",
      "\n",
      "Глубина дерева = 18. Accuracy_train = 0.9886. Accuracy_valid = 0.7309\n",
      "\n",
      "Глубина дерева = 20. Accuracy_train = 0.9933. Accuracy_valid = 0.7216\n",
      "\n"
     ]
    }
   ],
   "source": [
    "#Разделяем признаки для обучающей выборки\n",
    "features_train = df_train.drop(['is_ultra'],axis=1)\n",
    "target_train   = df_train['is_ultra']\n",
    "#Разделяем признаки для валидационной выборки\n",
    "features_valid = df_valid.drop(['is_ultra'],axis=1)\n",
    "target_valid   = df_valid['is_ultra']\n",
    "\n",
    "#Будем варьировать гиперпараметр - глубину дерева\n",
    "for m_d in range(2,21,2):\n",
    "    decision_tree_model = DecisionTreeClassifier(random_state=12345, max_depth=m_d)\n",
    "    decision_tree_model.fit(features_train,target_train)\n",
    "    predictions         = decision_tree_model.predict(features_valid)\n",
    "    accuracy            = round(accuracy_score(target_valid,predictions),4)\n",
    "    predictions_        = decision_tree_model.predict(features_train)\n",
    "    accuracy_           = round(accuracy_score(target_train,predictions_),4)\n",
    "    print('Глубина дерева = ' + str(m_d) + '. Accuracy_train = ' + str(accuracy_) + '. Accuracy_valid = ' + str(accuracy))\n",
    "    print()"
   ]
  },
  {
   "cell_type": "markdown",
   "metadata": {},
   "source": [
    "В случае с моделью решающего дерева, мы изменяли гиперпараметр (глубину дерева), чтобы добиться максимального качества, которое определяем через accuracy (отношение количества правильных ответов к количеству ответов). С увеличением данного гиперпараметра качество модели на обучающей выборке, как ни странно, растет. Однако, нельзя переусердствовать с этим значением, посколько наша модель может стать переобученной (она зазубрила все ответы и зависимости между переменными не поняла). Но и слишом низким данный гиперпараметр быть не должен, инче модель будет недообученной.\n",
    "\n",
    "В цикле выше мы проверяли нашу модель по валидационной и тестовой выборке для значений глубины дерева от 2 до 20 с шагом в 2. Начиная со значения 10 accuracy начинает уверенно падать, поэтому остановимся на данном значении.\n",
    "\n",
    "Теперь займемся случайным лесом. Будем менять количество деревьев.\n",
    "\n",
    "Алгоритм обучает большое количество независимых друг от друга деревьев, а потом принимает решение на основе голосования. Случайный лес помогает улучшить результат предсказания и избежать переобучения."
   ]
  },
  {
   "cell_type": "code",
   "execution_count": 4,
   "metadata": {},
   "outputs": [
    {
     "name": "stdout",
     "output_type": "stream",
     "text": [
      "Количество деревьев = 10. Accuracy_train = 0.8698. Accuracy_valid = 0.7963\n",
      "\n",
      "Количество деревьев = 20. Accuracy_train = 0.8714. Accuracy_valid = 0.7978\n",
      "\n",
      "Количество деревьев = 30. Accuracy_train = 0.8729. Accuracy_valid = 0.7994\n",
      "\n",
      "Количество деревьев = 40. Accuracy_train = 0.875. Accuracy_valid = 0.8087\n",
      "\n",
      "Количество деревьев = 50. Accuracy_train = 0.8755. Accuracy_valid = 0.8072\n",
      "\n"
     ]
    }
   ],
   "source": [
    "for n_e in range(10,51,10):\n",
    "    random_tree_model = RandomForestClassifier(random_state=12345,n_estimators=n_e,max_depth=8)\n",
    "    random_tree_model.fit(features_train,target_train)\n",
    "    predictions       = random_tree_model.predict(features_valid)\n",
    "    accuracy          = round(accuracy_score(target_valid,predictions),4)\n",
    "    predictions_      = random_tree_model.predict(features_train)\n",
    "    accuracy_         = round(accuracy_score(target_train,predictions_),4)\n",
    "    print('Количество деревьев = ' + str(n_e) + '. Accuracy_train = ' + str(accuracy_) + '. Accuracy_valid = ' + str(accuracy))\n",
    "    print()"
   ]
  },
  {
   "cell_type": "markdown",
   "metadata": {},
   "source": [
    "При варьировании гиперпараметра модели случайного леса (n_estimators) мы шли с шагом 10 от 10 до 50. Выберем модель со значением 40, так как при нем accuracy получается наибольшей для валидационной выборки и дальше особо не меняется. Здесь же мы меняли глубину вручную и получили наилучшие результаты для 8.\n",
    "\n",
    "В заключение попробуем модель логистической регрессии. \n",
    "\n",
    "В логистической регрессии параметров мало. Что-либо вызубрить по признакам в формуле не выйдет, поэтому и вероятность переобучения невелика."
   ]
  },
  {
   "cell_type": "code",
   "execution_count": 5,
   "metadata": {},
   "outputs": [
    {
     "name": "stdout",
     "output_type": "stream",
     "text": [
      "0.7107\n"
     ]
    }
   ],
   "source": [
    "logistic_regression_model = LogisticRegression(random_state=12345,solver='lbfgs')\n",
    "logistic_regression_model.fit(features_train,target_train)\n",
    "\n",
    "predictions = logistic_regression_model.predict(features_valid)\n",
    "accuracy    = round(accuracy_score(target_valid,predictions),4)\n",
    "print(accuracy)"
   ]
  },
  {
   "cell_type": "markdown",
   "metadata": {},
   "source": [
    "У модели логистической регрессии нет гиперпараметров, поэтому и менять тут нечего. Получили значение accuracy 0.75 и теперь возьмем лучшие варианты моделей решающего дерева и случайного леса и проверим по ним тестовую выборку, предварительно объединив обучающую выборку с валидационной.\n",
    "\n",
    "4. Проверьте качество модели на тестовой выборке."
   ]
  },
  {
   "cell_type": "code",
   "execution_count": 6,
   "metadata": {},
   "outputs": [
    {
     "name": "stdout",
     "output_type": "stream",
     "text": [
      "Accuracy для решающего дерева        = 0.7932\n",
      "Accuracy для случайного леса         = 0.7994\n",
      "Accuracy для логистической регрессии = 0.6843\n"
     ]
    }
   ],
   "source": [
    "#Разделяем признаки для тестовой выборки\n",
    "features_test = df_test.drop(['is_ultra'],axis=1)\n",
    "target_test   = df_test['is_ultra']\n",
    "\n",
    "#Объединим обучающую и валидационную выборки, чтобы воспользоваться суммой при обучении\n",
    "df_new_train       = pd.concat([df_train,df_valid])\n",
    "features_new_train = df_new_train.drop(['is_ultra'],axis=1)\n",
    "target_new_train   = df_new_train['is_ultra']\n",
    "\n",
    "#Лучшее решающее дерево\n",
    "decision_tree_model       = DecisionTreeClassifier(random_state=12345, max_depth=10)\n",
    "decision_tree_model.fit(features_new_train,target_new_train)\n",
    "decision_tree_predictions = decision_tree_model.predict(features_test)\n",
    "decision_tree_accuracy    = round(accuracy_score(target_test,decision_tree_predictions),4)\n",
    "\n",
    "#Лучший случайный лес\n",
    "random_tree_model       = RandomForestClassifier(random_state=12345,n_estimators=40,max_depth=8)\n",
    "random_tree_model.fit(features_new_train,target_new_train)\n",
    "random_tree_predictions = random_tree_model.predict(features_test)\n",
    "radom_tree_accuracy     = round(accuracy_score(target_test,random_tree_predictions),4)\n",
    "\n",
    "#Логистическая регрессия\n",
    "logistic_regression_model       = LogisticRegression(random_state=12345,solver='lbfgs')\n",
    "logistic_regression_model.fit(features_new_train,target_new_train)\n",
    "logistic_regression_predictions = logistic_regression_model.predict(features_test)\n",
    "logistic_regression_accuracy    = round(accuracy_score(target_test,logistic_regression_predictions),4)\n",
    "\n",
    "print('Accuracy для решающего дерева        = ' + str(decision_tree_accuracy))\n",
    "print('Accuracy для случайного леса         = ' + str(radom_tree_accuracy))\n",
    "print('Accuracy для логистической регрессии = ' + str(logistic_regression_accuracy))"
   ]
  },
  {
   "cell_type": "markdown",
   "metadata": {},
   "source": [
    "В результате определения наилучших гиперпараметров для решающего дерева и случайного леса, мы получили, что обе эти модели дают на тестовой выборке accuracy более 0.75. Случайный лес с крохотным отставанием становится на первое место по качеству.\n",
    "\n",
    "5. Дополнительное задание: проверьте модели на вменяемость.\n",
    "\n",
    "Дла задачи классификации проверку на вменяемость будем делать по случайной модели."
   ]
  },
  {
   "cell_type": "code",
   "execution_count": 7,
   "metadata": {},
   "outputs": [],
   "source": [
    "#Сгенерируем случайные предсказания и закинем их в наш датасет\n",
    "random_predictions = []\n",
    "for i in range(len(df.index)):\n",
    "    random_predictions.append(random.randint(0,1))\n",
    "random_predictions = pd.Series(random_predictions,index=df.index)  \n",
    "df['prediction'] = random_predictions"
   ]
  },
  {
   "cell_type": "code",
   "execution_count": 8,
   "metadata": {},
   "outputs": [],
   "source": [
    "def sanity_check(row):\n",
    "    if row['is_ultra'] == row['prediction']:\n",
    "        return 1\n",
    "    else:\n",
    "        return 0"
   ]
  },
  {
   "cell_type": "code",
   "execution_count": 9,
   "metadata": {},
   "outputs": [
    {
     "name": "stdout",
     "output_type": "stream",
     "text": [
      "Accuracy случайной модели = 0.5081\n"
     ]
    }
   ],
   "source": [
    "df['sanity'] = df.apply(sanity_check,axis=1)\n",
    "num_of_right_answers = df['sanity'].sum()\n",
    "accuracy = round(num_of_right_answers / df.shape[0],4)\n",
    "print('Accuracy случайной модели = ' + str(accuracy))"
   ]
  },
  {
   "cell_type": "markdown",
   "metadata": {},
   "source": [
    "Получили то, что и ожидали - случайная модель предсказывает целевой параметр правильно с вероятностью 50%. Все три модели сработали лучше случайной и это означает, что они вменяемы."
   ]
  }
 ],
 "metadata": {
  "kernelspec": {
   "display_name": "Python 3",
   "language": "python",
   "name": "python3"
  },
  "language_info": {
   "codemirror_mode": {
    "name": "ipython",
    "version": 3
   },
   "file_extension": ".py",
   "mimetype": "text/x-python",
   "name": "python",
   "nbconvert_exporter": "python",
   "pygments_lexer": "ipython3",
   "version": "3.8.5"
  }
 },
 "nbformat": 4,
 "nbformat_minor": 4
}
