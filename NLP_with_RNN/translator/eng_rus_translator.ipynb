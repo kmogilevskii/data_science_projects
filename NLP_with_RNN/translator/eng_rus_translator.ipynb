{
 "cells": [
  {
   "cell_type": "markdown",
   "metadata": {},
   "source": [
    "# Neural Translator from English to Russian\n",
    "\n",
    "In case of using RNN we always get one hidden state per input and that always translates to one output per input. If we keep all the outputs at each point in time, we would get output length equal to input length. Here we can clearly see the problem: most certantly the translation will contain different number of words, than the input sentence. \n",
    "\n",
    "Solution would be using dual RNN or **seq2seq** architecture. First RNN, that takes the input is called **Encoder**, and the second, that produces translation, is called **Decoder**. Encoder takes in some raw input, like text, audio or image, and create some vector representation out of it. Then, the Decoder produces new data from this compressed vector representation. Such type of architecture can be used for any kind of request/response type of task.\n",
    "\n",
    "Encoder returns just final hidden state, thus from entire input sequence we end up with static size M vector, where M is the number of RNN units in the RNN layer. This final hidden state is called a **thought vector**. So, Encoder's job is to fold up the input sequence into small, but informative vector and Decoder's job is to unfold this vector into a new sequence.\n",
    "\n",
    "For training Decoder we would need to user **teacher forcing**, where we pass true target sequence with offset. During predictions we would use the output of previous LSTM as the input to the next one, but for training we need to feed in the true word, even when predictions of previous LSTM is incorrect. This is, basically, how human learns a language: it's better to correct the wrong use of particular word, or all future words, most probably, would be incorrect.\n",
    "\n",
    "## 1. Loading data\n",
    "\n",
    "We would split our initial dataset with a lot of translated words and phrases into input sequence for Encoder, input sequence for Decoder and target sequence for Decoder."
   ]
  },
  {
   "cell_type": "code",
   "execution_count": 53,
   "metadata": {},
   "outputs": [
    {
     "name": "stdout",
     "output_type": "stream",
     "text": [
      "Number of input sentences: 10000\n"
     ]
    }
   ],
   "source": [
    "# constants\n",
    "BATCH_SIZE = 64\n",
    "LATENT_DIM = 256\n",
    "EPOCHS = 40\n",
    "MAX_NUM_WORDS = 20000\n",
    "NUM_SAMPLES = 10000\n",
    "EMBEDDING_DIM = 100\n",
    "\n",
    "input_texts = []\n",
    "target_texts = []\n",
    "target_texts_input = []\n",
    "\n",
    "t = 0\n",
    "for line in open('rus.txt', encoding='utf-8'):\n",
    "    # limiting dataset\n",
    "    t += 1\n",
    "    if t > NUM_SAMPLES:\n",
    "        break\n",
    "\n",
    "    input_text, translation, *rest = line.rstrip().split('\\t')\n",
    "    target_text = translation + ' <eos>'\n",
    "    target_text_input = '<sos> ' + translation\n",
    "    input_texts.append(input_text)\n",
    "    target_texts.append(target_text)\n",
    "    target_texts_input.append(target_text_input)\n",
    "print(f'Number of input sentences: {len(input_texts)}')"
   ]
  },
  {
   "cell_type": "code",
   "execution_count": 54,
   "metadata": {},
   "outputs": [
    {
     "name": "stdout",
     "output_type": "stream",
     "text": [
      "OK. Go ahead.\n",
      "<sos> Ладно, давай.\n",
      "Ладно, давай. <eos>\n"
     ]
    }
   ],
   "source": [
    "import numpy as np\n",
    "\n",
    "random_idx = np.random.choice(len(input_texts))\n",
    "print(input_texts[random_idx])\n",
    "print(target_texts_input[random_idx])\n",
    "print(target_texts[random_idx])"
   ]
  },
  {
   "cell_type": "markdown",
   "metadata": {},
   "source": [
    "Now, it's time to convert or sentences in sequences of numbers with the use of Keras' Tokenizer. We would need to create two separate tokenizer, as we're dealing with 2 different languages."
   ]
  },
  {
   "cell_type": "code",
   "execution_count": 55,
   "metadata": {},
   "outputs": [
    {
     "name": "stdout",
     "output_type": "stream",
     "text": [
      "Found 1731 unique words in english language.\n",
      "[81, 9, 417]\n"
     ]
    }
   ],
   "source": [
    "from keras.preprocessing.text import Tokenizer\n",
    "\n",
    "tokenizer = Tokenizer(num_words=MAX_NUM_WORDS)\n",
    "tokenizer.fit_on_texts(input_texts)\n",
    "input_sequences = tokenizer.texts_to_sequences(input_texts)\n",
    "\n",
    "word2idx_input = tokenizer.word_index\n",
    "print(f'Found {len(word2idx_input)} unique words in english language.')\n",
    "\n",
    "print(input_sequences[random_idx])\n",
    "\n",
    "max_len_input = max(len(s) for s in input_sequences)"
   ]
  },
  {
   "cell_type": "code",
   "execution_count": 56,
   "metadata": {},
   "outputs": [
    {
     "name": "stdout",
     "output_type": "stream",
     "text": [
      "Found 5923 unique words in Russian language.\n",
      "[217, 2365, 1]\n",
      "[2, 217, 2365]\n"
     ]
    }
   ],
   "source": [
    "tokenizer = Tokenizer(num_words=MAX_NUM_WORDS,filters='')\n",
    "tokenizer.fit_on_texts(target_texts+target_texts_input) # inefficient way to find <eos>\n",
    "target_sequences = tokenizer.texts_to_sequences(target_texts)\n",
    "target_sequences_input = tokenizer.texts_to_sequences(target_texts_input)\n",
    "\n",
    "word2idx_output = tokenizer.word_index\n",
    "print(f'Found {len(word2idx_output)} unique words in Russian language.')\n",
    "\n",
    "print(target_sequences[random_idx])\n",
    "print(target_sequences_input[random_idx])\n",
    "\n",
    "num_words_output = len(word2idx_output) + 1\n",
    "max_len_target = max(len(s) for s in target_sequences)"
   ]
  },
  {
   "cell_type": "markdown",
   "metadata": {},
   "source": [
    "We've find the max length of the sequence, because every input must have the same length. We're going to use this values to padd all sequences."
   ]
  },
  {
   "cell_type": "code",
   "execution_count": 57,
   "metadata": {},
   "outputs": [
    {
     "name": "stdout",
     "output_type": "stream",
     "text": [
      "encoder_inputs.shape: (10000, 5)\n",
      "[  0   0  81   9 417]\n",
      "decoder_inputs.shape: (10000, 11)\n",
      "[   2  217 2365    0    0    0    0    0    0    0    0]\n"
     ]
    }
   ],
   "source": [
    "from keras.preprocessing.sequence import pad_sequences\n",
    "\n",
    "encoder_inputs = pad_sequences(input_sequences, maxlen=max_len_input)\n",
    "print(f'encoder_inputs.shape: {encoder_inputs.shape}')\n",
    "print(encoder_inputs[random_idx])\n",
    "\n",
    "decoder_inputs = pad_sequences(target_sequences_input, maxlen=max_len_target, padding='post')\n",
    "print(f'decoder_inputs.shape: {decoder_inputs.shape}')\n",
    "print(decoder_inputs[random_idx])\n",
    "\n",
    "decoder_targets = pad_sequences(target_sequences, maxlen=max_len_target, padding='post')"
   ]
  },
  {
   "cell_type": "markdown",
   "metadata": {},
   "source": [
    "For the Encoder we're going to use pre-trained with GloVe word embeddings. Let's load them and store them in the embedding matrix. This will help us to set the embedding layer, making use of good hyperparameters found by others. We're not going to train this layer, because the number of uncommon words i small and their effect is small."
   ]
  },
  {
   "cell_type": "code",
   "execution_count": 58,
   "metadata": {},
   "outputs": [
    {
     "name": "stdout",
     "output_type": "stream",
     "text": [
      "Found 400000 word vectors\n",
      "embedding_matrix.shape (1732, 100)\n"
     ]
    }
   ],
   "source": [
    "word2vec = {}\n",
    "for line in open(f'glove.6B.{EMBEDDING_DIM}d.txt', encoding='utf-8'):\n",
    "    values = line.split()\n",
    "    word = values[0]\n",
    "    vec = np.asarray(values[1:],dtype='float32')\n",
    "    word2vec[word] = vec\n",
    "print(f'Found {len(word2vec)} word vectors')\n",
    "\n",
    "num_words = min(MAX_NUM_WORDS, len(word2idx_input) + 1)\n",
    "embedding_matrix = np.zeros((num_words,EMBEDDING_DIM))\n",
    "for word,i in word2idx_input.items():\n",
    "    if i < MAX_NUM_WORDS:\n",
    "        embedding_vector = word2vec.get(word)\n",
    "        if embedding_vector is not None:\n",
    "            embedding_matrix[i] = embedding_vector\n",
    "print(f'embedding_matrix.shape {embedding_matrix.shape}')"
   ]
  },
  {
   "cell_type": "code",
   "execution_count": 59,
   "metadata": {},
   "outputs": [
    {
     "name": "stdout",
     "output_type": "stream",
     "text": [
      "decoder_target_one_hot.shape: (10000, 11, 5924)\n"
     ]
    }
   ],
   "source": [
    "from keras.layers import Input, LSTM, GRU, Dense, Embedding\n",
    "\n",
    "embedding_layer = Embedding(\n",
    "    num_words,\n",
    "    EMBEDDING_DIM,\n",
    "    weights=[embedding_matrix],\n",
    "    input_length=max_len_input\n",
    ")\n",
    "\n",
    "# in our model we will not be able to use sparce_categorical_crossentropy\n",
    "# thus we need to create OHE labels\n",
    "decoder_target_one_hot = np.zeros(\n",
    "    (\n",
    "        len(input_sequences),\n",
    "        max_len_target,\n",
    "        num_words_output\n",
    "    ),\n",
    "    dtype='float32'\n",
    ")\n",
    "\n",
    "for i,target_sequence in enumerate(decoder_targets):\n",
    "    for t,word in enumerate(target_sequence):\n",
    "        if word != 0:\n",
    "            decoder_target_one_hot[i,t,word] = 1\n",
    "print(f'decoder_target_one_hot.shape: {decoder_target_one_hot.shape}')"
   ]
  },
  {
   "cell_type": "markdown",
   "metadata": {},
   "source": [
    "Now, it's time to create the model. The first is Encoder, which is going to take the input sequence in English, pass it through the embedding layer with pre-trained weights and then to the layer with LSTMs. We will need to make this layer to return state, as we will need it for the Decoder."
   ]
  },
  {
   "cell_type": "code",
   "execution_count": 60,
   "metadata": {},
   "outputs": [],
   "source": [
    "encoder_input_placeholder = Input(shape=(max_len_input,))\n",
    "x = embedding_layer(encoder_input_placeholder)\n",
    "encoder = LSTM(LATENT_DIM,return_state=True)\n",
    "encoder_outputs, h, c = encoder(x)\n",
    "# states to pass into Decoder\n",
    "encoder_states = [h,c]"
   ]
  },
  {
   "cell_type": "markdown",
   "metadata": {},
   "source": [
    "Decoder's turn"
   ]
  },
  {
   "cell_type": "code",
   "execution_count": 61,
   "metadata": {
    "scrolled": true
   },
   "outputs": [
    {
     "name": "stdout",
     "output_type": "stream",
     "text": [
      "Train on 8000 samples, validate on 2000 samples\n",
      "Epoch 1/40\n",
      "8000/8000 [==============================] - 49s 6ms/step - loss: 5.5877 - acc: 0.3569 - val_loss: 5.3442 - val_acc: 0.3002\n",
      "Epoch 2/40\n",
      "8000/8000 [==============================] - 43s 5ms/step - loss: 4.5640 - acc: 0.3809 - val_loss: 5.1896 - val_acc: 0.3182\n",
      "Epoch 3/40\n",
      "8000/8000 [==============================] - 45s 6ms/step - loss: 4.1879 - acc: 0.4024 - val_loss: 5.0528 - val_acc: 0.3689\n",
      "Epoch 4/40\n",
      "8000/8000 [==============================] - 46s 6ms/step - loss: 3.8832 - acc: 0.4306 - val_loss: 4.9032 - val_acc: 0.3945\n",
      "Epoch 5/40\n",
      "8000/8000 [==============================] - 46s 6ms/step - loss: 3.6299 - acc: 0.4528 - val_loss: 4.8507 - val_acc: 0.4202\n",
      "Epoch 6/40\n",
      "8000/8000 [==============================] - 50s 6ms/step - loss: 3.4132 - acc: 0.4741 - val_loss: 4.7764 - val_acc: 0.4362\n",
      "Epoch 7/40\n",
      "8000/8000 [==============================] - 53s 7ms/step - loss: 3.2141 - acc: 0.4883 - val_loss: 4.7650 - val_acc: 0.4451\n",
      "Epoch 8/40\n",
      "8000/8000 [==============================] - 49s 6ms/step - loss: 3.0246 - acc: 0.5058 - val_loss: 4.7462 - val_acc: 0.4546\n",
      "Epoch 9/40\n",
      "8000/8000 [==============================] - 45s 6ms/step - loss: 2.8462 - acc: 0.5196 - val_loss: 4.7340 - val_acc: 0.4614\n",
      "Epoch 10/40\n",
      "8000/8000 [==============================] - 49s 6ms/step - loss: 2.6751 - acc: 0.5323 - val_loss: 4.7485 - val_acc: 0.4630\n",
      "Epoch 11/40\n",
      "8000/8000 [==============================] - 46s 6ms/step - loss: 2.5095 - acc: 0.5452 - val_loss: 4.7751 - val_acc: 0.4632\n",
      "Epoch 12/40\n",
      "8000/8000 [==============================] - 49s 6ms/step - loss: 2.3563 - acc: 0.5603 - val_loss: 4.8039 - val_acc: 0.4679\n",
      "Epoch 13/40\n",
      "8000/8000 [==============================] - 44s 5ms/step - loss: 2.2111 - acc: 0.5735 - val_loss: 4.8513 - val_acc: 0.4698\n",
      "Epoch 14/40\n",
      "8000/8000 [==============================] - 45s 6ms/step - loss: 2.0731 - acc: 0.5876 - val_loss: 4.8724 - val_acc: 0.4674\n",
      "Epoch 15/40\n",
      "8000/8000 [==============================] - 45s 6ms/step - loss: 1.9431 - acc: 0.6041 - val_loss: 4.9194 - val_acc: 0.4555\n",
      "Epoch 16/40\n",
      "8000/8000 [==============================] - 46s 6ms/step - loss: 1.8207 - acc: 0.6183 - val_loss: 4.9429 - val_acc: 0.4551\n",
      "Epoch 17/40\n",
      "8000/8000 [==============================] - 44s 6ms/step - loss: 1.7017 - acc: 0.6370 - val_loss: 4.9542 - val_acc: 0.4444\n",
      "Epoch 18/40\n",
      "8000/8000 [==============================] - 44s 6ms/step - loss: 1.5896 - acc: 0.6499 - val_loss: 5.0029 - val_acc: 0.4395\n",
      "Epoch 19/40\n",
      "8000/8000 [==============================] - 46s 6ms/step - loss: 1.4860 - acc: 0.6661 - val_loss: 5.0111 - val_acc: 0.4268\n",
      "Epoch 20/40\n",
      "8000/8000 [==============================] - 45s 6ms/step - loss: 1.3849 - acc: 0.6788 - val_loss: 5.0212 - val_acc: 0.4328\n",
      "Epoch 21/40\n",
      "8000/8000 [==============================] - 49s 6ms/step - loss: 1.2901 - acc: 0.6927 - val_loss: 5.0621 - val_acc: 0.4256\n",
      "Epoch 22/40\n",
      "8000/8000 [==============================] - 46s 6ms/step - loss: 1.2023 - acc: 0.7080 - val_loss: 5.0601 - val_acc: 0.4322\n",
      "Epoch 23/40\n",
      "8000/8000 [==============================] - 47s 6ms/step - loss: 1.1185 - acc: 0.7198 - val_loss: 5.0993 - val_acc: 0.4225\n",
      "Epoch 24/40\n",
      "8000/8000 [==============================] - 47s 6ms/step - loss: 1.0441 - acc: 0.7327 - val_loss: 5.0883 - val_acc: 0.4303\n",
      "Epoch 25/40\n",
      "8000/8000 [==============================] - 49s 6ms/step - loss: 0.9737 - acc: 0.7442 - val_loss: 5.1333 - val_acc: 0.4230\n",
      "Epoch 26/40\n",
      "8000/8000 [==============================] - 49s 6ms/step - loss: 0.9100 - acc: 0.7530 - val_loss: 5.1576 - val_acc: 0.4216\n",
      "Epoch 27/40\n",
      "8000/8000 [==============================] - 58s 7ms/step - loss: 0.8533 - acc: 0.7613 - val_loss: 5.1845 - val_acc: 0.4154\n",
      "Epoch 28/40\n",
      "8000/8000 [==============================] - 57s 7ms/step - loss: 0.8010 - acc: 0.7674 - val_loss: 5.1878 - val_acc: 0.4184\n",
      "Epoch 29/40\n",
      "8000/8000 [==============================] - 53s 7ms/step - loss: 0.7555 - acc: 0.7747 - val_loss: 5.1804 - val_acc: 0.4243\n",
      "Epoch 30/40\n",
      "8000/8000 [==============================] - 49s 6ms/step - loss: 0.7138 - acc: 0.7795 - val_loss: 5.2020 - val_acc: 0.4165\n",
      "Epoch 31/40\n",
      "8000/8000 [==============================] - 46s 6ms/step - loss: 0.6752 - acc: 0.7826 - val_loss: 5.2514 - val_acc: 0.4162\n",
      "Epoch 32/40\n",
      "8000/8000 [==============================] - 45s 6ms/step - loss: 0.6418 - acc: 0.7851 - val_loss: 5.2625 - val_acc: 0.4188\n",
      "Epoch 33/40\n",
      "8000/8000 [==============================] - 45s 6ms/step - loss: 0.6132 - acc: 0.7876 - val_loss: 5.2540 - val_acc: 0.4207\n",
      "Epoch 34/40\n",
      "8000/8000 [==============================] - 47s 6ms/step - loss: 0.5865 - acc: 0.7910 - val_loss: 5.2549 - val_acc: 0.4216\n",
      "Epoch 35/40\n",
      "8000/8000 [==============================] - 46s 6ms/step - loss: 0.5621 - acc: 0.7913 - val_loss: 5.2803 - val_acc: 0.4194\n",
      "Epoch 36/40\n",
      "8000/8000 [==============================] - 52s 6ms/step - loss: 0.5422 - acc: 0.7947 - val_loss: 5.3069 - val_acc: 0.4179\n",
      "Epoch 37/40\n",
      "8000/8000 [==============================] - 51s 6ms/step - loss: 0.5245 - acc: 0.7945 - val_loss: 5.3110 - val_acc: 0.4210\n",
      "Epoch 38/40\n",
      "8000/8000 [==============================] - 47s 6ms/step - loss: 0.5088 - acc: 0.7955 - val_loss: 5.3153 - val_acc: 0.4222\n",
      "Epoch 39/40\n",
      "8000/8000 [==============================] - 48s 6ms/step - loss: 0.4929 - acc: 0.7969 - val_loss: 5.3464 - val_acc: 0.4189\n",
      "Epoch 40/40\n",
      "8000/8000 [==============================] - 47s 6ms/step - loss: 0.4819 - acc: 0.7986 - val_loss: 5.3639 - val_acc: 0.4176\n"
     ]
    }
   ],
   "source": [
    "from __future__ import print_function, division\n",
    "from builtins import range, input\n",
    "\n",
    "from keras.models import Model\n",
    "from keras.layers import Input, LSTM, GRU, Dense, Embedding\n",
    "import matplotlib.pyplot as plt\n",
    "\n",
    "try:\n",
    "    import keras.backend as K\n",
    "    if len(K.tensorflow_backend._get_available_gpus()) > 0:\n",
    "        from keras.layers import CuDNNLSTM as LSTM\n",
    "        from keras.layers import CuDNNGRU as GRU\n",
    "except:\n",
    "    pass\n",
    "\n",
    "decoder_input_placeholder = Input(shape=(max_len_target,))\n",
    "embedding_decoder = Embedding(num_words_output,EMBEDDING_DIM)\n",
    "decoder_input_x = embedding_decoder(decoder_input_placeholder)\n",
    "decoder_lstm = LSTM(LATENT_DIM, return_state=True, return_sequences=True)\n",
    "decoder_outputs, _, _ = decoder_lstm(decoder_input_x, initial_state=encoder_states)\n",
    "decoder_dense = Dense(num_words_output, activation='softmax')\n",
    "decoder_outputs = decoder_dense(decoder_outputs)\n",
    "model = Model([encoder_input_placeholder,decoder_input_placeholder], decoder_outputs)\n",
    "\n",
    "def custom_loss(y_true, y_pred):\n",
    "    # both are of shape N x T x K\n",
    "    mask = K.cast(y_true > 0, dtype='float32')\n",
    "    out = mask * y_true * K.log(y_pred)\n",
    "    return -K.sum(out) / K.sum(mask)\n",
    "\n",
    "\n",
    "def acc(y_true, y_pred):\n",
    "    # both are of shape N x T x K\n",
    "    targ = K.argmax(y_true, axis=-1)\n",
    "    pred = K.argmax(y_pred, axis=-1)\n",
    "    correct = K.cast(K.equal(targ, pred), dtype='float32')\n",
    "\n",
    "    # 0 is padding, don't include those\n",
    "    mask = K.cast(K.greater(targ, 0), dtype='float32')\n",
    "    n_correct = K.sum(mask * correct)\n",
    "    n_total = K.sum(mask)\n",
    "    return n_correct / n_total\n",
    "\n",
    "model.compile(optimizer='adam', loss=custom_loss, metrics=[acc])\n",
    "\n",
    "r = model.fit([encoder_inputs,decoder_inputs], decoder_target_one_hot, batch_size=BATCH_SIZE, epochs=EPOCHS,validation_split=.2)"
   ]
  },
  {
   "cell_type": "code",
   "execution_count": 62,
   "metadata": {},
   "outputs": [],
   "source": [
    "model.save('s2s.h5')"
   ]
  },
  {
   "cell_type": "code",
   "execution_count": 63,
   "metadata": {},
   "outputs": [
    {
     "data": {
      "image/png": "[encoded data removed]",
      "text/plain": [
       "<Figure size 432x288 with 1 Axes>"
      ]
     },
     "metadata": {
      "needs_background": "light"
     },
     "output_type": "display_data"
    }
   ],
   "source": [
    "plt.plot(r.history['loss'], label='loss')\n",
    "plt.plot(r.history['val_loss'], label='val_loss')\n",
    "plt.legend()\n",
    "plt.show()"
   ]
  },
  {
   "cell_type": "markdown",
   "metadata": {},
   "source": [
    "For prediction we need to create another model with the use of previously trained layers."
   ]
  },
  {
   "cell_type": "code",
   "execution_count": 66,
   "metadata": {},
   "outputs": [],
   "source": [
    "encoder_model = Model(encoder_input_placeholder, encoder_states)\n",
    "\n",
    "decoder_state_input_h = Input(shape=(LATENT_DIM,))\n",
    "decoder_state_input_c = Input(shape=(LATENT_DIM,))\n",
    "decoder_states_input = [decoder_state_input_h, decoder_state_input_c]\n",
    "\n",
    "decoder_input_single = Input(shape=(1,))\n",
    "decoder_input_single_x = embedding_decoder(decoder_input_single)\n",
    "decoder_outputs, h, c = decoder_lstm(decoder_input_single_x,initial_state=decoder_states_input)\n",
    "\n",
    "decoder_states = [h,c]\n",
    "\n",
    "decoder_outputs = decoder_dense(decoder_outputs)\n",
    "\n",
    "decoder_model = Model([decoder_input_single] + decoder_states_input, [decoder_outputs] + decoder_states)"
   ]
  },
  {
   "cell_type": "markdown",
   "metadata": {},
   "source": [
    "We need to map back from word index into the word itself."
   ]
  },
  {
   "cell_type": "code",
   "execution_count": 67,
   "metadata": {},
   "outputs": [],
   "source": [
    "idx2word_eng = {v:k for k,v in word2idx_input.items()}\n",
    "idx2word_rus = {v:k for k,v in word2idx_output.items()}"
   ]
  },
  {
   "cell_type": "code",
   "execution_count": 73,
   "metadata": {},
   "outputs": [],
   "source": [
    "def decode_sequence(input_seq):\n",
    "  # Encode the input as state vectors.\n",
    "    states_value = encoder_model.predict(input_seq)\n",
    "\n",
    "  # Generate empty target sequence of length 1.\n",
    "    target_seq = np.zeros((1, 1))\n",
    "\n",
    "  # Populate the first character of target sequence with the start character.\n",
    "  # NOTE: tokenizer lower-cases all words\n",
    "    target_seq[0, 0] = word2idx_output['<sos>']\n",
    "\n",
    "  # if we get this we break\n",
    "    eos = word2idx_output['<eos>']\n",
    "\n",
    "  # Create the translation\n",
    "    output_sentence = []\n",
    "    for _ in range(max_len_target):\n",
    "        output_tokens, h, c = decoder_model.predict(\n",
    "          [target_seq] + states_value\n",
    "        )\n",
    "    # output_tokens, h = decoder_model.predict(\n",
    "    #     [target_seq] + states_value\n",
    "    # ) # gru\n",
    "\n",
    "    # Get next word\n",
    "        idx = np.argmax(output_tokens[0, 0, :])\n",
    "\n",
    "    # End sentence of EOS\n",
    "        if eos == idx:\n",
    "            break\n",
    "\n",
    "        word = ''\n",
    "        if idx > 0:\n",
    "            word = idx2word_rus[idx]\n",
    "            output_sentence.append(word)\n",
    "\n",
    "    # Update the decoder input\n",
    "    # which is just the word just generated\n",
    "        target_seq[0, 0] = idx\n",
    " \n",
    "    # Update states\n",
    "        states_value = [h, c]\n",
    "    # states_value = [h] # gru\n",
    "\n",
    "    return ' '.join(output_sentence)"
   ]
  },
  {
   "cell_type": "code",
   "execution_count": 74,
   "metadata": {},
   "outputs": [
    {
     "name": "stdout",
     "output_type": "stream",
     "text": [
      "-\n",
      "Input: I'm with him.\n",
      "Translation: я с ним.\n",
      "Continue? [Y/n]y\n",
      "-\n",
      "Input: Are you up?\n",
      "Translation: ты встал?\n",
      "Continue? [Y/n]y\n",
      "-\n",
      "Input: Take a nap.\n",
      "Translation: вздремните.\n",
      "Continue? [Y/n]y\n",
      "-\n",
      "Input: He gave up.\n",
      "Translation: он сдался.\n",
      "Continue? [Y/n]n\n"
     ]
    }
   ],
   "source": [
    "while True:\n",
    "  # Do some test translations\n",
    "    i = np.random.choice(len(input_texts))\n",
    "    input_seq = encoder_inputs[i:i+1]\n",
    "    translation = decode_sequence(input_seq)\n",
    "    print('-')\n",
    "    print('Input:', input_texts[i])\n",
    "    print('Translation:', translation)\n",
    "\n",
    "    ans = input(\"Continue? [Y/n]\")\n",
    "    if ans and ans.lower().startswith('n'):\n",
    "        break"
   ]
  }
 ],
 "metadata": {
  "kernelspec": {
   "display_name": "Python 3",
   "language": "python",
   "name": "python3"
  },
  "language_info": {
   "codemirror_mode": {
    "name": "ipython",
    "version": 3
   },
   "file_extension": ".py",
   "mimetype": "text/x-python",
   "name": "python",
   "nbconvert_exporter": "python",
   "pygments_lexer": "ipython3",
   "version": "3.7.9"
  }
 },
 "nbformat": 4,
 "nbformat_minor": 4
}
