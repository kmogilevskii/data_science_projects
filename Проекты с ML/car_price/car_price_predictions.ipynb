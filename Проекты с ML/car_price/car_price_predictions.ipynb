{
 "cells": [
  {
   "cell_type": "markdown",
   "metadata": {},
   "source": [
    "# Продажа автомобиля"
   ]
  },
  {
   "cell_type": "markdown",
   "metadata": {},
   "source": [
    "Сервис по продаже автомобилей с пробегом «Не бит, не крашен» разрабатывает приложение для привлечения новых клиентов. В нём можно быстро узнать рыночную стоимость своего автомобиля. В вашем распоряжении исторические данные: технические характеристики, комплектации и цены автомобилей. Вам нужно построить модель для определения стоимости."
   ]
  },
  {
   "cell_type": "markdown",
   "metadata": {},
   "source": [
    "## 1. Загрузка и подготовка данных."
   ]
  },
  {
   "cell_type": "code",
   "execution_count": 1,
   "metadata": {},
   "outputs": [
    {
     "name": "stdout",
     "output_type": "stream",
     "text": [
      "<class 'pandas.core.frame.DataFrame'>\n",
      "RangeIndex: 354369 entries, 0 to 354368\n",
      "Data columns (total 16 columns):\n",
      "DateCrawled          354369 non-null object\n",
      "Price                354369 non-null int64\n",
      "VehicleType          316879 non-null object\n",
      "RegistrationYear     354369 non-null int64\n",
      "Gearbox              334536 non-null object\n",
      "Power                354369 non-null int64\n",
      "Model                334664 non-null object\n",
      "Kilometer            354369 non-null int64\n",
      "RegistrationMonth    354369 non-null int64\n",
      "FuelType             321474 non-null object\n",
      "Brand                354369 non-null object\n",
      "NotRepaired          283215 non-null object\n",
      "DateCreated          354369 non-null object\n",
      "NumberOfPictures     354369 non-null int64\n",
      "PostalCode           354369 non-null int64\n",
      "LastSeen             354369 non-null object\n",
      "dtypes: int64(7), object(9)\n",
      "memory usage: 43.3+ MB\n",
      "None\n"
     ]
    },
    {
     "data": {
      "text/html": [
       "<div>\n",
       "<style scoped>\n",
       "    .dataframe tbody tr th:only-of-type {\n",
       "        vertical-align: middle;\n",
       "    }\n",
       "\n",
       "    .dataframe tbody tr th {\n",
       "        vertical-align: top;\n",
       "    }\n",
       "\n",
       "    .dataframe thead th {\n",
       "        text-align: right;\n",
       "    }\n",
       "</style>\n",
       "<table border=\"1\" class=\"dataframe\">\n",
       "  <thead>\n",
       "    <tr style=\"text-align: right;\">\n",
       "      <th></th>\n",
       "      <th>DateCrawled</th>\n",
       "      <th>Price</th>\n",
       "      <th>VehicleType</th>\n",
       "      <th>RegistrationYear</th>\n",
       "      <th>Gearbox</th>\n",
       "      <th>Power</th>\n",
       "      <th>Model</th>\n",
       "      <th>Kilometer</th>\n",
       "      <th>RegistrationMonth</th>\n",
       "      <th>FuelType</th>\n",
       "      <th>Brand</th>\n",
       "      <th>NotRepaired</th>\n",
       "      <th>DateCreated</th>\n",
       "      <th>NumberOfPictures</th>\n",
       "      <th>PostalCode</th>\n",
       "      <th>LastSeen</th>\n",
       "    </tr>\n",
       "  </thead>\n",
       "  <tbody>\n",
       "    <tr>\n",
       "      <td>0</td>\n",
       "      <td>2016-03-24 11:52:17</td>\n",
       "      <td>480</td>\n",
       "      <td>NaN</td>\n",
       "      <td>1993</td>\n",
       "      <td>manual</td>\n",
       "      <td>0</td>\n",
       "      <td>golf</td>\n",
       "      <td>150000</td>\n",
       "      <td>0</td>\n",
       "      <td>petrol</td>\n",
       "      <td>volkswagen</td>\n",
       "      <td>NaN</td>\n",
       "      <td>2016-03-24 00:00:00</td>\n",
       "      <td>0</td>\n",
       "      <td>70435</td>\n",
       "      <td>2016-04-07 03:16:57</td>\n",
       "    </tr>\n",
       "    <tr>\n",
       "      <td>1</td>\n",
       "      <td>2016-03-24 10:58:45</td>\n",
       "      <td>18300</td>\n",
       "      <td>coupe</td>\n",
       "      <td>2011</td>\n",
       "      <td>manual</td>\n",
       "      <td>190</td>\n",
       "      <td>NaN</td>\n",
       "      <td>125000</td>\n",
       "      <td>5</td>\n",
       "      <td>gasoline</td>\n",
       "      <td>audi</td>\n",
       "      <td>yes</td>\n",
       "      <td>2016-03-24 00:00:00</td>\n",
       "      <td>0</td>\n",
       "      <td>66954</td>\n",
       "      <td>2016-04-07 01:46:50</td>\n",
       "    </tr>\n",
       "    <tr>\n",
       "      <td>2</td>\n",
       "      <td>2016-03-14 12:52:21</td>\n",
       "      <td>9800</td>\n",
       "      <td>suv</td>\n",
       "      <td>2004</td>\n",
       "      <td>auto</td>\n",
       "      <td>163</td>\n",
       "      <td>grand</td>\n",
       "      <td>125000</td>\n",
       "      <td>8</td>\n",
       "      <td>gasoline</td>\n",
       "      <td>jeep</td>\n",
       "      <td>NaN</td>\n",
       "      <td>2016-03-14 00:00:00</td>\n",
       "      <td>0</td>\n",
       "      <td>90480</td>\n",
       "      <td>2016-04-05 12:47:46</td>\n",
       "    </tr>\n",
       "    <tr>\n",
       "      <td>3</td>\n",
       "      <td>2016-03-17 16:54:04</td>\n",
       "      <td>1500</td>\n",
       "      <td>small</td>\n",
       "      <td>2001</td>\n",
       "      <td>manual</td>\n",
       "      <td>75</td>\n",
       "      <td>golf</td>\n",
       "      <td>150000</td>\n",
       "      <td>6</td>\n",
       "      <td>petrol</td>\n",
       "      <td>volkswagen</td>\n",
       "      <td>no</td>\n",
       "      <td>2016-03-17 00:00:00</td>\n",
       "      <td>0</td>\n",
       "      <td>91074</td>\n",
       "      <td>2016-03-17 17:40:17</td>\n",
       "    </tr>\n",
       "    <tr>\n",
       "      <td>4</td>\n",
       "      <td>2016-03-31 17:25:20</td>\n",
       "      <td>3600</td>\n",
       "      <td>small</td>\n",
       "      <td>2008</td>\n",
       "      <td>manual</td>\n",
       "      <td>69</td>\n",
       "      <td>fabia</td>\n",
       "      <td>90000</td>\n",
       "      <td>7</td>\n",
       "      <td>gasoline</td>\n",
       "      <td>skoda</td>\n",
       "      <td>no</td>\n",
       "      <td>2016-03-31 00:00:00</td>\n",
       "      <td>0</td>\n",
       "      <td>60437</td>\n",
       "      <td>2016-04-06 10:17:21</td>\n",
       "    </tr>\n",
       "  </tbody>\n",
       "</table>\n",
       "</div>"
      ],
      "text/plain": [
       "           DateCrawled  Price VehicleType  RegistrationYear Gearbox  Power  \\\n",
       "0  2016-03-24 11:52:17    480         NaN              1993  manual      0   \n",
       "1  2016-03-24 10:58:45  18300       coupe              2011  manual    190   \n",
       "2  2016-03-14 12:52:21   9800         suv              2004    auto    163   \n",
       "3  2016-03-17 16:54:04   1500       small              2001  manual     75   \n",
       "4  2016-03-31 17:25:20   3600       small              2008  manual     69   \n",
       "\n",
       "   Model  Kilometer  RegistrationMonth  FuelType       Brand NotRepaired  \\\n",
       "0   golf     150000                  0    petrol  volkswagen         NaN   \n",
       "1    NaN     125000                  5  gasoline        audi         yes   \n",
       "2  grand     125000                  8  gasoline        jeep         NaN   \n",
       "3   golf     150000                  6    petrol  volkswagen          no   \n",
       "4  fabia      90000                  7  gasoline       skoda          no   \n",
       "\n",
       "           DateCreated  NumberOfPictures  PostalCode             LastSeen  \n",
       "0  2016-03-24 00:00:00                 0       70435  2016-04-07 03:16:57  \n",
       "1  2016-03-24 00:00:00                 0       66954  2016-04-07 01:46:50  \n",
       "2  2016-03-14 00:00:00                 0       90480  2016-04-05 12:47:46  \n",
       "3  2016-03-17 00:00:00                 0       91074  2016-03-17 17:40:17  \n",
       "4  2016-03-31 00:00:00                 0       60437  2016-04-06 10:17:21  "
      ]
     },
     "execution_count": 1,
     "metadata": {},
     "output_type": "execute_result"
    }
   ],
   "source": [
    "import pandas as pd\n",
    "import numpy as np\n",
    "import time\n",
    "import matplotlib.pyplot as plt\n",
    "import lightgbm as lgb\n",
    "from catboost import CatBoostRegressor\n",
    "from sklearn.preprocessing import StandardScaler\n",
    "from sklearn.model_selection import train_test_split\n",
    "from sklearn.linear_model import LinearRegression\n",
    "from sklearn.metrics import mean_squared_error\n",
    "from sklearn.model_selection import cross_val_score, GridSearchCV, RandomizedSearchCV\n",
    "from sklearn.ensemble import RandomForestClassifier\n",
    "\n",
    "\n",
    "autos = pd.read_csv('/datasets/autos.csv')\n",
    "\n",
    "print(autos.info())\n",
    "autos.head()"
   ]
  },
  {
   "cell_type": "markdown",
   "metadata": {},
   "source": [
    "Признаки\n",
    "- DateCrawled — дата скачивания анкеты из базы\n",
    "- VehicleType — тип автомобильного кузова\n",
    "- RegistrationYear — год регистрации автомобиля\n",
    "- Gearbox — тип коробки передач\n",
    "- Power — мощность (л. с.)\n",
    "- Model — модель автомобиля\n",
    "- Kilometer — пробег (км)\n",
    "- RegistrationMonth — месяц регистрации автомобиля\n",
    "- FuelType — тип топлива\n",
    "- Brand — марка автомобиля\n",
    "- NotRepaired — была машина в ремонте или нет\n",
    "- DateCreated — дата создания анкеты\n",
    "- NumberOfPictures — количество фотографий автомобиля\n",
    "- PostalCode — почтовый индекс владельца анкеты (пользователя)\n",
    "- LastSeen — дата последней активности пользователя\n",
    "\n",
    "Целевой признак\n",
    "- Price — цена (евро)\n",
    "\n",
    "Сначала разберемся с аномальными значениями в целевом признаке."
   ]
  },
  {
   "cell_type": "code",
   "execution_count": 166,
   "metadata": {},
   "outputs": [
    {
     "data": {
      "text/plain": [
       "20000      268\n",
       "19999      278\n",
       "19998        6\n",
       "19997        1\n",
       "19995       10\n",
       "         ...  \n",
       "4            1\n",
       "3            8\n",
       "2           12\n",
       "1         1189\n",
       "0        10772\n",
       "Name: Price, Length: 3731, dtype: int64"
      ]
     },
     "execution_count": 166,
     "metadata": {},
     "output_type": "execute_result"
    }
   ],
   "source": [
    "autos['Price'].value_counts().sort_index(ascending=False)"
   ]
  },
  {
   "cell_type": "markdown",
   "metadata": {},
   "source": [
    "Значение 0 в целевом признаке очень подозрителен, как и 1, и 2... \n",
    "\n",
    "На сайте Ebay Cars наименьшая цена, по которой продавалась машина - 150 фунтов. Возьмем это число как нижняя граница. Верхняя в 20000 кажется реальной."
   ]
  },
  {
   "cell_type": "code",
   "execution_count": 167,
   "metadata": {},
   "outputs": [
    {
     "data": {
      "text/plain": [
       "(337830, 16)"
      ]
     },
     "execution_count": 167,
     "metadata": {},
     "output_type": "execute_result"
    }
   ],
   "source": [
    "good_autos = autos.query('Price > 150')\n",
    "good_autos.shape"
   ]
  },
  {
   "cell_type": "markdown",
   "metadata": {},
   "source": []
  },
  {
   "cell_type": "markdown",
   "metadata": {},
   "source": [
    "Исследуем столбец Power на аномальные значения."
   ]
  },
  {
   "cell_type": "code",
   "execution_count": 168,
   "metadata": {},
   "outputs": [
    {
     "data": {
      "text/plain": [
       "20000        1\n",
       "19312        1\n",
       "19211        1\n",
       "19208        1\n",
       "17932        1\n",
       "         ...  \n",
       "4           30\n",
       "3            9\n",
       "2           10\n",
       "1           34\n",
       "0        40225\n",
       "Name: Power, Length: 712, dtype: int64"
      ]
     },
     "execution_count": 168,
     "metadata": {},
     "output_type": "execute_result"
    }
   ],
   "source": [
    "autos['Power'].value_counts().sort_index(ascending=False)"
   ]
  },
  {
   "cell_type": "markdown",
   "metadata": {},
   "source": [
    "На данный момент максимально возможное значение лошадиных сил в машине приблизительно 1500, а наименьшее - 66. Воспользуемся этими значениями для фильтрации."
   ]
  },
  {
   "cell_type": "code",
   "execution_count": 169,
   "metadata": {},
   "outputs": [
    {
     "data": {
      "text/plain": [
       "(261766, 16)"
      ]
     },
     "execution_count": 169,
     "metadata": {},
     "output_type": "execute_result"
    }
   ],
   "source": [
    "good_autos = good_autos.query('Power >= 66 and Power < 1500')\n",
    "good_autos.shape"
   ]
  },
  {
   "cell_type": "markdown",
   "metadata": {},
   "source": [
    "Теперь посмотрим на пропуски."
   ]
  },
  {
   "cell_type": "code",
   "execution_count": 170,
   "metadata": {},
   "outputs": [
    {
     "data": {
      "text/html": [
       "<div>\n",
       "<style scoped>\n",
       "    .dataframe tbody tr th:only-of-type {\n",
       "        vertical-align: middle;\n",
       "    }\n",
       "\n",
       "    .dataframe tbody tr th {\n",
       "        vertical-align: top;\n",
       "    }\n",
       "\n",
       "    .dataframe thead th {\n",
       "        text-align: right;\n",
       "    }\n",
       "</style>\n",
       "<table border=\"1\" class=\"dataframe\">\n",
       "  <thead>\n",
       "    <tr style=\"text-align: right;\">\n",
       "      <th></th>\n",
       "      <th>DateCrawled</th>\n",
       "      <th>Price</th>\n",
       "      <th>VehicleType</th>\n",
       "      <th>RegistrationYear</th>\n",
       "      <th>Gearbox</th>\n",
       "      <th>Power</th>\n",
       "      <th>Model</th>\n",
       "      <th>Kilometer</th>\n",
       "      <th>RegistrationMonth</th>\n",
       "      <th>FuelType</th>\n",
       "      <th>Brand</th>\n",
       "      <th>NotRepaired</th>\n",
       "      <th>DateCreated</th>\n",
       "      <th>NumberOfPictures</th>\n",
       "      <th>PostalCode</th>\n",
       "      <th>LastSeen</th>\n",
       "    </tr>\n",
       "  </thead>\n",
       "  <tbody>\n",
       "    <tr>\n",
       "      <th>Количество пропусков</th>\n",
       "      <td>0</td>\n",
       "      <td>0</td>\n",
       "      <td>16785</td>\n",
       "      <td>0</td>\n",
       "      <td>4165</td>\n",
       "      <td>0</td>\n",
       "      <td>9922</td>\n",
       "      <td>0</td>\n",
       "      <td>0</td>\n",
       "      <td>15305</td>\n",
       "      <td>0</td>\n",
       "      <td>37315</td>\n",
       "      <td>0</td>\n",
       "      <td>0</td>\n",
       "      <td>0</td>\n",
       "      <td>0</td>\n",
       "    </tr>\n",
       "    <tr>\n",
       "      <th>В процентах</th>\n",
       "      <td>0</td>\n",
       "      <td>0</td>\n",
       "      <td>6</td>\n",
       "      <td>0</td>\n",
       "      <td>1</td>\n",
       "      <td>0</td>\n",
       "      <td>3</td>\n",
       "      <td>0</td>\n",
       "      <td>0</td>\n",
       "      <td>5</td>\n",
       "      <td>0</td>\n",
       "      <td>14</td>\n",
       "      <td>0</td>\n",
       "      <td>0</td>\n",
       "      <td>0</td>\n",
       "      <td>0</td>\n",
       "    </tr>\n",
       "  </tbody>\n",
       "</table>\n",
       "</div>"
      ],
      "text/plain": [
       "                      DateCrawled  Price  VehicleType  RegistrationYear  \\\n",
       "Количество пропусков            0      0        16785                 0   \n",
       "В процентах                     0      0            6                 0   \n",
       "\n",
       "                      Gearbox  Power  Model  Kilometer  RegistrationMonth  \\\n",
       "Количество пропусков     4165      0   9922          0                  0   \n",
       "В процентах                 1      0      3          0                  0   \n",
       "\n",
       "                      FuelType  Brand  NotRepaired  DateCreated  \\\n",
       "Количество пропусков     15305      0        37315            0   \n",
       "В процентах                  5      0           14            0   \n",
       "\n",
       "                      NumberOfPictures  PostalCode  LastSeen  \n",
       "Количество пропусков                 0           0         0  \n",
       "В процентах                          0           0         0  "
      ]
     },
     "execution_count": 170,
     "metadata": {},
     "output_type": "execute_result"
    }
   ],
   "source": [
    "#Подсчет количества пропусков в каждом столбцу\n",
    "null_counts = good_autos.isnull().sum()\n",
    "#Пропуски в каждом столбце в процентах\n",
    "null_pct = null_counts / good_autos.shape[0] * 100\n",
    "\n",
    "#Объединим все в один датафрейм\n",
    "null_df = pd.DataFrame({'Количество пропусков':null_counts,'В процентах':null_pct})\n",
    "null_df = null_df.T.astype(int)\n",
    "null_df"
   ]
  },
  {
   "cell_type": "markdown",
   "metadata": {},
   "source": [
    "Пропуски содержатся в следующих столбцах: VehicleType, Gearbox, Model, FuelType, NotRepaired. Все они содержат категориальный тип переменных, поэтому пропуски можно либо заполнить самым частым значением, либо напросто отбросить строки с пропусками в данных столбцах. Для принятия решения подробнее рассмотрим значения во всех этих признаках."
   ]
  },
  {
   "cell_type": "code",
   "execution_count": 171,
   "metadata": {},
   "outputs": [
    {
     "name": "stdout",
     "output_type": "stream",
     "text": [
      "Количество уникальных значений в VehicleType: 9\n",
      "Количество уникальных значений в GearBox: 3\n",
      "Количество уникальных значений в FuelType: 8\n",
      "Количество уникальных значений в NotRepaired: 3\n",
      "\n",
      "manual    200569\n",
      "auto       57032\n",
      "Name: Gearbox, dtype: int64\n",
      "no     200580\n",
      "yes     23871\n",
      "Name: NotRepaired, dtype: int64\n"
     ]
    }
   ],
   "source": [
    "print('Количество уникальных значений в VehicleType: ' + str(good_autos['VehicleType'].unique().shape[0]))\n",
    "print('Количество уникальных значений в GearBox: ' + str(good_autos['Gearbox'].unique().shape[0]))\n",
    "print('Количество уникальных значений в FuelType: ' + str(good_autos['FuelType'].unique().shape[0]))\n",
    "print('Количество уникальных значений в NotRepaired: ' + str(good_autos['NotRepaired'].unique().shape[0]))\n",
    "print()\n",
    "\n",
    "print(good_autos['Gearbox'].value_counts())\n",
    "print(good_autos['NotRepaired'].value_counts())"
   ]
  },
  {
   "cell_type": "markdown",
   "metadata": {},
   "source": [
    "Пропуски в столбцах GearBox и NotRepaired заполним самым частым значением. Ручная коробка передач встречается в приблизительно 76% объявлений и значение \"no\" в столбце NotRepaired примерно также.\n",
    "\n",
    "Пропуски в других столбцах просто удалим."
   ]
  },
  {
   "cell_type": "code",
   "execution_count": 172,
   "metadata": {},
   "outputs": [
    {
     "data": {
      "text/plain": [
       "230300"
      ]
     },
     "execution_count": 172,
     "metadata": {},
     "output_type": "execute_result"
    }
   ],
   "source": [
    "good_autos['Gearbox'].fillna('manual',inplace=True)\n",
    "good_autos['NotRepaired'].fillna('no',inplace=True)\n",
    "good_autos = good_autos.dropna().reset_index(drop=True)\n",
    "good_autos.shape[0]"
   ]
  },
  {
   "cell_type": "code",
   "execution_count": 173,
   "metadata": {},
   "outputs": [
    {
     "data": {
      "text/plain": [
       "0    230300\n",
       "Name: NumberOfPictures, dtype: int64"
      ]
     },
     "execution_count": 173,
     "metadata": {},
     "output_type": "execute_result"
    }
   ],
   "source": [
    "good_autos['NumberOfPictures'].value_counts()"
   ]
  },
  {
   "cell_type": "markdown",
   "metadata": {},
   "source": [
    "Избавимся также от столбца NumberOfPictures так как в нем только нули."
   ]
  },
  {
   "cell_type": "code",
   "execution_count": 174,
   "metadata": {},
   "outputs": [
    {
     "data": {
      "text/html": [
       "<div>\n",
       "<style scoped>\n",
       "    .dataframe tbody tr th:only-of-type {\n",
       "        vertical-align: middle;\n",
       "    }\n",
       "\n",
       "    .dataframe tbody tr th {\n",
       "        vertical-align: top;\n",
       "    }\n",
       "\n",
       "    .dataframe thead th {\n",
       "        text-align: right;\n",
       "    }\n",
       "</style>\n",
       "<table border=\"1\" class=\"dataframe\">\n",
       "  <thead>\n",
       "    <tr style=\"text-align: right;\">\n",
       "      <th></th>\n",
       "      <th>DateCrawled</th>\n",
       "      <th>Price</th>\n",
       "      <th>VehicleType</th>\n",
       "      <th>RegistrationYear</th>\n",
       "      <th>Gearbox</th>\n",
       "      <th>Power</th>\n",
       "      <th>Model</th>\n",
       "      <th>Kilometer</th>\n",
       "      <th>RegistrationMonth</th>\n",
       "      <th>FuelType</th>\n",
       "      <th>Brand</th>\n",
       "      <th>NotRepaired</th>\n",
       "      <th>DateCreated</th>\n",
       "      <th>PostalCode</th>\n",
       "      <th>LastSeen</th>\n",
       "    </tr>\n",
       "  </thead>\n",
       "  <tbody>\n",
       "    <tr>\n",
       "      <th>0</th>\n",
       "      <td>2016-03-14 12:52:21</td>\n",
       "      <td>9800</td>\n",
       "      <td>suv</td>\n",
       "      <td>2004</td>\n",
       "      <td>auto</td>\n",
       "      <td>163</td>\n",
       "      <td>grand</td>\n",
       "      <td>125000</td>\n",
       "      <td>8</td>\n",
       "      <td>gasoline</td>\n",
       "      <td>jeep</td>\n",
       "      <td>no</td>\n",
       "      <td>2016-03-14 00:00:00</td>\n",
       "      <td>90480</td>\n",
       "      <td>2016-04-05 12:47:46</td>\n",
       "    </tr>\n",
       "    <tr>\n",
       "      <th>1</th>\n",
       "      <td>2016-03-17 16:54:04</td>\n",
       "      <td>1500</td>\n",
       "      <td>small</td>\n",
       "      <td>2001</td>\n",
       "      <td>manual</td>\n",
       "      <td>75</td>\n",
       "      <td>golf</td>\n",
       "      <td>150000</td>\n",
       "      <td>6</td>\n",
       "      <td>petrol</td>\n",
       "      <td>volkswagen</td>\n",
       "      <td>no</td>\n",
       "      <td>2016-03-17 00:00:00</td>\n",
       "      <td>91074</td>\n",
       "      <td>2016-03-17 17:40:17</td>\n",
       "    </tr>\n",
       "    <tr>\n",
       "      <th>2</th>\n",
       "      <td>2016-03-31 17:25:20</td>\n",
       "      <td>3600</td>\n",
       "      <td>small</td>\n",
       "      <td>2008</td>\n",
       "      <td>manual</td>\n",
       "      <td>69</td>\n",
       "      <td>fabia</td>\n",
       "      <td>90000</td>\n",
       "      <td>7</td>\n",
       "      <td>gasoline</td>\n",
       "      <td>skoda</td>\n",
       "      <td>no</td>\n",
       "      <td>2016-03-31 00:00:00</td>\n",
       "      <td>60437</td>\n",
       "      <td>2016-04-06 10:17:21</td>\n",
       "    </tr>\n",
       "    <tr>\n",
       "      <th>3</th>\n",
       "      <td>2016-04-04 17:36:23</td>\n",
       "      <td>650</td>\n",
       "      <td>sedan</td>\n",
       "      <td>1995</td>\n",
       "      <td>manual</td>\n",
       "      <td>102</td>\n",
       "      <td>3er</td>\n",
       "      <td>150000</td>\n",
       "      <td>10</td>\n",
       "      <td>petrol</td>\n",
       "      <td>bmw</td>\n",
       "      <td>yes</td>\n",
       "      <td>2016-04-04 00:00:00</td>\n",
       "      <td>33775</td>\n",
       "      <td>2016-04-06 19:17:07</td>\n",
       "    </tr>\n",
       "    <tr>\n",
       "      <th>4</th>\n",
       "      <td>2016-04-01 20:48:51</td>\n",
       "      <td>2200</td>\n",
       "      <td>convertible</td>\n",
       "      <td>2004</td>\n",
       "      <td>manual</td>\n",
       "      <td>109</td>\n",
       "      <td>2_reihe</td>\n",
       "      <td>150000</td>\n",
       "      <td>8</td>\n",
       "      <td>petrol</td>\n",
       "      <td>peugeot</td>\n",
       "      <td>no</td>\n",
       "      <td>2016-04-01 00:00:00</td>\n",
       "      <td>67112</td>\n",
       "      <td>2016-04-05 18:18:39</td>\n",
       "    </tr>\n",
       "  </tbody>\n",
       "</table>\n",
       "</div>"
      ],
      "text/plain": [
       "           DateCrawled  Price  VehicleType  RegistrationYear Gearbox  Power  \\\n",
       "0  2016-03-14 12:52:21   9800          suv              2004    auto    163   \n",
       "1  2016-03-17 16:54:04   1500        small              2001  manual     75   \n",
       "2  2016-03-31 17:25:20   3600        small              2008  manual     69   \n",
       "3  2016-04-04 17:36:23    650        sedan              1995  manual    102   \n",
       "4  2016-04-01 20:48:51   2200  convertible              2004  manual    109   \n",
       "\n",
       "     Model  Kilometer  RegistrationMonth  FuelType       Brand NotRepaired  \\\n",
       "0    grand     125000                  8  gasoline        jeep          no   \n",
       "1     golf     150000                  6    petrol  volkswagen          no   \n",
       "2    fabia      90000                  7  gasoline       skoda          no   \n",
       "3      3er     150000                 10    petrol         bmw         yes   \n",
       "4  2_reihe     150000                  8    petrol     peugeot          no   \n",
       "\n",
       "           DateCreated  PostalCode             LastSeen  \n",
       "0  2016-03-14 00:00:00       90480  2016-04-05 12:47:46  \n",
       "1  2016-03-17 00:00:00       91074  2016-03-17 17:40:17  \n",
       "2  2016-03-31 00:00:00       60437  2016-04-06 10:17:21  \n",
       "3  2016-04-04 00:00:00       33775  2016-04-06 19:17:07  \n",
       "4  2016-04-01 00:00:00       67112  2016-04-05 18:18:39  "
      ]
     },
     "execution_count": 174,
     "metadata": {},
     "output_type": "execute_result"
    }
   ],
   "source": [
    "good_autos.drop('NumberOfPictures', axis=1,inplace=True)\n",
    "good_autos.head()"
   ]
  },
  {
   "cell_type": "markdown",
   "metadata": {},
   "source": [
    "Взглянем что у нас с датами"
   ]
  },
  {
   "cell_type": "code",
   "execution_count": 175,
   "metadata": {},
   "outputs": [
    {
     "name": "stdout",
     "output_type": "stream",
     "text": [
      "Date Crawled\n",
      "2016-04-07    0.001611\n",
      "2016-04-06    0.003222\n",
      "2016-04-05    0.012393\n",
      "2016-04-04    0.037920\n",
      "2016-04-03    0.039640\n",
      "Name: DateCrawled, dtype: float64\n",
      "2016-03-09    0.033556\n",
      "2016-03-08    0.033178\n",
      "2016-03-07    0.035849\n",
      "2016-03-06    0.014590\n",
      "2016-03-05    0.026418\n",
      "Name: DateCrawled, dtype: float64\n",
      "\n",
      "Last Seen\n",
      "2016-04-07    0.134429\n",
      "2016-04-06    0.226561\n",
      "2016-04-05    0.130651\n",
      "2016-04-04    0.025041\n",
      "2016-04-03    0.025106\n",
      "Name: LastSeen, dtype: float64\n",
      "2016-03-09    0.009184\n",
      "2016-03-08    0.007438\n",
      "2016-03-07    0.004902\n",
      "2016-03-06    0.003943\n",
      "2016-03-05    0.001203\n",
      "Name: LastSeen, dtype: float64\n",
      "\n",
      "Date created\n",
      "2016-04-07    0.001546\n",
      "2016-04-06    0.003200\n",
      "2016-04-05    0.011246\n",
      "2016-04-04    0.037907\n",
      "2016-04-03    0.039887\n",
      "Name: DateCreated, dtype: float64\n",
      "2015-11-02    0.000004\n",
      "2015-09-09    0.000004\n",
      "2015-08-10    0.000004\n",
      "2015-08-07    0.000004\n",
      "2015-03-20    0.000004\n",
      "Name: DateCreated, dtype: float64\n"
     ]
    },
    {
     "data": {
      "text/plain": [
       "2018       2\n",
       "2017       7\n",
       "2016     128\n",
       "2015     949\n",
       "2014    2215\n",
       "        ... \n",
       "1949       1\n",
       "1947       1\n",
       "1942       2\n",
       "1937       1\n",
       "1910       1\n",
       "Name: RegistrationYear, Length: 73, dtype: int64"
      ]
     },
     "execution_count": 175,
     "metadata": {},
     "output_type": "execute_result"
    }
   ],
   "source": [
    "print('Date Crawled')\n",
    "print(good_autos['DateCrawled'].str[:10].value_counts(normalize=True,dropna=False).sort_index(ascending=False).head())\n",
    "print(good_autos['DateCrawled'].str[:10].value_counts(normalize=True,dropna=False).sort_index(ascending=False).tail())\n",
    "print()\n",
    "print('Last Seen')\n",
    "print(good_autos['LastSeen'].str[:10].value_counts(normalize=True,dropna=False).sort_index(ascending=False).head())\n",
    "print(good_autos['LastSeen'].str[:10].value_counts(normalize=True,dropna=False).sort_index(ascending=False).tail())\n",
    "print()\n",
    "print('Date created')\n",
    "print(good_autos['DateCreated'].str[:10].value_counts(normalize=True,dropna=False).sort_index(ascending=False).head())\n",
    "print(good_autos['DateCreated'].str[:10].value_counts(normalize=True,dropna=False).sort_index(ascending=False).tail())\n",
    "\n",
    "good_autos['RegistrationYear'].value_counts().sort_index(ascending=False)"
   ]
  },
  {
   "cell_type": "markdown",
   "metadata": {},
   "source": [
    "Диапазон дат создания объявления 2015-2016 год, а в датасете присутствуют машины, зарегистрированные в 2017 и 2018 году. Избивляемся от них."
   ]
  },
  {
   "cell_type": "code",
   "execution_count": 176,
   "metadata": {},
   "outputs": [],
   "source": [
    "good_autos = good_autos[good_autos['RegistrationYear'].between(1909,2016)]"
   ]
  },
  {
   "cell_type": "markdown",
   "metadata": {},
   "source": [
    "Что там с месяцем регистрации"
   ]
  },
  {
   "cell_type": "code",
   "execution_count": 177,
   "metadata": {},
   "outputs": [
    {
     "data": {
      "text/plain": [
       "array([ 8,  6,  7, 10, 12, 11,  3,  2,  1,  4,  9,  5,  0], dtype=int64)"
      ]
     },
     "execution_count": 177,
     "metadata": {},
     "output_type": "execute_result"
    }
   ],
   "source": [
    "good_autos['RegistrationMonth'].unique()"
   ]
  },
  {
   "cell_type": "markdown",
   "metadata": {},
   "source": [
    "Месяц должен варьироваться либо между 0 и 11, ибо между 1 и 12. У нас значение лежит между 0 и 12, значит либо 0 либо 12 некорректное значение. Так как формы заполняются обычными людьми, то вряд ли они будум именовать первый месяц через 0, следовательно, удалим все строки со значением регистрационного месца равного нулю."
   ]
  },
  {
   "cell_type": "code",
   "execution_count": 178,
   "metadata": {},
   "outputs": [
    {
     "data": {
      "text/plain": [
       "array([ 8,  6,  7, 10, 12, 11,  3,  2,  1,  4,  9,  5], dtype=int64)"
      ]
     },
     "execution_count": 178,
     "metadata": {},
     "output_type": "execute_result"
    }
   ],
   "source": [
    "good_autos = good_autos[good_autos['RegistrationMonth'] != 0]\n",
    "good_autos['RegistrationMonth'].unique()"
   ]
  },
  {
   "cell_type": "markdown",
   "metadata": {},
   "source": [
    "Объединим год регистрации с месяцем"
   ]
  },
  {
   "cell_type": "code",
   "execution_count": 179,
   "metadata": {},
   "outputs": [
    {
     "data": {
      "text/html": [
       "<div>\n",
       "<style scoped>\n",
       "    .dataframe tbody tr th:only-of-type {\n",
       "        vertical-align: middle;\n",
       "    }\n",
       "\n",
       "    .dataframe tbody tr th {\n",
       "        vertical-align: top;\n",
       "    }\n",
       "\n",
       "    .dataframe thead th {\n",
       "        text-align: right;\n",
       "    }\n",
       "</style>\n",
       "<table border=\"1\" class=\"dataframe\">\n",
       "  <thead>\n",
       "    <tr style=\"text-align: right;\">\n",
       "      <th></th>\n",
       "      <th>DateCrawled</th>\n",
       "      <th>Price</th>\n",
       "      <th>VehicleType</th>\n",
       "      <th>Gearbox</th>\n",
       "      <th>Power</th>\n",
       "      <th>Model</th>\n",
       "      <th>Kilometer</th>\n",
       "      <th>FuelType</th>\n",
       "      <th>Brand</th>\n",
       "      <th>NotRepaired</th>\n",
       "      <th>DateCreated</th>\n",
       "      <th>PostalCode</th>\n",
       "      <th>LastSeen</th>\n",
       "      <th>RegistrationDate</th>\n",
       "    </tr>\n",
       "  </thead>\n",
       "  <tbody>\n",
       "    <tr>\n",
       "      <th>0</th>\n",
       "      <td>2016-03-14 12:52:21</td>\n",
       "      <td>9800</td>\n",
       "      <td>suv</td>\n",
       "      <td>auto</td>\n",
       "      <td>163</td>\n",
       "      <td>grand</td>\n",
       "      <td>125000</td>\n",
       "      <td>gasoline</td>\n",
       "      <td>jeep</td>\n",
       "      <td>no</td>\n",
       "      <td>2016-03-14 00:00:00</td>\n",
       "      <td>90480</td>\n",
       "      <td>2016-04-05 12:47:46</td>\n",
       "      <td>2004-08</td>\n",
       "    </tr>\n",
       "    <tr>\n",
       "      <th>1</th>\n",
       "      <td>2016-03-17 16:54:04</td>\n",
       "      <td>1500</td>\n",
       "      <td>small</td>\n",
       "      <td>manual</td>\n",
       "      <td>75</td>\n",
       "      <td>golf</td>\n",
       "      <td>150000</td>\n",
       "      <td>petrol</td>\n",
       "      <td>volkswagen</td>\n",
       "      <td>no</td>\n",
       "      <td>2016-03-17 00:00:00</td>\n",
       "      <td>91074</td>\n",
       "      <td>2016-03-17 17:40:17</td>\n",
       "      <td>2001-06</td>\n",
       "    </tr>\n",
       "    <tr>\n",
       "      <th>2</th>\n",
       "      <td>2016-03-31 17:25:20</td>\n",
       "      <td>3600</td>\n",
       "      <td>small</td>\n",
       "      <td>manual</td>\n",
       "      <td>69</td>\n",
       "      <td>fabia</td>\n",
       "      <td>90000</td>\n",
       "      <td>gasoline</td>\n",
       "      <td>skoda</td>\n",
       "      <td>no</td>\n",
       "      <td>2016-03-31 00:00:00</td>\n",
       "      <td>60437</td>\n",
       "      <td>2016-04-06 10:17:21</td>\n",
       "      <td>2008-07</td>\n",
       "    </tr>\n",
       "    <tr>\n",
       "      <th>3</th>\n",
       "      <td>2016-04-04 17:36:23</td>\n",
       "      <td>650</td>\n",
       "      <td>sedan</td>\n",
       "      <td>manual</td>\n",
       "      <td>102</td>\n",
       "      <td>3er</td>\n",
       "      <td>150000</td>\n",
       "      <td>petrol</td>\n",
       "      <td>bmw</td>\n",
       "      <td>yes</td>\n",
       "      <td>2016-04-04 00:00:00</td>\n",
       "      <td>33775</td>\n",
       "      <td>2016-04-06 19:17:07</td>\n",
       "      <td>1995-10</td>\n",
       "    </tr>\n",
       "    <tr>\n",
       "      <th>4</th>\n",
       "      <td>2016-04-01 20:48:51</td>\n",
       "      <td>2200</td>\n",
       "      <td>convertible</td>\n",
       "      <td>manual</td>\n",
       "      <td>109</td>\n",
       "      <td>2_reihe</td>\n",
       "      <td>150000</td>\n",
       "      <td>petrol</td>\n",
       "      <td>peugeot</td>\n",
       "      <td>no</td>\n",
       "      <td>2016-04-01 00:00:00</td>\n",
       "      <td>67112</td>\n",
       "      <td>2016-04-05 18:18:39</td>\n",
       "      <td>2004-08</td>\n",
       "    </tr>\n",
       "  </tbody>\n",
       "</table>\n",
       "</div>"
      ],
      "text/plain": [
       "           DateCrawled  Price  VehicleType Gearbox  Power    Model  Kilometer  \\\n",
       "0  2016-03-14 12:52:21   9800          suv    auto    163    grand     125000   \n",
       "1  2016-03-17 16:54:04   1500        small  manual     75     golf     150000   \n",
       "2  2016-03-31 17:25:20   3600        small  manual     69    fabia      90000   \n",
       "3  2016-04-04 17:36:23    650        sedan  manual    102      3er     150000   \n",
       "4  2016-04-01 20:48:51   2200  convertible  manual    109  2_reihe     150000   \n",
       "\n",
       "   FuelType       Brand NotRepaired          DateCreated  PostalCode  \\\n",
       "0  gasoline        jeep          no  2016-03-14 00:00:00       90480   \n",
       "1    petrol  volkswagen          no  2016-03-17 00:00:00       91074   \n",
       "2  gasoline       skoda          no  2016-03-31 00:00:00       60437   \n",
       "3    petrol         bmw         yes  2016-04-04 00:00:00       33775   \n",
       "4    petrol     peugeot          no  2016-04-01 00:00:00       67112   \n",
       "\n",
       "              LastSeen RegistrationDate  \n",
       "0  2016-04-05 12:47:46          2004-08  \n",
       "1  2016-03-17 17:40:17          2001-06  \n",
       "2  2016-04-06 10:17:21          2008-07  \n",
       "3  2016-04-06 19:17:07          1995-10  \n",
       "4  2016-04-05 18:18:39          2004-08  "
      ]
     },
     "execution_count": 179,
     "metadata": {},
     "output_type": "execute_result"
    }
   ],
   "source": [
    "good_autos['RegistrationMonth'] = good_autos['RegistrationMonth'].astype(str)\n",
    "good_autos['RegistrationMonth'] = good_autos['RegistrationMonth'].apply(lambda x: x.zfill(2))\n",
    "good_autos['RegistrationYear'] = good_autos['RegistrationYear'].astype(str)\n",
    "good_autos['RegistrationDate'] = good_autos['RegistrationYear'] + '-' + good_autos['RegistrationMonth']\n",
    "good_autos.drop(['RegistrationMonth','RegistrationYear'], axis=1,inplace=True)\n",
    "\n",
    "good_autos.head()"
   ]
  },
  {
   "cell_type": "markdown",
   "metadata": {},
   "source": [
    "Оптимизируем память"
   ]
  },
  {
   "cell_type": "code",
   "execution_count": 180,
   "metadata": {},
   "outputs": [],
   "source": [
    "def reduce_mem_usage (df):\n",
    "    start_mem = df.memory_usage().sum() / 1024**2    \n",
    "    for col in df.columns:\n",
    "        col_type = df[col].dtypes\n",
    "        if str(col_type)[:3] == \"int\":\n",
    "            c_min = df[col].min()\n",
    "            c_max = df[col].max()\n",
    "            if c_min > np.iinfo(\"i1\").min and c_max < np.iinfo(\"i1\").max:\n",
    "                df[col] = df[col].astype(np.int8)\n",
    "            elif c_min > np.iinfo(\"i2\").min and c_max < np.iinfo(\"i2\").max:\n",
    "                df[col] = df[col].astype(np.int16)\n",
    "            elif c_min > np.iinfo(\"i4\").min and c_max < np.iinfo(\"i4\").max:\n",
    "                df[col] = df[col].astype(np.int32)\n",
    "            elif c_min > np.iinfo(\"i8\").min and c_max < np.iinfo(\"i8\").max:\n",
    "                df[col] = df[col].astype(np.int64)\n",
    "        elif 'Date' in col or 'Seen' in col:\n",
    "            df[col] = pd.to_datetime(df[col])\n",
    "        else:\n",
    "            df[col] = df[col].astype(\"category\")\n",
    "    end_mem = df.memory_usage().sum() / 1024**2\n",
    "    print('Потребление памяти меньше на', round(start_mem - end_mem, 2), 'Мб (минус', round(100 * (start_mem - end_mem) / start_mem, 1), '%)')\n",
    "    return df"
   ]
  },
  {
   "cell_type": "code",
   "execution_count": 181,
   "metadata": {},
   "outputs": [
    {
     "name": "stdout",
     "output_type": "stream",
     "text": [
      "Потребление памяти меньше на 12.9 Мб (минус 50.8 %)\n",
      "\n",
      "<class 'pandas.core.frame.DataFrame'>\n",
      "Int64Index: 222057 entries, 0 to 230299\n",
      "Data columns (total 14 columns):\n",
      " #   Column            Non-Null Count   Dtype         \n",
      "---  ------            --------------   -----         \n",
      " 0   DateCrawled       222057 non-null  datetime64[ns]\n",
      " 1   Price             222057 non-null  int16         \n",
      " 2   VehicleType       222057 non-null  category      \n",
      " 3   Gearbox           222057 non-null  category      \n",
      " 4   Power             222057 non-null  int16         \n",
      " 5   Model             222057 non-null  category      \n",
      " 6   Kilometer         222057 non-null  int32         \n",
      " 7   FuelType          222057 non-null  category      \n",
      " 8   Brand             222057 non-null  category      \n",
      " 9   NotRepaired       222057 non-null  category      \n",
      " 10  DateCreated       222057 non-null  datetime64[ns]\n",
      " 11  PostalCode        222057 non-null  int32         \n",
      " 12  LastSeen          222057 non-null  datetime64[ns]\n",
      " 13  RegistrationDate  222057 non-null  datetime64[ns]\n",
      "dtypes: category(6), datetime64[ns](4), int16(2), int32(2)\n",
      "memory usage: 12.5 MB\n"
     ]
    }
   ],
   "source": [
    "good_autos = reduce_mem_usage(good_autos)\n",
    "print()\n",
    "good_autos.info()"
   ]
  },
  {
   "cell_type": "markdown",
   "metadata": {},
   "source": [
    "Посмотрим внимательно на колонку \"Kilometer\""
   ]
  },
  {
   "cell_type": "code",
   "execution_count": 183,
   "metadata": {},
   "outputs": [
    {
     "data": {
      "text/plain": [
       "array([125000, 150000,  90000,  30000,  70000, 100000,  60000,  20000,\n",
       "        50000,  40000,   5000,  10000,  80000])"
      ]
     },
     "execution_count": 183,
     "metadata": {},
     "output_type": "execute_result"
    }
   ],
   "source": [
    "good_autos['Kilometer'].unique()"
   ]
  },
  {
   "cell_type": "markdown",
   "metadata": {},
   "source": [
    "Несмотря на то, что данный признак числовой, уникальных значений у него не много. Похоже на сайте продавцам позволяют выбрать пробег из списка предопределенных значений. Взглянем на распределение цен для каждого значения в этмо столбце"
   ]
  },
  {
   "cell_type": "code",
   "execution_count": 184,
   "metadata": {
    "scrolled": false
   },
   "outputs": [
    {
     "data": {
      "text/html": [
       "<div>\n",
       "<style scoped>\n",
       "    .dataframe tbody tr th:only-of-type {\n",
       "        vertical-align: middle;\n",
       "    }\n",
       "\n",
       "    .dataframe tbody tr th {\n",
       "        vertical-align: top;\n",
       "    }\n",
       "\n",
       "    .dataframe thead th {\n",
       "        text-align: right;\n",
       "    }\n",
       "</style>\n",
       "<table border=\"1\" class=\"dataframe\">\n",
       "  <thead>\n",
       "    <tr style=\"text-align: right;\">\n",
       "      <th></th>\n",
       "      <th>Price</th>\n",
       "    </tr>\n",
       "    <tr>\n",
       "      <th>Kilometer</th>\n",
       "      <th></th>\n",
       "    </tr>\n",
       "  </thead>\n",
       "  <tbody>\n",
       "    <tr>\n",
       "      <th>5000</th>\n",
       "      <td>6367.526353</td>\n",
       "    </tr>\n",
       "    <tr>\n",
       "      <th>10000</th>\n",
       "      <td>12513.539510</td>\n",
       "    </tr>\n",
       "    <tr>\n",
       "      <th>20000</th>\n",
       "      <td>10982.265347</td>\n",
       "    </tr>\n",
       "    <tr>\n",
       "      <th>30000</th>\n",
       "      <td>10755.453135</td>\n",
       "    </tr>\n",
       "    <tr>\n",
       "      <th>40000</th>\n",
       "      <td>10794.547956</td>\n",
       "    </tr>\n",
       "    <tr>\n",
       "      <th>50000</th>\n",
       "      <td>10403.236028</td>\n",
       "    </tr>\n",
       "    <tr>\n",
       "      <th>60000</th>\n",
       "      <td>9903.910621</td>\n",
       "    </tr>\n",
       "    <tr>\n",
       "      <th>70000</th>\n",
       "      <td>9264.753218</td>\n",
       "    </tr>\n",
       "    <tr>\n",
       "      <th>80000</th>\n",
       "      <td>8747.562724</td>\n",
       "    </tr>\n",
       "    <tr>\n",
       "      <th>90000</th>\n",
       "      <td>8150.926583</td>\n",
       "    </tr>\n",
       "    <tr>\n",
       "      <th>100000</th>\n",
       "      <td>7596.903856</td>\n",
       "    </tr>\n",
       "    <tr>\n",
       "      <th>125000</th>\n",
       "      <td>6573.740952</td>\n",
       "    </tr>\n",
       "    <tr>\n",
       "      <th>150000</th>\n",
       "      <td>4301.708954</td>\n",
       "    </tr>\n",
       "  </tbody>\n",
       "</table>\n",
       "</div>"
      ],
      "text/plain": [
       "                  Price\n",
       "Kilometer              \n",
       "5000        6367.526353\n",
       "10000      12513.539510\n",
       "20000      10982.265347\n",
       "30000      10755.453135\n",
       "40000      10794.547956\n",
       "50000      10403.236028\n",
       "60000       9903.910621\n",
       "70000       9264.753218\n",
       "80000       8747.562724\n",
       "90000       8150.926583\n",
       "100000      7596.903856\n",
       "125000      6573.740952\n",
       "150000      4301.708954"
      ]
     },
     "execution_count": 184,
     "metadata": {},
     "output_type": "execute_result"
    }
   ],
   "source": [
    "good_autos.pivot_table(index='Kilometer',values='Price',aggfunc='mean')"
   ]
  },
  {
   "cell_type": "markdown",
   "metadata": {},
   "source": [
    "Начиная с 10000 цена снижается, хотя и незначительно между 10000 и 50000."
   ]
  },
  {
   "cell_type": "code",
   "execution_count": 185,
   "metadata": {},
   "outputs": [
    {
     "data": {
      "text/html": [
       "<div>\n",
       "<style scoped>\n",
       "    .dataframe tbody tr th:only-of-type {\n",
       "        vertical-align: middle;\n",
       "    }\n",
       "\n",
       "    .dataframe tbody tr th {\n",
       "        vertical-align: top;\n",
       "    }\n",
       "\n",
       "    .dataframe thead th {\n",
       "        text-align: right;\n",
       "    }\n",
       "</style>\n",
       "<table border=\"1\" class=\"dataframe\">\n",
       "  <thead>\n",
       "    <tr style=\"text-align: right;\">\n",
       "      <th></th>\n",
       "      <th>Price</th>\n",
       "      <th>Power</th>\n",
       "      <th>Kilometer</th>\n",
       "      <th>PostalCode</th>\n",
       "    </tr>\n",
       "  </thead>\n",
       "  <tbody>\n",
       "    <tr>\n",
       "      <th>Price</th>\n",
       "      <td>1.000000</td>\n",
       "      <td>0.415207</td>\n",
       "      <td>-0.431868</td>\n",
       "      <td>0.053461</td>\n",
       "    </tr>\n",
       "    <tr>\n",
       "      <th>Power</th>\n",
       "      <td>0.415207</td>\n",
       "      <td>1.000000</td>\n",
       "      <td>0.115667</td>\n",
       "      <td>0.031949</td>\n",
       "    </tr>\n",
       "    <tr>\n",
       "      <th>Kilometer</th>\n",
       "      <td>-0.431868</td>\n",
       "      <td>0.115667</td>\n",
       "      <td>1.000000</td>\n",
       "      <td>-0.013837</td>\n",
       "    </tr>\n",
       "    <tr>\n",
       "      <th>PostalCode</th>\n",
       "      <td>0.053461</td>\n",
       "      <td>0.031949</td>\n",
       "      <td>-0.013837</td>\n",
       "      <td>1.000000</td>\n",
       "    </tr>\n",
       "  </tbody>\n",
       "</table>\n",
       "</div>"
      ],
      "text/plain": [
       "               Price     Power  Kilometer  PostalCode\n",
       "Price       1.000000  0.415207  -0.431868    0.053461\n",
       "Power       0.415207  1.000000   0.115667    0.031949\n",
       "Kilometer  -0.431868  0.115667   1.000000   -0.013837\n",
       "PostalCode  0.053461  0.031949  -0.013837    1.000000"
      ]
     },
     "execution_count": 185,
     "metadata": {},
     "output_type": "execute_result"
    }
   ],
   "source": [
    "num_features = ['Price','Power','Kilometer','PostalCode']\n",
    "corr_df = good_autos[num_features]\n",
    "corr_df.corr(method='pearson')"
   ]
  },
  {
   "cell_type": "markdown",
   "metadata": {},
   "source": [
    "Достаточно сильная положительная корреляция между ценой и количеством л.с., что вполне логично. И отрицательная с километражем. Столбец PostalCode нам вряд ли пригодится.\n",
    "\n",
    "Теперь выберем признаки для последующих моделей и произведем OHE-Encoding категориальных переменных."
   ]
  },
  {
   "cell_type": "code",
   "execution_count": 186,
   "metadata": {
    "scrolled": true
   },
   "outputs": [
    {
     "data": {
      "text/html": [
       "<div>\n",
       "<style scoped>\n",
       "    .dataframe tbody tr th:only-of-type {\n",
       "        vertical-align: middle;\n",
       "    }\n",
       "\n",
       "    .dataframe tbody tr th {\n",
       "        vertical-align: top;\n",
       "    }\n",
       "\n",
       "    .dataframe thead th {\n",
       "        text-align: right;\n",
       "    }\n",
       "</style>\n",
       "<table border=\"1\" class=\"dataframe\">\n",
       "  <thead>\n",
       "    <tr style=\"text-align: right;\">\n",
       "      <th></th>\n",
       "      <th>Power</th>\n",
       "      <th>Kilometer</th>\n",
       "      <th>Price</th>\n",
       "      <th>VehicleType_convertible</th>\n",
       "      <th>VehicleType_coupe</th>\n",
       "      <th>VehicleType_other</th>\n",
       "      <th>VehicleType_sedan</th>\n",
       "      <th>VehicleType_small</th>\n",
       "      <th>VehicleType_suv</th>\n",
       "      <th>VehicleType_wagon</th>\n",
       "      <th>...</th>\n",
       "      <th>Brand_saab</th>\n",
       "      <th>Brand_seat</th>\n",
       "      <th>Brand_skoda</th>\n",
       "      <th>Brand_smart</th>\n",
       "      <th>Brand_subaru</th>\n",
       "      <th>Brand_suzuki</th>\n",
       "      <th>Brand_toyota</th>\n",
       "      <th>Brand_volkswagen</th>\n",
       "      <th>Brand_volvo</th>\n",
       "      <th>NotRepaired_yes</th>\n",
       "    </tr>\n",
       "  </thead>\n",
       "  <tbody>\n",
       "    <tr>\n",
       "      <th>0</th>\n",
       "      <td>163</td>\n",
       "      <td>125000</td>\n",
       "      <td>9800</td>\n",
       "      <td>0</td>\n",
       "      <td>0</td>\n",
       "      <td>0</td>\n",
       "      <td>0</td>\n",
       "      <td>0</td>\n",
       "      <td>1</td>\n",
       "      <td>0</td>\n",
       "      <td>...</td>\n",
       "      <td>0</td>\n",
       "      <td>0</td>\n",
       "      <td>0</td>\n",
       "      <td>0</td>\n",
       "      <td>0</td>\n",
       "      <td>0</td>\n",
       "      <td>0</td>\n",
       "      <td>0</td>\n",
       "      <td>0</td>\n",
       "      <td>0</td>\n",
       "    </tr>\n",
       "    <tr>\n",
       "      <th>1</th>\n",
       "      <td>75</td>\n",
       "      <td>150000</td>\n",
       "      <td>1500</td>\n",
       "      <td>0</td>\n",
       "      <td>0</td>\n",
       "      <td>0</td>\n",
       "      <td>0</td>\n",
       "      <td>1</td>\n",
       "      <td>0</td>\n",
       "      <td>0</td>\n",
       "      <td>...</td>\n",
       "      <td>0</td>\n",
       "      <td>0</td>\n",
       "      <td>0</td>\n",
       "      <td>0</td>\n",
       "      <td>0</td>\n",
       "      <td>0</td>\n",
       "      <td>0</td>\n",
       "      <td>1</td>\n",
       "      <td>0</td>\n",
       "      <td>0</td>\n",
       "    </tr>\n",
       "    <tr>\n",
       "      <th>2</th>\n",
       "      <td>69</td>\n",
       "      <td>90000</td>\n",
       "      <td>3600</td>\n",
       "      <td>0</td>\n",
       "      <td>0</td>\n",
       "      <td>0</td>\n",
       "      <td>0</td>\n",
       "      <td>1</td>\n",
       "      <td>0</td>\n",
       "      <td>0</td>\n",
       "      <td>...</td>\n",
       "      <td>0</td>\n",
       "      <td>0</td>\n",
       "      <td>1</td>\n",
       "      <td>0</td>\n",
       "      <td>0</td>\n",
       "      <td>0</td>\n",
       "      <td>0</td>\n",
       "      <td>0</td>\n",
       "      <td>0</td>\n",
       "      <td>0</td>\n",
       "    </tr>\n",
       "    <tr>\n",
       "      <th>3</th>\n",
       "      <td>102</td>\n",
       "      <td>150000</td>\n",
       "      <td>650</td>\n",
       "      <td>0</td>\n",
       "      <td>0</td>\n",
       "      <td>0</td>\n",
       "      <td>1</td>\n",
       "      <td>0</td>\n",
       "      <td>0</td>\n",
       "      <td>0</td>\n",
       "      <td>...</td>\n",
       "      <td>0</td>\n",
       "      <td>0</td>\n",
       "      <td>0</td>\n",
       "      <td>0</td>\n",
       "      <td>0</td>\n",
       "      <td>0</td>\n",
       "      <td>0</td>\n",
       "      <td>0</td>\n",
       "      <td>0</td>\n",
       "      <td>1</td>\n",
       "    </tr>\n",
       "    <tr>\n",
       "      <th>4</th>\n",
       "      <td>109</td>\n",
       "      <td>150000</td>\n",
       "      <td>2200</td>\n",
       "      <td>1</td>\n",
       "      <td>0</td>\n",
       "      <td>0</td>\n",
       "      <td>0</td>\n",
       "      <td>0</td>\n",
       "      <td>0</td>\n",
       "      <td>0</td>\n",
       "      <td>...</td>\n",
       "      <td>0</td>\n",
       "      <td>0</td>\n",
       "      <td>0</td>\n",
       "      <td>0</td>\n",
       "      <td>0</td>\n",
       "      <td>0</td>\n",
       "      <td>0</td>\n",
       "      <td>0</td>\n",
       "      <td>0</td>\n",
       "      <td>0</td>\n",
       "    </tr>\n",
       "    <tr>\n",
       "      <th>...</th>\n",
       "      <td>...</td>\n",
       "      <td>...</td>\n",
       "      <td>...</td>\n",
       "      <td>...</td>\n",
       "      <td>...</td>\n",
       "      <td>...</td>\n",
       "      <td>...</td>\n",
       "      <td>...</td>\n",
       "      <td>...</td>\n",
       "      <td>...</td>\n",
       "      <td>...</td>\n",
       "      <td>...</td>\n",
       "      <td>...</td>\n",
       "      <td>...</td>\n",
       "      <td>...</td>\n",
       "      <td>...</td>\n",
       "      <td>...</td>\n",
       "      <td>...</td>\n",
       "      <td>...</td>\n",
       "      <td>...</td>\n",
       "      <td>...</td>\n",
       "    </tr>\n",
       "    <tr>\n",
       "      <th>230295</th>\n",
       "      <td>140</td>\n",
       "      <td>150000</td>\n",
       "      <td>7900</td>\n",
       "      <td>0</td>\n",
       "      <td>0</td>\n",
       "      <td>0</td>\n",
       "      <td>1</td>\n",
       "      <td>0</td>\n",
       "      <td>0</td>\n",
       "      <td>0</td>\n",
       "      <td>...</td>\n",
       "      <td>0</td>\n",
       "      <td>0</td>\n",
       "      <td>0</td>\n",
       "      <td>0</td>\n",
       "      <td>0</td>\n",
       "      <td>0</td>\n",
       "      <td>0</td>\n",
       "      <td>1</td>\n",
       "      <td>0</td>\n",
       "      <td>0</td>\n",
       "    </tr>\n",
       "    <tr>\n",
       "      <th>230296</th>\n",
       "      <td>225</td>\n",
       "      <td>150000</td>\n",
       "      <td>3200</td>\n",
       "      <td>0</td>\n",
       "      <td>0</td>\n",
       "      <td>0</td>\n",
       "      <td>1</td>\n",
       "      <td>0</td>\n",
       "      <td>0</td>\n",
       "      <td>0</td>\n",
       "      <td>...</td>\n",
       "      <td>0</td>\n",
       "      <td>1</td>\n",
       "      <td>0</td>\n",
       "      <td>0</td>\n",
       "      <td>0</td>\n",
       "      <td>0</td>\n",
       "      <td>0</td>\n",
       "      <td>0</td>\n",
       "      <td>0</td>\n",
       "      <td>1</td>\n",
       "    </tr>\n",
       "    <tr>\n",
       "      <th>230297</th>\n",
       "      <td>101</td>\n",
       "      <td>125000</td>\n",
       "      <td>1199</td>\n",
       "      <td>1</td>\n",
       "      <td>0</td>\n",
       "      <td>0</td>\n",
       "      <td>0</td>\n",
       "      <td>0</td>\n",
       "      <td>0</td>\n",
       "      <td>0</td>\n",
       "      <td>...</td>\n",
       "      <td>0</td>\n",
       "      <td>0</td>\n",
       "      <td>0</td>\n",
       "      <td>1</td>\n",
       "      <td>0</td>\n",
       "      <td>0</td>\n",
       "      <td>0</td>\n",
       "      <td>0</td>\n",
       "      <td>0</td>\n",
       "      <td>0</td>\n",
       "    </tr>\n",
       "    <tr>\n",
       "      <th>230298</th>\n",
       "      <td>102</td>\n",
       "      <td>150000</td>\n",
       "      <td>9200</td>\n",
       "      <td>0</td>\n",
       "      <td>0</td>\n",
       "      <td>0</td>\n",
       "      <td>0</td>\n",
       "      <td>0</td>\n",
       "      <td>0</td>\n",
       "      <td>0</td>\n",
       "      <td>...</td>\n",
       "      <td>0</td>\n",
       "      <td>0</td>\n",
       "      <td>0</td>\n",
       "      <td>0</td>\n",
       "      <td>0</td>\n",
       "      <td>0</td>\n",
       "      <td>0</td>\n",
       "      <td>1</td>\n",
       "      <td>0</td>\n",
       "      <td>0</td>\n",
       "    </tr>\n",
       "    <tr>\n",
       "      <th>230299</th>\n",
       "      <td>100</td>\n",
       "      <td>150000</td>\n",
       "      <td>3400</td>\n",
       "      <td>0</td>\n",
       "      <td>0</td>\n",
       "      <td>0</td>\n",
       "      <td>0</td>\n",
       "      <td>0</td>\n",
       "      <td>0</td>\n",
       "      <td>1</td>\n",
       "      <td>...</td>\n",
       "      <td>0</td>\n",
       "      <td>0</td>\n",
       "      <td>0</td>\n",
       "      <td>0</td>\n",
       "      <td>0</td>\n",
       "      <td>0</td>\n",
       "      <td>0</td>\n",
       "      <td>1</td>\n",
       "      <td>0</td>\n",
       "      <td>0</td>\n",
       "    </tr>\n",
       "  </tbody>\n",
       "</table>\n",
       "<p>222057 rows × 301 columns</p>\n",
       "</div>"
      ],
      "text/plain": [
       "        Power  Kilometer  Price  VehicleType_convertible  VehicleType_coupe  \\\n",
       "0         163     125000   9800                        0                  0   \n",
       "1          75     150000   1500                        0                  0   \n",
       "2          69      90000   3600                        0                  0   \n",
       "3         102     150000    650                        0                  0   \n",
       "4         109     150000   2200                        1                  0   \n",
       "...       ...        ...    ...                      ...                ...   \n",
       "230295    140     150000   7900                        0                  0   \n",
       "230296    225     150000   3200                        0                  0   \n",
       "230297    101     125000   1199                        1                  0   \n",
       "230298    102     150000   9200                        0                  0   \n",
       "230299    100     150000   3400                        0                  0   \n",
       "\n",
       "        VehicleType_other  VehicleType_sedan  VehicleType_small  \\\n",
       "0                       0                  0                  0   \n",
       "1                       0                  0                  1   \n",
       "2                       0                  0                  1   \n",
       "3                       0                  1                  0   \n",
       "4                       0                  0                  0   \n",
       "...                   ...                ...                ...   \n",
       "230295                  0                  1                  0   \n",
       "230296                  0                  1                  0   \n",
       "230297                  0                  0                  0   \n",
       "230298                  0                  0                  0   \n",
       "230299                  0                  0                  0   \n",
       "\n",
       "        VehicleType_suv  VehicleType_wagon  ...  Brand_saab  Brand_seat  \\\n",
       "0                     1                  0  ...           0           0   \n",
       "1                     0                  0  ...           0           0   \n",
       "2                     0                  0  ...           0           0   \n",
       "3                     0                  0  ...           0           0   \n",
       "4                     0                  0  ...           0           0   \n",
       "...                 ...                ...  ...         ...         ...   \n",
       "230295                0                  0  ...           0           0   \n",
       "230296                0                  0  ...           0           1   \n",
       "230297                0                  0  ...           0           0   \n",
       "230298                0                  0  ...           0           0   \n",
       "230299                0                  1  ...           0           0   \n",
       "\n",
       "        Brand_skoda  Brand_smart  Brand_subaru  Brand_suzuki  Brand_toyota  \\\n",
       "0                 0            0             0             0             0   \n",
       "1                 0            0             0             0             0   \n",
       "2                 1            0             0             0             0   \n",
       "3                 0            0             0             0             0   \n",
       "4                 0            0             0             0             0   \n",
       "...             ...          ...           ...           ...           ...   \n",
       "230295            0            0             0             0             0   \n",
       "230296            0            0             0             0             0   \n",
       "230297            0            1             0             0             0   \n",
       "230298            0            0             0             0             0   \n",
       "230299            0            0             0             0             0   \n",
       "\n",
       "        Brand_volkswagen  Brand_volvo  NotRepaired_yes  \n",
       "0                      0            0                0  \n",
       "1                      1            0                0  \n",
       "2                      0            0                0  \n",
       "3                      0            0                1  \n",
       "4                      0            0                0  \n",
       "...                  ...          ...              ...  \n",
       "230295                 1            0                0  \n",
       "230296                 0            0                1  \n",
       "230297                 0            0                0  \n",
       "230298                 1            0                0  \n",
       "230299                 1            0                0  \n",
       "\n",
       "[222057 rows x 301 columns]"
      ]
     },
     "execution_count": 186,
     "metadata": {},
     "output_type": "execute_result"
    }
   ],
   "source": [
    "lr_columns = ['VehicleType','Gearbox','Power','Model','Kilometer','FuelType','Brand','NotRepaired','Price']\n",
    "good_autos_enc = pd.get_dummies(good_autos[lr_columns], drop_first=True)\n",
    "good_autos_enc"
   ]
  },
  {
   "cell_type": "markdown",
   "metadata": {},
   "source": [
    "## 2. Обучим разные модели с различными гиперпараметрами\n",
    "\n",
    "Разбиваем данные"
   ]
  },
  {
   "cell_type": "code",
   "execution_count": 187,
   "metadata": {},
   "outputs": [],
   "source": [
    "features = good_autos_enc.drop('Price',axis=1)\n",
    "target   = good_autos_enc['Price']\n",
    "features_train, features_test, target_train, target_test = train_test_split(features, target, test_size=0.2, random_state=42)"
   ]
  },
  {
   "cell_type": "markdown",
   "metadata": {},
   "source": [
    "Опробуем Линейную Регрессию"
   ]
  },
  {
   "cell_type": "code",
   "execution_count": 188,
   "metadata": {},
   "outputs": [
    {
     "data": {
      "text/plain": [
       "3069.5046444666286"
      ]
     },
     "execution_count": 188,
     "metadata": {},
     "output_type": "execute_result"
    }
   ],
   "source": [
    "model = LinearRegression()\n",
    "model.fit(features_train,target_train)\n",
    "\n",
    "mse = cross_val_score(model,features_test,target_test,scoring='neg_mean_squared_error',cv=10)\n",
    "mse = np.mean(mse)\n",
    "np.sqrt(abs(mse))"
   ]
  },
  {
   "cell_type": "markdown",
   "metadata": {},
   "source": [
    "Данная модель дала нам RMSE = 3069. Будем пытаться уменьшить ее.\n",
    "\n",
    "Для моделей LightGBM и CatBoost воспользуемся GridSearchCV и RandomizedSearchCV, чтобы подобрать оптимальные значения гиперпараметров. Напишем функцию, которая будет использовать один из этих методов для подбора гиперпараметров, а также обучать модель и делать предсказания. Также она будет засекать время своего выполнения."
   ]
  },
  {
   "cell_type": "code",
   "execution_count": 189,
   "metadata": {},
   "outputs": [],
   "source": [
    "def search_learn_predict(X_train_data, X_test_data, y_train_data, y_test_data, \n",
    "                       model, param_grid, cv=10, scoring_fit='neg_mean_squared_error',\n",
    "                         search_mode = 'GridSearchCV', n_iterations = 0):\n",
    "    start = time.time()\n",
    "    \n",
    "    fitted_model = None\n",
    "    \n",
    "    if(search_mode == 'GridSearchCV'):\n",
    "        gs = GridSearchCV(\n",
    "            estimator=model,\n",
    "            param_grid=param_grid, \n",
    "            cv=cv, \n",
    "            n_jobs=-1, \n",
    "            scoring=scoring_fit,\n",
    "            verbose=2\n",
    "        )\n",
    "        fitted_model = gs.fit(X_train_data, y_train_data)\n",
    "    else:\n",
    "        rs = RandomizedSearchCV(\n",
    "            estimator=model,\n",
    "            param_distributions=param_grid, \n",
    "            cv=cv,\n",
    "            n_iter=n_iterations,\n",
    "            n_jobs=-1, \n",
    "            scoring=scoring_fit,\n",
    "            verbose=2\n",
    "        )\n",
    "        fitted_model = rs.fit(X_train_data, y_train_data)\n",
    "        \n",
    "    pred = fitted_model.predict(X_test_data)\n",
    "    end = time.time()\n",
    "    print('Time of execution: {}'.format(end - start))\n",
    "    return fitted_model, pred"
   ]
  },
  {
   "cell_type": "markdown",
   "metadata": {},
   "source": [
    "## LGBM\n",
    "\n",
    "Используем GridSearchCV"
   ]
  },
  {
   "cell_type": "code",
   "execution_count": 190,
   "metadata": {},
   "outputs": [
    {
     "name": "stdout",
     "output_type": "stream",
     "text": [
      "Fitting 5 folds for each of 18 candidates, totalling 90 fits\n"
     ]
    },
    {
     "name": "stderr",
     "output_type": "stream",
     "text": [
      "[Parallel(n_jobs=-1)]: Using backend LokyBackend with 4 concurrent workers.\n",
      "[Parallel(n_jobs=-1)]: Done  33 tasks      | elapsed:   42.5s\n",
      "[Parallel(n_jobs=-1)]: Done  90 out of  90 | elapsed:  1.9min finished\n"
     ]
    },
    {
     "name": "stdout",
     "output_type": "stream",
     "text": [
      "Время выполнения функции: 116.10732126235962\n",
      "2450.472699016674\n",
      "{'max_depth': 8, 'n_estimators': 100, 'num_leaves': 100}\n"
     ]
    }
   ],
   "source": [
    "model = lgb.LGBMRegressor()\n",
    "param_grid = {\n",
    "    'n_estimators': [20, 50, 100],\n",
    "    'max_depth': [4, 6, 8],\n",
    "    'num_leaves': [50, 100]\n",
    "}\n",
    "\n",
    "model, pred = search_learn_predict(features_train, features_test, target_train, target_test, model, \n",
    "                                 param_grid, cv=5)\n",
    "\n",
    "print(np.sqrt(abs(model.best_score_)))\n",
    "print(model.best_params_)"
   ]
  },
  {
   "cell_type": "markdown",
   "metadata": {},
   "source": [
    "Используем RandomizedSearchCV"
   ]
  },
  {
   "cell_type": "code",
   "execution_count": 191,
   "metadata": {},
   "outputs": [
    {
     "name": "stdout",
     "output_type": "stream",
     "text": [
      "Fitting 5 folds for each of 10 candidates, totalling 50 fits\n"
     ]
    },
    {
     "name": "stderr",
     "output_type": "stream",
     "text": [
      "[Parallel(n_jobs=-1)]: Using backend LokyBackend with 4 concurrent workers.\n",
      "[Parallel(n_jobs=-1)]: Done  33 tasks      | elapsed:   45.0s\n",
      "[Parallel(n_jobs=-1)]: Done  50 out of  50 | elapsed:  1.0min finished\n"
     ]
    },
    {
     "name": "stdout",
     "output_type": "stream",
     "text": [
      "Время выполнения функции: 65.30004692077637\n",
      "2450.472699016674\n",
      "{'num_leaves': 100, 'n_estimators': 100, 'max_depth': 8}\n"
     ]
    }
   ],
   "source": [
    "model = lgb.LGBMRegressor()\n",
    "param_grid = {\n",
    "    'n_estimators': [20, 50, 100],\n",
    "    'max_depth': [4, 6, 8],\n",
    "    'num_leaves': [50, 100]\n",
    "}\n",
    "\n",
    "model, pred = search_learn_predict(features_train, features_test, target_train, target_test, model, \n",
    "                                 param_grid, cv=5, search_mode = 'RandomizedSearchCV', n_iterations = 10 )\n",
    "\n",
    "print(np.sqrt(abs(model.best_score_)))\n",
    "print(model.best_params_)"
   ]
  },
  {
   "cell_type": "markdown",
   "metadata": {},
   "source": [
    "## CatBoost\n",
    "\n",
    "GridSearchCV"
   ]
  },
  {
   "cell_type": "code",
   "execution_count": 194,
   "metadata": {},
   "outputs": [
    {
     "name": "stdout",
     "output_type": "stream",
     "text": [
      "Fitting 5 folds for each of 27 candidates, totalling 135 fits\n"
     ]
    },
    {
     "name": "stderr",
     "output_type": "stream",
     "text": [
      "[Parallel(n_jobs=-1)]: Using backend LokyBackend with 4 concurrent workers.\n",
      "[Parallel(n_jobs=-1)]: Done  33 tasks      | elapsed:   59.7s\n",
      "[Parallel(n_jobs=-1)]: Done 135 out of 135 | elapsed:  4.6min finished\n"
     ]
    },
    {
     "name": "stdout",
     "output_type": "stream",
     "text": [
      "0:\tlearn: 4481.7814295\ttotal: 57.6ms\tremaining: 2.82s\n",
      "1:\tlearn: 4245.2817983\ttotal: 114ms\tremaining: 2.75s\n",
      "2:\tlearn: 4044.5484996\ttotal: 169ms\tremaining: 2.64s\n",
      "3:\tlearn: 3869.8471186\ttotal: 225ms\tremaining: 2.59s\n",
      "4:\tlearn: 3718.7932239\ttotal: 291ms\tremaining: 2.62s\n",
      "5:\tlearn: 3590.4354623\ttotal: 348ms\tremaining: 2.55s\n",
      "6:\tlearn: 3483.9808293\ttotal: 409ms\tremaining: 2.51s\n",
      "7:\tlearn: 3391.8261057\ttotal: 468ms\tremaining: 2.46s\n",
      "8:\tlearn: 3308.1861392\ttotal: 532ms\tremaining: 2.42s\n",
      "9:\tlearn: 3237.2968218\ttotal: 591ms\tremaining: 2.36s\n",
      "10:\tlearn: 3176.7090424\ttotal: 647ms\tremaining: 2.29s\n",
      "11:\tlearn: 3122.2612618\ttotal: 705ms\tremaining: 2.23s\n",
      "12:\tlearn: 3077.3001121\ttotal: 770ms\tremaining: 2.19s\n",
      "13:\tlearn: 3038.8133698\ttotal: 826ms\tremaining: 2.12s\n",
      "14:\tlearn: 3006.6804064\ttotal: 886ms\tremaining: 2.07s\n",
      "15:\tlearn: 2978.6117823\ttotal: 960ms\tremaining: 2.04s\n",
      "16:\tlearn: 2951.9175923\ttotal: 1.01s\tremaining: 1.97s\n",
      "17:\tlearn: 2929.1411092\ttotal: 1.07s\tremaining: 1.91s\n",
      "18:\tlearn: 2908.2538946\ttotal: 1.13s\tremaining: 1.84s\n",
      "19:\tlearn: 2890.7238930\ttotal: 1.2s\tremaining: 1.79s\n",
      "20:\tlearn: 2874.2371202\ttotal: 1.25s\tremaining: 1.73s\n",
      "21:\tlearn: 2860.1757998\ttotal: 1.31s\tremaining: 1.66s\n",
      "22:\tlearn: 2843.4674776\ttotal: 1.36s\tremaining: 1.6s\n",
      "23:\tlearn: 2832.6650187\ttotal: 1.43s\tremaining: 1.55s\n",
      "24:\tlearn: 2820.3203936\ttotal: 1.5s\tremaining: 1.5s\n",
      "25:\tlearn: 2810.0210228\ttotal: 1.55s\tremaining: 1.43s\n",
      "26:\tlearn: 2801.5837355\ttotal: 1.61s\tremaining: 1.37s\n",
      "27:\tlearn: 2792.1750862\ttotal: 1.68s\tremaining: 1.32s\n",
      "28:\tlearn: 2784.2292752\ttotal: 1.73s\tremaining: 1.25s\n",
      "29:\tlearn: 2777.2216872\ttotal: 1.79s\tremaining: 1.19s\n",
      "30:\tlearn: 2769.7697484\ttotal: 1.85s\tremaining: 1.13s\n",
      "31:\tlearn: 2764.2712324\ttotal: 1.92s\tremaining: 1.08s\n",
      "32:\tlearn: 2754.7675810\ttotal: 1.97s\tremaining: 1.02s\n",
      "33:\tlearn: 2747.6236749\ttotal: 2.03s\tremaining: 956ms\n",
      "34:\tlearn: 2742.7112553\ttotal: 2.09s\tremaining: 895ms\n",
      "35:\tlearn: 2736.8872297\ttotal: 2.15s\tremaining: 837ms\n",
      "36:\tlearn: 2731.2670846\ttotal: 2.21s\tremaining: 777ms\n",
      "37:\tlearn: 2727.0405660\ttotal: 2.27s\tremaining: 716ms\n",
      "38:\tlearn: 2722.9448555\ttotal: 2.33s\tremaining: 656ms\n",
      "39:\tlearn: 2715.6157460\ttotal: 2.39s\tremaining: 597ms\n",
      "40:\tlearn: 2710.7877830\ttotal: 2.45s\tremaining: 537ms\n",
      "41:\tlearn: 2705.0234143\ttotal: 2.51s\tremaining: 477ms\n",
      "42:\tlearn: 2699.9575925\ttotal: 2.56s\tremaining: 417ms\n",
      "43:\tlearn: 2696.4503253\ttotal: 2.63s\tremaining: 358ms\n",
      "44:\tlearn: 2691.3037140\ttotal: 2.69s\tremaining: 299ms\n",
      "45:\tlearn: 2688.1000327\ttotal: 2.74s\tremaining: 239ms\n",
      "46:\tlearn: 2684.6405950\ttotal: 2.8s\tremaining: 179ms\n",
      "47:\tlearn: 2681.1067748\ttotal: 2.87s\tremaining: 120ms\n",
      "48:\tlearn: 2677.9025820\ttotal: 2.92s\tremaining: 59.7ms\n",
      "49:\tlearn: 2672.2438902\ttotal: 2.98s\tremaining: 0us\n",
      "Время выполнения функции: 281.914306640625\n",
      "2691.846867842744\n",
      "{'depth': 10, 'iterations': 50, 'learning_rate': 0.1}\n"
     ]
    }
   ],
   "source": [
    "model = CatBoostRegressor()\n",
    "param_grid = {\n",
    "    'depth': [6,8,10],\n",
    "    'learning_rate': [0.01,0.05,0.1],\n",
    "    'iterations': [10,30,50]\n",
    "}\n",
    "model, pred = search_learn_predict(features_train, features_test, target_train, target_test, model, \n",
    "                                 param_grid, cv=5)\n",
    "\n",
    "print(np.sqrt(abs(model.best_score_)))\n",
    "print(model.best_params_)"
   ]
  },
  {
   "cell_type": "markdown",
   "metadata": {},
   "source": [
    "RandomizedSearchCV"
   ]
  },
  {
   "cell_type": "code",
   "execution_count": 195,
   "metadata": {},
   "outputs": [
    {
     "name": "stdout",
     "output_type": "stream",
     "text": [
      "Fitting 5 folds for each of 10 candidates, totalling 50 fits\n"
     ]
    },
    {
     "name": "stderr",
     "output_type": "stream",
     "text": [
      "[Parallel(n_jobs=-1)]: Using backend LokyBackend with 4 concurrent workers.\n",
      "[Parallel(n_jobs=-1)]: Done  33 tasks      | elapsed:  1.1min\n",
      "[Parallel(n_jobs=-1)]: Done  50 out of  50 | elapsed:  1.6min finished\n"
     ]
    },
    {
     "name": "stdout",
     "output_type": "stream",
     "text": [
      "0:\tlearn: 4487.9277678\ttotal: 40ms\tremaining: 1.96s\n",
      "1:\tlearn: 4257.7071061\ttotal: 73.8ms\tremaining: 1.77s\n",
      "2:\tlearn: 4062.2074436\ttotal: 107ms\tremaining: 1.68s\n",
      "3:\tlearn: 3893.9829021\ttotal: 141ms\tremaining: 1.62s\n",
      "4:\tlearn: 3750.0242633\ttotal: 173ms\tremaining: 1.56s\n",
      "5:\tlearn: 3627.8756499\ttotal: 205ms\tremaining: 1.51s\n",
      "6:\tlearn: 3527.5530301\ttotal: 252ms\tremaining: 1.54s\n",
      "7:\tlearn: 3440.0991882\ttotal: 295ms\tremaining: 1.55s\n",
      "8:\tlearn: 3360.8901686\ttotal: 331ms\tremaining: 1.51s\n",
      "9:\tlearn: 3295.0210766\ttotal: 365ms\tremaining: 1.46s\n",
      "10:\tlearn: 3237.1162348\ttotal: 399ms\tremaining: 1.41s\n",
      "11:\tlearn: 3185.0579429\ttotal: 444ms\tremaining: 1.4s\n",
      "12:\tlearn: 3141.4402652\ttotal: 482ms\tremaining: 1.37s\n",
      "13:\tlearn: 3105.5200246\ttotal: 515ms\tremaining: 1.32s\n",
      "14:\tlearn: 3073.1671468\ttotal: 547ms\tremaining: 1.27s\n",
      "15:\tlearn: 3042.1029552\ttotal: 579ms\tremaining: 1.23s\n",
      "16:\tlearn: 3014.4994946\ttotal: 613ms\tremaining: 1.19s\n",
      "17:\tlearn: 2992.8648450\ttotal: 645ms\tremaining: 1.15s\n",
      "18:\tlearn: 2972.0806130\ttotal: 683ms\tremaining: 1.11s\n",
      "19:\tlearn: 2953.8051784\ttotal: 716ms\tremaining: 1.07s\n",
      "20:\tlearn: 2936.8493799\ttotal: 749ms\tremaining: 1.03s\n",
      "21:\tlearn: 2920.2983292\ttotal: 781ms\tremaining: 994ms\n",
      "22:\tlearn: 2907.6659935\ttotal: 812ms\tremaining: 953ms\n",
      "23:\tlearn: 2894.1530175\ttotal: 845ms\tremaining: 916ms\n",
      "24:\tlearn: 2881.0518364\ttotal: 886ms\tremaining: 886ms\n",
      "25:\tlearn: 2869.8437328\ttotal: 919ms\tremaining: 848ms\n",
      "26:\tlearn: 2858.8457472\ttotal: 953ms\tremaining: 811ms\n",
      "27:\tlearn: 2850.8384943\ttotal: 984ms\tremaining: 773ms\n",
      "28:\tlearn: 2841.9058566\ttotal: 1.01s\tremaining: 735ms\n",
      "29:\tlearn: 2834.0841743\ttotal: 1.05s\tremaining: 702ms\n",
      "30:\tlearn: 2827.2338151\ttotal: 1.09s\tremaining: 668ms\n",
      "31:\tlearn: 2820.9799235\ttotal: 1.12s\tremaining: 630ms\n",
      "32:\tlearn: 2814.9097475\ttotal: 1.15s\tremaining: 593ms\n",
      "33:\tlearn: 2809.5690849\ttotal: 1.18s\tremaining: 556ms\n",
      "34:\tlearn: 2804.7629659\ttotal: 1.21s\tremaining: 519ms\n",
      "35:\tlearn: 2799.9600243\ttotal: 1.24s\tremaining: 483ms\n",
      "36:\tlearn: 2794.8319581\ttotal: 1.28s\tremaining: 450ms\n",
      "37:\tlearn: 2789.5901494\ttotal: 1.31s\tremaining: 415ms\n",
      "38:\tlearn: 2784.5876324\ttotal: 1.35s\tremaining: 381ms\n",
      "39:\tlearn: 2779.9125944\ttotal: 1.38s\tremaining: 345ms\n",
      "40:\tlearn: 2774.7168485\ttotal: 1.41s\tremaining: 310ms\n",
      "41:\tlearn: 2769.3253750\ttotal: 1.45s\tremaining: 276ms\n",
      "42:\tlearn: 2765.8815780\ttotal: 1.48s\tremaining: 241ms\n",
      "43:\tlearn: 2762.2866839\ttotal: 1.51s\tremaining: 206ms\n",
      "44:\tlearn: 2758.8902543\ttotal: 1.54s\tremaining: 171ms\n",
      "45:\tlearn: 2755.5334435\ttotal: 1.57s\tremaining: 137ms\n",
      "46:\tlearn: 2750.3103042\ttotal: 1.61s\tremaining: 103ms\n",
      "47:\tlearn: 2747.0924667\ttotal: 1.64s\tremaining: 68.3ms\n",
      "48:\tlearn: 2742.8874239\ttotal: 1.68s\tremaining: 34.3ms\n",
      "49:\tlearn: 2740.0545569\ttotal: 1.71s\tremaining: 0us\n",
      "Время выполнения функции: 101.88212442398071\n",
      "2749.7440861566483\n",
      "{'learning_rate': 0.1, 'iterations': 50, 'depth': 8}\n"
     ]
    }
   ],
   "source": [
    "model = CatBoostRegressor()\n",
    "param_grid = {\n",
    "    'depth': [6,8,10],\n",
    "    'learning_rate': [0.01,0.05,0.1],\n",
    "    'iterations': [10,30,50]\n",
    "}\n",
    "model, pred = search_learn_predict(features_train, features_test, target_train, target_test, model, \n",
    "                                 param_grid, cv=5, search_mode = 'RandomizedSearchCV', n_iterations = 10 )\n",
    "\n",
    "print(np.sqrt(abs(model.best_score_)))\n",
    "print(model.best_params_)"
   ]
  },
  {
   "cell_type": "markdown",
   "metadata": {},
   "source": [
    "## 3. Проанализируем скорость работы и качество моделей.\n",
    "\n",
    "Как LightGBM, так и CatBoost дают значение метрики лучшее, чем Линейная Регрессия. У последней RMSE вышло 3069. CatBoost дал значение 2691 при использовании GridSearchCV (281 секунда) и 2749 при использовании RandomizedSearchCV (101 секунда). Лучшее значение у LightGBM - 2450, независимо от метода подбора. Помимо лучшего значения метрики данная модель выигрывает в скорости (65 секунд при RandomizedSearchCV и 116 при GridSearchCV). "
   ]
  }
 ],
 "metadata": {
  "kernelspec": {
   "display_name": "Python 3",
   "language": "python",
   "name": "python3"
  },
  "language_info": {
   "codemirror_mode": {
    "name": "ipython",
    "version": 3
   },
   "file_extension": ".py",
   "mimetype": "text/x-python",
   "name": "python",
   "nbconvert_exporter": "python",
   "pygments_lexer": "ipython3",
   "version": "3.7.9"
  }
 },
 "nbformat": 4,
 "nbformat_minor": 4
}
