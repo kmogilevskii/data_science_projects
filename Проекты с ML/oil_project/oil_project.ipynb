{
 "cells": [
  {
   "cell_type": "markdown",
   "metadata": {},
   "source": [
    "# ГлавРосГосНефть"
   ]
  },
  {
   "cell_type": "markdown",
   "metadata": {},
   "source": [
    "Предположим, мы работаем в добывающей компании «ГлавРосГосНефть». Нужно решить, где бурить новую скважину.\n",
    "\n",
    "Шаги для выбора локации обычно такие:\n",
    "- В избранном регионе собирают характеристики для скважин: качество нефти и объём её запасов;\n",
    "- Строят модель для предсказания объёма запасов в новых скважинах;\n",
    "- Выбирают скважины с самыми высокими оценками значений;\n",
    "- Определяют регион с максимальной суммарной прибылью отобранных скважин.\n",
    "\n",
    "Нам предоставлены пробы нефти в трёх регионах. Характеристики для каждой скважины в регионе уже известны. Постройте модель для определения региона, где добыча принесёт наибольшую прибыль."
   ]
  },
  {
   "cell_type": "markdown",
   "metadata": {},
   "source": [
    "## 1. Загрузите и подготовьте данные."
   ]
  },
  {
   "cell_type": "code",
   "execution_count": 1,
   "metadata": {},
   "outputs": [
    {
     "name": "stdout",
     "output_type": "stream",
     "text": [
      "<class 'pandas.core.frame.DataFrame'>\n",
      "RangeIndex: 100000 entries, 0 to 99999\n",
      "Data columns (total 5 columns):\n",
      " #   Column   Non-Null Count   Dtype  \n",
      "---  ------   --------------   -----  \n",
      " 0   id       100000 non-null  object \n",
      " 1   f0       100000 non-null  float64\n",
      " 2   f1       100000 non-null  float64\n",
      " 3   f2       100000 non-null  float64\n",
      " 4   product  100000 non-null  float64\n",
      "dtypes: float64(4), object(1)\n",
      "memory usage: 3.8+ MB\n"
     ]
    },
    {
     "data": {
      "text/html": [
       "<div>\n",
       "<style scoped>\n",
       "    .dataframe tbody tr th:only-of-type {\n",
       "        vertical-align: middle;\n",
       "    }\n",
       "\n",
       "    .dataframe tbody tr th {\n",
       "        vertical-align: top;\n",
       "    }\n",
       "\n",
       "    .dataframe thead th {\n",
       "        text-align: right;\n",
       "    }\n",
       "</style>\n",
       "<table border=\"1\" class=\"dataframe\">\n",
       "  <thead>\n",
       "    <tr style=\"text-align: right;\">\n",
       "      <th></th>\n",
       "      <th>id</th>\n",
       "      <th>f0</th>\n",
       "      <th>f1</th>\n",
       "      <th>f2</th>\n",
       "      <th>product</th>\n",
       "    </tr>\n",
       "  </thead>\n",
       "  <tbody>\n",
       "    <tr>\n",
       "      <th>0</th>\n",
       "      <td>txEyH</td>\n",
       "      <td>0.705745</td>\n",
       "      <td>-0.497823</td>\n",
       "      <td>1.221170</td>\n",
       "      <td>105.280062</td>\n",
       "    </tr>\n",
       "    <tr>\n",
       "      <th>1</th>\n",
       "      <td>2acmU</td>\n",
       "      <td>1.334711</td>\n",
       "      <td>-0.340164</td>\n",
       "      <td>4.365080</td>\n",
       "      <td>73.037750</td>\n",
       "    </tr>\n",
       "    <tr>\n",
       "      <th>2</th>\n",
       "      <td>409Wp</td>\n",
       "      <td>1.022732</td>\n",
       "      <td>0.151990</td>\n",
       "      <td>1.419926</td>\n",
       "      <td>85.265647</td>\n",
       "    </tr>\n",
       "    <tr>\n",
       "      <th>3</th>\n",
       "      <td>iJLyR</td>\n",
       "      <td>-0.032172</td>\n",
       "      <td>0.139033</td>\n",
       "      <td>2.978566</td>\n",
       "      <td>168.620776</td>\n",
       "    </tr>\n",
       "    <tr>\n",
       "      <th>4</th>\n",
       "      <td>Xdl7t</td>\n",
       "      <td>1.988431</td>\n",
       "      <td>0.155413</td>\n",
       "      <td>4.751769</td>\n",
       "      <td>154.036647</td>\n",
       "    </tr>\n",
       "  </tbody>\n",
       "</table>\n",
       "</div>"
      ],
      "text/plain": [
       "      id        f0        f1        f2     product\n",
       "0  txEyH  0.705745 -0.497823  1.221170  105.280062\n",
       "1  2acmU  1.334711 -0.340164  4.365080   73.037750\n",
       "2  409Wp  1.022732  0.151990  1.419926   85.265647\n",
       "3  iJLyR -0.032172  0.139033  2.978566  168.620776\n",
       "4  Xdl7t  1.988431  0.155413  4.751769  154.036647"
      ]
     },
     "execution_count": 1,
     "metadata": {},
     "output_type": "execute_result"
    }
   ],
   "source": [
    "import pandas as pd\n",
    "import numpy as np\n",
    "from scipy import stats as st\n",
    "from sklearn.linear_model import LinearRegression\n",
    "from sklearn.metrics import mean_squared_error\n",
    "from sklearn.preprocessing import StandardScaler\n",
    "from sklearn.model_selection import train_test_split\n",
    "\n",
    "geo_df0 = pd.read_csv('geo_data_0.csv')\n",
    "geo_df1 = pd.read_csv('geo_data_1.csv')\n",
    "geo_df2 = pd.read_csv('geo_data_2.csv')\n",
    "\n",
    "geo_df0.info()\n",
    "geo_df0.head()"
   ]
  },
  {
   "cell_type": "code",
   "execution_count": 2,
   "metadata": {},
   "outputs": [
    {
     "name": "stdout",
     "output_type": "stream",
     "text": [
      "<class 'pandas.core.frame.DataFrame'>\n",
      "RangeIndex: 100000 entries, 0 to 99999\n",
      "Data columns (total 5 columns):\n",
      " #   Column   Non-Null Count   Dtype  \n",
      "---  ------   --------------   -----  \n",
      " 0   id       100000 non-null  object \n",
      " 1   f0       100000 non-null  float64\n",
      " 2   f1       100000 non-null  float64\n",
      " 3   f2       100000 non-null  float64\n",
      " 4   product  100000 non-null  float64\n",
      "dtypes: float64(4), object(1)\n",
      "memory usage: 3.8+ MB\n"
     ]
    },
    {
     "data": {
      "text/html": [
       "<div>\n",
       "<style scoped>\n",
       "    .dataframe tbody tr th:only-of-type {\n",
       "        vertical-align: middle;\n",
       "    }\n",
       "\n",
       "    .dataframe tbody tr th {\n",
       "        vertical-align: top;\n",
       "    }\n",
       "\n",
       "    .dataframe thead th {\n",
       "        text-align: right;\n",
       "    }\n",
       "</style>\n",
       "<table border=\"1\" class=\"dataframe\">\n",
       "  <thead>\n",
       "    <tr style=\"text-align: right;\">\n",
       "      <th></th>\n",
       "      <th>id</th>\n",
       "      <th>f0</th>\n",
       "      <th>f1</th>\n",
       "      <th>f2</th>\n",
       "      <th>product</th>\n",
       "    </tr>\n",
       "  </thead>\n",
       "  <tbody>\n",
       "    <tr>\n",
       "      <th>0</th>\n",
       "      <td>kBEdx</td>\n",
       "      <td>-15.001348</td>\n",
       "      <td>-8.276000</td>\n",
       "      <td>-0.005876</td>\n",
       "      <td>3.179103</td>\n",
       "    </tr>\n",
       "    <tr>\n",
       "      <th>1</th>\n",
       "      <td>62mP7</td>\n",
       "      <td>14.272088</td>\n",
       "      <td>-3.475083</td>\n",
       "      <td>0.999183</td>\n",
       "      <td>26.953261</td>\n",
       "    </tr>\n",
       "    <tr>\n",
       "      <th>2</th>\n",
       "      <td>vyE1P</td>\n",
       "      <td>6.263187</td>\n",
       "      <td>-5.948386</td>\n",
       "      <td>5.001160</td>\n",
       "      <td>134.766305</td>\n",
       "    </tr>\n",
       "    <tr>\n",
       "      <th>3</th>\n",
       "      <td>KcrkZ</td>\n",
       "      <td>-13.081196</td>\n",
       "      <td>-11.506057</td>\n",
       "      <td>4.999415</td>\n",
       "      <td>137.945408</td>\n",
       "    </tr>\n",
       "    <tr>\n",
       "      <th>4</th>\n",
       "      <td>AHL4O</td>\n",
       "      <td>12.702195</td>\n",
       "      <td>-8.147433</td>\n",
       "      <td>5.004363</td>\n",
       "      <td>134.766305</td>\n",
       "    </tr>\n",
       "  </tbody>\n",
       "</table>\n",
       "</div>"
      ],
      "text/plain": [
       "      id         f0         f1        f2     product\n",
       "0  kBEdx -15.001348  -8.276000 -0.005876    3.179103\n",
       "1  62mP7  14.272088  -3.475083  0.999183   26.953261\n",
       "2  vyE1P   6.263187  -5.948386  5.001160  134.766305\n",
       "3  KcrkZ -13.081196 -11.506057  4.999415  137.945408\n",
       "4  AHL4O  12.702195  -8.147433  5.004363  134.766305"
      ]
     },
     "execution_count": 2,
     "metadata": {},
     "output_type": "execute_result"
    }
   ],
   "source": [
    "geo_df1.info()\n",
    "geo_df1.head()"
   ]
  },
  {
   "cell_type": "code",
   "execution_count": 3,
   "metadata": {},
   "outputs": [
    {
     "name": "stdout",
     "output_type": "stream",
     "text": [
      "<class 'pandas.core.frame.DataFrame'>\n",
      "RangeIndex: 100000 entries, 0 to 99999\n",
      "Data columns (total 5 columns):\n",
      " #   Column   Non-Null Count   Dtype  \n",
      "---  ------   --------------   -----  \n",
      " 0   id       100000 non-null  object \n",
      " 1   f0       100000 non-null  float64\n",
      " 2   f1       100000 non-null  float64\n",
      " 3   f2       100000 non-null  float64\n",
      " 4   product  100000 non-null  float64\n",
      "dtypes: float64(4), object(1)\n",
      "memory usage: 3.8+ MB\n"
     ]
    },
    {
     "data": {
      "text/html": [
       "<div>\n",
       "<style scoped>\n",
       "    .dataframe tbody tr th:only-of-type {\n",
       "        vertical-align: middle;\n",
       "    }\n",
       "\n",
       "    .dataframe tbody tr th {\n",
       "        vertical-align: top;\n",
       "    }\n",
       "\n",
       "    .dataframe thead th {\n",
       "        text-align: right;\n",
       "    }\n",
       "</style>\n",
       "<table border=\"1\" class=\"dataframe\">\n",
       "  <thead>\n",
       "    <tr style=\"text-align: right;\">\n",
       "      <th></th>\n",
       "      <th>id</th>\n",
       "      <th>f0</th>\n",
       "      <th>f1</th>\n",
       "      <th>f2</th>\n",
       "      <th>product</th>\n",
       "    </tr>\n",
       "  </thead>\n",
       "  <tbody>\n",
       "    <tr>\n",
       "      <th>0</th>\n",
       "      <td>fwXo0</td>\n",
       "      <td>-1.146987</td>\n",
       "      <td>0.963328</td>\n",
       "      <td>-0.828965</td>\n",
       "      <td>27.758673</td>\n",
       "    </tr>\n",
       "    <tr>\n",
       "      <th>1</th>\n",
       "      <td>WJtFt</td>\n",
       "      <td>0.262778</td>\n",
       "      <td>0.269839</td>\n",
       "      <td>-2.530187</td>\n",
       "      <td>56.069697</td>\n",
       "    </tr>\n",
       "    <tr>\n",
       "      <th>2</th>\n",
       "      <td>ovLUW</td>\n",
       "      <td>0.194587</td>\n",
       "      <td>0.289035</td>\n",
       "      <td>-5.586433</td>\n",
       "      <td>62.871910</td>\n",
       "    </tr>\n",
       "    <tr>\n",
       "      <th>3</th>\n",
       "      <td>q6cA6</td>\n",
       "      <td>2.236060</td>\n",
       "      <td>-0.553760</td>\n",
       "      <td>0.930038</td>\n",
       "      <td>114.572842</td>\n",
       "    </tr>\n",
       "    <tr>\n",
       "      <th>4</th>\n",
       "      <td>WPMUX</td>\n",
       "      <td>-0.515993</td>\n",
       "      <td>1.716266</td>\n",
       "      <td>5.899011</td>\n",
       "      <td>149.600746</td>\n",
       "    </tr>\n",
       "  </tbody>\n",
       "</table>\n",
       "</div>"
      ],
      "text/plain": [
       "      id        f0        f1        f2     product\n",
       "0  fwXo0 -1.146987  0.963328 -0.828965   27.758673\n",
       "1  WJtFt  0.262778  0.269839 -2.530187   56.069697\n",
       "2  ovLUW  0.194587  0.289035 -5.586433   62.871910\n",
       "3  q6cA6  2.236060 -0.553760  0.930038  114.572842\n",
       "4  WPMUX -0.515993  1.716266  5.899011  149.600746"
      ]
     },
     "execution_count": 3,
     "metadata": {},
     "output_type": "execute_result"
    }
   ],
   "source": [
    "geo_df2.info()\n",
    "geo_df2.head()"
   ]
  },
  {
   "cell_type": "code",
   "execution_count": 4,
   "metadata": {},
   "outputs": [
    {
     "name": "stdout",
     "output_type": "stream",
     "text": [
      "Tdehs    2\n",
      "fiKDv    2\n",
      "TtcGQ    2\n",
      "74z30    2\n",
      "HZww2    2\n",
      "A5aEY    2\n",
      "bxg6G    2\n",
      "AGS9W    2\n",
      "bsk9y    2\n",
      "QcMuo    2\n",
      "p2y4n    1\n",
      "BGktw    1\n",
      "aSBS6    1\n",
      "GidX7    1\n",
      "KSzqY    1\n",
      "Name: id, dtype: int64\n",
      "wt4Uk    2\n",
      "LHZR0    2\n",
      "5ltQ6    2\n",
      "bfPNe    2\n",
      "JRIE3    1\n",
      "Name: id, dtype: int64\n",
      "xCHr8    2\n",
      "KUPhW    2\n",
      "VF7Jo    2\n",
      "Vcm5J    2\n",
      "w5Xei    1\n",
      "Name: id, dtype: int64\n"
     ]
    }
   ],
   "source": [
    "print(geo_df0['id'].value_counts().head(15))\n",
    "print(geo_df1['id'].value_counts().head())\n",
    "print(geo_df2['id'].value_counts().head())"
   ]
  },
  {
   "cell_type": "markdown",
   "metadata": {},
   "source": [
    "Пропусков в данных не обнаружено. При обучении модели от колонки с id можно избавиться: так не нужно будет проводить кодирование, так как отсутствуют качественные переменные. Хотя масштабировать признаки все таки придется. Также было обнаружено, что в каждом датасете присутствуют одни и те же скважины по несколько раз, хотя и с разными характеристиками. Таких данных немного, потому не будем их удалять, так как на модель они особо повлиять не смогут."
   ]
  },
  {
   "cell_type": "markdown",
   "metadata": {},
   "source": [
    "## 2. Обучите и проверьте модель для каждого региона."
   ]
  },
  {
   "cell_type": "code",
   "execution_count": 5,
   "metadata": {},
   "outputs": [
    {
     "name": "stdout",
     "output_type": "stream",
     "text": [
      "Для первого региона: средний запас  = 92.593 тыс. баррелей, RMSE модели = 37.579\n",
      "Для второго региона: средний запас  = 68.729 тыс. баррелей, RMSE модели = 0.893\n",
      "Для третьего региона: средний запас = 94.965 тыс. баррелей, RMSE модели = 40.03\n"
     ]
    }
   ],
   "source": [
    "#Избавились от колонки с id\n",
    "geo_df0 = geo_df0.drop('id',axis=1)\n",
    "geo_df1 = geo_df1.drop('id',axis=1)\n",
    "geo_df2 = geo_df2.drop('id',axis=1)\n",
    "\n",
    "#Разделяем датасеты на обычные и целевые признаки\n",
    "target0   = geo_df0['product']\n",
    "target1   = geo_df1['product']\n",
    "target2   = geo_df2['product']\n",
    "features0 = geo_df0.drop('product',axis=1)\n",
    "features1 = geo_df1.drop('product',axis=1)\n",
    "features2 = geo_df2.drop('product',axis=1)\n",
    "\n",
    "#Разобьем данные на обучающую и валидационную выборки\n",
    "features_train0, features_valid0, target_train0, target_valid0 = train_test_split(\n",
    "    features0, target0, test_size=0.25, random_state=12345)\n",
    "features_train1, features_valid1, target_train1, target_valid1 = train_test_split(\n",
    "    features1, target1, test_size=0.25, random_state=12345)\n",
    "features_train2, features_valid2, target_train2, target_valid2 = train_test_split(\n",
    "    features2, target2, test_size=0.25, random_state=12345)\n",
    "\n",
    "#Займемся масштабированием\n",
    "scaler          = StandardScaler()\n",
    "scaler.fit(features_train0)\n",
    "features_train0 = scaler.transform(features_train0)\n",
    "features_valid0 = scaler.transform(features_valid0)\n",
    "scaler.fit(features_train1)\n",
    "features_train1 = scaler.transform(features_train1)\n",
    "features_valid1 = scaler.transform(features_valid1)\n",
    "scaler.fit(features_train2)\n",
    "features_train2 = scaler.transform(features_train2)\n",
    "features_valid2 = scaler.transform(features_valid2)\n",
    "\n",
    "#Теперь обучим линейную регрессию\n",
    "#Первый регион\n",
    "model0 = LinearRegression()\n",
    "model0.fit(features_train0,target_train0)\n",
    "predictions0 = model0.predict(features_valid0)\n",
    "mean_product0 = np.round(predictions0.mean(),3)\n",
    "rmse0 = np.round(np.sqrt(mean_squared_error(target_valid0,predictions0)),3)\n",
    "print('Для первого региона: средний запас  = ' + str(mean_product0) + ' тыс. баррелей, RMSE модели = ' + str(rmse0))\n",
    "#Второй регион\n",
    "model1 = LinearRegression()\n",
    "model1.fit(features_train1,target_train1)\n",
    "predictions1 = model1.predict(features_valid1)\n",
    "mean_product1 = np.round(predictions1.mean(),3)\n",
    "rmse1 = np.round(np.sqrt(mean_squared_error(target_valid1,predictions1)),3)\n",
    "print('Для второго региона: средний запас  = ' + str(mean_product1) + ' тыс. баррелей, RMSE модели = ' + str(rmse1))\n",
    "#Третий регион\n",
    "model2 = LinearRegression()\n",
    "model2.fit(features_train2,target_train2)\n",
    "predictions2 = model2.predict(features_valid2)\n",
    "mean_product2 = np.round(predictions2.mean(),3)\n",
    "rmse2 = np.round(np.sqrt(mean_squared_error(target_valid2,predictions2)),3)\n",
    "print('Для третьего региона: средний запас = ' + str(mean_product2) + ' тыс. баррелей, RMSE модели = ' + str(rmse2))"
   ]
  },
  {
   "cell_type": "markdown",
   "metadata": {},
   "source": [
    "На первый взгляд, кажется, что явными фаворитами в выборе региона являются первый и третий. Однако, взглянув на метрику модели, виднеется явное отличие между вторым и другими регионами. Во втором - ошибка почти нулевая, значит модель для нее практически все предсказывает без ошибок."
   ]
  },
  {
   "cell_type": "markdown",
   "metadata": {},
   "source": [
    "## 3. Подготовьтесь к расчёту прибыли."
   ]
  },
  {
   "cell_type": "code",
   "execution_count": 6,
   "metadata": {},
   "outputs": [
    {
     "name": "stdout",
     "output_type": "stream",
     "text": [
      "111.11 тыс баррелей.\n"
     ]
    }
   ],
   "source": [
    "budget = 10**10\n",
    "price_per_product =450000\n",
    "#Расчитаем сколько в среднем должны приносить 200 лучших скважин в регионе, чтобы\n",
    "#добыча была безубыточной\n",
    "print(str(np.round(budget / 450000 / 200,2)) + ' тыс баррелей.')"
   ]
  },
  {
   "cell_type": "markdown",
   "metadata": {},
   "source": [
    "Определили то, сколько в среднем должно быть тысяч баррелей в лучших 200 скважинах, чтобы дабыча была безубыточной. Также сохранили значение бюджета на район и цену за 1 тыс. баррелей для дальнейших расчетов прибыли."
   ]
  },
  {
   "cell_type": "markdown",
   "metadata": {},
   "source": [
    "## 4. Напишите функцию для расчёта прибыли по выбранным скважинам и предсказаниям модели."
   ]
  },
  {
   "cell_type": "code",
   "execution_count": 7,
   "metadata": {},
   "outputs": [],
   "source": [
    "def revenue(target,predictions,count):\n",
    "    predictions = predictions.sort_values(ascending=False)[:count]\n",
    "    top_200_oilers = target.iloc[predictions.index]\n",
    "    product = top_200_oilers.sum()\n",
    "    income = product * price_per_product\n",
    "    return income - budget"
   ]
  },
  {
   "cell_type": "code",
   "execution_count": 8,
   "metadata": {},
   "outputs": [
    {
     "name": "stdout",
     "output_type": "stream",
     "text": [
      "Прибыль в первом регионе  = 3,320,826,043.14 рублей\n",
      "Прибыль во втором регионе = 2,415,086,696.68 рублей\n",
      "Прибыль в третьем регионе = 2,710,349,963.60 рублей\n"
     ]
    }
   ],
   "source": [
    "#Протестируем функцию\n",
    "profit0 = revenue(target_valid0,pd.Series(predictions0),200)\n",
    "profit1 = revenue(target_valid1,pd.Series(predictions1),200)\n",
    "profit2 = revenue(target_valid2,pd.Series(predictions2),200)\n",
    "print('Прибыль в первом регионе  = {:,.2f} рублей'.format(profit0))\n",
    "print('Прибыль во втором регионе = {:,.2f} рублей'.format(profit1))\n",
    "print('Прибыль в третьем регионе = {:,.2f} рублей'.format(profit2))"
   ]
  },
  {
   "cell_type": "markdown",
   "metadata": {},
   "source": [
    "В данной функции мы берем первые 200 наиболее прибыльных скважин по предсказаниям модели, суммируем объем сырья, добытый с этих скважин и умножаем на цену продукта. Далее из полученного числа вычитаем бюджет на регион и получаем прибыль.\n",
    "\n",
    "Также протестировали функцию, найдя прибыль по 200 лучшим предсказаниям в каждом из районов."
   ]
  },
  {
   "cell_type": "markdown",
   "metadata": {},
   "source": [
    "## 5. Посчитайте риски и прибыль для каждого региона."
   ]
  },
  {
   "cell_type": "code",
   "execution_count": 12,
   "metadata": {},
   "outputs": [
    {
     "name": "stdout",
     "output_type": "stream",
     "text": [
      "Средняя выручка в первом районе = 396,164,984.80 рублей\n",
      "Доверительный интервал для первого района (interval)  = (379,620,315.15, 412,709,654.46)\n",
      "Доверительный интервал для первого района (Bootstrap) = (379,886,701.79, 412,393,808.54)\n",
      "Риск для первого района = 6.9%\n"
     ]
    }
   ],
   "source": [
    "#Задаем случайность\n",
    "state = np.random.RandomState(12345)\n",
    "\n",
    "profits0 = []\n",
    "\n",
    "for i in range(1000):\n",
    "    target_valid0 = target_valid0.reset_index()['product']\n",
    "    target0_subsample = target_valid0.sample(500, replace=True, random_state=state)\n",
    "    predictions0_subsample = pd.Series(predictions0[target0_subsample.index])\n",
    "    profits0.append(revenue(target0_subsample,predictions0_subsample,200))\n",
    "\n",
    "profits0 = pd.Series(profits0)\n",
    "mean_profit0 = profits0.mean()\n",
    "print('Средняя выручка в первом районе = {:,.2f} рублей'.format(mean_profit0))\n",
    "confidence_interval0 = st.t.interval(.95,len(profits0)-1,mean_profit0,profits0.sem())\n",
    "print('Доверительный интервал для первого района (interval)  = ({:,.2f}, {:,.2f})'.format(confidence_interval0[0],confidence_interval0[1]))\n",
    "\n",
    "#Доверительный интервал через Bootstrap\n",
    "vals0 = []\n",
    "\n",
    "for i in range(1000):\n",
    "    subsample0 = profits0.sample(frac=1, replace=True, random_state=state)\n",
    "    vals0.append(subsample0.mean())\n",
    "    \n",
    "vals0 = pd.Series(vals0)\n",
    "lower = vals0.quantile(.025)\n",
    "upper = vals0.quantile(.975)\n",
    "print('Доверительный интервал для первого района (Bootstrap) = ({:,.2f}, {:,.2f})'.format(lower,upper))\n",
    "\n",
    "#Расчет рисков\n",
    "neg_profits0 = profits0.loc[profits0 < 0]\n",
    "risk0 = len(neg_profits0) / len(profits0) * 100\n",
    "print('Риск для первого района = {:.1f}%'.format(risk0))"
   ]
  },
  {
   "cell_type": "code",
   "execution_count": 14,
   "metadata": {},
   "outputs": [
    {
     "name": "stdout",
     "output_type": "stream",
     "text": [
      "Средняя выручка во втором районе = 439,360,809.14 рублей\n",
      "Доверительный интервал для первого района (interval)  = (426,389,238.29, 452,332,379.99)\n",
      "Риск для второго района = 2.3%\n"
     ]
    }
   ],
   "source": [
    "profits1 = []\n",
    "\n",
    "for i in range(1000):\n",
    "    target_valid1 = target_valid1.reset_index()['product']\n",
    "    target1_subsample = target_valid1.sample(500, replace=True, random_state=state)\n",
    "    predictions1_subsample = pd.Series(predictions1[target1_subsample.index])\n",
    "    profits1.append(revenue(target1_subsample,predictions1_subsample,200))\n",
    "\n",
    "profits1 = pd.Series(profits1)\n",
    "mean_profit1 = profits1.mean()\n",
    "print('Средняя выручка во втором районе = {:,.2f} рублей'.format(mean_profit1))\n",
    "confidence_interval1 = st.t.interval(.95,len(profits1)-1,mean_profit1,profits1.sem())\n",
    "print('Доверительный интервал для первого района (interval)  = ({:,.2f}, {:,.2f})'.format(confidence_interval1[0],confidence_interval1[1]))\n",
    "\n",
    "neg_profits1 = profits1.loc[profits1 < 0]\n",
    "risk1 = len(neg_profits1) / len(profits1) * 100\n",
    "print('Риск для второго района = {:.1f}%'.format(risk1))"
   ]
  },
  {
   "cell_type": "code",
   "execution_count": 15,
   "metadata": {},
   "outputs": [
    {
     "name": "stdout",
     "output_type": "stream",
     "text": [
      "Средняя выручка в третьем районе = 398,572,852.63 рублей\n",
      "Доверительный интервал для первого района (interval)  = (381,816,016.54, 415,329,688.71)\n",
      "Риск для третьего района = 7.0%\n"
     ]
    }
   ],
   "source": [
    "profits2 = []\n",
    "\n",
    "for i in range(1000):\n",
    "    target_valid2 = target_valid2.reset_index()['product']\n",
    "    target2_subsample = target_valid2.sample(500, replace=True, random_state=state)\n",
    "    predictions2_subsample = pd.Series(predictions2[target2_subsample.index])\n",
    "    profits2.append(revenue(target2_subsample,predictions2_subsample,200))\n",
    "   \n",
    "profits2 = pd.Series(profits2)\n",
    "mean_profit2 = profits2.mean()\n",
    "print('Средняя выручка в третьем районе = {:,.2f} рублей'.format(mean_profit2))\n",
    "confidence_interval2 = st.t.interval(.95,len(profits2)-1,mean_profit2,profits2.sem())\n",
    "print('Доверительный интервал для первого района (interval)  = ({:,.2f}, {:,.2f})'.format(confidence_interval2[0],confidence_interval2[1]))\n",
    "\n",
    "\n",
    "neg_profits2 = profits2.loc[profits2 < 0]\n",
    "risk2 = len(neg_profits2) / len(profits2) * 100\n",
    "print('Риск для третьего района = {:.1f}%'.format(risk2))"
   ]
  },
  {
   "cell_type": "markdown",
   "metadata": {},
   "source": [
    "В данном разделе проекта для каждого района мы построили распределение прибыли техникой Bootstrap. Через каждое распределение нашли среднюю прибыль и определили доверительный интервал. Для первого района нашли доверительный интервал двумя способами: функция interval и с помощью Bootstrap. В завершении оценили риски, найдя процентное соотношение отрицательной прибыли."
   ]
  },
  {
   "cell_type": "markdown",
   "metadata": {},
   "source": [
    "## Вывод"
   ]
  },
  {
   "cell_type": "markdown",
   "metadata": {},
   "source": [
    "Обучив три модели линейной регрессии и найдя средний запас скважины для каждого региона, На первый взгляд, явным фаворитом является первый район. За ним идет третий район и в конце - второй. Однако, также взглянув на значение RMSE каждой модели, видим явное преимущество второго района по точности. Здесь ошибка почти нулевая.\n",
    "\n",
    "Проведя дальнейшие расчеты прибыли по каждому району определили, что средняя выручка во втором районе оказалась на 40 млн. рубл., при наименьших рисках. Следовательно для добычи следует выбирать второй район."
   ]
  }
 ],
 "metadata": {
  "kernelspec": {
   "display_name": "Python 3",
   "language": "python",
   "name": "python3"
  },
  "language_info": {
   "codemirror_mode": {
    "name": "ipython",
    "version": 3
   },
   "file_extension": ".py",
   "mimetype": "text/x-python",
   "name": "python",
   "nbconvert_exporter": "python",
   "pygments_lexer": "ipython3",
   "version": "3.8.5"
  }
 },
 "nbformat": 4,
 "nbformat_minor": 4
}
