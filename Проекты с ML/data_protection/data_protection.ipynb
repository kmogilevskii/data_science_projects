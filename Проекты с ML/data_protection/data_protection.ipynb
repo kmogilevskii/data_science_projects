{
 "cells": [
  {
   "cell_type": "markdown",
   "metadata": {},
   "source": [
    "# Проект по защите данных."
   ]
  },
  {
   "cell_type": "markdown",
   "metadata": {},
   "source": [
    "Нам нужно защитить данные клиентов страховой компании «Хоть потоп». Требуется разработать такой метод преобразования данных, чтобы по ним было сложно восстановить персональную информацию.\n",
    "\n",
    "Нужно защитить данные, чтобы при преобразовании качество моделей машинного обучения не ухудшилось. Подбирать наилучшую модель не требуется."
   ]
  },
  {
   "cell_type": "markdown",
   "metadata": {},
   "source": [
    "## Загрузим и изучим данные."
   ]
  },
  {
   "cell_type": "code",
   "execution_count": 1,
   "metadata": {},
   "outputs": [
    {
     "name": "stdout",
     "output_type": "stream",
     "text": [
      "<class 'pandas.core.frame.DataFrame'>\n",
      "RangeIndex: 5000 entries, 0 to 4999\n",
      "Data columns (total 5 columns):\n",
      " #   Column             Non-Null Count  Dtype  \n",
      "---  ------             --------------  -----  \n",
      " 0   Пол                5000 non-null   int64  \n",
      " 1   Возраст            5000 non-null   float64\n",
      " 2   Зарплата           5000 non-null   float64\n",
      " 3   Члены семьи        5000 non-null   int64  \n",
      " 4   Страховые выплаты  5000 non-null   int64  \n",
      "dtypes: float64(2), int64(3)\n",
      "memory usage: 195.4 KB\n",
      "None\n"
     ]
    },
    {
     "data": {
      "text/html": [
       "<div>\n",
       "<style scoped>\n",
       "    .dataframe tbody tr th:only-of-type {\n",
       "        vertical-align: middle;\n",
       "    }\n",
       "\n",
       "    .dataframe tbody tr th {\n",
       "        vertical-align: top;\n",
       "    }\n",
       "\n",
       "    .dataframe thead th {\n",
       "        text-align: right;\n",
       "    }\n",
       "</style>\n",
       "<table border=\"1\" class=\"dataframe\">\n",
       "  <thead>\n",
       "    <tr style=\"text-align: right;\">\n",
       "      <th></th>\n",
       "      <th>Пол</th>\n",
       "      <th>Возраст</th>\n",
       "      <th>Зарплата</th>\n",
       "      <th>Члены семьи</th>\n",
       "      <th>Страховые выплаты</th>\n",
       "    </tr>\n",
       "  </thead>\n",
       "  <tbody>\n",
       "    <tr>\n",
       "      <th>0</th>\n",
       "      <td>1</td>\n",
       "      <td>41.0</td>\n",
       "      <td>49600.0</td>\n",
       "      <td>1</td>\n",
       "      <td>0</td>\n",
       "    </tr>\n",
       "    <tr>\n",
       "      <th>1</th>\n",
       "      <td>0</td>\n",
       "      <td>46.0</td>\n",
       "      <td>38000.0</td>\n",
       "      <td>1</td>\n",
       "      <td>1</td>\n",
       "    </tr>\n",
       "    <tr>\n",
       "      <th>2</th>\n",
       "      <td>0</td>\n",
       "      <td>29.0</td>\n",
       "      <td>21000.0</td>\n",
       "      <td>0</td>\n",
       "      <td>0</td>\n",
       "    </tr>\n",
       "    <tr>\n",
       "      <th>3</th>\n",
       "      <td>0</td>\n",
       "      <td>21.0</td>\n",
       "      <td>41700.0</td>\n",
       "      <td>2</td>\n",
       "      <td>0</td>\n",
       "    </tr>\n",
       "    <tr>\n",
       "      <th>4</th>\n",
       "      <td>1</td>\n",
       "      <td>28.0</td>\n",
       "      <td>26100.0</td>\n",
       "      <td>0</td>\n",
       "      <td>0</td>\n",
       "    </tr>\n",
       "  </tbody>\n",
       "</table>\n",
       "</div>"
      ],
      "text/plain": [
       "   Пол  Возраст  Зарплата  Члены семьи  Страховые выплаты\n",
       "0    1     41.0   49600.0            1                  0\n",
       "1    0     46.0   38000.0            1                  1\n",
       "2    0     29.0   21000.0            0                  0\n",
       "3    0     21.0   41700.0            2                  0\n",
       "4    1     28.0   26100.0            0                  0"
      ]
     },
     "execution_count": 1,
     "metadata": {},
     "output_type": "execute_result"
    }
   ],
   "source": [
    "import pandas as pd\n",
    "import numpy as np\n",
    "from sklearn.linear_model import LinearRegression\n",
    "from sklearn.metrics import r2_score\n",
    "\n",
    "insurance_df = pd.read_csv('insurance.csv')\n",
    "\n",
    "print(insurance_df.info())\n",
    "insurance_df.head()"
   ]
  },
  {
   "cell_type": "markdown",
   "metadata": {},
   "source": [
    "**Признаки**: пол, возраст и зарплата застрахованного, количество членов его семьи.\n",
    "\n",
    "**Целевой признак**: количество страховых выплат клиенту за последние 5 лет.\n",
    "\n",
    "Пропуски в данных отсутствуют. Все переменные количественного типа, так что необходимости в кодировки нет. Поскольку качество модели улучшать нам не нужно (нужно лишь посмотреть не изменится ли оно), то нормализацию производить не будем."
   ]
  },
  {
   "cell_type": "markdown",
   "metadata": {},
   "source": [
    "<font color='blue'> \n",
    "### <u>КОММЕНТАРИЙ РЕВЬЮЕРА</u>\n",
    "</font>\n",
    "<font color='green'>\n",
    "лёгкое аналитическое начало)<br>\n",
    "<font color='orange'>\n",
    "ВАЖНО!!! по использованию корреляций<br>\n",
    "0) Этот инструмент - исключительно для данных в количественной шкале!!!!<br>\n",
    "Т.е. Страховы выплаты и Вораст - корреляцию не посмотреть. Т.к. Одна величина - номинальная (в виде 0 и 1, т.е. да/нет можно сказать), другая количественная. Поэтому для таких ситуаций подойдёт другая техника - сравнение групп (из темы \"проверка гипотез\" спринт 3 и 4).<br><br>    "
   ]
  },
  {
   "cell_type": "markdown",
   "metadata": {},
   "source": [
    "## Как умножение матрицы признаков на обратимую матрицу повлияет на предсказания модели?"
   ]
  },
  {
   "cell_type": "markdown",
   "metadata": {},
   "source": [
    "Вектор предсказаний получается по следующей формуле:\n",
    "$a = X \\times w$.\n",
    "\n",
    "Предположим, что Y - это обратимая матрица. Тогда заменим в формуле X на XY и воспользуемся уравнением метода наименьших квадратов: $w = (X^TX)X^Ty$.\n",
    "\n",
    "$a = XY((XY)^TXY)^{-1}(XY)^Ty=XY(Y^TX^TXY)^{-1}Y^TX^Ty=XYY^{-1}(X^TX)^{-1}Y^{-T}Y^TX^Ty=XE(X^TX)^{-1}EX^Ty = X(X^TX)^{-1}X^Ty = X  w$\n",
    "\n",
    "Единственное правило, которое нужно знать, чтобы вывести данное соотношение, это то, что если несколько матриц находится под одной операцией в скобках, то выносятся они в обратном порядке (в за рубежной литературе данное правило называется LIVE EVIL rule).\n",
    "\n",
    "**Ответ**: не изменится."
   ]
  },
  {
   "cell_type": "markdown",
   "metadata": {},
   "source": [
    "## Алгоритм преобразования данных."
   ]
  },
  {
   "cell_type": "markdown",
   "metadata": {},
   "source": [
    "Учитывая выведенное соотношение в предыдущем разделе, очевидным алгоритмом будет умножение матрицы признаков на обратимую матрицу, которую создадим через np.random.normal.\n",
    "\n",
    "Напишем функцию, которая примет наши изначальные признаки и вернет преобразованные."
   ]
  },
  {
   "cell_type": "code",
   "execution_count": 2,
   "metadata": {},
   "outputs": [],
   "source": [
    "def features_converter(X_original):\n",
    "    X_original = X_original.values\n",
    "    Y = np.random.normal(size=(len(X_original[1,:]),len(X_original[1,:])))\n",
    "    print(Y.dot(np.linalg.inv(Y)))\n",
    "    return X_original @ Y"
   ]
  },
  {
   "cell_type": "markdown",
   "metadata": {},
   "source": [
    "<font color='blue'> \n",
    "### <u>КОММЕНТАРИЙ РЕВЬЮЕРА</u>\n",
    "</font>\n",
    "<font color='orange'>\n",
    "Тут важно проверять обратимость матрицы!<br>\n",
    "Напрмиер, проверить во это свойчство: P.dot(np.linalg.inv(P)) = единичная матрица."
   ]
  },
  {
   "cell_type": "markdown",
   "metadata": {},
   "source": [
    "Сначала обучим Линейную Регрессию на исходном датасете и посмотрим значение R2. Поскольку нам неважно качество модели, то и разбивать данные на обучающую и проверочную выборки не будем."
   ]
  },
  {
   "cell_type": "code",
   "execution_count": 3,
   "metadata": {},
   "outputs": [
    {
     "name": "stdout",
     "output_type": "stream",
     "text": [
      "Для исходных признаков R2 = 0.4249\n"
     ]
    }
   ],
   "source": [
    "features = insurance_df.drop('Страховые выплаты',axis=1)\n",
    "target   = insurance_df['Страховые выплаты']\n",
    "\n",
    "model = LinearRegression()\n",
    "model.fit(features,target)\n",
    "predictions = model.predict(features)\n",
    "r2 = r2_score(target,predictions)\n",
    "print('Для исходных признаков R2 = {:.4f}'.format(r2))"
   ]
  },
  {
   "cell_type": "markdown",
   "metadata": {},
   "source": [
    "Теперь воспользуемся нашим преобразователем."
   ]
  },
  {
   "cell_type": "code",
   "execution_count": 4,
   "metadata": {},
   "outputs": [
    {
     "name": "stdout",
     "output_type": "stream",
     "text": [
      "[[ 1.00000000e+00  0.00000000e+00  4.44089210e-16  1.11022302e-16]\n",
      " [-3.05311332e-16  1.00000000e+00  0.00000000e+00  0.00000000e+00]\n",
      " [ 7.28583860e-17  6.93889390e-17  1.00000000e+00 -5.55111512e-17]\n",
      " [ 1.38777878e-17  6.93889390e-18  0.00000000e+00  1.00000000e+00]]\n",
      "Для преобразованных признаков R2 = 0.4249\n"
     ]
    }
   ],
   "source": [
    "new_features = features_converter(features)\n",
    "\n",
    "model = LinearRegression()\n",
    "model.fit(new_features,target)\n",
    "predictions = model.predict(new_features)\n",
    "r2 = r2_score(target,predictions)\n",
    "print('Для преобразованных признаков R2 = {:.4f}'.format(r2))"
   ]
  },
  {
   "cell_type": "markdown",
   "metadata": {},
   "source": [
    "Результат идентичный, хоть и визуально матрицы признаков кажутся абсолютно разными. \n",
    "\n",
    "Получили подтверждение, что созданная рандомна матрица действительно обратима."
   ]
  },
  {
   "cell_type": "markdown",
   "metadata": {},
   "source": [
    "<font color='blue'> \n",
    "### <u>КОММЕНТАРИЙ РЕВЬЮЕРА</u>\n",
    "</font>\n",
    "<font color='green'>\n",
    "Константин, лаконичная но верная по результату работа)<br>\n",
    "Всё по делу, со смыслом. Теория и её реализация - в точку. Уместный анализ данных в самом начале.<br>\n",
    "\n",
    "Пару маленьких ньюансов, всё же надо скорректировать(((<br>\n",
    "1) При создании рандомной матрицы, надо проверить её обратимость. Т.е. получить единичную матрицу)<br>\n",
    "2) По корреляциям: лучше такой вывод не оставлять. Или применить другую технику для проверки влияния фаткора на целевую переменную или убрать из проекта. А то не исправленная ошибка так и потянется......<font color='red'>\n",
    "Скорректируй, пожалуйста)<br><font color='green'><font color='green'>\n",
    "Спасибо) Буду ждать корректировок."
   ]
  },
  {
   "cell_type": "markdown",
   "metadata": {},
   "source": [
    "## Вывод"
   ]
  },
  {
   "cell_type": "markdown",
   "metadata": {},
   "source": [
    "В данном проекте исходные данные нам достались чистые. Никаких особенных телодвижений делать не пришлось. Основной работой было доказательство неизменности предсказаний Линейной Регрессии при умножении нашей матрицы признаков на любую обратимую матрицу. Что мы и сделали.\n",
    "\n",
    "По полученному выводу создали простейший алгоритм преобразования данных и, обучив нашу модель на исходном и преобразованном массиве данных, получили неизменное значение метрики.\n",
    "\n",
    "Видимо любая обратимая матрица не искажает исходные данные."
   ]
  }
 ],
 "metadata": {
  "kernelspec": {
   "display_name": "Python 3",
   "language": "python",
   "name": "python3"
  },
  "language_info": {
   "codemirror_mode": {
    "name": "ipython",
    "version": 3
   },
   "file_extension": ".py",
   "mimetype": "text/x-python",
   "name": "python",
   "nbconvert_exporter": "python",
   "pygments_lexer": "ipython3",
   "version": "3.8.3"
  }
 },
 "nbformat": 4,
 "nbformat_minor": 4
}
