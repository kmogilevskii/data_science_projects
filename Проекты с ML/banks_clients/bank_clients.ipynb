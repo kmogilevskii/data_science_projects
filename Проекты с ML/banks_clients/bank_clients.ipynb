{
 "cells": [
  {
   "cell_type": "markdown",
   "metadata": {},
   "source": [
    "# Бета-банк проект"
   ]
  },
  {
   "cell_type": "markdown",
   "metadata": {},
   "source": [
    "Из «Бета-Банка» стали уходить клиенты. Каждый месяц. Немного, но заметно. Банковские маркетологи посчитали: сохранять текущих клиентов дешевле, чем привлекать новых.\n",
    "Нужно спрогнозировать, уйдёт клиент из банка в ближайшее время или нет. "
   ]
  },
  {
   "cell_type": "code",
   "execution_count": 220,
   "metadata": {},
   "outputs": [
    {
     "data": {
      "text/html": [
       "<div>\n",
       "<style scoped>\n",
       "    .dataframe tbody tr th:only-of-type {\n",
       "        vertical-align: middle;\n",
       "    }\n",
       "\n",
       "    .dataframe tbody tr th {\n",
       "        vertical-align: top;\n",
       "    }\n",
       "\n",
       "    .dataframe thead th {\n",
       "        text-align: right;\n",
       "    }\n",
       "</style>\n",
       "<table border=\"1\" class=\"dataframe\">\n",
       "  <thead>\n",
       "    <tr style=\"text-align: right;\">\n",
       "      <th></th>\n",
       "      <th>RowNumber</th>\n",
       "      <th>CustomerId</th>\n",
       "      <th>Surname</th>\n",
       "      <th>CreditScore</th>\n",
       "      <th>Geography</th>\n",
       "      <th>Gender</th>\n",
       "      <th>Age</th>\n",
       "      <th>Tenure</th>\n",
       "      <th>Balance</th>\n",
       "      <th>NumOfProducts</th>\n",
       "      <th>HasCrCard</th>\n",
       "      <th>IsActiveMember</th>\n",
       "      <th>EstimatedSalary</th>\n",
       "      <th>Exited</th>\n",
       "    </tr>\n",
       "  </thead>\n",
       "  <tbody>\n",
       "    <tr>\n",
       "      <th>0</th>\n",
       "      <td>1</td>\n",
       "      <td>15634602</td>\n",
       "      <td>Hargrave</td>\n",
       "      <td>619</td>\n",
       "      <td>France</td>\n",
       "      <td>Female</td>\n",
       "      <td>42</td>\n",
       "      <td>2.0</td>\n",
       "      <td>0.00</td>\n",
       "      <td>1</td>\n",
       "      <td>1</td>\n",
       "      <td>1</td>\n",
       "      <td>101348.88</td>\n",
       "      <td>1</td>\n",
       "    </tr>\n",
       "    <tr>\n",
       "      <th>1</th>\n",
       "      <td>2</td>\n",
       "      <td>15647311</td>\n",
       "      <td>Hill</td>\n",
       "      <td>608</td>\n",
       "      <td>Spain</td>\n",
       "      <td>Female</td>\n",
       "      <td>41</td>\n",
       "      <td>1.0</td>\n",
       "      <td>83807.86</td>\n",
       "      <td>1</td>\n",
       "      <td>0</td>\n",
       "      <td>1</td>\n",
       "      <td>112542.58</td>\n",
       "      <td>0</td>\n",
       "    </tr>\n",
       "    <tr>\n",
       "      <th>2</th>\n",
       "      <td>3</td>\n",
       "      <td>15619304</td>\n",
       "      <td>Onio</td>\n",
       "      <td>502</td>\n",
       "      <td>France</td>\n",
       "      <td>Female</td>\n",
       "      <td>42</td>\n",
       "      <td>8.0</td>\n",
       "      <td>159660.80</td>\n",
       "      <td>3</td>\n",
       "      <td>1</td>\n",
       "      <td>0</td>\n",
       "      <td>113931.57</td>\n",
       "      <td>1</td>\n",
       "    </tr>\n",
       "    <tr>\n",
       "      <th>3</th>\n",
       "      <td>4</td>\n",
       "      <td>15701354</td>\n",
       "      <td>Boni</td>\n",
       "      <td>699</td>\n",
       "      <td>France</td>\n",
       "      <td>Female</td>\n",
       "      <td>39</td>\n",
       "      <td>1.0</td>\n",
       "      <td>0.00</td>\n",
       "      <td>2</td>\n",
       "      <td>0</td>\n",
       "      <td>0</td>\n",
       "      <td>93826.63</td>\n",
       "      <td>0</td>\n",
       "    </tr>\n",
       "    <tr>\n",
       "      <th>4</th>\n",
       "      <td>5</td>\n",
       "      <td>15737888</td>\n",
       "      <td>Mitchell</td>\n",
       "      <td>850</td>\n",
       "      <td>Spain</td>\n",
       "      <td>Female</td>\n",
       "      <td>43</td>\n",
       "      <td>2.0</td>\n",
       "      <td>125510.82</td>\n",
       "      <td>1</td>\n",
       "      <td>1</td>\n",
       "      <td>1</td>\n",
       "      <td>79084.10</td>\n",
       "      <td>0</td>\n",
       "    </tr>\n",
       "    <tr>\n",
       "      <th>...</th>\n",
       "      <td>...</td>\n",
       "      <td>...</td>\n",
       "      <td>...</td>\n",
       "      <td>...</td>\n",
       "      <td>...</td>\n",
       "      <td>...</td>\n",
       "      <td>...</td>\n",
       "      <td>...</td>\n",
       "      <td>...</td>\n",
       "      <td>...</td>\n",
       "      <td>...</td>\n",
       "      <td>...</td>\n",
       "      <td>...</td>\n",
       "      <td>...</td>\n",
       "    </tr>\n",
       "    <tr>\n",
       "      <th>9995</th>\n",
       "      <td>9996</td>\n",
       "      <td>15606229</td>\n",
       "      <td>Obijiaku</td>\n",
       "      <td>771</td>\n",
       "      <td>France</td>\n",
       "      <td>Male</td>\n",
       "      <td>39</td>\n",
       "      <td>5.0</td>\n",
       "      <td>0.00</td>\n",
       "      <td>2</td>\n",
       "      <td>1</td>\n",
       "      <td>0</td>\n",
       "      <td>96270.64</td>\n",
       "      <td>0</td>\n",
       "    </tr>\n",
       "    <tr>\n",
       "      <th>9996</th>\n",
       "      <td>9997</td>\n",
       "      <td>15569892</td>\n",
       "      <td>Johnstone</td>\n",
       "      <td>516</td>\n",
       "      <td>France</td>\n",
       "      <td>Male</td>\n",
       "      <td>35</td>\n",
       "      <td>10.0</td>\n",
       "      <td>57369.61</td>\n",
       "      <td>1</td>\n",
       "      <td>1</td>\n",
       "      <td>1</td>\n",
       "      <td>101699.77</td>\n",
       "      <td>0</td>\n",
       "    </tr>\n",
       "    <tr>\n",
       "      <th>9997</th>\n",
       "      <td>9998</td>\n",
       "      <td>15584532</td>\n",
       "      <td>Liu</td>\n",
       "      <td>709</td>\n",
       "      <td>France</td>\n",
       "      <td>Female</td>\n",
       "      <td>36</td>\n",
       "      <td>7.0</td>\n",
       "      <td>0.00</td>\n",
       "      <td>1</td>\n",
       "      <td>0</td>\n",
       "      <td>1</td>\n",
       "      <td>42085.58</td>\n",
       "      <td>1</td>\n",
       "    </tr>\n",
       "    <tr>\n",
       "      <th>9998</th>\n",
       "      <td>9999</td>\n",
       "      <td>15682355</td>\n",
       "      <td>Sabbatini</td>\n",
       "      <td>772</td>\n",
       "      <td>Germany</td>\n",
       "      <td>Male</td>\n",
       "      <td>42</td>\n",
       "      <td>3.0</td>\n",
       "      <td>75075.31</td>\n",
       "      <td>2</td>\n",
       "      <td>1</td>\n",
       "      <td>0</td>\n",
       "      <td>92888.52</td>\n",
       "      <td>1</td>\n",
       "    </tr>\n",
       "    <tr>\n",
       "      <th>9999</th>\n",
       "      <td>10000</td>\n",
       "      <td>15628319</td>\n",
       "      <td>Walker</td>\n",
       "      <td>792</td>\n",
       "      <td>France</td>\n",
       "      <td>Female</td>\n",
       "      <td>28</td>\n",
       "      <td>NaN</td>\n",
       "      <td>130142.79</td>\n",
       "      <td>1</td>\n",
       "      <td>1</td>\n",
       "      <td>0</td>\n",
       "      <td>38190.78</td>\n",
       "      <td>0</td>\n",
       "    </tr>\n",
       "  </tbody>\n",
       "</table>\n",
       "<p>10000 rows × 14 columns</p>\n",
       "</div>"
      ],
      "text/plain": [
       "      RowNumber  CustomerId    Surname  CreditScore Geography  Gender  Age  \\\n",
       "0             1    15634602   Hargrave          619    France  Female   42   \n",
       "1             2    15647311       Hill          608     Spain  Female   41   \n",
       "2             3    15619304       Onio          502    France  Female   42   \n",
       "3             4    15701354       Boni          699    France  Female   39   \n",
       "4             5    15737888   Mitchell          850     Spain  Female   43   \n",
       "...         ...         ...        ...          ...       ...     ...  ...   \n",
       "9995       9996    15606229   Obijiaku          771    France    Male   39   \n",
       "9996       9997    15569892  Johnstone          516    France    Male   35   \n",
       "9997       9998    15584532        Liu          709    France  Female   36   \n",
       "9998       9999    15682355  Sabbatini          772   Germany    Male   42   \n",
       "9999      10000    15628319     Walker          792    France  Female   28   \n",
       "\n",
       "      Tenure    Balance  NumOfProducts  HasCrCard  IsActiveMember  \\\n",
       "0        2.0       0.00              1          1               1   \n",
       "1        1.0   83807.86              1          0               1   \n",
       "2        8.0  159660.80              3          1               0   \n",
       "3        1.0       0.00              2          0               0   \n",
       "4        2.0  125510.82              1          1               1   \n",
       "...      ...        ...            ...        ...             ...   \n",
       "9995     5.0       0.00              2          1               0   \n",
       "9996    10.0   57369.61              1          1               1   \n",
       "9997     7.0       0.00              1          0               1   \n",
       "9998     3.0   75075.31              2          1               0   \n",
       "9999     NaN  130142.79              1          1               0   \n",
       "\n",
       "      EstimatedSalary  Exited  \n",
       "0           101348.88       1  \n",
       "1           112542.58       0  \n",
       "2           113931.57       1  \n",
       "3            93826.63       0  \n",
       "4            79084.10       0  \n",
       "...               ...     ...  \n",
       "9995         96270.64       0  \n",
       "9996        101699.77       0  \n",
       "9997         42085.58       1  \n",
       "9998         92888.52       1  \n",
       "9999         38190.78       0  \n",
       "\n",
       "[10000 rows x 14 columns]"
      ]
     },
     "execution_count": 220,
     "metadata": {},
     "output_type": "execute_result"
    }
   ],
   "source": [
    "import pandas as pd\n",
    "from sklearn.model_selection import train_test_split\n",
    "from sklearn.preprocessing import StandardScaler\n",
    "from sklearn.tree import DecisionTreeClassifier\n",
    "from sklearn.metrics import accuracy_score\n",
    "from sklearn.linear_model import LogisticRegression\n",
    "from sklearn.metrics import f1_score\n",
    "from sklearn.utils import shuffle\n",
    "import numpy as np\n",
    "from sklearn.ensemble import RandomForestClassifier\n",
    "from sklearn.metrics import roc_auc_score\n",
    "\n",
    "data = pd.read_csv('Churn.csv')\n",
    "\n",
    "data"
   ]
  },
  {
   "cell_type": "markdown",
   "metadata": {},
   "source": [
    "Признаки:\n",
    "\n",
    "- RowNumber — индекс строки в данных\n",
    "- CustomerId — уникальный идентификатор клиента\n",
    "- Surname — фамилия\n",
    "- CreditScore — кредитный рейтинг\n",
    "- Geography — страна проживания\n",
    "- Gender — пол\n",
    "- Age — возраст\n",
    "- Tenure — количество недвижимости у клиента\n",
    "- Balance — баланс на счёте\n",
    "- NumOfProducts — количество продуктов банка, используемых клиентом\n",
    "- HasCrCard — наличие кредитной карты\n",
    "- IsActiveMember — активность клиента\n",
    "- EstimatedSalary — предполагаемая зарплата\n",
    "\n",
    "Целевой признак:\n",
    "- Exited — факт ухода клиента\n",
    "\n",
    "Преобразовать категориальные признаки в численные поможет техника прямого кодирования с учетом избытка данных, чтобы не попасть в ловушку фиктивных признаков."
   ]
  },
  {
   "cell_type": "code",
   "execution_count": 221,
   "metadata": {},
   "outputs": [
    {
     "data": {
      "text/html": [
       "<div>\n",
       "<style scoped>\n",
       "    .dataframe tbody tr th:only-of-type {\n",
       "        vertical-align: middle;\n",
       "    }\n",
       "\n",
       "    .dataframe tbody tr th {\n",
       "        vertical-align: top;\n",
       "    }\n",
       "\n",
       "    .dataframe thead th {\n",
       "        text-align: right;\n",
       "    }\n",
       "</style>\n",
       "<table border=\"1\" class=\"dataframe\">\n",
       "  <thead>\n",
       "    <tr style=\"text-align: right;\">\n",
       "      <th></th>\n",
       "      <th>CreditScore</th>\n",
       "      <th>Age</th>\n",
       "      <th>Tenure</th>\n",
       "      <th>Balance</th>\n",
       "      <th>NumOfProducts</th>\n",
       "      <th>HasCrCard</th>\n",
       "      <th>IsActiveMember</th>\n",
       "      <th>EstimatedSalary</th>\n",
       "      <th>Exited</th>\n",
       "      <th>Geography_Germany</th>\n",
       "      <th>Geography_Spain</th>\n",
       "      <th>Gender_Male</th>\n",
       "    </tr>\n",
       "  </thead>\n",
       "  <tbody>\n",
       "    <tr>\n",
       "      <th>0</th>\n",
       "      <td>619</td>\n",
       "      <td>42</td>\n",
       "      <td>2.0</td>\n",
       "      <td>0.00</td>\n",
       "      <td>1</td>\n",
       "      <td>1</td>\n",
       "      <td>1</td>\n",
       "      <td>101348.88</td>\n",
       "      <td>1</td>\n",
       "      <td>0</td>\n",
       "      <td>0</td>\n",
       "      <td>0</td>\n",
       "    </tr>\n",
       "    <tr>\n",
       "      <th>1</th>\n",
       "      <td>608</td>\n",
       "      <td>41</td>\n",
       "      <td>1.0</td>\n",
       "      <td>83807.86</td>\n",
       "      <td>1</td>\n",
       "      <td>0</td>\n",
       "      <td>1</td>\n",
       "      <td>112542.58</td>\n",
       "      <td>0</td>\n",
       "      <td>0</td>\n",
       "      <td>1</td>\n",
       "      <td>0</td>\n",
       "    </tr>\n",
       "    <tr>\n",
       "      <th>2</th>\n",
       "      <td>502</td>\n",
       "      <td>42</td>\n",
       "      <td>8.0</td>\n",
       "      <td>159660.80</td>\n",
       "      <td>3</td>\n",
       "      <td>1</td>\n",
       "      <td>0</td>\n",
       "      <td>113931.57</td>\n",
       "      <td>1</td>\n",
       "      <td>0</td>\n",
       "      <td>0</td>\n",
       "      <td>0</td>\n",
       "    </tr>\n",
       "    <tr>\n",
       "      <th>3</th>\n",
       "      <td>699</td>\n",
       "      <td>39</td>\n",
       "      <td>1.0</td>\n",
       "      <td>0.00</td>\n",
       "      <td>2</td>\n",
       "      <td>0</td>\n",
       "      <td>0</td>\n",
       "      <td>93826.63</td>\n",
       "      <td>0</td>\n",
       "      <td>0</td>\n",
       "      <td>0</td>\n",
       "      <td>0</td>\n",
       "    </tr>\n",
       "    <tr>\n",
       "      <th>4</th>\n",
       "      <td>850</td>\n",
       "      <td>43</td>\n",
       "      <td>2.0</td>\n",
       "      <td>125510.82</td>\n",
       "      <td>1</td>\n",
       "      <td>1</td>\n",
       "      <td>1</td>\n",
       "      <td>79084.10</td>\n",
       "      <td>0</td>\n",
       "      <td>0</td>\n",
       "      <td>1</td>\n",
       "      <td>0</td>\n",
       "    </tr>\n",
       "    <tr>\n",
       "      <th>...</th>\n",
       "      <td>...</td>\n",
       "      <td>...</td>\n",
       "      <td>...</td>\n",
       "      <td>...</td>\n",
       "      <td>...</td>\n",
       "      <td>...</td>\n",
       "      <td>...</td>\n",
       "      <td>...</td>\n",
       "      <td>...</td>\n",
       "      <td>...</td>\n",
       "      <td>...</td>\n",
       "      <td>...</td>\n",
       "    </tr>\n",
       "    <tr>\n",
       "      <th>9995</th>\n",
       "      <td>771</td>\n",
       "      <td>39</td>\n",
       "      <td>5.0</td>\n",
       "      <td>0.00</td>\n",
       "      <td>2</td>\n",
       "      <td>1</td>\n",
       "      <td>0</td>\n",
       "      <td>96270.64</td>\n",
       "      <td>0</td>\n",
       "      <td>0</td>\n",
       "      <td>0</td>\n",
       "      <td>1</td>\n",
       "    </tr>\n",
       "    <tr>\n",
       "      <th>9996</th>\n",
       "      <td>516</td>\n",
       "      <td>35</td>\n",
       "      <td>10.0</td>\n",
       "      <td>57369.61</td>\n",
       "      <td>1</td>\n",
       "      <td>1</td>\n",
       "      <td>1</td>\n",
       "      <td>101699.77</td>\n",
       "      <td>0</td>\n",
       "      <td>0</td>\n",
       "      <td>0</td>\n",
       "      <td>1</td>\n",
       "    </tr>\n",
       "    <tr>\n",
       "      <th>9997</th>\n",
       "      <td>709</td>\n",
       "      <td>36</td>\n",
       "      <td>7.0</td>\n",
       "      <td>0.00</td>\n",
       "      <td>1</td>\n",
       "      <td>0</td>\n",
       "      <td>1</td>\n",
       "      <td>42085.58</td>\n",
       "      <td>1</td>\n",
       "      <td>0</td>\n",
       "      <td>0</td>\n",
       "      <td>0</td>\n",
       "    </tr>\n",
       "    <tr>\n",
       "      <th>9998</th>\n",
       "      <td>772</td>\n",
       "      <td>42</td>\n",
       "      <td>3.0</td>\n",
       "      <td>75075.31</td>\n",
       "      <td>2</td>\n",
       "      <td>1</td>\n",
       "      <td>0</td>\n",
       "      <td>92888.52</td>\n",
       "      <td>1</td>\n",
       "      <td>1</td>\n",
       "      <td>0</td>\n",
       "      <td>1</td>\n",
       "    </tr>\n",
       "    <tr>\n",
       "      <th>9999</th>\n",
       "      <td>792</td>\n",
       "      <td>28</td>\n",
       "      <td>NaN</td>\n",
       "      <td>130142.79</td>\n",
       "      <td>1</td>\n",
       "      <td>1</td>\n",
       "      <td>0</td>\n",
       "      <td>38190.78</td>\n",
       "      <td>0</td>\n",
       "      <td>0</td>\n",
       "      <td>0</td>\n",
       "      <td>0</td>\n",
       "    </tr>\n",
       "  </tbody>\n",
       "</table>\n",
       "<p>10000 rows × 12 columns</p>\n",
       "</div>"
      ],
      "text/plain": [
       "      CreditScore  Age  Tenure    Balance  NumOfProducts  HasCrCard  \\\n",
       "0             619   42     2.0       0.00              1          1   \n",
       "1             608   41     1.0   83807.86              1          0   \n",
       "2             502   42     8.0  159660.80              3          1   \n",
       "3             699   39     1.0       0.00              2          0   \n",
       "4             850   43     2.0  125510.82              1          1   \n",
       "...           ...  ...     ...        ...            ...        ...   \n",
       "9995          771   39     5.0       0.00              2          1   \n",
       "9996          516   35    10.0   57369.61              1          1   \n",
       "9997          709   36     7.0       0.00              1          0   \n",
       "9998          772   42     3.0   75075.31              2          1   \n",
       "9999          792   28     NaN  130142.79              1          1   \n",
       "\n",
       "      IsActiveMember  EstimatedSalary  Exited  Geography_Germany  \\\n",
       "0                  1        101348.88       1                  0   \n",
       "1                  1        112542.58       0                  0   \n",
       "2                  0        113931.57       1                  0   \n",
       "3                  0         93826.63       0                  0   \n",
       "4                  1         79084.10       0                  0   \n",
       "...              ...              ...     ...                ...   \n",
       "9995               0         96270.64       0                  0   \n",
       "9996               1        101699.77       0                  0   \n",
       "9997               1         42085.58       1                  0   \n",
       "9998               0         92888.52       1                  1   \n",
       "9999               0         38190.78       0                  0   \n",
       "\n",
       "      Geography_Spain  Gender_Male  \n",
       "0                   0            0  \n",
       "1                   1            0  \n",
       "2                   0            0  \n",
       "3                   0            0  \n",
       "4                   1            0  \n",
       "...               ...          ...  \n",
       "9995                0            1  \n",
       "9996                0            1  \n",
       "9997                0            0  \n",
       "9998                0            1  \n",
       "9999                0            0  \n",
       "\n",
       "[10000 rows x 12 columns]"
      ]
     },
     "execution_count": 221,
     "metadata": {},
     "output_type": "execute_result"
    }
   ],
   "source": [
    "data     = data.drop(['Surname','RowNumber','CustomerId'],axis=1)\n",
    "data_ohe = pd.get_dummies(data, drop_first=True)\n",
    "data_ohe"
   ]
  },
  {
   "cell_type": "markdown",
   "metadata": {},
   "source": [
    "Теперь мы разобьем датасет на обучающую, валидационную и тестовую выборки. Определимся с количественными признаками и стандартизируем их, чтобы алгоритм считал все признаки равнозначными."
   ]
  },
  {
   "cell_type": "code",
   "execution_count": 222,
   "metadata": {},
   "outputs": [
    {
     "name": "stderr",
     "output_type": "stream",
     "text": [
      "C:\\Users\\konst\\anaconda3\\lib\\site-packages\\ipykernel_launcher.py:19: SettingWithCopyWarning: \n",
      "A value is trying to be set on a copy of a slice from a DataFrame.\n",
      "Try using .loc[row_indexer,col_indexer] = value instead\n",
      "\n",
      "See the caveats in the documentation: https://pandas.pydata.org/pandas-docs/stable/user_guide/indexing.html#returning-a-view-versus-a-copy\n",
      "C:\\Users\\konst\\anaconda3\\lib\\site-packages\\pandas\\core\\indexing.py:965: SettingWithCopyWarning: \n",
      "A value is trying to be set on a copy of a slice from a DataFrame.\n",
      "Try using .loc[row_indexer,col_indexer] = value instead\n",
      "\n",
      "See the caveats in the documentation: https://pandas.pydata.org/pandas-docs/stable/user_guide/indexing.html#returning-a-view-versus-a-copy\n",
      "  self.obj[item] = s\n",
      "C:\\Users\\konst\\anaconda3\\lib\\site-packages\\ipykernel_launcher.py:20: SettingWithCopyWarning: \n",
      "A value is trying to be set on a copy of a slice from a DataFrame.\n",
      "Try using .loc[row_indexer,col_indexer] = value instead\n",
      "\n",
      "See the caveats in the documentation: https://pandas.pydata.org/pandas-docs/stable/user_guide/indexing.html#returning-a-view-versus-a-copy\n",
      "C:\\Users\\konst\\anaconda3\\lib\\site-packages\\pandas\\core\\indexing.py:965: SettingWithCopyWarning: \n",
      "A value is trying to be set on a copy of a slice from a DataFrame.\n",
      "Try using .loc[row_indexer,col_indexer] = value instead\n",
      "\n",
      "See the caveats in the documentation: https://pandas.pydata.org/pandas-docs/stable/user_guide/indexing.html#returning-a-view-versus-a-copy\n",
      "  self.obj[item] = s\n",
      "C:\\Users\\konst\\anaconda3\\lib\\site-packages\\ipykernel_launcher.py:21: SettingWithCopyWarning: \n",
      "A value is trying to be set on a copy of a slice from a DataFrame.\n",
      "Try using .loc[row_indexer,col_indexer] = value instead\n",
      "\n",
      "See the caveats in the documentation: https://pandas.pydata.org/pandas-docs/stable/user_guide/indexing.html#returning-a-view-versus-a-copy\n",
      "C:\\Users\\konst\\anaconda3\\lib\\site-packages\\pandas\\core\\indexing.py:965: SettingWithCopyWarning: \n",
      "A value is trying to be set on a copy of a slice from a DataFrame.\n",
      "Try using .loc[row_indexer,col_indexer] = value instead\n",
      "\n",
      "See the caveats in the documentation: https://pandas.pydata.org/pandas-docs/stable/user_guide/indexing.html#returning-a-view-versus-a-copy\n",
      "  self.obj[item] = s\n"
     ]
    }
   ],
   "source": [
    "#Извлекли целевой признак\n",
    "target   = data_ohe['Exited']\n",
    "features = data_ohe.drop(['Exited'] , axis=1)\n",
    "#Заменим пропуски в столбце Tenure на медианное значение\n",
    "features['Tenure'].fillna(features['Tenure'].median(), inplace=True)\n",
    "\n",
    "#Разбили датасет в пропорциях 3:1:1\n",
    "features_train, features_valid_test, target_train, target_valid_train = train_test_split(\n",
    "    features, target, test_size=0.4, random_state=12345)\n",
    "features_test, features_valid, target_test, target_valid = train_test_split(\n",
    "    features_valid_test, target_valid_train, test_size=0.5, random_state=12345)\n",
    "\n",
    "#Признаки, которые надо масштабировать\n",
    "numeric = ['CreditScore','Age','Tenure','Balance','NumOfProducts','EstimatedSalary']\n",
    "\n",
    "#Непосредственное масштабирование\n",
    "scaler                  = StandardScaler()\n",
    "scaler.fit(features_train[numeric])\n",
    "features_train[numeric] = scaler.transform(features_train[numeric])\n",
    "features_valid[numeric] = scaler.transform(features_valid[numeric])\n",
    "features_test[numeric]  = scaler.transform(features_test[numeric])"
   ]
  },
  {
   "cell_type": "markdown",
   "metadata": {},
   "source": [
    "Обучим модель без учета дисбаланса классов и затем сравним ее с константной моделью."
   ]
  },
  {
   "cell_type": "code",
   "execution_count": 223,
   "metadata": {},
   "outputs": [
    {
     "name": "stdout",
     "output_type": "stream",
     "text": [
      "0.833\n"
     ]
    }
   ],
   "source": [
    "model           = DecisionTreeClassifier(random_state=12345,max_depth=8)\n",
    "model.fit(features_train,target_train)\n",
    "predicted_valid = model.predict(features_valid)\n",
    "accuracy_valid  = accuracy_score(target_valid,predicted_valid)\n",
    "print(accuracy_valid)"
   ]
  },
  {
   "cell_type": "code",
   "execution_count": 224,
   "metadata": {},
   "outputs": [
    {
     "data": {
      "text/plain": [
       "0    79.63\n",
       "1    20.37\n",
       "Name: Exited, dtype: float64"
      ]
     },
     "execution_count": 224,
     "metadata": {},
     "output_type": "execute_result"
    }
   ],
   "source": [
    "data_ohe['Exited'].value_counts(normalize=True)*100"
   ]
  },
  {
   "cell_type": "code",
   "execution_count": 225,
   "metadata": {},
   "outputs": [
    {
     "name": "stdout",
     "output_type": "stream",
     "text": [
      "0.7885\n"
     ]
    }
   ],
   "source": [
    "target_pred_constant = pd.Series(0, index=target_valid.index)\n",
    "accuracy = accuracy_score(target_valid,target_pred_constant)\n",
    "print(accuracy)"
   ]
  },
  {
   "cell_type": "markdown",
   "metadata": {},
   "source": [
    "Как оказалось наше дерево решений оказалось не намного лучше константной модели. Все из-за дисбаланса классов. Количество отрицательных ответов составляет почти 80%.\n",
    "\n",
    "Теперь для каждой модели будем пробовать разные методы борьбы с дисбалансом, при этом подбирая наилучшее значение гиперпараметра."
   ]
  },
  {
   "cell_type": "code",
   "execution_count": 226,
   "metadata": {},
   "outputs": [
    {
     "name": "stdout",
     "output_type": "stream",
     "text": [
      "F1: 0.4788245462402766\n",
      "AUC-ROC: 0.7418085930882918\n"
     ]
    }
   ],
   "source": [
    "#Используем параметр class_weight\n",
    "model = LogisticRegression(random_state=12345, solver='liblinear',class_weight='balanced')\n",
    "model.fit(features_train, target_train)\n",
    "predicted_valid = model.predict(features_valid)\n",
    "print(\"F1:\", f1_score(target_valid, predicted_valid))\n",
    "\n",
    "probabilities_valid = model.predict_proba(features_valid)\n",
    "probabilities_one_valid = probabilities_valid[:, 1]\n",
    "auc_roc = roc_auc_score(target_valid,probabilities_one_valid)\n",
    "print('AUC-ROC: ' + str(auc_roc))"
   ]
  },
  {
   "cell_type": "code",
   "execution_count": 227,
   "metadata": {},
   "outputs": [],
   "source": [
    "def upsample(features, target, repeat):\n",
    "    features_zeros = features[target == 0]\n",
    "    features_ones = features[target == 1]\n",
    "    target_zeros = target[target == 0]\n",
    "    target_ones = target[target == 1]\n",
    "\n",
    "    features_upsampled = pd.concat([features_zeros] + [features_ones] * repeat)\n",
    "    target_upsampled = pd.concat([target_zeros] + [target_ones] * repeat)\n",
    "    \n",
    "    features_upsampled, target_upsampled = shuffle(\n",
    "        features_upsampled, target_upsampled, random_state=12345)\n",
    "    \n",
    "    return features_upsampled, target_upsampled"
   ]
  },
  {
   "cell_type": "code",
   "execution_count": 228,
   "metadata": {},
   "outputs": [
    {
     "name": "stdout",
     "output_type": "stream",
     "text": [
      "F1: 0.4834996162701458\n",
      "AUC-ROC: 0.7420379539809105\n"
     ]
    }
   ],
   "source": [
    "#Здесь опробуем upsampling\n",
    "features_upsampled, target_upsampled = upsample(features_train, target_train, 5)\n",
    "model = LogisticRegression(solver='liblinear')\n",
    "model.fit(features_upsampled,target_upsampled)\n",
    "predicted_valid = model.predict(features_valid)\n",
    "print(\"F1:\", f1_score(target_valid, predicted_valid))\n",
    "\n",
    "probabilities_valid = model.predict_proba(features_valid)\n",
    "probabilities_one_valid = probabilities_valid[:, 1]\n",
    "auc_roc = roc_auc_score(target_valid,probabilities_one_valid)\n",
    "print('AUC-ROC: ' + str(auc_roc))"
   ]
  },
  {
   "cell_type": "code",
   "execution_count": 229,
   "metadata": {},
   "outputs": [],
   "source": [
    "def downsample(features, target, fraction):\n",
    "    features_zeros = features[target == 0]\n",
    "    features_ones = features[target == 1]\n",
    "    target_zeros = target[target == 0]\n",
    "    target_ones = target[target == 1]\n",
    "\n",
    "    features_downsampled = pd.concat(\n",
    "        [features_zeros.sample(frac=fraction, random_state=12345)] + [features_ones])\n",
    "    target_downsampled = pd.concat(\n",
    "        [target_zeros.sample(frac=fraction, random_state=12345)] + [target_ones])\n",
    "    \n",
    "    features_downsampled, target_downsampled = shuffle(\n",
    "        features_downsampled, target_downsampled, random_state=12345)\n",
    "    \n",
    "    return features_downsampled, target_downsampled"
   ]
  },
  {
   "cell_type": "code",
   "execution_count": 230,
   "metadata": {},
   "outputs": [
    {
     "name": "stdout",
     "output_type": "stream",
     "text": [
      "F1: 0.48484848484848475\n",
      "AUC-ROC: 0.7407577304364902\n"
     ]
    }
   ],
   "source": [
    "#Здесь опробуем downsampling\n",
    "features_downsampled, target_downsampled = downsample(features_train, target_train, 0.24)\n",
    "\n",
    "model = LogisticRegression(solver='liblinear')\n",
    "model.fit(features_downsampled,target_downsampled)\n",
    "predicted_valid = model.predict(features_valid)\n",
    "\n",
    "print(\"F1:\", f1_score(target_valid, predicted_valid))\n",
    "\n",
    "probabilities_valid = model.predict_proba(features_valid)\n",
    "probabilities_one_valid = probabilities_valid[:, 1]\n",
    "auc_roc = roc_auc_score(target_valid,probabilities_one_valid)\n",
    "print('AUC-ROC: ' + str(auc_roc))"
   ]
  },
  {
   "cell_type": "code",
   "execution_count": 231,
   "metadata": {},
   "outputs": [
    {
     "name": "stdout",
     "output_type": "stream",
     "text": [
      "F1: 0.49462365591397844\n",
      "AUC-ROC: 0.747145356341379\n"
     ]
    }
   ],
   "source": [
    "features_downsampled_valid, target_downsampled_valid = downsample(features_valid, target_valid, 0.24)\n",
    "\n",
    "features_new_train = pd.concat([features_downsampled,features_downsampled_valid])\n",
    "target_new_train   = pd.concat([target_downsampled,target_downsampled_valid])\n",
    "\n",
    "model = LogisticRegression(solver='liblinear')\n",
    "model.fit(features_new_train,target_new_train)\n",
    "predicted_valid = model.predict(features_valid)\n",
    "\n",
    "print(\"F1:\", f1_score(target_valid, predicted_valid))\n",
    "\n",
    "probabilities_valid = model.predict_proba(features_valid)\n",
    "probabilities_one_valid = probabilities_valid[:, 1]\n",
    "auc_roc = roc_auc_score(target_valid,probabilities_one_valid)\n",
    "print('AUC-ROC: ' + str(auc_roc))"
   ]
  },
  {
   "cell_type": "markdown",
   "metadata": {},
   "source": [
    "Для модели логистической регрессии были опробованы три метода борьбы с дисбалансом классов. Сильной разницы между значением качества не было обнаружено, но тем не менее, выбрали downsample, поскольку он дал слегка более высокое значение. В результате преобразовали валидационную выборку этим методом и смешали с обучающей выборкой, чтобы переобучить модель на большем датасете. Не смотря на это, результат оказался недостаточно высоким, поэтому отбрасываем данную модель.\n",
    "\n",
    "Теперь проделаем тоже самое с деревом решений."
   ]
  },
  {
   "cell_type": "code",
   "execution_count": 232,
   "metadata": {},
   "outputs": [
    {
     "name": "stdout",
     "output_type": "stream",
     "text": [
      "Глубина дерева = 4. F1_score = 0.508. AUC-ROC = 0.8088\n",
      "\n",
      "Глубина дерева = 6. F1_score = 0.5592. AUC-ROC = 0.8192\n",
      "\n",
      "Глубина дерева = 8. F1_score = 0.5447. AUC-ROC = 0.7847\n",
      "\n",
      "Глубина дерева = 10. F1_score = 0.5268. AUC-ROC = 0.7595\n",
      "\n",
      "Глубина дерева = 12. F1_score = 0.504. AUC-ROC = 0.7219\n",
      "\n",
      "Глубина дерева = 14. F1_score = 0.495. AUC-ROC = 0.7094\n",
      "\n"
     ]
    }
   ],
   "source": [
    "#Пробуем downsampling\n",
    "for m_d in np.arange(4,16,2):\n",
    "    model                   = DecisionTreeClassifier(random_state=12345, max_depth=m_d)\n",
    "    model.fit(features_downsampled,target_downsampled)\n",
    "    predictions             = model.predict(features_valid)\n",
    "    f1_score_val            = round(f1_score(target_valid,predictions),4)\n",
    "    probabilities_valid     = model.predict_proba(features_valid)\n",
    "    probabilities_one_valid = probabilities_valid[:, 1]\n",
    "    auc_roc                 = round(roc_auc_score(target_valid,probabilities_one_valid),4)\n",
    "    print('Глубина дерева = ' + str(m_d) + '. F1_score = ' + str(f1_score_val) + '. AUC-ROC = ' + str(auc_roc))\n",
    "    print()"
   ]
  },
  {
   "cell_type": "markdown",
   "metadata": {},
   "source": [
    "При downsampling наибольшее значение F1-меры получено при максимальной глубине дерева, равное 6."
   ]
  },
  {
   "cell_type": "code",
   "execution_count": 233,
   "metadata": {},
   "outputs": [
    {
     "name": "stdout",
     "output_type": "stream",
     "text": [
      "Глубина дерева = 4. F1_score = 0.5385. AUC-ROC = 0.8187\n",
      "\n",
      "Глубина дерева = 6. F1_score = 0.5644. AUC-ROC = 0.8194\n",
      "\n",
      "Глубина дерева = 8. F1_score = 0.5477. AUC-ROC = 0.7798\n",
      "\n",
      "Глубина дерева = 10. F1_score = 0.518. AUC-ROC = 0.7428\n",
      "\n",
      "Глубина дерева = 12. F1_score = 0.5131. AUC-ROC = 0.7148\n",
      "\n",
      "Глубина дерева = 14. F1_score = 0.522. AUC-ROC = 0.7081\n",
      "\n"
     ]
    }
   ],
   "source": [
    "for m_d in np.arange(4,16,2):\n",
    "    model                   = DecisionTreeClassifier(random_state=12345, max_depth=m_d,class_weight='balanced')\n",
    "    model.fit(features_train,target_train)\n",
    "    predictions             = model.predict(features_valid)\n",
    "    f1_score_val            = round(f1_score(target_valid,predictions),4)\n",
    "    probabilities_valid     = model.predict_proba(features_valid)\n",
    "    probabilities_one_valid = probabilities_valid[:, 1]\n",
    "    auc_roc                 = round(roc_auc_score(target_valid,probabilities_one_valid),4)\n",
    "    print('Глубина дерева = ' + str(m_d) + '. F1_score = ' + str(f1_score_val) + '. AUC-ROC = ' + str(auc_roc))\n",
    "    print()"
   ]
  },
  {
   "cell_type": "markdown",
   "metadata": {},
   "source": [
    "Тот же результат при использовании параметра class_weight."
   ]
  },
  {
   "cell_type": "code",
   "execution_count": 234,
   "metadata": {},
   "outputs": [
    {
     "name": "stdout",
     "output_type": "stream",
     "text": [
      "Глубина дерева = 4. F1_score_valid = 0.5385 F1-score_train = 0.5175. AUC-ROC = 0.8187\n",
      "\n",
      "Глубина дерева = 6. F1_score_valid = 0.5644 F1-score_train = 0.5835. AUC-ROC = 0.8194\n",
      "\n",
      "Глубина дерева = 8. F1_score_valid = 0.5514 F1-score_train = 0.6557. AUC-ROC = 0.785\n",
      "\n",
      "Глубина дерева = 10. F1_score_valid = 0.5257 F1-score_train = 0.7068. AUC-ROC = 0.7484\n",
      "\n",
      "Глубина дерева = 12. F1_score_valid = 0.5211 F1-score_train = 0.8122. AUC-ROC = 0.7171\n",
      "\n",
      "Глубина дерева = 14. F1_score_valid = 0.5124 F1-score_train = 0.9094. AUC-ROC = 0.6995\n",
      "\n"
     ]
    }
   ],
   "source": [
    "for m_d in np.arange(4,16,2):\n",
    "    model                    = DecisionTreeClassifier(random_state=12345, max_depth=m_d,class_weight='balanced')\n",
    "    model.fit(features_upsampled,target_upsampled)\n",
    "    predictions              = model.predict(features_valid)\n",
    "    f1_score_val             = round(f1_score(target_valid,predictions),4)\n",
    "    predictions_             = model.predict(features_train)\n",
    "    f1_score_val_            = round(f1_score(target_train,predictions_),4)\n",
    "    probabilities_valid      = model.predict_proba(features_valid)\n",
    "    probabilities_one_valid  = probabilities_valid[:, 1]\n",
    "    auc_roc                  = round(roc_auc_score(target_valid,probabilities_one_valid),4)\n",
    "    print('Глубина дерева = ' + str(m_d) + '. F1_score_valid = ' + str(f1_score_val) + ' F1-score_train = ' + str(f1_score_val_) + '. AUC-ROC = ' + str(auc_roc))\n",
    "    print()"
   ]
  },
  {
   "cell_type": "markdown",
   "metadata": {},
   "source": [
    "Кажется рассмотренные методы примерно одинаково влияют на качество обученной модели. В последнем цикле также было расчитано качество на обучающей выборке, чтобы проконтроллировать переобучение.\n",
    "\n",
    "Теперь объединим обучающую и валидационную выборку, чтобы заново обучить модель с наилучшим значением гиперпараметра."
   ]
  },
  {
   "cell_type": "code",
   "execution_count": 235,
   "metadata": {},
   "outputs": [
    {
     "name": "stdout",
     "output_type": "stream",
     "text": [
      "F1-мера = 0.5714\n",
      "AUC-ROC = 0.8343\n"
     ]
    }
   ],
   "source": [
    "features_new_train      = pd.concat([features_train,features_valid])\n",
    "target_new_train        = pd.concat([target_train,target_valid])\n",
    "\n",
    "model                   = DecisionTreeClassifier(random_state=12345, max_depth=6,class_weight='balanced')\n",
    "model.fit(features_new_train,target_new_train)\n",
    "predictions             = model.predict(features_test)\n",
    "f1_score_val            = round(f1_score(target_test,predictions),4)\n",
    "probabilities_valid     = model.predict_proba(features_test)\n",
    "probabilities_one_valid = probabilities_valid[:, 1]\n",
    "auc_roc                 = round(roc_auc_score(target_test,probabilities_one_valid),4)\n",
    "print('F1-мера = ' + str(f1_score_val))\n",
    "print('AUC-ROC = ' + str(auc_roc))"
   ]
  },
  {
   "cell_type": "markdown",
   "metadata": {},
   "source": [
    "Близко, но, к сожалению, придется отбросить и эту модель.\n",
    "\n",
    "Переходим к случайному лесу."
   ]
  },
  {
   "cell_type": "code",
   "execution_count": 236,
   "metadata": {},
   "outputs": [
    {
     "name": "stdout",
     "output_type": "stream",
     "text": [
      "Глубина дерева = 4. F1_score = 0.5632. AUC-ROC = 0.8235\n",
      "Глубина дерева = 6. F1_score = 0.5809. AUC-ROC = 0.8399\n",
      "Глубина дерева = 8. F1_score = 0.5663. AUC-ROC = 0.8366\n",
      "Глубина дерева = 10. F1_score = 0.5704. AUC-ROC = 0.8403\n",
      "Глубина дерева = 12. F1_score = 0.5513. AUC-ROC = 0.8368\n",
      "Глубина дерева = 14. F1_score = 0.5584. AUC-ROC = 0.8286\n",
      "Глубина дерева = 16. F1_score = 0.563. AUC-ROC = 0.8276\n",
      "Глубина дерева = 18. F1_score = 0.5634. AUC-ROC = 0.8257\n"
     ]
    }
   ],
   "source": [
    "#Пробуем downsampling\n",
    "for depth in np.arange(4,20,2):\n",
    "    model                   = RandomForestClassifier(n_estimators=20, max_depth=depth, random_state=12345)\n",
    "    model.fit(features_downsampled, target_downsampled)\n",
    "    predictions             = model.predict(features_valid)\n",
    "    probabilities_valid     = model.predict_proba(features_valid)\n",
    "    probabilities_one_valid = probabilities_valid[:, 1]\n",
    "    auc_roc                 = round(roc_auc_score(target_valid,probabilities_one_valid),4)\n",
    "    print('Глубина дерева = ' + str(depth) + '. F1_score = ' + str(round(f1_score(target_valid,predictions),4)) \\\n",
    "          + '. AUC-ROC = ' + str(auc_roc))"
   ]
  },
  {
   "cell_type": "markdown",
   "metadata": {},
   "source": [
    "Наилучшим получили качество при глубине дерева 6."
   ]
  },
  {
   "cell_type": "code",
   "execution_count": 237,
   "metadata": {},
   "outputs": [
    {
     "name": "stdout",
     "output_type": "stream",
     "text": [
      "Глубина дерева = 4. F1_score = 0.5739. AUC-ROC = 0.8339\n",
      "Глубина дерева = 6. F1_score = 0.5874. AUC-ROC = 0.8432\n",
      "Глубина дерева = 8. F1_score = 0.5869. AUC-ROC = 0.8455\n",
      "Глубина дерева = 10. F1_score = 0.5973. AUC-ROC = 0.8479\n",
      "Глубина дерева = 12. F1_score = 0.5951. AUC-ROC = 0.8469\n",
      "Глубина дерева = 14. F1_score = 0.5904. AUC-ROC = 0.845\n",
      "Глубина дерева = 16. F1_score = 0.535. AUC-ROC = 0.8297\n",
      "Глубина дерева = 18. F1_score = 0.5882. AUC-ROC = 0.8359\n"
     ]
    }
   ],
   "source": [
    "#Пробуем upsampling\n",
    "for depth in np.arange(4,20,2):\n",
    "    model                   = RandomForestClassifier(n_estimators=20, max_depth=depth, random_state=12345)\n",
    "    model.fit(features_upsampled, target_upsampled)\n",
    "    predictions             = model.predict(features_valid)\n",
    "    probabilities_valid     = model.predict_proba(features_valid)\n",
    "    probabilities_one_valid = probabilities_valid[:, 1]\n",
    "    auc_roc                 = round(roc_auc_score(target_valid,probabilities_one_valid),4)\n",
    "    print('Глубина дерева = ' + str(depth) + '. F1_score = ' + str(round(f1_score(target_valid,predictions),4)) \\\n",
    "          + '. AUC-ROC = ' + str(auc_roc))"
   ]
  },
  {
   "cell_type": "markdown",
   "metadata": {},
   "source": [
    "Получили наибольшее качество при глубине дерева 10. При этмо качество увеличили почти на .02."
   ]
  },
  {
   "cell_type": "code",
   "execution_count": 238,
   "metadata": {},
   "outputs": [
    {
     "name": "stdout",
     "output_type": "stream",
     "text": [
      "Глубина дерева = 4. F1_score = 0.5686. AUC-ROC = 0.8211\n",
      "Глубина дерева = 6. F1_score = 0.5916. AUC-ROC = 0.842\n",
      "Глубина дерева = 8. F1_score = 0.6015. AUC-ROC = 0.8483\n",
      "Глубина дерева = 10. F1_score = 0.5885. AUC-ROC = 0.8471\n",
      "Глубина дерева = 12. F1_score = 0.5595. AUC-ROC = 0.842\n",
      "Глубина дерева = 14. F1_score = 0.5347. AUC-ROC = 0.8273\n",
      "Глубина дерева = 16. F1_score = 0.5217. AUC-ROC = 0.8293\n",
      "Глубина дерева = 18. F1_score = 0.5. AUC-ROC = 0.8389\n"
     ]
    }
   ],
   "source": [
    "#Балансировка через параметр модели\n",
    "for depth in np.arange(4,20,2):\n",
    "    model                   = RandomForestClassifier(n_estimators=20, max_depth=depth, random_state=12345,class_weight='balanced')\n",
    "    model.fit(features_train, target_train)\n",
    "    predictions             = model.predict(features_valid)\n",
    "    probabilities_valid     = model.predict_proba(features_valid)\n",
    "    probabilities_one_valid = probabilities_valid[:, 1]\n",
    "    auc_roc                 = round(roc_auc_score(target_valid,probabilities_one_valid),4)\n",
    "    print('Глубина дерева = ' + str(depth) + '. F1_score = ' + str(round(f1_score(target_valid,predictions),4)) \\\n",
    "          + '. AUC-ROC = ' + str(auc_roc))"
   ]
  },
  {
   "cell_type": "markdown",
   "metadata": {},
   "source": [
    "В последнем блоке кода было получено максимальное качество 0.6 при глубине дерева 8. Остановимся на последнем методе и используем его вместе с полученным значением гиперпараметра для того, чтобы обучить случайный лес с большим количеством оценщиков (еще один гиперпараметр). "
   ]
  },
  {
   "cell_type": "code",
   "execution_count": 239,
   "metadata": {},
   "outputs": [
    {
     "name": "stdout",
     "output_type": "stream",
     "text": [
      "F1-мера = 0.6167\n",
      "AUC-ROC = 0.8574\n"
     ]
    }
   ],
   "source": [
    "model                   = RandomForestClassifier(n_estimators=105, max_depth=8, random_state=12345,class_weight='balanced')\n",
    "model.fit(features_train, target_train)\n",
    "predictions             = model.predict(features_valid)\n",
    "print('F1-мера = ' + str(round(f1_score(target_valid,predictions),4)))\n",
    "probabilities_valid     = model.predict_proba(features_valid)\n",
    "probabilities_one_valid = probabilities_valid[:, 1]\n",
    "auc_roc                 = round(roc_auc_score(target_valid,probabilities_one_valid),4)\n",
    "print('AUC-ROC = ' + str(auc_roc))"
   ]
  },
  {
   "cell_type": "markdown",
   "metadata": {},
   "source": [
    "В принципе, мы получили необходимое значение F1-меры, но можно ее еще увеличить через слияние обучающей и валидационной выборок."
   ]
  },
  {
   "cell_type": "code",
   "execution_count": 240,
   "metadata": {},
   "outputs": [
    {
     "name": "stdout",
     "output_type": "stream",
     "text": [
      "F1-мера = 0.6258\n",
      "AUC-ROC = 0.858\n"
     ]
    }
   ],
   "source": [
    "features_new_train      = pd.concat([features_train,features_valid])\n",
    "target_new_train        = pd.concat([target_train,target_valid])\n",
    "model                   = RandomForestClassifier(n_estimators=104, max_depth=8, random_state=12345,class_weight='balanced')\n",
    "model.fit(features_new_train, target_new_train)\n",
    "predictions             = model.predict(features_test)\n",
    "print('F1-мера = ' + str(round(f1_score(target_test,predictions),4)))\n",
    "probabilities_valid     = model.predict_proba(features_test)\n",
    "probabilities_one_valid = probabilities_valid[:, 1]\n",
    "auc_roc                 = round(roc_auc_score(target_test,probabilities_one_valid),4)\n",
    "print('AUC-ROC = ' + str(auc_roc))"
   ]
  },
  {
   "cell_type": "markdown",
   "metadata": {},
   "source": [
    "## Вывод"
   ]
  },
  {
   "cell_type": "markdown",
   "metadata": {},
   "source": [
    "В данном проекте столкнулись с задачей классификации, для которой опробовали три модели: логистическую регрессию, решающее дерево и случайный лес. Сначала обучили модель без учета дисбаланса классов и сравнили ее с константной моделью. Данный шаг показал, что если не учитывать дисбаланс, то точность модели не будет сильно отличаться от константной.\n",
    "\n",
    "На данном этапе нам известно всего 3 способа борьбы с дисбалансом классов: взвешивание классов через параметр class_weight, upsampling и downsampling. В данном проекте, ради интереса, для каждой модели был использован каждый из перечисленных методов, чтобы посмотреть какой лучше подойдет и есть ли зависимость между результатами для одной и той же модели при различных методах борьбы с дисбалансом классов.\n",
    "\n",
    "Далее были масштабированы численные переменные и начат анализ моделей. Сначала обучили и потестировали Логистическую регрессию, которая в самом лучшем случае давала недостаточно высокое значение F1-меры, поэтому ее сразу отбросили.\n",
    "\n",
    "Следом за Логистической регрессией пошло Дерево решений, результаты которого не сильно менялись от метода балансировки. Определившись со значением гиперпараметра и обучив модель на выборке, состоявшей из обучающей и валидационной, мы получили более высокое значение качества, однако, все еще недостаточное, чтобы остановиться.\n",
    "\n",
    "В конце концов, подошел Случайный лес. Определившись со значениями двух гиперпараметров, мы и без слияния двух выборок получили необходимое значение F1-меры, но тем не менее увеличили ее и этим до значения 0.6258. \n",
    "\n",
    "Стоит отметить, что метрика AUC-ROC в циклах, как и F1-мера, сначала росла с увеличением значения гиперпараметра, а затем падала. Ее максимальное значение также было на выбранных нами значениях гиперпараметров."
   ]
  }
 ],
 "metadata": {
  "kernelspec": {
   "display_name": "Python 3",
   "language": "python",
   "name": "python3"
  },
  "language_info": {
   "codemirror_mode": {
    "name": "ipython",
    "version": 3
   },
   "file_extension": ".py",
   "mimetype": "text/x-python",
   "name": "python",
   "nbconvert_exporter": "python",
   "pygments_lexer": "ipython3",
   "version": "3.8.5"
  }
 },
 "nbformat": 4,
 "nbformat_minor": 4
}
