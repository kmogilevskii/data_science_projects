{
 "cells": [
  {
   "cell_type": "markdown",
   "metadata": {},
   "source": [
    "# МО для текстов\n",
    "\n",
    "Интернет-магазин «Викишоп» запускает новый сервис. Теперь пользователи могут редактировать и дополнять описания товаров, как в вики-сообществах. То есть клиенты предлагают свои правки и комментируют изменения других. Магазину нужен инструмент, который будет искать токсичные комментарии и отправлять их на модерацию.\n",
    "\n",
    "Обучите модель классифицировать комментарии на позитивные и негативные. В вашем распоряжении набор данных с разметкой о токсичности правок.\n",
    "\n",
    "Постройте модель со значением метрики качества F1 не меньше 0.75.\n",
    "\n",
    "## План проекта:\n",
    "\n",
    "<a href='#section1'>1. Загрузим данныеи подготовим их.</a>\n",
    "\n",
    " - <a href='#section1.a'>1.а. Добавление дополнительных признаков.</a>\n",
    "\n",
    " - <a href='#section1.b'>1.б. Очистка текстов.</a>\n",
    "\n",
    " - <a href='#section1.c'>1.с. Лемматизация текстов.</a>\n",
    "\n",
    "<a href='#section2'>2. Обучим разные модели.</a>\n",
    "\n",
    " - <a href='#section2.a'>2.а. Векторизация текстов.</a>\n",
    "\n",
    " - <a href='#section2.b'>2.б. Подбор Логистической Регрессии.</a>\n",
    " \n",
    " - <a href='#section2.c'>2.c. Финальное тестирование.</a>\n",
    "\n",
    "<a href='#section3'>3. Выводы.</a>\n",
    "\n",
    "\n",
    "\n",
    "\n",
    "<a id='section1'></a>\n",
    "\n",
    "## 1. Загрузим данныеи подготовим их."
   ]
  },
  {
   "cell_type": "code",
   "execution_count": 2,
   "metadata": {},
   "outputs": [
    {
     "data": {
      "text/html": [
       "<div>\n",
       "<style scoped>\n",
       "    .dataframe tbody tr th:only-of-type {\n",
       "        vertical-align: middle;\n",
       "    }\n",
       "\n",
       "    .dataframe tbody tr th {\n",
       "        vertical-align: top;\n",
       "    }\n",
       "\n",
       "    .dataframe thead th {\n",
       "        text-align: right;\n",
       "    }\n",
       "</style>\n",
       "<table border=\"1\" class=\"dataframe\">\n",
       "  <thead>\n",
       "    <tr style=\"text-align: right;\">\n",
       "      <th></th>\n",
       "      <th>text</th>\n",
       "      <th>toxic</th>\n",
       "    </tr>\n",
       "  </thead>\n",
       "  <tbody>\n",
       "    <tr>\n",
       "      <th>0</th>\n",
       "      <td>Explanation\\nWhy the edits made under my usern...</td>\n",
       "      <td>0</td>\n",
       "    </tr>\n",
       "    <tr>\n",
       "      <th>1</th>\n",
       "      <td>D'aww! He matches this background colour I'm s...</td>\n",
       "      <td>0</td>\n",
       "    </tr>\n",
       "    <tr>\n",
       "      <th>2</th>\n",
       "      <td>Hey man, I'm really not trying to edit war. It...</td>\n",
       "      <td>0</td>\n",
       "    </tr>\n",
       "    <tr>\n",
       "      <th>3</th>\n",
       "      <td>\"\\nMore\\nI can't make any real suggestions on ...</td>\n",
       "      <td>0</td>\n",
       "    </tr>\n",
       "    <tr>\n",
       "      <th>4</th>\n",
       "      <td>You, sir, are my hero. Any chance you remember...</td>\n",
       "      <td>0</td>\n",
       "    </tr>\n",
       "  </tbody>\n",
       "</table>\n",
       "</div>"
      ],
      "text/plain": [
       "                                                text  toxic\n",
       "0  Explanation\\nWhy the edits made under my usern...      0\n",
       "1  D'aww! He matches this background colour I'm s...      0\n",
       "2  Hey man, I'm really not trying to edit war. It...      0\n",
       "3  \"\\nMore\\nI can't make any real suggestions on ...      0\n",
       "4  You, sir, are my hero. Any chance you remember...      0"
      ]
     },
     "execution_count": 2,
     "metadata": {},
     "output_type": "execute_result"
    }
   ],
   "source": [
    "import pandas as pd\n",
    "import numpy as np\n",
    "import re\n",
    "import string\n",
    "from tqdm import tqdm\n",
    "from sklearn.preprocessing import StandardScaler\n",
    "from sklearn.model_selection import GridSearchCV\n",
    "import matplotlib.pyplot as plt\n",
    "from sklearn.model_selection import train_test_split\n",
    "from sklearn.metrics import f1_score\n",
    "from sklearn.linear_model import LogisticRegression\n",
    "from nltk.tokenize import word_tokenize\n",
    "from nltk.stem import PorterStemmer\n",
    "import nltk\n",
    "from nltk.corpus import stopwords as nltk_stopwords\n",
    "from sklearn.feature_extraction.text import TfidfVectorizer\n",
    "from scipy import sparse\n",
    "from scipy.sparse import hstack\n",
    "from sklearn.model_selection import cross_val_score\n",
    "\n",
    "df = pd.read_csv('toxic_comments.csv')\n",
    "\n",
    "df.head()"
   ]
  },
  {
   "cell_type": "markdown",
   "metadata": {},
   "source": [
    "Подключили все необходимые библиотеки и загрузили датасет. Взглянем на целевой признак."
   ]
  },
  {
   "cell_type": "code",
   "execution_count": 3,
   "metadata": {},
   "outputs": [
    {
     "data": {
      "image/png": "[encoded data removed]",
      "text/plain": [
       "<Figure size 432x288 with 1 Axes>"
      ]
     },
     "metadata": {
      "needs_background": "light"
     },
     "output_type": "display_data"
    }
   ],
   "source": [
    "df['toxic'].value_counts().plot(kind='bar')\n",
    "plt.show()"
   ]
  },
  {
   "cell_type": "markdown",
   "metadata": {},
   "source": [
    "Виден явный дисбаланс классов. Учтем это, когда доберемся до моделей через параметр class_weight.\n",
    "\n",
    "<a id='section1.a'></a>\n",
    "\n",
    "## 1.a. Добавление дополнительных признаков.\n",
    "\n",
    "Взглянем как комментарии различаются по количеству слов, количеству уникальных слов, количеству символов и количеству пунктуации. Для этого напишем функцию, которая добавит признаки в наш фрейм."
   ]
  },
  {
   "cell_type": "code",
   "execution_count": 4,
   "metadata": {},
   "outputs": [],
   "source": [
    "def add_meta_feat(df):\n",
    "    df['word_count'] = df['text'].apply(lambda x: len(str(x).split()))\n",
    "\n",
    "    df['unique_word_count'] = df['text'].apply(lambda x: len(set(str(x).split())))  \n",
    "\n",
    "    df['char_count'] = df['text'].apply(lambda x: len(str(x)))\n",
    "    \n",
    "    df['punctuation_count'] = df['text'].apply(lambda x: len([c for c in str(x) if c in string.punctuation]))\n",
    "    \n",
    "    return df"
   ]
  },
  {
   "cell_type": "code",
   "execution_count": 5,
   "metadata": {},
   "outputs": [
    {
     "data": {
      "text/html": [
       "<div>\n",
       "<style scoped>\n",
       "    .dataframe tbody tr th:only-of-type {\n",
       "        vertical-align: middle;\n",
       "    }\n",
       "\n",
       "    .dataframe tbody tr th {\n",
       "        vertical-align: top;\n",
       "    }\n",
       "\n",
       "    .dataframe thead th {\n",
       "        text-align: right;\n",
       "    }\n",
       "</style>\n",
       "<table border=\"1\" class=\"dataframe\">\n",
       "  <thead>\n",
       "    <tr style=\"text-align: right;\">\n",
       "      <th></th>\n",
       "      <th>text</th>\n",
       "      <th>toxic</th>\n",
       "      <th>word_count</th>\n",
       "      <th>unique_word_count</th>\n",
       "      <th>char_count</th>\n",
       "      <th>punctuation_count</th>\n",
       "    </tr>\n",
       "  </thead>\n",
       "  <tbody>\n",
       "    <tr>\n",
       "      <th>0</th>\n",
       "      <td>Explanation\\nWhy the edits made under my usern...</td>\n",
       "      <td>0</td>\n",
       "      <td>43</td>\n",
       "      <td>41</td>\n",
       "      <td>264</td>\n",
       "      <td>10</td>\n",
       "    </tr>\n",
       "    <tr>\n",
       "      <th>1</th>\n",
       "      <td>D'aww! He matches this background colour I'm s...</td>\n",
       "      <td>0</td>\n",
       "      <td>17</td>\n",
       "      <td>17</td>\n",
       "      <td>112</td>\n",
       "      <td>12</td>\n",
       "    </tr>\n",
       "    <tr>\n",
       "      <th>2</th>\n",
       "      <td>Hey man, I'm really not trying to edit war. It...</td>\n",
       "      <td>0</td>\n",
       "      <td>42</td>\n",
       "      <td>39</td>\n",
       "      <td>233</td>\n",
       "      <td>6</td>\n",
       "    </tr>\n",
       "    <tr>\n",
       "      <th>3</th>\n",
       "      <td>\"\\nMore\\nI can't make any real suggestions on ...</td>\n",
       "      <td>0</td>\n",
       "      <td>113</td>\n",
       "      <td>82</td>\n",
       "      <td>622</td>\n",
       "      <td>21</td>\n",
       "    </tr>\n",
       "    <tr>\n",
       "      <th>4</th>\n",
       "      <td>You, sir, are my hero. Any chance you remember...</td>\n",
       "      <td>0</td>\n",
       "      <td>13</td>\n",
       "      <td>13</td>\n",
       "      <td>67</td>\n",
       "      <td>5</td>\n",
       "    </tr>\n",
       "  </tbody>\n",
       "</table>\n",
       "</div>"
      ],
      "text/plain": [
       "                                                text  toxic  word_count  \\\n",
       "0  Explanation\\nWhy the edits made under my usern...      0          43   \n",
       "1  D'aww! He matches this background colour I'm s...      0          17   \n",
       "2  Hey man, I'm really not trying to edit war. It...      0          42   \n",
       "3  \"\\nMore\\nI can't make any real suggestions on ...      0         113   \n",
       "4  You, sir, are my hero. Any chance you remember...      0          13   \n",
       "\n",
       "   unique_word_count  char_count  punctuation_count  \n",
       "0                 41         264                 10  \n",
       "1                 17         112                 12  \n",
       "2                 39         233                  6  \n",
       "3                 82         622                 21  \n",
       "4                 13          67                  5  "
      ]
     },
     "execution_count": 5,
     "metadata": {},
     "output_type": "execute_result"
    }
   ],
   "source": [
    "df = add_meta_feat(df)\n",
    "#Проверка\n",
    "df.head()"
   ]
  },
  {
   "cell_type": "code",
   "execution_count": 6,
   "metadata": {},
   "outputs": [
    {
     "data": {
      "image/png": "[encoded data removed]",
      "text/plain": [
       "<Figure size 1152x1152 with 8 Axes>"
      ]
     },
     "metadata": {
      "needs_background": "light"
     },
     "output_type": "display_data"
    }
   ],
   "source": [
    "toxic_df = df['toxic'] == 1\n",
    "added_features = ['word_count', 'unique_word_count', 'char_count', 'punctuation_count']\n",
    "\n",
    "plt.figure(figsize=(16, 16))\n",
    "\n",
    "k = 0\n",
    "for i in range(len(added_features)):\n",
    "    for j in range(2):\n",
    "        plt.subplot(4,2,k+1)\n",
    "        k += 1\n",
    "        if j == 0:\n",
    "            df[toxic_df][added_features[i]].hist(bins='fd')\n",
    "            plt.title(added_features[i] + str(' токсичные'))\n",
    "        else:\n",
    "            df[~toxic_df][added_features[i]].hist(bins='fd')\n",
    "            plt.title(added_features[i] + str(' не токсичные'))\n",
    "\n",
    "\n",
    "plt.show()"
   ]
  },
  {
   "cell_type": "markdown",
   "metadata": {},
   "source": [
    "Первое, что бросается в глаза - это то, что нетоксичные комментарии имеют значительно больше слов, больше букв и больше пунктуации (в 3-5 раз). Видимо когда человек пишет что-то оскорбительное он забывает про пунктуацию и старается быть как можно точнее и понятнее.\n",
    "\n",
    "<a id='section1.b'></a>\n",
    "\n",
    "## 1.б. Очистка текстов.\n",
    "\n",
    "Теперь напишем функцию для очистки текстов от нелатинских букв и ненужных символов."
   ]
  },
  {
   "cell_type": "code",
   "execution_count": 7,
   "metadata": {},
   "outputs": [],
   "source": [
    "def clean(text):  \n",
    "    text = text.lower()    \n",
    "    text = re.sub(r\"(?:\\n|\\r)\", \" \", text)\n",
    "    text = re.sub(r\"[^a-zA-Z ]+\", \"\", text).strip()\n",
    "    \n",
    "    return text"
   ]
  },
  {
   "cell_type": "markdown",
   "metadata": {},
   "source": [
    "Применим функцию к текстам и взглянем как сработала."
   ]
  },
  {
   "cell_type": "code",
   "execution_count": 8,
   "metadata": {},
   "outputs": [
    {
     "data": {
      "text/html": [
       "<div>\n",
       "<style scoped>\n",
       "    .dataframe tbody tr th:only-of-type {\n",
       "        vertical-align: middle;\n",
       "    }\n",
       "\n",
       "    .dataframe tbody tr th {\n",
       "        vertical-align: top;\n",
       "    }\n",
       "\n",
       "    .dataframe thead th {\n",
       "        text-align: right;\n",
       "    }\n",
       "</style>\n",
       "<table border=\"1\" class=\"dataframe\">\n",
       "  <thead>\n",
       "    <tr style=\"text-align: right;\">\n",
       "      <th></th>\n",
       "      <th>text</th>\n",
       "      <th>text_clean</th>\n",
       "    </tr>\n",
       "  </thead>\n",
       "  <tbody>\n",
       "    <tr>\n",
       "      <th>0</th>\n",
       "      <td>Explanation\\nWhy the edits made under my usern...</td>\n",
       "      <td>explanation why the edits made under my userna...</td>\n",
       "    </tr>\n",
       "    <tr>\n",
       "      <th>1</th>\n",
       "      <td>D'aww! He matches this background colour I'm s...</td>\n",
       "      <td>daww he matches this background colour im seem...</td>\n",
       "    </tr>\n",
       "    <tr>\n",
       "      <th>2</th>\n",
       "      <td>Hey man, I'm really not trying to edit war. It...</td>\n",
       "      <td>hey man im really not trying to edit war its j...</td>\n",
       "    </tr>\n",
       "    <tr>\n",
       "      <th>3</th>\n",
       "      <td>\"\\nMore\\nI can't make any real suggestions on ...</td>\n",
       "      <td>more i cant make any real suggestions on impro...</td>\n",
       "    </tr>\n",
       "    <tr>\n",
       "      <th>4</th>\n",
       "      <td>You, sir, are my hero. Any chance you remember...</td>\n",
       "      <td>you sir are my hero any chance you remember wh...</td>\n",
       "    </tr>\n",
       "    <tr>\n",
       "      <th>5</th>\n",
       "      <td>\"\\n\\nCongratulations from me as well, use the ...</td>\n",
       "      <td>congratulations from me as well use the tools ...</td>\n",
       "    </tr>\n",
       "    <tr>\n",
       "      <th>6</th>\n",
       "      <td>COCKSUCKER BEFORE YOU PISS AROUND ON MY WORK</td>\n",
       "      <td>cocksucker before you piss around on my work</td>\n",
       "    </tr>\n",
       "    <tr>\n",
       "      <th>7</th>\n",
       "      <td>Your vandalism to the Matt Shirvington article...</td>\n",
       "      <td>your vandalism to the matt shirvington article...</td>\n",
       "    </tr>\n",
       "    <tr>\n",
       "      <th>8</th>\n",
       "      <td>Sorry if the word 'nonsense' was offensive to ...</td>\n",
       "      <td>sorry if the word nonsense was offensive to yo...</td>\n",
       "    </tr>\n",
       "    <tr>\n",
       "      <th>9</th>\n",
       "      <td>alignment on this subject and which are contra...</td>\n",
       "      <td>alignment on this subject and which are contra...</td>\n",
       "    </tr>\n",
       "    <tr>\n",
       "      <th>10</th>\n",
       "      <td>\"\\nFair use rationale for Image:Wonju.jpg\\n\\nT...</td>\n",
       "      <td>fair use rationale for imagewonjujpg  thanks f...</td>\n",
       "    </tr>\n",
       "    <tr>\n",
       "      <th>11</th>\n",
       "      <td>bbq \\n\\nbe a man and lets discuss it-maybe ove...</td>\n",
       "      <td>bbq   be a man and lets discuss itmaybe over t...</td>\n",
       "    </tr>\n",
       "    <tr>\n",
       "      <th>12</th>\n",
       "      <td>Hey... what is it..\\n@ | talk .\\nWhat is it......</td>\n",
       "      <td>hey what is it   talk  what is it an exclusive...</td>\n",
       "    </tr>\n",
       "    <tr>\n",
       "      <th>13</th>\n",
       "      <td>Before you start throwing accusations and warn...</td>\n",
       "      <td>before you start throwing accusations and warn...</td>\n",
       "    </tr>\n",
       "    <tr>\n",
       "      <th>14</th>\n",
       "      <td>Oh, and the girl above started her arguments w...</td>\n",
       "      <td>oh and the girl above started her arguments wi...</td>\n",
       "    </tr>\n",
       "    <tr>\n",
       "      <th>15</th>\n",
       "      <td>\"\\n\\nJuelz Santanas Age\\n\\nIn 2002, Juelz Sant...</td>\n",
       "      <td>juelz santanas age  in  juelz santana was  yea...</td>\n",
       "    </tr>\n",
       "    <tr>\n",
       "      <th>16</th>\n",
       "      <td>Bye! \\n\\nDon't look, come or think of comming ...</td>\n",
       "      <td>bye   dont look come or think of comming back ...</td>\n",
       "    </tr>\n",
       "    <tr>\n",
       "      <th>17</th>\n",
       "      <td>REDIRECT Talk:Voydan Pop Georgiev- Chernodrinski</td>\n",
       "      <td>redirect talkvoydan pop georgiev chernodrinski</td>\n",
       "    </tr>\n",
       "    <tr>\n",
       "      <th>18</th>\n",
       "      <td>The Mitsurugi point made no sense - why not ar...</td>\n",
       "      <td>the mitsurugi point made no sense  why not arg...</td>\n",
       "    </tr>\n",
       "    <tr>\n",
       "      <th>19</th>\n",
       "      <td>Don't mean to bother you \\n\\nI see that you're...</td>\n",
       "      <td>dont mean to bother you   i see that youre wri...</td>\n",
       "    </tr>\n",
       "    <tr>\n",
       "      <th>20</th>\n",
       "      <td>\"\\n\\n Regarding your recent edits \\n\\nOnce aga...</td>\n",
       "      <td>regarding your recent edits   once again pleas...</td>\n",
       "    </tr>\n",
       "    <tr>\n",
       "      <th>21</th>\n",
       "      <td>\"\\nGood to know. About me, yeah, I'm studying ...</td>\n",
       "      <td>good to know about me yeah im studying nowdeepu</td>\n",
       "    </tr>\n",
       "    <tr>\n",
       "      <th>22</th>\n",
       "      <td>\"\\n\\n Snowflakes are NOT always symmetrical! \\...</td>\n",
       "      <td>snowflakes are not always symmetrical   under ...</td>\n",
       "    </tr>\n",
       "    <tr>\n",
       "      <th>23</th>\n",
       "      <td>\"\\n\\n The Signpost: 24 September 2012 \\n\\n Rea...</td>\n",
       "      <td>the signpost  september     read this signpost...</td>\n",
       "    </tr>\n",
       "    <tr>\n",
       "      <th>24</th>\n",
       "      <td>\"\\n\\nRe-considering 1st paragraph edit?\\nI don...</td>\n",
       "      <td>reconsidering st paragraph edit i dont underst...</td>\n",
       "    </tr>\n",
       "    <tr>\n",
       "      <th>25</th>\n",
       "      <td>Radial symmetry \\n\\nSeveral now extinct lineag...</td>\n",
       "      <td>radial symmetry   several now extinct lineages...</td>\n",
       "    </tr>\n",
       "    <tr>\n",
       "      <th>26</th>\n",
       "      <td>There's no need to apologize. A Wikipedia arti...</td>\n",
       "      <td>theres no need to apologize a wikipedia articl...</td>\n",
       "    </tr>\n",
       "    <tr>\n",
       "      <th>27</th>\n",
       "      <td>Yes, because the mother of the child in the ca...</td>\n",
       "      <td>yes because the mother of the child in the cas...</td>\n",
       "    </tr>\n",
       "    <tr>\n",
       "      <th>28</th>\n",
       "      <td>\"\\nOk. But it will take a bit of work but I ca...</td>\n",
       "      <td>ok but it will take a bit of work but i cant q...</td>\n",
       "    </tr>\n",
       "    <tr>\n",
       "      <th>29</th>\n",
       "      <td>\"== A barnstar for you! ==\\n\\n  The Real Life ...</td>\n",
       "      <td>a barnstar for you     the real life barnstar ...</td>\n",
       "    </tr>\n",
       "    <tr>\n",
       "      <th>...</th>\n",
       "      <td>...</td>\n",
       "      <td>...</td>\n",
       "    </tr>\n",
       "    <tr>\n",
       "      <th>159541</th>\n",
       "      <td>Your absurd edits \\n\\nYour absurd edits on gre...</td>\n",
       "      <td>your absurd edits   your absurd edits on great...</td>\n",
       "    </tr>\n",
       "    <tr>\n",
       "      <th>159542</th>\n",
       "      <td>maybe he's got better things to do than spend ...</td>\n",
       "      <td>maybe hes got better things to do than spend a...</td>\n",
       "    </tr>\n",
       "    <tr>\n",
       "      <th>159543</th>\n",
       "      <td>scrap that, it does meet criteria and its gone...</td>\n",
       "      <td>scrap that it does meet criteria and its gone ...</td>\n",
       "    </tr>\n",
       "    <tr>\n",
       "      <th>159544</th>\n",
       "      <td>You could do worse.</td>\n",
       "      <td>you could do worse</td>\n",
       "    </tr>\n",
       "    <tr>\n",
       "      <th>159545</th>\n",
       "      <td>, 7 March 2011 (UTC)\\nAre you also User:Bmatts...</td>\n",
       "      <td>march  utc are you also userbmattson what is t...</td>\n",
       "    </tr>\n",
       "    <tr>\n",
       "      <th>159546</th>\n",
       "      <td>\"\\n\\nHey listen don't you ever!!!! Delete my e...</td>\n",
       "      <td>hey listen dont you ever delete my edits ever ...</td>\n",
       "    </tr>\n",
       "    <tr>\n",
       "      <th>159547</th>\n",
       "      <td>Thank you very, very much.  ·✆</td>\n",
       "      <td>thank you very very much</td>\n",
       "    </tr>\n",
       "    <tr>\n",
       "      <th>159548</th>\n",
       "      <td>Talkback: 15 September 2012</td>\n",
       "      <td>talkback  september</td>\n",
       "    </tr>\n",
       "    <tr>\n",
       "      <th>159549</th>\n",
       "      <td>2005 (UTC)\\n 06:35, 31 Mar</td>\n",
       "      <td>utc    mar</td>\n",
       "    </tr>\n",
       "    <tr>\n",
       "      <th>159550</th>\n",
       "      <td>i agree/ on another note lil wayne is a talent...</td>\n",
       "      <td>i agree on another note lil wayne is a talentl...</td>\n",
       "    </tr>\n",
       "    <tr>\n",
       "      <th>159551</th>\n",
       "      <td>While about half the references are from BYU-I...</td>\n",
       "      <td>while about half the references are from byui ...</td>\n",
       "    </tr>\n",
       "    <tr>\n",
       "      <th>159552</th>\n",
       "      <td>Prague Spring \\n\\nI think that Prague Spring d...</td>\n",
       "      <td>prague spring   i think that prague spring des...</td>\n",
       "    </tr>\n",
       "    <tr>\n",
       "      <th>159553</th>\n",
       "      <td>I see this as having been merged; undoing one ...</td>\n",
       "      <td>i see this as having been merged undoing one s...</td>\n",
       "    </tr>\n",
       "    <tr>\n",
       "      <th>159554</th>\n",
       "      <td>and i'm going to keep posting the stuff u dele...</td>\n",
       "      <td>and im going to keep posting the stuff u delet...</td>\n",
       "    </tr>\n",
       "    <tr>\n",
       "      <th>159555</th>\n",
       "      <td>\"\\n\\nHow come when you download that MP3 it's ...</td>\n",
       "      <td>how come when you download that mp its titled ...</td>\n",
       "    </tr>\n",
       "    <tr>\n",
       "      <th>159556</th>\n",
       "      <td>I'll be on IRC, too, if you have a more specif...</td>\n",
       "      <td>ill be on irc too if you have a more specific ...</td>\n",
       "    </tr>\n",
       "    <tr>\n",
       "      <th>159557</th>\n",
       "      <td>It is my opinion that that happens to be off-t...</td>\n",
       "      <td>it is my opinion that that happens to be offto...</td>\n",
       "    </tr>\n",
       "    <tr>\n",
       "      <th>159558</th>\n",
       "      <td>Please stop removing content from Wikipedia; i...</td>\n",
       "      <td>please stop removing content from wikipedia it...</td>\n",
       "    </tr>\n",
       "    <tr>\n",
       "      <th>159559</th>\n",
       "      <td>Image:Barack-obama-mother.jpg listed for delet...</td>\n",
       "      <td>imagebarackobamamotherjpg listed for deletion ...</td>\n",
       "    </tr>\n",
       "    <tr>\n",
       "      <th>159560</th>\n",
       "      <td>\"Editing of article without Consensus &amp; Remova...</td>\n",
       "      <td>editing of article without consensus  removal ...</td>\n",
       "    </tr>\n",
       "    <tr>\n",
       "      <th>159561</th>\n",
       "      <td>\"\\nNo he did not, read it again (I would have ...</td>\n",
       "      <td>no he did not read it again i would have thoug...</td>\n",
       "    </tr>\n",
       "    <tr>\n",
       "      <th>159562</th>\n",
       "      <td>\"\\n Auto guides and the motoring press are not...</td>\n",
       "      <td>auto guides and the motoring press are not goo...</td>\n",
       "    </tr>\n",
       "    <tr>\n",
       "      <th>159563</th>\n",
       "      <td>\"\\nplease identify what part of BLP applies be...</td>\n",
       "      <td>please identify what part of blp applies becau...</td>\n",
       "    </tr>\n",
       "    <tr>\n",
       "      <th>159564</th>\n",
       "      <td>Catalan independentism is the social movement ...</td>\n",
       "      <td>catalan independentism is the social movement ...</td>\n",
       "    </tr>\n",
       "    <tr>\n",
       "      <th>159565</th>\n",
       "      <td>The numbers in parentheses are the additional ...</td>\n",
       "      <td>the numbers in parentheses are the additional ...</td>\n",
       "    </tr>\n",
       "    <tr>\n",
       "      <th>159566</th>\n",
       "      <td>\":::::And for the second time of asking, when ...</td>\n",
       "      <td>and for the second time of asking when your vi...</td>\n",
       "    </tr>\n",
       "    <tr>\n",
       "      <th>159567</th>\n",
       "      <td>You should be ashamed of yourself \\n\\nThat is ...</td>\n",
       "      <td>you should be ashamed of yourself   that is a ...</td>\n",
       "    </tr>\n",
       "    <tr>\n",
       "      <th>159568</th>\n",
       "      <td>Spitzer \\n\\nUmm, theres no actual article for ...</td>\n",
       "      <td>spitzer   umm theres no actual article for pro...</td>\n",
       "    </tr>\n",
       "    <tr>\n",
       "      <th>159569</th>\n",
       "      <td>And it looks like it was actually you who put ...</td>\n",
       "      <td>and it looks like it was actually you who put ...</td>\n",
       "    </tr>\n",
       "    <tr>\n",
       "      <th>159570</th>\n",
       "      <td>\"\\nAnd ... I really don't think you understand...</td>\n",
       "      <td>and  i really dont think you understand  i cam...</td>\n",
       "    </tr>\n",
       "  </tbody>\n",
       "</table>\n",
       "<p>159571 rows × 2 columns</p>\n",
       "</div>"
      ],
      "text/plain": [
       "                                                     text  \\\n",
       "0       Explanation\\nWhy the edits made under my usern...   \n",
       "1       D'aww! He matches this background colour I'm s...   \n",
       "2       Hey man, I'm really not trying to edit war. It...   \n",
       "3       \"\\nMore\\nI can't make any real suggestions on ...   \n",
       "4       You, sir, are my hero. Any chance you remember...   \n",
       "5       \"\\n\\nCongratulations from me as well, use the ...   \n",
       "6            COCKSUCKER BEFORE YOU PISS AROUND ON MY WORK   \n",
       "7       Your vandalism to the Matt Shirvington article...   \n",
       "8       Sorry if the word 'nonsense' was offensive to ...   \n",
       "9       alignment on this subject and which are contra...   \n",
       "10      \"\\nFair use rationale for Image:Wonju.jpg\\n\\nT...   \n",
       "11      bbq \\n\\nbe a man and lets discuss it-maybe ove...   \n",
       "12      Hey... what is it..\\n@ | talk .\\nWhat is it......   \n",
       "13      Before you start throwing accusations and warn...   \n",
       "14      Oh, and the girl above started her arguments w...   \n",
       "15      \"\\n\\nJuelz Santanas Age\\n\\nIn 2002, Juelz Sant...   \n",
       "16      Bye! \\n\\nDon't look, come or think of comming ...   \n",
       "17       REDIRECT Talk:Voydan Pop Georgiev- Chernodrinski   \n",
       "18      The Mitsurugi point made no sense - why not ar...   \n",
       "19      Don't mean to bother you \\n\\nI see that you're...   \n",
       "20      \"\\n\\n Regarding your recent edits \\n\\nOnce aga...   \n",
       "21      \"\\nGood to know. About me, yeah, I'm studying ...   \n",
       "22      \"\\n\\n Snowflakes are NOT always symmetrical! \\...   \n",
       "23      \"\\n\\n The Signpost: 24 September 2012 \\n\\n Rea...   \n",
       "24      \"\\n\\nRe-considering 1st paragraph edit?\\nI don...   \n",
       "25      Radial symmetry \\n\\nSeveral now extinct lineag...   \n",
       "26      There's no need to apologize. A Wikipedia arti...   \n",
       "27      Yes, because the mother of the child in the ca...   \n",
       "28      \"\\nOk. But it will take a bit of work but I ca...   \n",
       "29      \"== A barnstar for you! ==\\n\\n  The Real Life ...   \n",
       "...                                                   ...   \n",
       "159541  Your absurd edits \\n\\nYour absurd edits on gre...   \n",
       "159542  maybe he's got better things to do than spend ...   \n",
       "159543  scrap that, it does meet criteria and its gone...   \n",
       "159544                                You could do worse.   \n",
       "159545  , 7 March 2011 (UTC)\\nAre you also User:Bmatts...   \n",
       "159546  \"\\n\\nHey listen don't you ever!!!! Delete my e...   \n",
       "159547                     Thank you very, very much.  ·✆   \n",
       "159548                        Talkback: 15 September 2012   \n",
       "159549                         2005 (UTC)\\n 06:35, 31 Mar   \n",
       "159550  i agree/ on another note lil wayne is a talent...   \n",
       "159551  While about half the references are from BYU-I...   \n",
       "159552  Prague Spring \\n\\nI think that Prague Spring d...   \n",
       "159553  I see this as having been merged; undoing one ...   \n",
       "159554  and i'm going to keep posting the stuff u dele...   \n",
       "159555  \"\\n\\nHow come when you download that MP3 it's ...   \n",
       "159556  I'll be on IRC, too, if you have a more specif...   \n",
       "159557  It is my opinion that that happens to be off-t...   \n",
       "159558  Please stop removing content from Wikipedia; i...   \n",
       "159559  Image:Barack-obama-mother.jpg listed for delet...   \n",
       "159560  \"Editing of article without Consensus & Remova...   \n",
       "159561  \"\\nNo he did not, read it again (I would have ...   \n",
       "159562  \"\\n Auto guides and the motoring press are not...   \n",
       "159563  \"\\nplease identify what part of BLP applies be...   \n",
       "159564  Catalan independentism is the social movement ...   \n",
       "159565  The numbers in parentheses are the additional ...   \n",
       "159566  \":::::And for the second time of asking, when ...   \n",
       "159567  You should be ashamed of yourself \\n\\nThat is ...   \n",
       "159568  Spitzer \\n\\nUmm, theres no actual article for ...   \n",
       "159569  And it looks like it was actually you who put ...   \n",
       "159570  \"\\nAnd ... I really don't think you understand...   \n",
       "\n",
       "                                               text_clean  \n",
       "0       explanation why the edits made under my userna...  \n",
       "1       daww he matches this background colour im seem...  \n",
       "2       hey man im really not trying to edit war its j...  \n",
       "3       more i cant make any real suggestions on impro...  \n",
       "4       you sir are my hero any chance you remember wh...  \n",
       "5       congratulations from me as well use the tools ...  \n",
       "6            cocksucker before you piss around on my work  \n",
       "7       your vandalism to the matt shirvington article...  \n",
       "8       sorry if the word nonsense was offensive to yo...  \n",
       "9       alignment on this subject and which are contra...  \n",
       "10      fair use rationale for imagewonjujpg  thanks f...  \n",
       "11      bbq   be a man and lets discuss itmaybe over t...  \n",
       "12      hey what is it   talk  what is it an exclusive...  \n",
       "13      before you start throwing accusations and warn...  \n",
       "14      oh and the girl above started her arguments wi...  \n",
       "15      juelz santanas age  in  juelz santana was  yea...  \n",
       "16      bye   dont look come or think of comming back ...  \n",
       "17         redirect talkvoydan pop georgiev chernodrinski  \n",
       "18      the mitsurugi point made no sense  why not arg...  \n",
       "19      dont mean to bother you   i see that youre wri...  \n",
       "20      regarding your recent edits   once again pleas...  \n",
       "21        good to know about me yeah im studying nowdeepu  \n",
       "22      snowflakes are not always symmetrical   under ...  \n",
       "23      the signpost  september     read this signpost...  \n",
       "24      reconsidering st paragraph edit i dont underst...  \n",
       "25      radial symmetry   several now extinct lineages...  \n",
       "26      theres no need to apologize a wikipedia articl...  \n",
       "27      yes because the mother of the child in the cas...  \n",
       "28      ok but it will take a bit of work but i cant q...  \n",
       "29      a barnstar for you     the real life barnstar ...  \n",
       "...                                                   ...  \n",
       "159541  your absurd edits   your absurd edits on great...  \n",
       "159542  maybe hes got better things to do than spend a...  \n",
       "159543  scrap that it does meet criteria and its gone ...  \n",
       "159544                                 you could do worse  \n",
       "159545  march  utc are you also userbmattson what is t...  \n",
       "159546  hey listen dont you ever delete my edits ever ...  \n",
       "159547                           thank you very very much  \n",
       "159548                                talkback  september  \n",
       "159549                                         utc    mar  \n",
       "159550  i agree on another note lil wayne is a talentl...  \n",
       "159551  while about half the references are from byui ...  \n",
       "159552  prague spring   i think that prague spring des...  \n",
       "159553  i see this as having been merged undoing one s...  \n",
       "159554  and im going to keep posting the stuff u delet...  \n",
       "159555  how come when you download that mp its titled ...  \n",
       "159556  ill be on irc too if you have a more specific ...  \n",
       "159557  it is my opinion that that happens to be offto...  \n",
       "159558  please stop removing content from wikipedia it...  \n",
       "159559  imagebarackobamamotherjpg listed for deletion ...  \n",
       "159560  editing of article without consensus  removal ...  \n",
       "159561  no he did not read it again i would have thoug...  \n",
       "159562  auto guides and the motoring press are not goo...  \n",
       "159563  please identify what part of blp applies becau...  \n",
       "159564  catalan independentism is the social movement ...  \n",
       "159565  the numbers in parentheses are the additional ...  \n",
       "159566  and for the second time of asking when your vi...  \n",
       "159567  you should be ashamed of yourself   that is a ...  \n",
       "159568  spitzer   umm theres no actual article for pro...  \n",
       "159569  and it looks like it was actually you who put ...  \n",
       "159570  and  i really dont think you understand  i cam...  \n",
       "\n",
       "[159571 rows x 2 columns]"
      ]
     },
     "execution_count": 8,
     "metadata": {},
     "output_type": "execute_result"
    }
   ],
   "source": [
    "df['text_clean'] = df['text'].apply(clean)\n",
    "df[['text','text_clean']]"
   ]
  },
  {
   "cell_type": "markdown",
   "metadata": {},
   "source": [
    "Тексты очистили, теперь займемся лемматизацией.\n",
    "\n",
    "<a id='section1.c'></a>\n",
    "\n",
    "## 1.c. Лемматизация текстов.\n",
    "\n",
    "В английском языке все намного проще, чем в русском и чтобы привсти слово к начальнойформе нужно всего лишь отбросить все лишнее. Для этого воспользуемся одним из самых старых стеммеров - PorterStemmer. Он просто отбрасывает суффикс. Данный класс работает с каждым словом отдельно, поэтому для лемматизации всего текста напишем функцию."
   ]
  },
  {
   "cell_type": "code",
   "execution_count": 9,
   "metadata": {},
   "outputs": [],
   "source": [
    "def stemSentence(sentence):\n",
    "    porter = PorterStemmer()\n",
    "    token_words=word_tokenize(sentence)\n",
    "    stem_sentence=[]\n",
    "    for word in token_words:\n",
    "        stem_sentence.append(porter.stem(word))\n",
    "    return \" \".join(stem_sentence)"
   ]
  },
  {
   "cell_type": "markdown",
   "metadata": {},
   "source": [
    "Посмотрим как работает."
   ]
  },
  {
   "cell_type": "code",
   "execution_count": 10,
   "metadata": {},
   "outputs": [
    {
     "data": {
      "text/plain": [
       "\"explan whi the edit made under my usernam hardcor metallica fan were revert ? they were n't vandal , just closur on some ga after I vote at new york doll fac . and pleas do n't remov the templat from the talk page sinc I 'm retir now.89.205.38.27\""
      ]
     },
     "execution_count": 10,
     "metadata": {},
     "output_type": "execute_result"
    }
   ],
   "source": [
    "corpus = list(df['text'])\n",
    "stemSentence(corpus[0])"
   ]
  },
  {
   "cell_type": "markdown",
   "metadata": {},
   "source": [
    "У PorterStemmer появлялась едиственная ошибка из-за одного текста. Определив его индекс, удалим его."
   ]
  },
  {
   "cell_type": "code",
   "execution_count": 11,
   "metadata": {},
   "outputs": [],
   "source": [
    "df.drop(115606, axis=0, inplace=True)"
   ]
  },
  {
   "cell_type": "markdown",
   "metadata": {},
   "source": [
    "Теперь лемматизируем весь датасет."
   ]
  },
  {
   "cell_type": "code",
   "execution_count": 12,
   "metadata": {},
   "outputs": [
    {
     "name": "stderr",
     "output_type": "stream",
     "text": [
      "100%|██████████| 159570/159570 [05:06<00:00, 520.30it/s]\n"
     ]
    }
   ],
   "source": [
    "tqdm.pandas()\n",
    "df['text_lemma'] = df['text_clean'].progress_apply(stemSentence)"
   ]
  },
  {
   "cell_type": "markdown",
   "metadata": {},
   "source": [
    "Посмотрим на результат"
   ]
  },
  {
   "cell_type": "code",
   "execution_count": 13,
   "metadata": {},
   "outputs": [
    {
     "data": {
      "text/html": [
       "<div>\n",
       "<style scoped>\n",
       "    .dataframe tbody tr th:only-of-type {\n",
       "        vertical-align: middle;\n",
       "    }\n",
       "\n",
       "    .dataframe tbody tr th {\n",
       "        vertical-align: top;\n",
       "    }\n",
       "\n",
       "    .dataframe thead th {\n",
       "        text-align: right;\n",
       "    }\n",
       "</style>\n",
       "<table border=\"1\" class=\"dataframe\">\n",
       "  <thead>\n",
       "    <tr style=\"text-align: right;\">\n",
       "      <th></th>\n",
       "      <th>text</th>\n",
       "      <th>text_lemma</th>\n",
       "    </tr>\n",
       "  </thead>\n",
       "  <tbody>\n",
       "    <tr>\n",
       "      <th>0</th>\n",
       "      <td>Explanation\\nWhy the edits made under my usern...</td>\n",
       "      <td>explan whi the edit made under my usernam hard...</td>\n",
       "    </tr>\n",
       "    <tr>\n",
       "      <th>1</th>\n",
       "      <td>D'aww! He matches this background colour I'm s...</td>\n",
       "      <td>daww he match thi background colour im seeming...</td>\n",
       "    </tr>\n",
       "    <tr>\n",
       "      <th>2</th>\n",
       "      <td>Hey man, I'm really not trying to edit war. It...</td>\n",
       "      <td>hey man im realli not tri to edit war it just ...</td>\n",
       "    </tr>\n",
       "    <tr>\n",
       "      <th>3</th>\n",
       "      <td>\"\\nMore\\nI can't make any real suggestions on ...</td>\n",
       "      <td>more i cant make ani real suggest on improv i ...</td>\n",
       "    </tr>\n",
       "    <tr>\n",
       "      <th>4</th>\n",
       "      <td>You, sir, are my hero. Any chance you remember...</td>\n",
       "      <td>you sir are my hero ani chanc you rememb what ...</td>\n",
       "    </tr>\n",
       "  </tbody>\n",
       "</table>\n",
       "</div>"
      ],
      "text/plain": [
       "                                                text  \\\n",
       "0  Explanation\\nWhy the edits made under my usern...   \n",
       "1  D'aww! He matches this background colour I'm s...   \n",
       "2  Hey man, I'm really not trying to edit war. It...   \n",
       "3  \"\\nMore\\nI can't make any real suggestions on ...   \n",
       "4  You, sir, are my hero. Any chance you remember...   \n",
       "\n",
       "                                          text_lemma  \n",
       "0  explan whi the edit made under my usernam hard...  \n",
       "1  daww he match thi background colour im seeming...  \n",
       "2  hey man im realli not tri to edit war it just ...  \n",
       "3  more i cant make ani real suggest on improv i ...  \n",
       "4  you sir are my hero ani chanc you rememb what ...  "
      ]
     },
     "execution_count": 13,
     "metadata": {},
     "output_type": "execute_result"
    }
   ],
   "source": [
    "df[['text', 'text_lemma']].head()"
   ]
  },
  {
   "cell_type": "markdown",
   "metadata": {},
   "source": [
    "Проверим наличие пропусков."
   ]
  },
  {
   "cell_type": "code",
   "execution_count": 14,
   "metadata": {},
   "outputs": [
    {
     "data": {
      "text/plain": [
       "text                 0\n",
       "toxic                0\n",
       "word_count           0\n",
       "unique_word_count    0\n",
       "char_count           0\n",
       "punctuation_count    0\n",
       "text_clean           0\n",
       "text_lemma           0\n",
       "dtype: int64"
      ]
     },
     "execution_count": 14,
     "metadata": {},
     "output_type": "execute_result"
    }
   ],
   "source": [
    "df.isnull().sum()"
   ]
  },
  {
   "cell_type": "markdown",
   "metadata": {},
   "source": [
    "Сохраним подготовленный датасет, чтобы не производить потом лемматизацию."
   ]
  },
  {
   "cell_type": "code",
   "execution_count": 15,
   "metadata": {},
   "outputs": [],
   "source": [
    "df.to_csv('lemmatized_tweets.csv', index=False)"
   ]
  },
  {
   "cell_type": "code",
   "execution_count": 16,
   "metadata": {},
   "outputs": [
    {
     "data": {
      "text/html": [
       "<div>\n",
       "<style scoped>\n",
       "    .dataframe tbody tr th:only-of-type {\n",
       "        vertical-align: middle;\n",
       "    }\n",
       "\n",
       "    .dataframe tbody tr th {\n",
       "        vertical-align: top;\n",
       "    }\n",
       "\n",
       "    .dataframe thead th {\n",
       "        text-align: right;\n",
       "    }\n",
       "</style>\n",
       "<table border=\"1\" class=\"dataframe\">\n",
       "  <thead>\n",
       "    <tr style=\"text-align: right;\">\n",
       "      <th></th>\n",
       "      <th>text</th>\n",
       "      <th>toxic</th>\n",
       "      <th>word_count</th>\n",
       "      <th>unique_word_count</th>\n",
       "      <th>char_count</th>\n",
       "      <th>punctuation_count</th>\n",
       "      <th>text_clean</th>\n",
       "      <th>text_lemma</th>\n",
       "    </tr>\n",
       "  </thead>\n",
       "  <tbody>\n",
       "    <tr>\n",
       "      <th>0</th>\n",
       "      <td>Explanation\\r\\nWhy the edits made under my use...</td>\n",
       "      <td>0</td>\n",
       "      <td>43</td>\n",
       "      <td>41</td>\n",
       "      <td>264</td>\n",
       "      <td>10</td>\n",
       "      <td>explanation why the edits made under my userna...</td>\n",
       "      <td>explan whi the edit made under my usernam hard...</td>\n",
       "    </tr>\n",
       "    <tr>\n",
       "      <th>1</th>\n",
       "      <td>D'aww! He matches this background colour I'm s...</td>\n",
       "      <td>0</td>\n",
       "      <td>17</td>\n",
       "      <td>17</td>\n",
       "      <td>112</td>\n",
       "      <td>12</td>\n",
       "      <td>daww he matches this background colour im seem...</td>\n",
       "      <td>daww he match thi background colour im seeming...</td>\n",
       "    </tr>\n",
       "    <tr>\n",
       "      <th>2</th>\n",
       "      <td>Hey man, I'm really not trying to edit war. It...</td>\n",
       "      <td>0</td>\n",
       "      <td>42</td>\n",
       "      <td>39</td>\n",
       "      <td>233</td>\n",
       "      <td>6</td>\n",
       "      <td>hey man im really not trying to edit war its j...</td>\n",
       "      <td>hey man im realli not tri to edit war it just ...</td>\n",
       "    </tr>\n",
       "    <tr>\n",
       "      <th>3</th>\n",
       "      <td>\"\\r\\nMore\\r\\nI can't make any real suggestions...</td>\n",
       "      <td>0</td>\n",
       "      <td>113</td>\n",
       "      <td>82</td>\n",
       "      <td>622</td>\n",
       "      <td>21</td>\n",
       "      <td>more i cant make any real suggestions on impro...</td>\n",
       "      <td>more i cant make ani real suggest on improv i ...</td>\n",
       "    </tr>\n",
       "    <tr>\n",
       "      <th>4</th>\n",
       "      <td>You, sir, are my hero. Any chance you remember...</td>\n",
       "      <td>0</td>\n",
       "      <td>13</td>\n",
       "      <td>13</td>\n",
       "      <td>67</td>\n",
       "      <td>5</td>\n",
       "      <td>you sir are my hero any chance you remember wh...</td>\n",
       "      <td>you sir are my hero ani chanc you rememb what ...</td>\n",
       "    </tr>\n",
       "  </tbody>\n",
       "</table>\n",
       "</div>"
      ],
      "text/plain": [
       "                                                text  toxic  word_count  \\\n",
       "0  Explanation\\r\\nWhy the edits made under my use...      0          43   \n",
       "1  D'aww! He matches this background colour I'm s...      0          17   \n",
       "2  Hey man, I'm really not trying to edit war. It...      0          42   \n",
       "3  \"\\r\\nMore\\r\\nI can't make any real suggestions...      0         113   \n",
       "4  You, sir, are my hero. Any chance you remember...      0          13   \n",
       "\n",
       "   unique_word_count  char_count  punctuation_count  \\\n",
       "0                 41         264                 10   \n",
       "1                 17         112                 12   \n",
       "2                 39         233                  6   \n",
       "3                 82         622                 21   \n",
       "4                 13          67                  5   \n",
       "\n",
       "                                          text_clean  \\\n",
       "0  explanation why the edits made under my userna...   \n",
       "1  daww he matches this background colour im seem...   \n",
       "2  hey man im really not trying to edit war its j...   \n",
       "3  more i cant make any real suggestions on impro...   \n",
       "4  you sir are my hero any chance you remember wh...   \n",
       "\n",
       "                                          text_lemma  \n",
       "0  explan whi the edit made under my usernam hard...  \n",
       "1  daww he match thi background colour im seeming...  \n",
       "2  hey man im realli not tri to edit war it just ...  \n",
       "3  more i cant make ani real suggest on improv i ...  \n",
       "4  you sir are my hero ani chanc you rememb what ...  "
      ]
     },
     "execution_count": 16,
     "metadata": {},
     "output_type": "execute_result"
    }
   ],
   "source": [
    "lemmatized_df = pd.read_csv('lemmatized_tweets.csv')\n",
    "lemmatized_df.head()"
   ]
  },
  {
   "cell_type": "markdown",
   "metadata": {},
   "source": [
    "После загрузки ранее сохраненного датасета появилось 7 пропусков. Не понял откуда они, но для корректной работы моделей удалим их."
   ]
  },
  {
   "cell_type": "code",
   "execution_count": 17,
   "metadata": {},
   "outputs": [
    {
     "name": "stdout",
     "output_type": "stream",
     "text": [
      "(159570, 8)\n",
      "(159563, 8)\n"
     ]
    }
   ],
   "source": [
    "print(lemmatized_df.shape)\n",
    "lemmatized_df.dropna(inplace=True)\n",
    "print(lemmatized_df.shape)"
   ]
  },
  {
   "cell_type": "markdown",
   "metadata": {},
   "source": [
    "<a id='section2'></a>\n",
    "\n",
    "## 2. Обучим разные модели.\n",
    "\n",
    "Нормализуем числовые признаки и разобьем датасет для обучения и проверки моделей."
   ]
  },
  {
   "cell_type": "code",
   "execution_count": 18,
   "metadata": {},
   "outputs": [],
   "source": [
    "features = lemmatized_df.drop(columns=['text', 'text_clean','toxic'])\n",
    "targets = lemmatized_df['toxic']\n",
    "\n",
    "scaler          = StandardScaler()\n",
    "scaler.fit(features[added_features])\n",
    "features[added_features] = scaler.transform(features[added_features])\n",
    "\n",
    "train_features, test_features, train_targets, \\\n",
    "                            test_targets = train_test_split(features, targets, test_size=.2, random_state=12345)"
   ]
  },
  {
   "cell_type": "markdown",
   "metadata": {},
   "source": [
    "<a id='section2.a'></a>\n",
    "\n",
    "## 2.a. Векторизация текстов.\n",
    "\n",
    "Теперь напишем функцию, которая превратит тексты в вектора (понятный для машин формат). К полученной матрице добавим наши доп признаки."
   ]
  },
  {
   "cell_type": "code",
   "execution_count": 19,
   "metadata": {},
   "outputs": [
    {
     "name": "stdout",
     "output_type": "stream",
     "text": [
      "[nltk_data] Downloading package stopwords to\n",
      "[nltk_data]     C:\\Users\\admin\\AppData\\Roaming\\nltk_data...\n",
      "[nltk_data]   Package stopwords is already up-to-date!\n"
     ]
    }
   ],
   "source": [
    "nltk.download('stopwords')\n",
    "stopwords = set(nltk_stopwords.words('english'))\n",
    "count_tf_idf = TfidfVectorizer(stop_words=stopwords)\n",
    "\n",
    "def tf_idf_features(df, is_train=True):\n",
    "    corpus = list(df['text_lemma'])\n",
    "    if is_train:\n",
    "        tf_idf = count_tf_idf.fit_transform(corpus)\n",
    "    else:\n",
    "        tf_idf = count_tf_idf.transform(corpus)\n",
    "    add_feat = sparse.csr_matrix(df[added_features].values)\n",
    "    result = hstack((tf_idf, add_feat))\n",
    "    return result"
   ]
  },
  {
   "cell_type": "markdown",
   "metadata": {},
   "source": [
    "<a id='section2.b'></a>\n",
    "\n",
    "## 2.б. Подбор Логистической Регрессии."
   ]
  },
  {
   "cell_type": "code",
   "execution_count": 20,
   "metadata": {},
   "outputs": [
    {
     "name": "stdout",
     "output_type": "stream",
     "text": [
      "F1-score = 0.7513\n"
     ]
    }
   ],
   "source": [
    "model = LogisticRegression(solver='liblinear', max_iter=500, random_state=12345, class_weight='balanced')\n",
    "\n",
    "tf_features_train = tf_idf_features(train_features)\n",
    "scores = cross_val_score(model, tf_features_train, train_targets, cv=5, scoring='f1')\n",
    "f1_mean = scores.mean()\n",
    "print('F1-score = {:.4f}'.format(f1_mean))"
   ]
  },
  {
   "cell_type": "markdown",
   "metadata": {},
   "source": [
    "Метрика уже неплоха, но подберем для нашей модели гиперпараметр C, отвечающий за регуляризцию.\n",
    "\n",
    "Сначала поиск будем производить с большим шагом."
   ]
  },
  {
   "cell_type": "code",
   "execution_count": 21,
   "metadata": {},
   "outputs": [
    {
     "data": {
      "text/plain": [
       "{'C': 10.0, 'solver': 'liblinear'}"
      ]
     },
     "execution_count": 21,
     "metadata": {},
     "output_type": "execute_result"
    }
   ],
   "source": [
    "grid={\"C\":np.logspace(-3,3,7),'solver':['liblinear']}\n",
    "\n",
    "logreg=LogisticRegression(max_iter=500)\n",
    "logreg_cv=GridSearchCV(logreg,grid,cv=5)\n",
    "logreg_cv.fit(tf_features_train,train_targets)\n",
    "logreg_cv.best_params_"
   ]
  },
  {
   "cell_type": "markdown",
   "metadata": {},
   "source": [
    "Теперь пройдемся вокруг наилучшего значения."
   ]
  },
  {
   "cell_type": "code",
   "execution_count": 25,
   "metadata": {},
   "outputs": [],
   "source": [
    "# grid={\"C\":np.arange(5,30,2),'solver':['liblinear']}\n",
    "\n",
    "# logreg=LogisticRegression(max_iter=500)\n",
    "# logreg_cv=GridSearchCV(logreg,grid,cv=5)\n",
    "# logreg_cv.fit(tf_features_train,train_targets)\n",
    "# logreg_cv.best_params_"
   ]
  },
  {
   "cell_type": "code",
   "execution_count": 23,
   "metadata": {},
   "outputs": [
    {
     "name": "stdout",
     "output_type": "stream",
     "text": [
      "F1-score = 0.7643\n"
     ]
    }
   ],
   "source": [
    "model = LogisticRegression(solver='liblinear', max_iter=500, random_state=12345, class_weight='balanced',C=9)\n",
    "\n",
    "tf_features_train = tf_idf_features(train_features)\n",
    "scores = cross_val_score(model, tf_features_train, train_targets, cv=5, scoring='f1')\n",
    "f1_mean = scores.mean()\n",
    "print('F1-score = {:.4f}'.format(f1_mean))"
   ]
  },
  {
   "cell_type": "markdown",
   "metadata": {},
   "source": [
    "Метрику улучшили.\n",
    "\n",
    "<a id='section2.c'></a>\n",
    "\n",
    "## 2.c. Финальное тестирование."
   ]
  },
  {
   "cell_type": "code",
   "execution_count": 24,
   "metadata": {},
   "outputs": [
    {
     "name": "stdout",
     "output_type": "stream",
     "text": [
      "F1-score = 0.7700\n"
     ]
    }
   ],
   "source": [
    "model = LogisticRegression(solver='liblinear', max_iter=500, random_state=12345, class_weight='balanced', C=9)\n",
    "tf_features_train = tf_idf_features(train_features)\n",
    "model.fit(tf_features_train, train_targets)\n",
    "\n",
    "tf_features_test = tf_idf_features(test_features, is_train=False)\n",
    "pred = model.predict(tf_features_test)\n",
    "print('F1-score = {:.4f}'.format(f1_score(test_targets, pred)))"
   ]
  },
  {
   "cell_type": "markdown",
   "metadata": {},
   "source": [
    "Цель достигнута.\n",
    "\n",
    "<a id='section3'></a>\n",
    "\n",
    "## 3. Выводы.\n",
    "\n",
    "В данном проекте мы, сперва, провели небольшой анализ текстов и выяснили, что у оскорбительных комментариев меньше слов, букв и знаков препинания. Далее мы очистили тексты, лемматизировали и перевели в понятный для машины формат - векторный. Под конец мы с помощью GridSearchCV подобрали наилучший набор гиперпараметров для Логистической регрессии и на финальном этапе проверили ее в действии на тестовой выборке."
   ]
  }
 ],
 "metadata": {
  "kernelspec": {
   "display_name": "Python 3",
   "language": "python",
   "name": "python3"
  },
  "language_info": {
   "codemirror_mode": {
    "name": "ipython",
    "version": 3
   },
   "file_extension": ".py",
   "mimetype": "text/x-python",
   "name": "python",
   "nbconvert_exporter": "python",
   "pygments_lexer": "ipython3",
   "version": "3.7.9"
  }
 },
 "nbformat": 4,
 "nbformat_minor": 4
}
